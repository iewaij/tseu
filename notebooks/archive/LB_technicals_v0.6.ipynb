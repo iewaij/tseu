{
 "cells": [
  {
   "cell_type": "markdown",
   "metadata": {},
   "source": [
    "# Mooomentums\n",
    "Mooom is a strategy that heavily relies on momentum. It enriches dataframe with simple momentum and industrial momentum factors. Returns will be substracted by a cross-sectional median."
   ]
  },
  {
   "cell_type": "code",
   "execution_count": 7,
   "metadata": {},
   "outputs": [],
   "source": [
    "from functools import reduce\n",
    "import numpy as np\n",
    "import pandas as pd\n",
    "from pandas.tseries.offsets import DateOffset\n",
    "from sklearn.ensemble import RandomForestRegressor\n",
    "from sklearn.ensemble import RandomForestClassifier\n",
    "from sklearn.metrics import plot_confusion_matrix\n",
    "from sklearn.metrics import plot_roc_curve\n",
    "from sklearn.metrics import make_scorer\n",
    "from sklearn.metrics import accuracy_score\n",
    "from sklearn.metrics import confusion_matrix\n",
    "from sklearn.metrics import classification_report\n",
    "from xgboost import XGBClassifier\n",
    "from xgboost import XGBRegressor\n",
    "import matplotlib.pyplot as plt\n",
    "import seaborn as sns\n",
    "pd.set_option(\"display.max_rows\", None)\n",
    "pd.set_option(\"display.max_columns\", None)\n",
    "pd.options.mode.chained_assignment = None\n",
    "np.seterr(divide=\"ignore\", invalid=\"ignore\")\n",
    "import warnings\n",
    "warnings.filterwarnings('ignore')"
   ]
  },
  {
   "cell_type": "code",
   "execution_count": 8,
   "metadata": {},
   "outputs": [],
   "source": [
    "df = pd.read_parquet(\"../data/compustat_ibes_raw_alpha.1.parquet\")"
   ]
  },
  {
   "cell_type": "code",
   "execution_count": 9,
   "metadata": {},
   "outputs": [],
   "source": [
    "def conf(clf, X_test, y_test):\n",
    "    f, ax = plt.subplots(figsize=(4.8, 4.8))\n",
    "    y_test_pred = clf.predict(X_test)\n",
    "    conf_mat = confusion_matrix(y_test, y_test_pred)\n",
    "    conf_ax = sns.heatmap(\n",
    "        conf_mat, ax=ax, annot=True, fmt=\"\", cmap=plt.cm.Blues, cbar=False\n",
    "    )\n",
    "    conf_ax.set_xlabel(\"Predicted\")\n",
    "    conf_ax.set_ylabel(\"True\")"
   ]
  },
  {
   "cell_type": "code",
   "execution_count": 11,
   "metadata": {},
   "outputs": [],
   "source": [
    "def computeRSI(data, time_window):\n",
    "    diff = data.diff(1).dropna()  # diff in one field(one day)\n",
    "\n",
    "    # this preservers dimensions off diff values\n",
    "    up_chg = 0 * diff\n",
    "    down_chg = 0 * diff\n",
    "\n",
    "    # up change is equal to the positive difference, otherwise equal to zero\n",
    "    up_chg[diff > 0] = diff[diff > 0]\n",
    "\n",
    "    # down change is equal to negative deifference, otherwise equal to zero\n",
    "    down_chg[diff < 0] = diff[diff < 0]\n",
    "\n",
    "    # check pandas documentation for ewm\n",
    "    # https://pandas.pydata.org/pandas-docs/stable/reference/api/pandas.DataFrame.ewm.html\n",
    "    # values are related to exponential decay\n",
    "    # we set com=time_window-1 so we get decay alpha=1/time_window\n",
    "    up_chg_avg = up_chg.ewm(com=time_window - 1, min_periods=time_window).mean()\n",
    "    down_chg_avg = down_chg.ewm(com=time_window - 1, min_periods=time_window).mean()\n",
    "\n",
    "    rs = abs(up_chg_avg / down_chg_avg)\n",
    "    rsi = 1 - 1 / (1 + rs)\n",
    "    return rsi"
   ]
  },
  {
   "cell_type": "code",
   "execution_count": 12,
   "metadata": {},
   "outputs": [],
   "source": [
    "def mooom(df):\n",
    "    \"\"\"\n",
    "    Mooom is a strategy that heavily relies on momentum.\n",
    "    It enriches dataframe with simple momentum and industrial momentum factors. \n",
    "    Returns will be substracted by a cross-sectional median.\n",
    "    \"\"\"\n",
    "    df_mom = df\n",
    "    df_mom = df_mom['low high close prccd mcap'.split()]\n",
    "    df_mom = df_mom.loc[df.prccd > 10]\n",
    "    times = [3, 4, 5, 10, 20, 40]\n",
    "    \n",
    "    df = df_mom\n",
    "    df[\"return\"] = df_mom.close.groupby(\"gvkey\").transform(lambda x: x.pct_change(1))\n",
    "    for time in times:\n",
    "        df[f\"RET {time}\"] = df.close.groupby(\"gvkey\").transform(lambda x: x.pct_change(time - 1))\n",
    "        df[f\"STD {time}\"] = df['return'].groupby(\"gvkey\").transform(lambda x: x.rolling(time).std())\n",
    "        df[f\"EMA {time}\"] = df.close.groupby(\"gvkey\").transform(lambda x: x / x.ewm(span=time, adjust=False).mean() -1 )\n",
    "        df[f\"SH {time}\"] = df['return'].groupby(\"gvkey\").transform(lambda x: x.rolling(time).mean() / x.rolling(time).std())\n",
    "        df[f\"QT {time}\"] = df['close'].groupby(\"gvkey\").transform(lambda x: x.rolling(time).quantile(0.75) / x)\n",
    "        df[f\"SCOSC {time}\"] = df['close'].groupby(\"gvkey\").transform(lambda x: (x - x.rolling(time).min()) \n",
    "                                                                     / (x.rolling(time).max() - x.rolling(time).min()))\n",
    "\n",
    "    df['high'] = df['high'] / df['close'] - 1\n",
    "    df['low'] = df['low'] / df['close'] - 1\n",
    "    \n",
    "    df_mom = df\n",
    "    df_mom[\"return\"] = df_mom.close.groupby(\"gvkey\").transform(lambda x: x.pct_change(3))\n",
    "    df_mom[\"targ_return\"] = df_mom.close.groupby(\"gvkey\").transform(lambda x: x.pct_change(3).shift(-3))\n",
    "\n",
    "    df_mom[\"y1\"] = np.where(df_mom['targ_return'] > 0.05, 1, 0)\n",
    "    df_mom[\"y2\"] = np.where(df_mom['targ_return'] < -0.03, -1, 0)\n",
    "    df_mom[\"y\"] = df_mom[\"y2\"] + df_mom[\"y1\"]\n",
    "    \n",
    "    df_mom = df_mom.drop('y2',axis=1)\n",
    "    df_mom = df_mom.drop('y1',axis=1)\n",
    "    df_mom = df_mom.drop('targ_return',axis=1)\n",
    "    df_mom = df_mom.drop('prccd',axis=1)\n",
    "    df_mom = df_mom.drop('close',axis=1)\n",
    "    df_mom = df_mom.drop('mcap',axis=1)\n",
    "    return df_mom.dropna()"
   ]
  },
  {
   "cell_type": "code",
   "execution_count": 13,
   "metadata": {},
   "outputs": [],
   "source": [
    "df_mom = mooom(df)"
   ]
  },
  {
   "cell_type": "code",
   "execution_count": 14,
   "metadata": {},
   "outputs": [],
   "source": [
    "df_backup = df_mom.copy()"
   ]
  },
  {
   "cell_type": "code",
   "execution_count": 15,
   "metadata": {},
   "outputs": [],
   "source": [
    "# df_mom = df_backup.copy()"
   ]
  },
  {
   "cell_type": "code",
   "execution_count": 16,
   "metadata": {},
   "outputs": [
    {
     "data": {
      "text/html": "<div>\n<style scoped>\n    .dataframe tbody tr th:only-of-type {\n        vertical-align: middle;\n    }\n\n    .dataframe tbody tr th {\n        vertical-align: top;\n    }\n\n    .dataframe thead th {\n        text-align: right;\n    }\n</style>\n<table border=\"1\" class=\"dataframe\">\n  <thead>\n    <tr style=\"text-align: right;\">\n      <th></th>\n      <th></th>\n      <th>low</th>\n      <th>high</th>\n      <th>return</th>\n      <th>RET 3</th>\n      <th>STD 3</th>\n      <th>EMA 3</th>\n      <th>SH 3</th>\n      <th>QT 3</th>\n      <th>SCOSC 3</th>\n      <th>RET 4</th>\n      <th>STD 4</th>\n      <th>EMA 4</th>\n      <th>SH 4</th>\n      <th>QT 4</th>\n      <th>SCOSC 4</th>\n      <th>RET 5</th>\n      <th>STD 5</th>\n      <th>EMA 5</th>\n      <th>SH 5</th>\n      <th>QT 5</th>\n      <th>SCOSC 5</th>\n      <th>RET 10</th>\n      <th>STD 10</th>\n      <th>EMA 10</th>\n      <th>SH 10</th>\n      <th>QT 10</th>\n      <th>SCOSC 10</th>\n      <th>RET 20</th>\n      <th>STD 20</th>\n      <th>EMA 20</th>\n      <th>SH 20</th>\n      <th>QT 20</th>\n      <th>SCOSC 20</th>\n      <th>RET 40</th>\n      <th>STD 40</th>\n      <th>EMA 40</th>\n      <th>SH 40</th>\n      <th>QT 40</th>\n      <th>SCOSC 40</th>\n      <th>y</th>\n    </tr>\n    <tr>\n      <th>gvkey</th>\n      <th>date</th>\n      <th></th>\n      <th></th>\n      <th></th>\n      <th></th>\n      <th></th>\n      <th></th>\n      <th></th>\n      <th></th>\n      <th></th>\n      <th></th>\n      <th></th>\n      <th></th>\n      <th></th>\n      <th></th>\n      <th></th>\n      <th></th>\n      <th></th>\n      <th></th>\n      <th></th>\n      <th></th>\n      <th></th>\n      <th></th>\n      <th></th>\n      <th></th>\n      <th></th>\n      <th></th>\n      <th></th>\n      <th></th>\n      <th></th>\n      <th></th>\n      <th></th>\n      <th></th>\n      <th></th>\n      <th></th>\n      <th></th>\n      <th></th>\n      <th></th>\n      <th></th>\n      <th></th>\n      <th></th>\n    </tr>\n  </thead>\n  <tbody>\n    <tr>\n      <th rowspan=\"5\" valign=\"top\">001166</th>\n      <th>2003-07-31</th>\n      <td>-0.147281</td>\n      <td>0.135582</td>\n      <td>0.188062</td>\n      <td>0.128982</td>\n      <td>0.046099</td>\n      <td>0.064181</td>\n      <td>1.296925</td>\n      <td>0.950791</td>\n      <td>1.000000</td>\n      <td>0.188062</td>\n      <td>0.060635</td>\n      <td>0.078164</td>\n      <td>1.378017</td>\n      <td>0.926187</td>\n      <td>1.000000</td>\n      <td>0.372049</td>\n      <td>0.096967</td>\n      <td>0.081172</td>\n      <td>0.485734</td>\n      <td>0.901583</td>\n      <td>1.000000</td>\n      <td>-0.004795</td>\n      <td>0.137098</td>\n      <td>0.018059</td>\n      <td>-0.087456</td>\n      <td>0.975396</td>\n      <td>0.912037</td>\n      <td>0.135156</td>\n      <td>0.196410</td>\n      <td>-0.111728</td>\n      <td>-0.019038</td>\n      <td>1.456469</td>\n      <td>0.206175</td>\n      <td>-0.436822</td>\n      <td>0.230274</td>\n      <td>-0.225815</td>\n      <td>0.054493</td>\n      <td>1.789401</td>\n      <td>0.152950</td>\n      <td>0</td>\n    </tr>\n    <tr>\n      <th>2003-08-31</th>\n      <td>-0.219601</td>\n      <td>0.075620</td>\n      <td>0.284382</td>\n      <td>0.261832</td>\n      <td>0.062572</td>\n      <td>0.095293</td>\n      <td>1.409997</td>\n      <td>0.939504</td>\n      <td>1.000000</td>\n      <td>0.284382</td>\n      <td>0.054150</td>\n      <td>0.124645</td>\n      <td>1.463553</td>\n      <td>0.909256</td>\n      <td>1.000000</td>\n      <td>0.351594</td>\n      <td>0.057815</td>\n      <td>0.142410</td>\n      <td>1.632340</td>\n      <td>0.879008</td>\n      <td>1.000000</td>\n      <td>0.271538</td>\n      <td>0.129652</td>\n      <td>0.125811</td>\n      <td>0.156232</td>\n      <td>0.857381</td>\n      <td>1.000000</td>\n      <td>-0.057045</td>\n      <td>0.167772</td>\n      <td>0.009526</td>\n      <td>0.153388</td>\n      <td>1.280248</td>\n      <td>0.310832</td>\n      <td>-0.487442</td>\n      <td>0.230481</td>\n      <td>-0.114098</td>\n      <td>0.056169</td>\n      <td>1.572898</td>\n      <td>0.230590</td>\n      <td>-1</td>\n    </tr>\n    <tr>\n      <th>2003-09-30</th>\n      <td>-0.021961</td>\n      <td>0.341176</td>\n      <td>-0.026718</td>\n      <td>-0.122505</td>\n      <td>0.203771</td>\n      <td>-0.084112</td>\n      <td>0.029660</td>\n      <td>1.218039</td>\n      <td>0.000000</td>\n      <td>-0.026718</td>\n      <td>0.166483</td>\n      <td>-0.083972</td>\n      <td>0.054063</td>\n      <td>1.178824</td>\n      <td>0.000000</td>\n      <td>-0.009324</td>\n      <td>0.145475</td>\n      <td>-0.082488</td>\n      <td>0.121440</td>\n      <td>1.139608</td>\n      <td>0.000000</td>\n      <td>0.003937</td>\n      <td>0.147187</td>\n      <td>-0.110342</td>\n      <td>0.056712</td>\n      <td>1.111569</td>\n      <td>0.363636</td>\n      <td>-0.250000</td>\n      <td>0.156177</td>\n      <td>-0.204561</td>\n      <td>-0.026740</td>\n      <td>1.659804</td>\n      <td>0.113030</td>\n      <td>-0.595238</td>\n      <td>0.230284</td>\n      <td>-0.305961</td>\n      <td>0.004251</td>\n      <td>2.014706</td>\n      <td>0.083851</td>\n      <td>1</td>\n    </tr>\n    <tr>\n      <th>2003-10-31</th>\n      <td>-0.157965</td>\n      <td>0.054217</td>\n      <td>0.028217</td>\n      <td>-0.096189</td>\n      <td>0.222001</td>\n      <td>0.035310</td>\n      <td>0.121224</td>\n      <td>1.053213</td>\n      <td>0.579365</td>\n      <td>0.028217</td>\n      <td>0.185870</td>\n      <td>0.042767</td>\n      <td>0.255416</td>\n      <td>1.026606</td>\n      <td>0.579365</td>\n      <td>0.140458</td>\n      <td>0.161511</td>\n      <td>0.048849</td>\n      <td>0.257278</td>\n      <td>1.000000</td>\n      <td>0.579365</td>\n      <td>0.002012</td>\n      <td>0.155241</td>\n      <td>0.034482</td>\n      <td>0.179279</td>\n      <td>0.991633</td>\n      <td>0.732323</td>\n      <td>-0.313103</td>\n      <td>0.160864</td>\n      <td>-0.061863</td>\n      <td>0.036825</td>\n      <td>1.416499</td>\n      <td>0.227630</td>\n      <td>-0.588996</td>\n      <td>0.231817</td>\n      <td>-0.179272</td>\n      <td>0.025255</td>\n      <td>1.671352</td>\n      <td>0.168866</td>\n      <td>1</td>\n    </tr>\n    <tr>\n      <th>2003-11-30</th>\n      <td>-0.053797</td>\n      <td>0.069620</td>\n      <td>-0.044162</td>\n      <td>0.239216</td>\n      <td>0.206287</td>\n      <td>0.045303</td>\n      <td>0.001055</td>\n      <td>0.972785</td>\n      <td>1.000000</td>\n      <td>-0.044162</td>\n      <td>0.181910</td>\n      <td>0.059240</td>\n      <td>0.190066</td>\n      <td>1.011551</td>\n      <td>0.806878</td>\n      <td>0.087405</td>\n      <td>0.161031</td>\n      <td>0.070258</td>\n      <td>0.307344</td>\n      <td>1.000000</td>\n      <td>0.806878</td>\n      <td>0.344681</td>\n      <td>0.147217</td>\n      <td>0.075641</td>\n      <td>0.109948</td>\n      <td>0.939082</td>\n      <td>0.877104</td>\n      <td>-0.254717</td>\n      <td>0.148161</td>\n      <td>-0.007117</td>\n      <td>-0.034885</td>\n      <td>1.184810</td>\n      <td>0.272632</td>\n      <td>-0.457045</td>\n      <td>0.230737</td>\n      <td>-0.126402</td>\n      <td>0.014928</td>\n      <td>1.500158</td>\n      <td>0.272632</td>\n      <td>1</td>\n    </tr>\n  </tbody>\n</table>\n</div>",
      "text/plain": "                        low      high    return     RET 3     STD 3     EMA 3  \\\ngvkey  date                                                                     \n001166 2003-07-31 -0.147281  0.135582  0.188062  0.128982  0.046099  0.064181   \n       2003-08-31 -0.219601  0.075620  0.284382  0.261832  0.062572  0.095293   \n       2003-09-30 -0.021961  0.341176 -0.026718 -0.122505  0.203771 -0.084112   \n       2003-10-31 -0.157965  0.054217  0.028217 -0.096189  0.222001  0.035310   \n       2003-11-30 -0.053797  0.069620 -0.044162  0.239216  0.206287  0.045303   \n\n                       SH 3      QT 3   SCOSC 3     RET 4     STD 4     EMA 4  \\\ngvkey  date                                                                     \n001166 2003-07-31  1.296925  0.950791  1.000000  0.188062  0.060635  0.078164   \n       2003-08-31  1.409997  0.939504  1.000000  0.284382  0.054150  0.124645   \n       2003-09-30  0.029660  1.218039  0.000000 -0.026718  0.166483 -0.083972   \n       2003-10-31  0.121224  1.053213  0.579365  0.028217  0.185870  0.042767   \n       2003-11-30  0.001055  0.972785  1.000000 -0.044162  0.181910  0.059240   \n\n                       SH 4      QT 4   SCOSC 4     RET 5     STD 5     EMA 5  \\\ngvkey  date                                                                     \n001166 2003-07-31  1.378017  0.926187  1.000000  0.372049  0.096967  0.081172   \n       2003-08-31  1.463553  0.909256  1.000000  0.351594  0.057815  0.142410   \n       2003-09-30  0.054063  1.178824  0.000000 -0.009324  0.145475 -0.082488   \n       2003-10-31  0.255416  1.026606  0.579365  0.140458  0.161511  0.048849   \n       2003-11-30  0.190066  1.011551  0.806878  0.087405  0.161031  0.070258   \n\n                       SH 5      QT 5   SCOSC 5    RET 10    STD 10    EMA 10  \\\ngvkey  date                                                                     \n001166 2003-07-31  0.485734  0.901583  1.000000 -0.004795  0.137098  0.018059   \n       2003-08-31  1.632340  0.879008  1.000000  0.271538  0.129652  0.125811   \n       2003-09-30  0.121440  1.139608  0.000000  0.003937  0.147187 -0.110342   \n       2003-10-31  0.257278  1.000000  0.579365  0.002012  0.155241  0.034482   \n       2003-11-30  0.307344  1.000000  0.806878  0.344681  0.147217  0.075641   \n\n                      SH 10     QT 10  SCOSC 10    RET 20    STD 20    EMA 20  \\\ngvkey  date                                                                     \n001166 2003-07-31 -0.087456  0.975396  0.912037  0.135156  0.196410 -0.111728   \n       2003-08-31  0.156232  0.857381  1.000000 -0.057045  0.167772  0.009526   \n       2003-09-30  0.056712  1.111569  0.363636 -0.250000  0.156177 -0.204561   \n       2003-10-31  0.179279  0.991633  0.732323 -0.313103  0.160864 -0.061863   \n       2003-11-30  0.109948  0.939082  0.877104 -0.254717  0.148161 -0.007117   \n\n                      SH 20     QT 20  SCOSC 20    RET 40    STD 40    EMA 40  \\\ngvkey  date                                                                     \n001166 2003-07-31 -0.019038  1.456469  0.206175 -0.436822  0.230274 -0.225815   \n       2003-08-31  0.153388  1.280248  0.310832 -0.487442  0.230481 -0.114098   \n       2003-09-30 -0.026740  1.659804  0.113030 -0.595238  0.230284 -0.305961   \n       2003-10-31  0.036825  1.416499  0.227630 -0.588996  0.231817 -0.179272   \n       2003-11-30 -0.034885  1.184810  0.272632 -0.457045  0.230737 -0.126402   \n\n                      SH 40     QT 40  SCOSC 40  y  \ngvkey  date                                         \n001166 2003-07-31  0.054493  1.789401  0.152950  0  \n       2003-08-31  0.056169  1.572898  0.230590 -1  \n       2003-09-30  0.004251  2.014706  0.083851  1  \n       2003-10-31  0.025255  1.671352  0.168866  1  \n       2003-11-30  0.014928  1.500158  0.272632  1  "
     },
     "execution_count": 16,
     "metadata": {},
     "output_type": "execute_result"
    }
   ],
   "source": [
    "df_mom.head()"
   ]
  },
  {
   "cell_type": "code",
   "execution_count": 17,
   "metadata": {},
   "outputs": [
    {
     "data": {
      "text/plain": " 1    40077\n 0    35028\n-1    34024\nName: y, dtype: int64"
     },
     "execution_count": 17,
     "metadata": {},
     "output_type": "execute_result"
    }
   ],
   "source": [
    "df_mom.y.value_counts()"
   ]
  },
  {
   "cell_type": "markdown",
   "metadata": {},
   "source": [
    "## Multi Classification"
   ]
  },
  {
   "cell_type": "code",
   "execution_count": 18,
   "metadata": {},
   "outputs": [],
   "source": [
    "def threshold(y):\n",
    "    return y"
   ]
  },
  {
   "cell_type": "markdown",
   "metadata": {},
   "source": [
    "## Portfolio Return"
   ]
  },
  {
   "cell_type": "code",
   "execution_count": 19,
   "metadata": {},
   "outputs": [
    {
     "name": "stdout",
     "output_type": "stream",
     "text": [
      "[14:45:16] WARNING: /Users/travis/build/dmlc/xgboost/src/learner.cc:541: \n",
      "Parameters: { class_weight } might not be used.\n",
      "\n",
      "  This may not be accurate due to some parameters are only used in language bindings but\n",
      "  passed down to XGBoost core.  Or some parameters are not used but slip through this\n",
      "  verification. Please open an issue if you find above cases.\n",
      "\n",
      "\n",
      "[14:45:16] WARNING: /Users/travis/build/dmlc/xgboost/src/learner.cc:1061: Starting in XGBoost 1.3.0, the default evaluation metric used with the objective 'multi:softprob' was changed from 'merror' to 'mlogloss'. Explicitly set eval_metric if you'd like to restore the old behavior.\n",
      "Accuracy on training set: 0.480111779685845\n",
      "Accuracy on test set: 0.41940610478674706\n",
      "              precision    recall  f1-score   support\n",
      "\n",
      "        sell       0.37      0.28      0.32     16993\n",
      "        hold       0.51      0.31      0.39     20206\n",
      "         buy       0.40      0.64      0.50     20690\n",
      "\n",
      "    accuracy                           0.42     57889\n",
      "   macro avg       0.43      0.41      0.40     57889\n",
      "weighted avg       0.43      0.42      0.41     57889\n",
      "\n"
     ]
    }
   ],
   "source": [
    "df_train = df_mom.xs(slice(\"2002-01-01\", \"2014-01-01\"), level=\"date\", drop_level=False).groupby(\"date\").apply(extreme)\n",
    "df_test = df_mom.xs(slice(\"2010-01-01\", \"2020-01-01\"), level=\"date\", drop_level=False)\n",
    "X_train = df_train.drop([\"y\"], axis=1).to_numpy()\n",
    "y_train= threshold(df_train.y)\n",
    "X_test = df_test.drop([\"y\"], axis=1).to_numpy()\n",
    "y_test= threshold(df_test.y)\n",
    "xgb_clf = XGBClassifier(n_jobs=-1, \n",
    "                        class_weight='balanced',\n",
    "                        max_depth=3,\n",
    "                        learning_rate=0.3\n",
    "                       )\n",
    "xgb_fit = xgb_clf.fit(X_train, y_train)\n",
    "y_pred= xgb_clf.predict(X_test)\n",
    "train_score = accuracy_score(y_train, xgb_clf.predict(X_train))\n",
    "test_score = accuracy_score(y_test, y_pred)\n",
    "print(f\"Accuracy on training set: {train_score}\\nAccuracy on test set: {test_score}\")\n",
    "print(classification_report(y_test, y_pred, target_names=[\"sell\", 'hold', \"buy\"]))"
   ]
  },
  {
   "cell_type": "code",
   "execution_count": 20,
   "metadata": {},
   "outputs": [],
   "source": [
    "def frame_to_signals(frame, estimator):\n",
    "    X = frame.drop(columns=\"y\").to_numpy()\n",
    "    short_array = -1 * estimator.predict_proba(X)[:, 0]\n",
    "    long_array = estimator.predict_proba(X)[:, -1]\n",
    "    short_signal = pd.Series(short_array, frame.index)\n",
    "    long_signal = pd.Series(long_array, frame.index)\n",
    "    return short_signal, long_signal"
   ]
  },
  {
   "cell_type": "code",
   "execution_count": 21,
   "metadata": {},
   "outputs": [],
   "source": [
    "def noise_to_belief(signal, n):\n",
    "    return signal.groupby(\"date\", group_keys=False).apply(lambda x: x.sort_values(ascending=False).head(n))"
   ]
  },
  {
   "cell_type": "code",
   "execution_count": 22,
   "metadata": {},
   "outputs": [],
   "source": [
    "def monthly_to_daily(signal, months, weight):\n",
    "    daily_signals = []\n",
    "    for index, value in signal.iteritems():\n",
    "        gvkey = index[0]\n",
    "        predict_date = pd.to_datetime(index[1])\n",
    "        start = predict_date + DateOffset(days=1)\n",
    "        end = predict_date + DateOffset(months=months)\n",
    "        date_range = pd.date_range(start, end, freq=\"D\", name=\"date\")\n",
    "        daily_idx = pd.MultiIndex.from_tuples([(gvkey, date) for date in date_range], names=[\"gvkey\", \"date\"])\n",
    "        if weight == \"equal\":\n",
    "            daily_signal = pd.Series(np.sign(value), daily_idx)\n",
    "        elif weight == \"value\":\n",
    "            daily_signal = pd.Series(value, daily_idx)\n",
    "        daily_signals.append(daily_signal)\n",
    "    return pd.concat(daily_signals)"
   ]
  },
  {
   "cell_type": "code",
   "execution_count": 23,
   "metadata": {},
   "outputs": [],
   "source": [
    "def signals_to_positions(short_signal, long_signal, n=10, months=3, weight=\"equal\"):\n",
    "    short_belief = noise_to_belief(short_signal, n)\n",
    "    long_belief = noise_to_belief(long_signal, n)\n",
    "    short_daily = monthly_to_daily(short_belief, months, weight)\n",
    "    long_daily = monthly_to_daily(long_belief, months, weight)\n",
    "    short_position = short_daily.groupby([\"gvkey\", \"date\"]).agg(\"sum\")\n",
    "    long_position = long_daily.groupby([\"gvkey\", \"date\"]).agg(\"sum\")\n",
    "    neutral_position = pd.concat([short_position, long_position]).groupby([\"gvkey\", \"date\"]).agg(\"sum\")\n",
    "    return short_position, long_position, neutral_position"
   ]
  },
  {
   "cell_type": "code",
   "execution_count": 24,
   "metadata": {},
   "outputs": [],
   "source": [
    "def position_to_margin(data, position, tx=-0.002, method=\"percent\"):\n",
    "    merged = pd.merge(position.rename(\"position\"), data.close, how=\"left\", left_index=True, right_index=True)\n",
    "    merged[\"close\"] = merged.close.groupby(\"gvkey\").fillna(method=\"ffill\")\n",
    "    merged[\"tx\"] = np.where(position.shift(1) != position, tx, 0)\n",
    "    if method == \"log\":\n",
    "        merged[\"margin\"] = merged.close.groupby(\"gvkey\").transform(lambda x: np.log(x.shift(-1) / x)).fillna(0)\n",
    "        margin = merged.position * merged.margin + merged.tx\n",
    "        margin = margin.droplevel(\"gvkey\").resample(\"D\").mean().cumsum()\n",
    "    elif method == \"percent\":\n",
    "        merged[\"margin\"] = merged.close.groupby(\"gvkey\").transform(lambda x: x.pct_change(1)).fillna(0)\n",
    "        margin = (merged.position * merged.margin + merged.tx)\n",
    "        margin = 1 + (margin.droplevel(\"gvkey\").resample(\"D\").mean().cumsum())\n",
    "    return margin"
   ]
  },
  {
   "cell_type": "code",
   "execution_count": 25,
   "metadata": {},
   "outputs": [],
   "source": [
    "def sharpe_ratio(data, position):\n",
    "    merged = pd.merge(position.rename(\"position\"), data.close, how=\"left\", left_index=True, right_index=True)\n",
    "    merged[\"close\"] = merged.close.groupby(\"gvkey\").fillna(method=\"ffill\")\n",
    "    merged[\"tx\"] = np.where(position.shift(1) != position, -0.001, 0)\n",
    "    merged[\"margin\"] = merged.close.groupby(\"gvkey\").transform(lambda x: x.pct_change(1)).fillna(0)\n",
    "    margin = merged.position * merged.margin\n",
    "    margin = margin + merged.tx * abs(margin) * 2\n",
    "    margin = margin.droplevel(\"gvkey\").resample(\"D\").mean()\n",
    "    return margin.mean() / margin.std() * np.sqrt(252)"
   ]
  },
  {
   "cell_type": "code",
   "execution_count": 26,
   "metadata": {},
   "outputs": [
    {
     "ename": "FileNotFoundError",
     "evalue": "[Errno 2] No such file or directory: 'daily_price_backtest.parquet'",
     "output_type": "error",
     "traceback": [
      "\u001b[0;31m---------------------------------------------------------------------------\u001b[0m",
      "\u001b[0;31mFileNotFoundError\u001b[0m                         Traceback (most recent call last)",
      "\u001b[0;32m<ipython-input-26-82ea07efecd7>\u001b[0m in \u001b[0;36m<module>\u001b[0;34m\u001b[0m\n\u001b[0;32m----> 1\u001b[0;31m \u001b[0mdata\u001b[0m \u001b[0;34m=\u001b[0m \u001b[0mpd\u001b[0m\u001b[0;34m.\u001b[0m\u001b[0mread_parquet\u001b[0m\u001b[0;34m(\u001b[0m\u001b[0;34m\"daily_price_backtest.parquet\"\u001b[0m\u001b[0;34m)\u001b[0m\u001b[0;34m\u001b[0m\u001b[0;34m\u001b[0m\u001b[0m\n\u001b[0m\u001b[1;32m      2\u001b[0m \u001b[0mdata\u001b[0m \u001b[0;34m=\u001b[0m \u001b[0mdata\u001b[0m\u001b[0;34m[\u001b[0m\u001b[0mdata\u001b[0m\u001b[0;34m.\u001b[0m\u001b[0mindex\u001b[0m\u001b[0;34m.\u001b[0m\u001b[0mget_level_values\u001b[0m\u001b[0;34m(\u001b[0m\u001b[0;34m\"gvkey\"\u001b[0m\u001b[0;34m)\u001b[0m \u001b[0;34m!=\u001b[0m \u001b[0;34m'249103'\u001b[0m\u001b[0;34m]\u001b[0m\u001b[0;34m\u001b[0m\u001b[0;34m\u001b[0m\u001b[0m\n\u001b[1;32m      3\u001b[0m \u001b[0mshort_signal\u001b[0m\u001b[0;34m,\u001b[0m \u001b[0mlong_signal\u001b[0m \u001b[0;34m=\u001b[0m \u001b[0mframe_to_signals\u001b[0m\u001b[0;34m(\u001b[0m\u001b[0mdf_test\u001b[0m\u001b[0;34m,\u001b[0m \u001b[0mxgb_clf\u001b[0m\u001b[0;34m)\u001b[0m\u001b[0;34m\u001b[0m\u001b[0;34m\u001b[0m\u001b[0m\n\u001b[1;32m      4\u001b[0m \u001b[0mshort_position\u001b[0m\u001b[0;34m,\u001b[0m \u001b[0mlong_position\u001b[0m\u001b[0;34m,\u001b[0m \u001b[0mneutral_position\u001b[0m \u001b[0;34m=\u001b[0m \u001b[0msignals_to_positions\u001b[0m\u001b[0;34m(\u001b[0m\u001b[0mshort_signal\u001b[0m\u001b[0;34m,\u001b[0m \u001b[0mlong_signal\u001b[0m\u001b[0;34m,\u001b[0m \u001b[0mn\u001b[0m\u001b[0;34m=\u001b[0m\u001b[0;36m5\u001b[0m\u001b[0;34m,\u001b[0m \u001b[0mmonths\u001b[0m\u001b[0;34m=\u001b[0m\u001b[0;36m3\u001b[0m\u001b[0;34m,\u001b[0m \u001b[0mweight\u001b[0m\u001b[0;34m=\u001b[0m\u001b[0;34m\"equal\"\u001b[0m\u001b[0;34m)\u001b[0m\u001b[0;34m\u001b[0m\u001b[0;34m\u001b[0m\u001b[0m\n",
      "\u001b[0;32m~/.pyenv/versions/3.8.7/envs/quant/lib/python3.8/site-packages/pandas/io/parquet.py\u001b[0m in \u001b[0;36mread_parquet\u001b[0;34m(path, engine, columns, use_nullable_dtypes, **kwargs)\u001b[0m\n\u001b[1;32m    457\u001b[0m     \"\"\"\n\u001b[1;32m    458\u001b[0m     \u001b[0mimpl\u001b[0m \u001b[0;34m=\u001b[0m \u001b[0mget_engine\u001b[0m\u001b[0;34m(\u001b[0m\u001b[0mengine\u001b[0m\u001b[0;34m)\u001b[0m\u001b[0;34m\u001b[0m\u001b[0;34m\u001b[0m\u001b[0m\n\u001b[0;32m--> 459\u001b[0;31m     return impl.read(\n\u001b[0m\u001b[1;32m    460\u001b[0m         \u001b[0mpath\u001b[0m\u001b[0;34m,\u001b[0m \u001b[0mcolumns\u001b[0m\u001b[0;34m=\u001b[0m\u001b[0mcolumns\u001b[0m\u001b[0;34m,\u001b[0m \u001b[0muse_nullable_dtypes\u001b[0m\u001b[0;34m=\u001b[0m\u001b[0muse_nullable_dtypes\u001b[0m\u001b[0;34m,\u001b[0m \u001b[0;34m**\u001b[0m\u001b[0mkwargs\u001b[0m\u001b[0;34m\u001b[0m\u001b[0;34m\u001b[0m\u001b[0m\n\u001b[1;32m    461\u001b[0m     )\n",
      "\u001b[0;32m~/.pyenv/versions/3.8.7/envs/quant/lib/python3.8/site-packages/pandas/io/parquet.py\u001b[0m in \u001b[0;36mread\u001b[0;34m(self, path, columns, use_nullable_dtypes, storage_options, **kwargs)\u001b[0m\n\u001b[1;32m    212\u001b[0m                 )\n\u001b[1;32m    213\u001b[0m \u001b[0;34m\u001b[0m\u001b[0m\n\u001b[0;32m--> 214\u001b[0;31m         path_or_handle, handles, kwargs[\"filesystem\"] = _get_path_or_handle(\n\u001b[0m\u001b[1;32m    215\u001b[0m             \u001b[0mpath\u001b[0m\u001b[0;34m,\u001b[0m\u001b[0;34m\u001b[0m\u001b[0;34m\u001b[0m\u001b[0m\n\u001b[1;32m    216\u001b[0m             \u001b[0mkwargs\u001b[0m\u001b[0;34m.\u001b[0m\u001b[0mpop\u001b[0m\u001b[0;34m(\u001b[0m\u001b[0;34m\"filesystem\"\u001b[0m\u001b[0;34m,\u001b[0m \u001b[0;32mNone\u001b[0m\u001b[0;34m)\u001b[0m\u001b[0;34m,\u001b[0m\u001b[0;34m\u001b[0m\u001b[0;34m\u001b[0m\u001b[0m\n",
      "\u001b[0;32m~/.pyenv/versions/3.8.7/envs/quant/lib/python3.8/site-packages/pandas/io/parquet.py\u001b[0m in \u001b[0;36m_get_path_or_handle\u001b[0;34m(path, fs, storage_options, mode, is_dir)\u001b[0m\n\u001b[1;32m     80\u001b[0m         \u001b[0;31m# fsspec resources can also point to directories\u001b[0m\u001b[0;34m\u001b[0m\u001b[0;34m\u001b[0m\u001b[0;34m\u001b[0m\u001b[0m\n\u001b[1;32m     81\u001b[0m         \u001b[0;31m# this branch is used for example when reading from non-fsspec URLs\u001b[0m\u001b[0;34m\u001b[0m\u001b[0;34m\u001b[0m\u001b[0;34m\u001b[0m\u001b[0m\n\u001b[0;32m---> 82\u001b[0;31m         \u001b[0mhandles\u001b[0m \u001b[0;34m=\u001b[0m \u001b[0mget_handle\u001b[0m\u001b[0;34m(\u001b[0m\u001b[0mpath_or_handle\u001b[0m\u001b[0;34m,\u001b[0m \u001b[0mmode\u001b[0m\u001b[0;34m,\u001b[0m \u001b[0mis_text\u001b[0m\u001b[0;34m=\u001b[0m\u001b[0;32mFalse\u001b[0m\u001b[0;34m)\u001b[0m\u001b[0;34m\u001b[0m\u001b[0;34m\u001b[0m\u001b[0m\n\u001b[0m\u001b[1;32m     83\u001b[0m         \u001b[0mfs\u001b[0m \u001b[0;34m=\u001b[0m \u001b[0;32mNone\u001b[0m\u001b[0;34m\u001b[0m\u001b[0;34m\u001b[0m\u001b[0m\n\u001b[1;32m     84\u001b[0m         \u001b[0mpath_or_handle\u001b[0m \u001b[0;34m=\u001b[0m \u001b[0mhandles\u001b[0m\u001b[0;34m.\u001b[0m\u001b[0mhandle\u001b[0m\u001b[0;34m\u001b[0m\u001b[0;34m\u001b[0m\u001b[0m\n",
      "\u001b[0;32m~/.pyenv/versions/3.8.7/envs/quant/lib/python3.8/site-packages/pandas/io/common.py\u001b[0m in \u001b[0;36mget_handle\u001b[0;34m(path_or_buf, mode, encoding, compression, memory_map, is_text, errors, storage_options)\u001b[0m\n\u001b[1;32m    649\u001b[0m         \u001b[0;32melse\u001b[0m\u001b[0;34m:\u001b[0m\u001b[0;34m\u001b[0m\u001b[0;34m\u001b[0m\u001b[0m\n\u001b[1;32m    650\u001b[0m             \u001b[0;31m# Binary mode\u001b[0m\u001b[0;34m\u001b[0m\u001b[0;34m\u001b[0m\u001b[0;34m\u001b[0m\u001b[0m\n\u001b[0;32m--> 651\u001b[0;31m             \u001b[0mhandle\u001b[0m \u001b[0;34m=\u001b[0m \u001b[0mopen\u001b[0m\u001b[0;34m(\u001b[0m\u001b[0mhandle\u001b[0m\u001b[0;34m,\u001b[0m \u001b[0mioargs\u001b[0m\u001b[0;34m.\u001b[0m\u001b[0mmode\u001b[0m\u001b[0;34m)\u001b[0m\u001b[0;34m\u001b[0m\u001b[0;34m\u001b[0m\u001b[0m\n\u001b[0m\u001b[1;32m    652\u001b[0m         \u001b[0mhandles\u001b[0m\u001b[0;34m.\u001b[0m\u001b[0mappend\u001b[0m\u001b[0;34m(\u001b[0m\u001b[0mhandle\u001b[0m\u001b[0;34m)\u001b[0m\u001b[0;34m\u001b[0m\u001b[0;34m\u001b[0m\u001b[0m\n\u001b[1;32m    653\u001b[0m \u001b[0;34m\u001b[0m\u001b[0m\n",
      "\u001b[0;31mFileNotFoundError\u001b[0m: [Errno 2] No such file or directory: 'daily_price_backtest.parquet'"
     ]
    }
   ],
   "source": [
    "data = pd.read_parquet(\"daily_price_backtest.parquet\")\n",
    "data = data[data.index.get_level_values(\"gvkey\") != '249103']\n",
    "short_signal, long_signal = frame_to_signals(df_test, xgb_clf)\n",
    "short_position, long_position, neutral_position = signals_to_positions(short_signal, long_signal, n=5, months=3, weight=\"equal\")"
   ]
  },
  {
   "cell_type": "code",
   "execution_count": 73,
   "metadata": {},
   "outputs": [
    {
     "name": "stdout",
     "output_type": "stream",
     "text": [
      "sharpe 0.8542792881829171\n"
     ]
    },
    {
     "data": {
      "text/plain": [
       "<AxesSubplot:xlabel='date'>"
      ]
     },
     "execution_count": 73,
     "metadata": {},
     "output_type": "execute_result"
    },
    {
     "data": {
      "image/png": "[encoded data removed]",
      "text/plain": [
       "<Figure size 432x288 with 1 Axes>"
      ]
     },
     "metadata": {
      "needs_background": "light"
     },
     "output_type": "display_data"
    }
   ],
   "source": [
    "margin = position_to_margin(data, long_position, method=\"percent\")\n",
    "print('sharpe', sharpe_ratio(data,long_position))\n",
    "margin.plot()"
   ]
  },
  {
   "cell_type": "code",
   "execution_count": 74,
   "metadata": {},
   "outputs": [
    {
     "name": "stdout",
     "output_type": "stream",
     "text": [
      "sharpe 0.7365484408049644\n"
     ]
    },
    {
     "data": {
      "text/plain": [
       "<AxesSubplot:xlabel='date'>"
      ]
     },
     "execution_count": 74,
     "metadata": {},
     "output_type": "execute_result"
    },
    {
     "data": {
      "image/png": "[encoded data removed]",
      "text/plain": [
       "<Figure size 432x288 with 1 Axes>"
      ]
     },
     "metadata": {
      "needs_background": "light"
     },
     "output_type": "display_data"
    }
   ],
   "source": [
    "margin = position_to_margin(data, neutral_position, method=\"percent\")\n",
    "print('sharpe', sharpe_ratio(data,neutral_position))\n",
    "margin.plot()"
   ]
  },
  {
   "cell_type": "code",
   "execution_count": 53,
   "metadata": {},
   "outputs": [
    {
     "name": "stdout",
     "output_type": "stream",
     "text": [
      "sharpe -0.5282959304836727\n"
     ]
    },
    {
     "data": {
      "text/plain": [
       "<AxesSubplot:xlabel='date'>"
      ]
     },
     "execution_count": 53,
     "metadata": {},
     "output_type": "execute_result"
    },
    {
     "data": {
      "image/png": "[encoded data removed]",
      "text/plain": [
       "<Figure size 432x288 with 1 Axes>"
      ]
     },
     "metadata": {
      "needs_background": "light"
     },
     "output_type": "display_data"
    }
   ],
   "source": [
    "margin = position_to_margin(data, short_position, method=\"percent\")\n",
    "print('sharpe', sharpe_ratio(data,short_position))\n",
    "margin.plot()"
   ]
  }
 ],
 "metadata": {
  "kernelspec": {
   "display_name": "Python 3.8.7 64-bit ('quant': pyenv)",
   "name": "python387jvsc74a57bd06c4d53544fd442ed60c2caa64d39fbda392cb3a8c6227dbf35141831a3031a61"
  },
  "language_info": {
   "codemirror_mode": {
    "name": "ipython",
    "version": 3
   },
   "file_extension": ".py",
   "mimetype": "text/x-python",
   "name": "python",
   "nbconvert_exporter": "python",
   "pygments_lexer": "ipython3",
   "version": "3.8.7"
  }
 },
 "nbformat": 4,
 "nbformat_minor": 2
}
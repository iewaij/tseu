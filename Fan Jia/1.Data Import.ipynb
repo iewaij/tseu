{
 "metadata": {
  "language_info": {
   "codemirror_mode": {
    "name": "ipython",
    "version": 3
   },
   "file_extension": ".py",
   "mimetype": "text/x-python",
   "name": "python",
   "nbconvert_exporter": "python",
   "pygments_lexer": "ipython3",
   "version": "3.8.5-final"
  },
  "orig_nbformat": 2,
  "kernelspec": {
   "name": "python3",
   "display_name": "Python 3.8.5 64-bit ('base': conda)",
   "metadata": {
    "interpreter": {
     "hash": "ef5e7a481a0a3ea0d3b4f28929775359bcaa47dcbbabd1c4cf0f1cdb0452fc78"
    }
   }
  }
 },
 "nbformat": 4,
 "nbformat_minor": 2,
 "cells": [
  {
   "cell_type": "code",
   "execution_count": 3,
   "metadata": {},
   "outputs": [
    {
     "output_type": "execute_result",
     "data": {
      "text/plain": [
       "'\\npip install pandas_datareader\\n'"
      ]
     },
     "metadata": {},
     "execution_count": 3
    }
   ],
   "source": [
    "# To install `pandas_datareader`: Already installed\n",
    "'''\n",
    "pip install pandas_datareader\n",
    "'''"
   ]
  },
  {
   "source": [
    "# Making the same request repeatedly can use a lot of bandwidth, slow down your code and may result in your IP being banned. `pandas-datareader` allows you to cache queries into a `sqlite` database using `requests_cache`. First make sure you have installed `requests_cache`:\n",
    "\n",
    "'''\n",
    "pip install requests_cache\n",
    "'''"
   ],
   "cell_type": "code",
   "metadata": {},
   "execution_count": null,
   "outputs": []
  },
  {
   "cell_type": "code",
   "execution_count": 12,
   "metadata": {},
   "outputs": [
    {
     "output_type": "execute_result",
     "data": {
      "text/plain": [
       "                 High        Low       Open      Close     Volume  Adj Close\n",
       "Date                                                                        \n",
       "2001-01-01  34.900002  34.900002  34.900002  34.900002        0.0  20.443398\n",
       "2001-01-02  36.200001  34.150002  35.730000  34.470001   420631.0  20.191515\n",
       "2001-01-03  35.799999  32.400002  34.220001  34.529999  1593510.0  20.226660\n",
       "2001-01-04  36.040001  33.799999  35.150002  35.110001  1203012.0  20.566406\n",
       "2001-01-05  35.110001  35.110001  35.110001  35.110001        0.0  20.566406\n",
       "2021-01-26  73.209999  69.779999  70.160004  72.080002  2034716.0  72.080002\n",
       "2021-01-27  72.029999  70.500000  71.940002  71.309998  2044649.0  71.309998\n",
       "2021-01-28  71.080002  68.360001  69.279999  70.910004  2072544.0  70.910004\n",
       "2021-01-29  70.870003  69.050003  69.400002  70.010002  1924221.0  70.010002\n",
       "2021-02-01  70.949997  69.550003  70.809998  69.879997  1139613.0  69.879997"
      ],
      "text/html": "<div>\n<style scoped>\n    .dataframe tbody tr th:only-of-type {\n        vertical-align: middle;\n    }\n\n    .dataframe tbody tr th {\n        vertical-align: top;\n    }\n\n    .dataframe thead th {\n        text-align: right;\n    }\n</style>\n<table border=\"1\" class=\"dataframe\">\n  <thead>\n    <tr style=\"text-align: right;\">\n      <th></th>\n      <th>High</th>\n      <th>Low</th>\n      <th>Open</th>\n      <th>Close</th>\n      <th>Volume</th>\n      <th>Adj Close</th>\n    </tr>\n    <tr>\n      <th>Date</th>\n      <th></th>\n      <th></th>\n      <th></th>\n      <th></th>\n      <th></th>\n      <th></th>\n    </tr>\n  </thead>\n  <tbody>\n    <tr>\n      <th>2001-01-01</th>\n      <td>34.900002</td>\n      <td>34.900002</td>\n      <td>34.900002</td>\n      <td>34.900002</td>\n      <td>0.0</td>\n      <td>20.443398</td>\n    </tr>\n    <tr>\n      <th>2001-01-02</th>\n      <td>36.200001</td>\n      <td>34.150002</td>\n      <td>35.730000</td>\n      <td>34.470001</td>\n      <td>420631.0</td>\n      <td>20.191515</td>\n    </tr>\n    <tr>\n      <th>2001-01-03</th>\n      <td>35.799999</td>\n      <td>32.400002</td>\n      <td>34.220001</td>\n      <td>34.529999</td>\n      <td>1593510.0</td>\n      <td>20.226660</td>\n    </tr>\n    <tr>\n      <th>2001-01-04</th>\n      <td>36.040001</td>\n      <td>33.799999</td>\n      <td>35.150002</td>\n      <td>35.110001</td>\n      <td>1203012.0</td>\n      <td>20.566406</td>\n    </tr>\n    <tr>\n      <th>2001-01-05</th>\n      <td>35.110001</td>\n      <td>35.110001</td>\n      <td>35.110001</td>\n      <td>35.110001</td>\n      <td>0.0</td>\n      <td>20.566406</td>\n    </tr>\n    <tr>\n      <th>2021-01-26</th>\n      <td>73.209999</td>\n      <td>69.779999</td>\n      <td>70.160004</td>\n      <td>72.080002</td>\n      <td>2034716.0</td>\n      <td>72.080002</td>\n    </tr>\n    <tr>\n      <th>2021-01-27</th>\n      <td>72.029999</td>\n      <td>70.500000</td>\n      <td>71.940002</td>\n      <td>71.309998</td>\n      <td>2044649.0</td>\n      <td>71.309998</td>\n    </tr>\n    <tr>\n      <th>2021-01-28</th>\n      <td>71.080002</td>\n      <td>68.360001</td>\n      <td>69.279999</td>\n      <td>70.910004</td>\n      <td>2072544.0</td>\n      <td>70.910004</td>\n    </tr>\n    <tr>\n      <th>2021-01-29</th>\n      <td>70.870003</td>\n      <td>69.050003</td>\n      <td>69.400002</td>\n      <td>70.010002</td>\n      <td>1924221.0</td>\n      <td>70.010002</td>\n    </tr>\n    <tr>\n      <th>2021-02-01</th>\n      <td>70.949997</td>\n      <td>69.550003</td>\n      <td>70.809998</td>\n      <td>69.879997</td>\n      <td>1139613.0</td>\n      <td>69.879997</td>\n    </tr>\n  </tbody>\n</table>\n</div>"
     },
     "metadata": {},
     "execution_count": 12
    }
   ],
   "source": [
    "# The following code pulls BMW historical (split and dividend) adjusted price between 1/1/2001 and 1/2/2021 from yahoo finance:\n",
    "import pandas as pd \n",
    "import pandas_datareader as pdr\n",
    "df_bmw = pdr.get_data_yahoo(\"BMW.DE\", start=\"2001-01-01\", end=\"2021-02-01\")\n",
    "pd.concat([df_bmw.head(5),df_bmw.tail(5)],axis=0)  #看看收尾的5行"
   ]
  },
  {
   "cell_type": "code",
   "execution_count": 13,
   "metadata": {},
   "outputs": [
    {
     "output_type": "execute_result",
     "data": {
      "text/plain": [
       "                 High        Low       Open      Close     Volume  Adj_Ratio\n",
       "Date                                                                        \n",
       "2001-01-01  20.443398  20.443398  20.443398  20.443398        0.0   0.585771\n",
       "2001-01-02  21.204898  20.004069  20.929585  20.191515   420631.0   0.585771\n",
       "2001-01-03  20.970589  18.978970  20.045072  20.226660  1593510.0   0.585771\n",
       "2001-01-04  21.111173  19.799046  20.589838  20.566406  1203012.0   0.585771\n",
       "2001-01-05  20.566406  20.566406  20.566406  20.566406        0.0   0.585771"
      ],
      "text/html": "<div>\n<style scoped>\n    .dataframe tbody tr th:only-of-type {\n        vertical-align: middle;\n    }\n\n    .dataframe tbody tr th {\n        vertical-align: top;\n    }\n\n    .dataframe thead th {\n        text-align: right;\n    }\n</style>\n<table border=\"1\" class=\"dataframe\">\n  <thead>\n    <tr style=\"text-align: right;\">\n      <th></th>\n      <th>High</th>\n      <th>Low</th>\n      <th>Open</th>\n      <th>Close</th>\n      <th>Volume</th>\n      <th>Adj_Ratio</th>\n    </tr>\n    <tr>\n      <th>Date</th>\n      <th></th>\n      <th></th>\n      <th></th>\n      <th></th>\n      <th></th>\n      <th></th>\n    </tr>\n  </thead>\n  <tbody>\n    <tr>\n      <th>2001-01-01</th>\n      <td>20.443398</td>\n      <td>20.443398</td>\n      <td>20.443398</td>\n      <td>20.443398</td>\n      <td>0.0</td>\n      <td>0.585771</td>\n    </tr>\n    <tr>\n      <th>2001-01-02</th>\n      <td>21.204898</td>\n      <td>20.004069</td>\n      <td>20.929585</td>\n      <td>20.191515</td>\n      <td>420631.0</td>\n      <td>0.585771</td>\n    </tr>\n    <tr>\n      <th>2001-01-03</th>\n      <td>20.970589</td>\n      <td>18.978970</td>\n      <td>20.045072</td>\n      <td>20.226660</td>\n      <td>1593510.0</td>\n      <td>0.585771</td>\n    </tr>\n    <tr>\n      <th>2001-01-04</th>\n      <td>21.111173</td>\n      <td>19.799046</td>\n      <td>20.589838</td>\n      <td>20.566406</td>\n      <td>1203012.0</td>\n      <td>0.585771</td>\n    </tr>\n    <tr>\n      <th>2001-01-05</th>\n      <td>20.566406</td>\n      <td>20.566406</td>\n      <td>20.566406</td>\n      <td>20.566406</td>\n      <td>0.0</td>\n      <td>0.585771</td>\n    </tr>\n  </tbody>\n</table>\n</div>"
     },
     "metadata": {},
     "execution_count": 13
    }
   ],
   "source": [
    "# By specifying `adjust_price=True`, `pandas_datareader` adjusts all prices (`Open`, `High`, `Low`, `Close`) based on `Adj Close` price. It also adds `Adj_Ratio` column and drops `Adj Close`.\n",
    "\n",
    "df_bmw_adj = pdr.get_data_yahoo(\"BMW.DE\", start=\"2001-01-01\", end=\"2021-02-01\", adjust_price=True)\n",
    "df_bmw_adj.head()"
   ]
  },
  {
   "cell_type": "code",
   "execution_count": 18,
   "metadata": {},
   "outputs": [
    {
     "output_type": "execute_result",
     "data": {
      "text/plain": [
       "Attributes Symbols  Adj_Ratio      Close       High        Low       Open  \\\n",
       "Date                                                                        \n",
       "2001-01-01  ADS.DE   0.749004  12.358573  12.358573  12.358573  12.358573   \n",
       "2001-01-01  BMW.DE   0.585771  20.443398  20.443398  20.443398  20.443398   \n",
       "2001-01-02  ADS.DE   0.749004  12.171323  12.208772  11.916661  11.974709   \n",
       "2001-01-02  BMW.DE   0.585771  20.191515  21.204898  20.004069  20.929585   \n",
       "2001-01-03  ADS.DE   0.749004  11.909169  11.944747  11.609568  11.892317   \n",
       "2001-01-03  BMW.DE   0.585771  20.226660  20.970589  18.978970  20.045072   \n",
       "2001-01-04  ADS.DE   0.749004  12.358573  12.639450  11.796820  12.077696   \n",
       "2001-01-04  BMW.DE   0.585771  20.566406  21.111173  19.799046  20.589838   \n",
       "2001-01-05  ADS.DE   0.749004  12.358573  12.358573  12.358573  12.358573   \n",
       "2001-01-05  BMW.DE   0.585771  20.566406  20.566406  20.566406  20.566406   \n",
       "\n",
       "Attributes     Volume  \n",
       "Date                   \n",
       "2001-01-01        0.0  \n",
       "2001-01-01        0.0  \n",
       "2001-01-02  1607584.0  \n",
       "2001-01-02   420631.0  \n",
       "2001-01-03   506560.0  \n",
       "2001-01-03  1593510.0  \n",
       "2001-01-04   894416.0  \n",
       "2001-01-04  1203012.0  \n",
       "2001-01-05        0.0  \n",
       "2001-01-05        0.0  "
      ],
      "text/html": "<div>\n<style scoped>\n    .dataframe tbody tr th:only-of-type {\n        vertical-align: middle;\n    }\n\n    .dataframe tbody tr th {\n        vertical-align: top;\n    }\n\n    .dataframe thead th {\n        text-align: right;\n    }\n</style>\n<table border=\"1\" class=\"dataframe\">\n  <thead>\n    <tr style=\"text-align: right;\">\n      <th>Attributes</th>\n      <th>Symbols</th>\n      <th>Adj_Ratio</th>\n      <th>Close</th>\n      <th>High</th>\n      <th>Low</th>\n      <th>Open</th>\n      <th>Volume</th>\n    </tr>\n    <tr>\n      <th>Date</th>\n      <th></th>\n      <th></th>\n      <th></th>\n      <th></th>\n      <th></th>\n      <th></th>\n      <th></th>\n    </tr>\n  </thead>\n  <tbody>\n    <tr>\n      <th>2001-01-01</th>\n      <td>ADS.DE</td>\n      <td>0.749004</td>\n      <td>12.358573</td>\n      <td>12.358573</td>\n      <td>12.358573</td>\n      <td>12.358573</td>\n      <td>0.0</td>\n    </tr>\n    <tr>\n      <th>2001-01-01</th>\n      <td>BMW.DE</td>\n      <td>0.585771</td>\n      <td>20.443398</td>\n      <td>20.443398</td>\n      <td>20.443398</td>\n      <td>20.443398</td>\n      <td>0.0</td>\n    </tr>\n    <tr>\n      <th>2001-01-02</th>\n      <td>ADS.DE</td>\n      <td>0.749004</td>\n      <td>12.171323</td>\n      <td>12.208772</td>\n      <td>11.916661</td>\n      <td>11.974709</td>\n      <td>1607584.0</td>\n    </tr>\n    <tr>\n      <th>2001-01-02</th>\n      <td>BMW.DE</td>\n      <td>0.585771</td>\n      <td>20.191515</td>\n      <td>21.204898</td>\n      <td>20.004069</td>\n      <td>20.929585</td>\n      <td>420631.0</td>\n    </tr>\n    <tr>\n      <th>2001-01-03</th>\n      <td>ADS.DE</td>\n      <td>0.749004</td>\n      <td>11.909169</td>\n      <td>11.944747</td>\n      <td>11.609568</td>\n      <td>11.892317</td>\n      <td>506560.0</td>\n    </tr>\n    <tr>\n      <th>2001-01-03</th>\n      <td>BMW.DE</td>\n      <td>0.585771</td>\n      <td>20.226660</td>\n      <td>20.970589</td>\n      <td>18.978970</td>\n      <td>20.045072</td>\n      <td>1593510.0</td>\n    </tr>\n    <tr>\n      <th>2001-01-04</th>\n      <td>ADS.DE</td>\n      <td>0.749004</td>\n      <td>12.358573</td>\n      <td>12.639450</td>\n      <td>11.796820</td>\n      <td>12.077696</td>\n      <td>894416.0</td>\n    </tr>\n    <tr>\n      <th>2001-01-04</th>\n      <td>BMW.DE</td>\n      <td>0.585771</td>\n      <td>20.566406</td>\n      <td>21.111173</td>\n      <td>19.799046</td>\n      <td>20.589838</td>\n      <td>1203012.0</td>\n    </tr>\n    <tr>\n      <th>2001-01-05</th>\n      <td>ADS.DE</td>\n      <td>0.749004</td>\n      <td>12.358573</td>\n      <td>12.358573</td>\n      <td>12.358573</td>\n      <td>12.358573</td>\n      <td>0.0</td>\n    </tr>\n    <tr>\n      <th>2001-01-05</th>\n      <td>BMW.DE</td>\n      <td>0.585771</td>\n      <td>20.566406</td>\n      <td>20.566406</td>\n      <td>20.566406</td>\n      <td>20.566406</td>\n      <td>0.0</td>\n    </tr>\n  </tbody>\n</table>\n</div>"
     },
     "metadata": {},
     "execution_count": 18
    }
   ],
   "source": [
    "# You may also download multiple stock data at the same time, though you need some pandas kung-fu to transform the shape of the dataframe:\n",
    "\n",
    "data = pdr.get_data_yahoo([\"ADS.DE\", \"BMW.DE\"], start=\"2001-01-01\", end=\"2021-02-01\", adjust_price=True)\n",
    "df_multi = data.stack(level=1).reset_index(level=1)\n",
    "df_multi.head(10)"
   ]
  },
  {
   "cell_type": "code",
   "execution_count": 22,
   "metadata": {},
   "outputs": [
    {
     "output_type": "execute_result",
     "data": {
      "text/plain": [
       "                 High        Low       Open      Close     Volume  Adj Close\n",
       "Date                                                                        \n",
       "2001-01-01  34.900002  34.900002  34.900002  34.900002        0.0  20.443398\n",
       "2001-01-02  36.200001  34.150002  35.730000  34.470001   420631.0  20.191515\n",
       "2001-01-03  35.799999  32.400002  34.220001  34.529999  1593510.0  20.226660\n",
       "2001-01-04  36.040001  33.799999  35.150002  35.110001  1203012.0  20.566406\n",
       "2001-01-05  35.110001  35.110001  35.110001  35.110001        0.0  20.566406\n",
       "2001-01-08  37.299999  36.400002  37.000000  37.500000  1178138.0  21.966396\n",
       "2001-01-09  37.000000  36.349998  37.000000  37.080002  1174091.0  21.720377\n",
       "2001-01-10  36.650002  36.000000  36.500000  36.000000   785169.0  21.087746\n",
       "2001-01-11  35.549999  34.049999  35.549999  34.849998  1313572.0  20.414104\n",
       "2001-01-12  36.000000  34.509998  34.549999  34.599998   903691.0  20.267664"
      ],
      "text/html": "<div>\n<style scoped>\n    .dataframe tbody tr th:only-of-type {\n        vertical-align: middle;\n    }\n\n    .dataframe tbody tr th {\n        vertical-align: top;\n    }\n\n    .dataframe thead th {\n        text-align: right;\n    }\n</style>\n<table border=\"1\" class=\"dataframe\">\n  <thead>\n    <tr style=\"text-align: right;\">\n      <th></th>\n      <th>High</th>\n      <th>Low</th>\n      <th>Open</th>\n      <th>Close</th>\n      <th>Volume</th>\n      <th>Adj Close</th>\n    </tr>\n    <tr>\n      <th>Date</th>\n      <th></th>\n      <th></th>\n      <th></th>\n      <th></th>\n      <th></th>\n      <th></th>\n    </tr>\n  </thead>\n  <tbody>\n    <tr>\n      <th>2001-01-01</th>\n      <td>34.900002</td>\n      <td>34.900002</td>\n      <td>34.900002</td>\n      <td>34.900002</td>\n      <td>0.0</td>\n      <td>20.443398</td>\n    </tr>\n    <tr>\n      <th>2001-01-02</th>\n      <td>36.200001</td>\n      <td>34.150002</td>\n      <td>35.730000</td>\n      <td>34.470001</td>\n      <td>420631.0</td>\n      <td>20.191515</td>\n    </tr>\n    <tr>\n      <th>2001-01-03</th>\n      <td>35.799999</td>\n      <td>32.400002</td>\n      <td>34.220001</td>\n      <td>34.529999</td>\n      <td>1593510.0</td>\n      <td>20.226660</td>\n    </tr>\n    <tr>\n      <th>2001-01-04</th>\n      <td>36.040001</td>\n      <td>33.799999</td>\n      <td>35.150002</td>\n      <td>35.110001</td>\n      <td>1203012.0</td>\n      <td>20.566406</td>\n    </tr>\n    <tr>\n      <th>2001-01-05</th>\n      <td>35.110001</td>\n      <td>35.110001</td>\n      <td>35.110001</td>\n      <td>35.110001</td>\n      <td>0.0</td>\n      <td>20.566406</td>\n    </tr>\n    <tr>\n      <th>2001-01-08</th>\n      <td>37.299999</td>\n      <td>36.400002</td>\n      <td>37.000000</td>\n      <td>37.500000</td>\n      <td>1178138.0</td>\n      <td>21.966396</td>\n    </tr>\n    <tr>\n      <th>2001-01-09</th>\n      <td>37.000000</td>\n      <td>36.349998</td>\n      <td>37.000000</td>\n      <td>37.080002</td>\n      <td>1174091.0</td>\n      <td>21.720377</td>\n    </tr>\n    <tr>\n      <th>2001-01-10</th>\n      <td>36.650002</td>\n      <td>36.000000</td>\n      <td>36.500000</td>\n      <td>36.000000</td>\n      <td>785169.0</td>\n      <td>21.087746</td>\n    </tr>\n    <tr>\n      <th>2001-01-11</th>\n      <td>35.549999</td>\n      <td>34.049999</td>\n      <td>35.549999</td>\n      <td>34.849998</td>\n      <td>1313572.0</td>\n      <td>20.414104</td>\n    </tr>\n    <tr>\n      <th>2001-01-12</th>\n      <td>36.000000</td>\n      <td>34.509998</td>\n      <td>34.549999</td>\n      <td>34.599998</td>\n      <td>903691.0</td>\n      <td>20.267664</td>\n    </tr>\n  </tbody>\n</table>\n</div>"
     },
     "metadata": {},
     "execution_count": 22
    }
   ],
   "source": [
    "# The following function can download and cache your requests for BMW historical price between 1/1/2001 and today from yahoo finance. `web.DataReader()` exposes limited parameters, therefore we can only get adjusted closing price:\n",
    "\n",
    "from datetime import timedelta, date\n",
    "import pandas_datareader.data as web\n",
    "import requests_cache\n",
    "\n",
    "def get_data(symbols, start=\"1/1/2001\", end=date.today()):  ##### 用这个来获取data！！！！！！！！！！\n",
    "    session = requests_cache.CachedSession(\n",
    "        cache_name=\"cache\", backend=\"sqlite\", expire_after=timedelta(days=1))\n",
    "    data = web.DataReader(symbols, \"yahoo\", start, end, session=session)\n",
    "    return data\n",
    "\n",
    "get_data(\"BMW.DE\").head(10)\n"
   ]
  },
  {
   "cell_type": "code",
   "execution_count": null,
   "metadata": {},
   "outputs": [],
   "source": []
  },
  {
   "cell_type": "code",
   "execution_count": null,
   "metadata": {},
   "outputs": [],
   "source": []
  },
  {
   "cell_type": "code",
   "execution_count": null,
   "metadata": {},
   "outputs": [],
   "source": []
  }
 ]
}
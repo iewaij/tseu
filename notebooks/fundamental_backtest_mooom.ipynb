{
 "cells": [
  {
   "cell_type": "code",
   "execution_count": 89,
   "metadata": {},
   "outputs": [],
   "source": [
    "from functools import reduce\n",
    "import numpy as np\n",
    "import pandas as pd\n",
    "from pandas.tseries.offsets import DateOffset\n",
    "from sklearn.preprocessing import StandardScaler\n",
    "from sklearn.ensemble import RandomForestRegressor\n",
    "from sklearn.ensemble import RandomForestClassifier\n",
    "from xgboost import XGBClassifier\n",
    "from xgboost import XGBRegressor\n",
    "from ta import add_all_ta_features\n",
    "pd.set_option(\"display.max_rows\", None)\n",
    "pd.set_option(\"display.max_columns\", None)\n",
    "pd.options.mode.chained_assignment = None\n",
    "np.seterr(divide=\"ignore\", invalid=\"ignore\")\n",
    "import warnings\n",
    "warnings.filterwarnings('ignore');"
   ]
  },
  {
   "cell_type": "code",
   "execution_count": 7,
   "metadata": {},
   "outputs": [],
   "source": [
    "df = pd.read_parquet(\"../data/compustat_ibes_raw_alpha.1.parquet\")"
   ]
  },
  {
   "cell_type": "markdown",
   "metadata": {},
   "source": [
    "## Mooomentums"
   ]
  },
  {
   "cell_type": "code",
   "execution_count": 163,
   "metadata": {},
   "outputs": [],
   "source": [
    "def extreme(df):\n",
    "    \"\"\"Retain the 20% values that are the smallest and the 20% that are the largest.\"\"\"\n",
    "    top = df.y.quantile(0.8)\n",
    "    low = df.y.quantile(0.2)\n",
    "    return df[(df.y < low) | (df.y > top)]"
   ]
  },
  {
   "cell_type": "code",
   "execution_count": 241,
   "metadata": {},
   "outputs": [],
   "source": [
    "def mooom(df):\n",
    "    \"\"\"\n",
    "    Mooom is a strategy that heavily relies on momentum.\n",
    "    It enriches dataframe with simple momentum and industrial momentum factors. \n",
    "    Returns will be substracted by a cross-sectional median.\n",
    "    \"\"\"\n",
    "    df_mom = df[[\"classification\",\n",
    "                 \"mcap\",\n",
    "                 \"act\",\n",
    "                 \"ceq\",\n",
    "                 \"cogs\",\n",
    "                 \"lct\",\n",
    "                 \"nicon\",\n",
    "                 \"revt\",\n",
    "                 \"xrd\",\n",
    "                 \"prccd\",\n",
    "                 \"close\"]]\n",
    "    df_mom[\"profitability_roe\"]=df_mom.nicon / df_mom.ceq\n",
    "    df_mom[\"intangible_rdm\"] = df_mom.xrd / df_mom.mcap\n",
    "    df_mom[\"liquid_cur\"] = df_mom.act / df_mom.lct\n",
    "    df_mom[\"market_pe\"] = df_mom.mcap / (df_mom.nicon * 10 ** 6)\n",
    "    df_mom[\"market_mb\"] = df_mom.mcap / (df_mom.ceq * 10 ** 6)\n",
    "    df_mom[\"52wk_high\"] = df_mom.groupby(\"gvkey\").close.transform(lambda x: np.log(x) - np.log(x.rolling(12, min_periods=1).max()))\n",
    "    df_mom[\"lag_mom\"] = df_mom.groupby(\"gvkey\").close.transform(lambda x: np.log(x.shift(12))-np.log(x.shift(2)))\n",
    "    df_mom[\"mom_11m\"] = df_mom.groupby(\"gvkey\").close.transform(lambda x: np.log(x) - np.log(x.shift(11)))\n",
    "    df_mom[\"mom_6m\"] = df_mom.groupby(\"gvkey\").close.transform(lambda x: np.log(x) - np.log(x.shift(6)))\n",
    "    df_mom[\"mom_1m\"] = df_mom.groupby(\"gvkey\").close.transform(lambda x: np.log(x) - np.log(x.shift(1)))\n",
    "    df_mom[\"ind_mom_11m\"] = df_mom.groupby([\"date\", \"classification\"]).mom_11m.transform(\"mean\")\n",
    "    df_mom[\"ind_mom_6m\"] = df_mom.groupby([\"date\", \"classification\"]).mom_6m.transform(\"mean\")\n",
    "    df_mom[\"ind_mom_1m\"] = df_mom.groupby([\"date\", \"classification\"]).mom_1m.transform(\"mean\")\n",
    "    df_mom[\"log_return\"] = df_mom.groupby(\"gvkey\").close.transform(lambda x: np.log(x.shift(-3)) - np.log(x))\n",
    "    df_mom[\"y\"] = df_mom.groupby(\"date\").log_return.transform(lambda x: x - x.median())\n",
    "    return df_mom.loc[df.prccd > 5, [\"mcap\",\n",
    "                                     \"profitability_roe\",\n",
    "                                     \"intangible_rdm\",\n",
    "                                     \"liquid_cur\",\n",
    "                                     \"market_mb\",\n",
    "                                     \"market_pe\",\n",
    "                                     \"52wk_high\",\n",
    "                                     \"lag_mom\",\n",
    "                                     \"mom_11m\",\n",
    "                                     \"mom_6m\",\n",
    "                                     \"mom_1m\",\n",
    "                                     \"ind_mom_11m\",\n",
    "                                     \"ind_mom_6m\",\n",
    "                                     \"ind_mom_1m\",\n",
    "                                     \"y\"]].dropna()"
   ]
  },
  {
   "cell_type": "code",
   "execution_count": 243,
   "metadata": {},
   "outputs": [
    {
     "name": "stdout",
     "output_type": "stream",
     "text": [
      "[20:02:10] WARNING: /Users/travis/build/dmlc/xgboost/src/learner.cc:1061: Starting in XGBoost 1.3.0, the default evaluation metric used with the objective 'multi:softprob' was changed from 'merror' to 'mlogloss'. Explicitly set eval_metric if you'd like to restore the old behavior.\n",
      "0.5921033255082683\n",
      "0.5594081323546546\n"
     ]
    }
   ],
   "source": [
    "df_mom = mooom(df)\n",
    "df_train = (df_mom.xs(slice(\"2002-01-01\", \"2012-01-01\"), level=\"date\", drop_level=False)\n",
    "            # .groupby(\"date\")\n",
    "            # .apply(extreme)\n",
    "            )\n",
    "df_test = df_mom.xs(slice(\"2012-01-01\", \"2016-01-01\"), level=\"date\", drop_level=False)\n",
    "X_train = df_train.drop([\"y\"], axis=1).to_numpy()\n",
    "y_train = df_train[\"y\"].to_numpy()\n",
    "X_test = df_test.drop([\"y\"], axis=1).to_numpy()\n",
    "y_test = df_test[\"y\"].to_numpy()\n",
    "\n",
    "xgb_clf = XGBClassifier(n_estimators=100, max_depth=3, n_jobs=-1)\n",
    "xgb_fit = xgb_clf.fit(X_train, np.sign(y_train))\n",
    "print(xgb_clf.score(X_train, np.sign(y_train)))\n",
    "print(xgb_clf.score(X_test, np.sign(y_test)))"
   ]
  },
  {
   "cell_type": "code",
   "execution_count": 154,
   "metadata": {},
   "outputs": [],
   "source": [
    "# backtest\n",
    "# every stock invest 100\n",
    "# every day invest top 10 predicted best performing stocks\n",
    "# collect return 7 days after\n",
    "# y_position = y_pred.grouby(\"date\").head(10)\n",
    "# y_return = y_position * y_test\n"
   ]
  }
 ],
 "metadata": {
  "kernelspec": {
   "display_name": "Python 3.8.7 64-bit ('quant': pyenv)",
   "name": "python387jvsc74a57bd06c4d53544fd442ed60c2caa64d39fbda392cb3a8c6227dbf35141831a3031a61"
  },
  "language_info": {
   "codemirror_mode": {
    "name": "ipython",
    "version": 3
   },
   "file_extension": ".py",
   "mimetype": "text/x-python",
   "name": "python",
   "nbconvert_exporter": "python",
   "pygments_lexer": "ipython3",
   "version": "3.8.7"
  },
  "orig_nbformat": 2
 },
 "nbformat": 4,
 "nbformat_minor": 2
}
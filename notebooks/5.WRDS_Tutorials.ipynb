{
 "metadata": {
  "language_info": {
   "codemirror_mode": {
    "name": "ipython",
    "version": 3
   },
   "file_extension": ".py",
   "mimetype": "text/x-python",
   "name": "python",
   "nbconvert_exporter": "python",
   "pygments_lexer": "ipython3",
   "version": "3.8.5-final"
  },
  "orig_nbformat": 2,
  "kernelspec": {
   "name": "python3",
   "display_name": "Python 3.8.5 64-bit ('base': conda)",
   "metadata": {
    "interpreter": {
     "hash": "ef5e7a481a0a3ea0d3b4f28929775359bcaa47dcbbabd1c4cf0f1cdb0452fc78"
    }
   }
  }
 },
 "nbformat": 4,
 "nbformat_minor": 2,
 "cells": [
  {
   "source": [
    "# Querying WRDS Data using Python\n",
    "https://wrds-www.wharton.upenn.edu/pages/support/programming-wrds/programming-python/querying-wrds-data-python/"
   ],
   "cell_type": "markdown",
   "metadata": {}
  },
  {
   "cell_type": "code",
   "execution_count": 1,
   "metadata": {},
   "outputs": [
    {
     "output_type": "stream",
     "name": "stdout",
     "text": [
      "Loading library list...\n",
      "Done\n"
     ]
    }
   ],
   "source": [
    "# 建立连接\n",
    "import wrds\n",
    "db = wrds.Connection(wrds_username='fanjia')"
   ]
  },
  {
   "cell_type": "code",
   "execution_count": 9,
   "metadata": {},
   "outputs": [
    {
     "output_type": "stream",
     "name": "stdout",
     "text": [
      "Help on method describe_table in module wrds.sql:\n\ndescribe_table(library, table) method of wrds.sql.Connection instance\n    Takes the library and the table and describes all the columns\n      in that table.\n    Includes Column Name, Column Type, Nullable?.\n    \n    :param library: Postgres schema name.\n    :param table: Postgres table name.\n    \n    :rtype: pandas.DataFrame\n    \n    Usage::\n    >>> db.describe_table('wrdssec_all', 'dforms')\n                name nullable     type\n          0      cik     True  VARCHAR\n          1    fdate     True     DATE\n          2  secdate     True     DATE\n          3     form     True  VARCHAR\n          4   coname     True  VARCHAR\n          5    fname     True  VARCHAR\n\n"
     ]
    }
   ],
   "source": [
    "# 使用help()方程或者inline documentation\n",
    "help(db.describe_table)"
   ]
  },
  {
   "cell_type": "code",
   "execution_count": 12,
   "metadata": {},
   "outputs": [
    {
     "output_type": "execute_result",
     "data": {
      "text/plain": [
       "        date    dji\n",
       "0 1896-05-26  40.94\n",
       "1 1896-05-27  40.58\n",
       "2 1896-05-28  40.20\n",
       "3 1896-05-29  40.63\n",
       "4 1896-06-01  40.60\n",
       "5 1896-06-02  40.04\n",
       "6 1896-06-03  39.77\n",
       "7 1896-06-04  39.94\n",
       "8 1896-06-05  40.32\n",
       "9 1896-06-08  39.81"
      ],
      "text/html": "<div>\n<style scoped>\n    .dataframe tbody tr th:only-of-type {\n        vertical-align: middle;\n    }\n\n    .dataframe tbody tr th {\n        vertical-align: top;\n    }\n\n    .dataframe thead th {\n        text-align: right;\n    }\n</style>\n<table border=\"1\" class=\"dataframe\">\n  <thead>\n    <tr style=\"text-align: right;\">\n      <th></th>\n      <th>date</th>\n      <th>dji</th>\n    </tr>\n  </thead>\n  <tbody>\n    <tr>\n      <th>0</th>\n      <td>1896-05-26</td>\n      <td>40.94</td>\n    </tr>\n    <tr>\n      <th>1</th>\n      <td>1896-05-27</td>\n      <td>40.58</td>\n    </tr>\n    <tr>\n      <th>2</th>\n      <td>1896-05-28</td>\n      <td>40.20</td>\n    </tr>\n    <tr>\n      <th>3</th>\n      <td>1896-05-29</td>\n      <td>40.63</td>\n    </tr>\n    <tr>\n      <th>4</th>\n      <td>1896-06-01</td>\n      <td>40.60</td>\n    </tr>\n    <tr>\n      <th>5</th>\n      <td>1896-06-02</td>\n      <td>40.04</td>\n    </tr>\n    <tr>\n      <th>6</th>\n      <td>1896-06-03</td>\n      <td>39.77</td>\n    </tr>\n    <tr>\n      <th>7</th>\n      <td>1896-06-04</td>\n      <td>39.94</td>\n    </tr>\n    <tr>\n      <th>8</th>\n      <td>1896-06-05</td>\n      <td>40.32</td>\n    </tr>\n    <tr>\n      <th>9</th>\n      <td>1896-06-08</td>\n      <td>39.81</td>\n    </tr>\n  </tbody>\n</table>\n</div>"
     },
     "metadata": {},
     "execution_count": 12
    }
   ],
   "source": [
    "# 先用少量data确认query正常工作，There are two ways of limiting the number of records (to say 10)\n",
    "\n",
    "# 法【1】\n",
    "#db.get_table('djones', 'djdaily', columns=['date', 'dji'], obs=10)\n",
    "\n",
    "# 法【2】\n",
    "db.raw_sql(\n",
    "    ''' \n",
    "    SELECT date,dji \n",
    "    FROM djones.djdaily \n",
    "    LIMIT 10;\n",
    "    ''', \n",
    "    date_cols=['date'])\n"
   ]
  },
  {
   "cell_type": "code",
   "execution_count": 21,
   "metadata": {},
   "outputs": [
    {
     "output_type": "stream",
     "name": "stdout",
     "text": [
      "Approximately 4696968 rows in crsp.msf.\n"
     ]
    },
    {
     "output_type": "execute_result",
     "data": {
      "text/plain": [
       "        name  nullable              type\n",
       "0      cusip      True           VARCHAR\n",
       "1     permno      True  DOUBLE PRECISION\n",
       "2     permco      True  DOUBLE PRECISION\n",
       "3     issuno      True  DOUBLE PRECISION\n",
       "4      hexcd      True  DOUBLE PRECISION\n",
       "5     hsiccd      True  DOUBLE PRECISION\n",
       "6       date      True              DATE\n",
       "7      bidlo      True  DOUBLE PRECISION\n",
       "8      askhi      True  DOUBLE PRECISION\n",
       "9        prc      True  DOUBLE PRECISION\n",
       "10       vol      True  DOUBLE PRECISION\n",
       "11       ret      True  DOUBLE PRECISION\n",
       "12       bid      True  DOUBLE PRECISION\n",
       "13       ask      True  DOUBLE PRECISION\n",
       "14    shrout      True  DOUBLE PRECISION\n",
       "15    cfacpr      True  DOUBLE PRECISION\n",
       "16   cfacshr      True  DOUBLE PRECISION\n",
       "17    altprc      True  DOUBLE PRECISION\n",
       "18    spread      True  DOUBLE PRECISION\n",
       "19  altprcdt      True              DATE\n",
       "20      retx      True  DOUBLE PRECISION"
      ],
      "text/html": "<div>\n<style scoped>\n    .dataframe tbody tr th:only-of-type {\n        vertical-align: middle;\n    }\n\n    .dataframe tbody tr th {\n        vertical-align: top;\n    }\n\n    .dataframe thead th {\n        text-align: right;\n    }\n</style>\n<table border=\"1\" class=\"dataframe\">\n  <thead>\n    <tr style=\"text-align: right;\">\n      <th></th>\n      <th>name</th>\n      <th>nullable</th>\n      <th>type</th>\n    </tr>\n  </thead>\n  <tbody>\n    <tr>\n      <th>0</th>\n      <td>cusip</td>\n      <td>True</td>\n      <td>VARCHAR</td>\n    </tr>\n    <tr>\n      <th>1</th>\n      <td>permno</td>\n      <td>True</td>\n      <td>DOUBLE PRECISION</td>\n    </tr>\n    <tr>\n      <th>2</th>\n      <td>permco</td>\n      <td>True</td>\n      <td>DOUBLE PRECISION</td>\n    </tr>\n    <tr>\n      <th>3</th>\n      <td>issuno</td>\n      <td>True</td>\n      <td>DOUBLE PRECISION</td>\n    </tr>\n    <tr>\n      <th>4</th>\n      <td>hexcd</td>\n      <td>True</td>\n      <td>DOUBLE PRECISION</td>\n    </tr>\n    <tr>\n      <th>5</th>\n      <td>hsiccd</td>\n      <td>True</td>\n      <td>DOUBLE PRECISION</td>\n    </tr>\n    <tr>\n      <th>6</th>\n      <td>date</td>\n      <td>True</td>\n      <td>DATE</td>\n    </tr>\n    <tr>\n      <th>7</th>\n      <td>bidlo</td>\n      <td>True</td>\n      <td>DOUBLE PRECISION</td>\n    </tr>\n    <tr>\n      <th>8</th>\n      <td>askhi</td>\n      <td>True</td>\n      <td>DOUBLE PRECISION</td>\n    </tr>\n    <tr>\n      <th>9</th>\n      <td>prc</td>\n      <td>True</td>\n      <td>DOUBLE PRECISION</td>\n    </tr>\n    <tr>\n      <th>10</th>\n      <td>vol</td>\n      <td>True</td>\n      <td>DOUBLE PRECISION</td>\n    </tr>\n    <tr>\n      <th>11</th>\n      <td>ret</td>\n      <td>True</td>\n      <td>DOUBLE PRECISION</td>\n    </tr>\n    <tr>\n      <th>12</th>\n      <td>bid</td>\n      <td>True</td>\n      <td>DOUBLE PRECISION</td>\n    </tr>\n    <tr>\n      <th>13</th>\n      <td>ask</td>\n      <td>True</td>\n      <td>DOUBLE PRECISION</td>\n    </tr>\n    <tr>\n      <th>14</th>\n      <td>shrout</td>\n      <td>True</td>\n      <td>DOUBLE PRECISION</td>\n    </tr>\n    <tr>\n      <th>15</th>\n      <td>cfacpr</td>\n      <td>True</td>\n      <td>DOUBLE PRECISION</td>\n    </tr>\n    <tr>\n      <th>16</th>\n      <td>cfacshr</td>\n      <td>True</td>\n      <td>DOUBLE PRECISION</td>\n    </tr>\n    <tr>\n      <th>17</th>\n      <td>altprc</td>\n      <td>True</td>\n      <td>DOUBLE PRECISION</td>\n    </tr>\n    <tr>\n      <th>18</th>\n      <td>spread</td>\n      <td>True</td>\n      <td>DOUBLE PRECISION</td>\n    </tr>\n    <tr>\n      <th>19</th>\n      <td>altprcdt</td>\n      <td>True</td>\n      <td>DATE</td>\n    </tr>\n    <tr>\n      <th>20</th>\n      <td>retx</td>\n      <td>True</td>\n      <td>DOUBLE PRECISION</td>\n    </tr>\n  </tbody>\n</table>\n</div>"
     },
     "metadata": {},
     "execution_count": 21
    }
   ],
   "source": [
    "######################## 看看Lib和Table内容 ########################\n",
    "# You can analyze the structure of the data through its metadata using the wrds module, as outlined in the following steps:\n",
    "\n",
    "# Alternatively, a comprehensive list of all WRDS libraries is available at the Dataset List(https://wrds-www.wharton.upenn.edu/pages/about/data-vendors/). This resource provides a listing of each library, their component datasets and variables, as well as a tabular database preview feature, and is helpful in establishing the structure of the data you're looking for in an easy manner from a Web browser.\n",
    "\n",
    "# [1] List all available libraries at WRDS:\n",
    "db.list_libraries()\n",
    "\n",
    "# [2] Select a library to work with, and list all available datasets within that library using:\n",
    "db.list_tables(library=\"crsp\")\n",
    "\n",
    "# [3] Select a dataset, and list all available variables (column headers) within that dataset using:\n",
    "db.describe_table(library=\"crsp\", table=\"msf\")\n",
    "\n",
    "# Where 'library' is a dataset such as crsp as returned from #1 above and 'table' is a component database within that library, such as msf, as returned from query #2 above. Remember that both the library and the dataset are case-sensitive, and must be all-lowercase.\n"
   ]
  },
  {
   "cell_type": "code",
   "execution_count": 30,
   "metadata": {},
   "outputs": [
    {
     "output_type": "execute_result",
     "data": {
      "text/plain": [
       "        date    dji\n",
       "0 1896-05-26  40.94\n",
       "1 1896-05-27  40.58\n",
       "2 1896-05-28  40.20\n",
       "3 1896-05-29  40.63\n",
       "4 1896-06-01  40.60\n",
       "5 1896-06-02  40.04\n",
       "6 1896-06-03  39.77\n",
       "7 1896-06-04  39.94\n",
       "8 1896-06-05  40.32\n",
       "9 1896-06-08  39.81"
      ],
      "text/html": "<div>\n<style scoped>\n    .dataframe tbody tr th:only-of-type {\n        vertical-align: middle;\n    }\n\n    .dataframe tbody tr th {\n        vertical-align: top;\n    }\n\n    .dataframe thead th {\n        text-align: right;\n    }\n</style>\n<table border=\"1\" class=\"dataframe\">\n  <thead>\n    <tr style=\"text-align: right;\">\n      <th></th>\n      <th>date</th>\n      <th>dji</th>\n    </tr>\n  </thead>\n  <tbody>\n    <tr>\n      <th>0</th>\n      <td>1896-05-26</td>\n      <td>40.94</td>\n    </tr>\n    <tr>\n      <th>1</th>\n      <td>1896-05-27</td>\n      <td>40.58</td>\n    </tr>\n    <tr>\n      <th>2</th>\n      <td>1896-05-28</td>\n      <td>40.20</td>\n    </tr>\n    <tr>\n      <th>3</th>\n      <td>1896-05-29</td>\n      <td>40.63</td>\n    </tr>\n    <tr>\n      <th>4</th>\n      <td>1896-06-01</td>\n      <td>40.60</td>\n    </tr>\n    <tr>\n      <th>5</th>\n      <td>1896-06-02</td>\n      <td>40.04</td>\n    </tr>\n    <tr>\n      <th>6</th>\n      <td>1896-06-03</td>\n      <td>39.77</td>\n    </tr>\n    <tr>\n      <th>7</th>\n      <td>1896-06-04</td>\n      <td>39.94</td>\n    </tr>\n    <tr>\n      <th>8</th>\n      <td>1896-06-05</td>\n      <td>40.32</td>\n    </tr>\n    <tr>\n      <th>9</th>\n      <td>1896-06-08</td>\n      <td>39.81</td>\n    </tr>\n  </tbody>\n</table>\n</div>"
     },
     "metadata": {},
     "execution_count": 30
    }
   ],
   "source": [
    "######################## Query Data ########################\n",
    "# Now that you know how to query the metadata and understand the structure of the data, you are ready to query WRDS data directly. The wrds module provides several methods that are useful in gathering data:\n",
    "\n",
    "# get_table() - fetches data by matching library and dataset, with the ability to filter using different parameters. This is the easiest method of accessing data. \n",
    "#data = db.get_table(library='djones', table='djdaily', columns=['date', 'dji'], obs=10)\n",
    "#data\n",
    "\n",
    "# raw_sql() - executes a SQL query against the specified library and dataset, allowing for highly-granular data queries.\n",
    "data = db.raw_sql(\n",
    "    '''\n",
    "    select date,dji \n",
    "    from djones.djdaily \n",
    "    LIMIT 10;  \n",
    "    ''', \n",
    "    date_cols=['date'])\n",
    "data\n",
    "# Notice the dot notation for the library and dataset. Unlike the other wrds methods, where library and table are specified separately, SQL queries instead use the two together to identify the data location. So, for example, a data query for the dataset msf within the library crsp would use the syntax crsp.msf, and the same goes for djones.djdaily.\n",
    "\n",
    "# get_row_count() - returns the number of rows in a given dataset.\n",
    "#data = db.get_row_count('djones', 'djdaily')\n",
    "#data"
   ]
  },
  {
   "cell_type": "code",
   "execution_count": 40,
   "metadata": {},
   "outputs": [
    {
     "output_type": "execute_result",
     "data": {
      "text/plain": [
       "    gvkey   datadate  tic                         conm        at        lt  \\\n",
       "0  006066 1962-12-31  IBM  INTL BUSINESS MACHINES CORP  2112.301   731.700   \n",
       "1  006066 1963-12-31  IBM  INTL BUSINESS MACHINES CORP  2373.857   782.119   \n",
       "2  006066 1964-12-31  IBM  INTL BUSINESS MACHINES CORP  3309.152  1055.072   \n",
       "3  006066 1965-12-31  IBM  INTL BUSINESS MACHINES CORP  3744.917  1166.771   \n",
       "4  006066 1966-12-31  IBM  INTL BUSINESS MACHINES CORP  4660.777  1338.149   \n",
       "\n",
       "        prccm  cshoq  \n",
       "0  389.999567    NaN  \n",
       "1  506.999353    NaN  \n",
       "2  409.499496    NaN  \n",
       "3  498.999146    NaN  \n",
       "4  371.499662    NaN  "
      ],
      "text/html": "<div>\n<style scoped>\n    .dataframe tbody tr th:only-of-type {\n        vertical-align: middle;\n    }\n\n    .dataframe tbody tr th {\n        vertical-align: top;\n    }\n\n    .dataframe thead th {\n        text-align: right;\n    }\n</style>\n<table border=\"1\" class=\"dataframe\">\n  <thead>\n    <tr style=\"text-align: right;\">\n      <th></th>\n      <th>gvkey</th>\n      <th>datadate</th>\n      <th>tic</th>\n      <th>conm</th>\n      <th>at</th>\n      <th>lt</th>\n      <th>prccm</th>\n      <th>cshoq</th>\n    </tr>\n  </thead>\n  <tbody>\n    <tr>\n      <th>0</th>\n      <td>006066</td>\n      <td>1962-12-31</td>\n      <td>IBM</td>\n      <td>INTL BUSINESS MACHINES CORP</td>\n      <td>2112.301</td>\n      <td>731.700</td>\n      <td>389.999567</td>\n      <td>NaN</td>\n    </tr>\n    <tr>\n      <th>1</th>\n      <td>006066</td>\n      <td>1963-12-31</td>\n      <td>IBM</td>\n      <td>INTL BUSINESS MACHINES CORP</td>\n      <td>2373.857</td>\n      <td>782.119</td>\n      <td>506.999353</td>\n      <td>NaN</td>\n    </tr>\n    <tr>\n      <th>2</th>\n      <td>006066</td>\n      <td>1964-12-31</td>\n      <td>IBM</td>\n      <td>INTL BUSINESS MACHINES CORP</td>\n      <td>3309.152</td>\n      <td>1055.072</td>\n      <td>409.499496</td>\n      <td>NaN</td>\n    </tr>\n    <tr>\n      <th>3</th>\n      <td>006066</td>\n      <td>1965-12-31</td>\n      <td>IBM</td>\n      <td>INTL BUSINESS MACHINES CORP</td>\n      <td>3744.917</td>\n      <td>1166.771</td>\n      <td>498.999146</td>\n      <td>NaN</td>\n    </tr>\n    <tr>\n      <th>4</th>\n      <td>006066</td>\n      <td>1966-12-31</td>\n      <td>IBM</td>\n      <td>INTL BUSINESS MACHINES CORP</td>\n      <td>4660.777</td>\n      <td>1338.149</td>\n      <td>371.499662</td>\n      <td>NaN</td>\n    </tr>\n  </tbody>\n</table>\n</div>"
     },
     "metadata": {},
     "execution_count": 40
    }
   ],
   "source": [
    "######################## Joining Data ########################\n",
    "# Data from separate datasets can be joined and analyzed together. The following example will join the Compustat Fundamentals data set (comp.funda) with Compustat's pricing dataset (comp.secm), and then query for total assets and liabilities mixed with monthly close price and shares outstanding.\n",
    "\n",
    "df = db.raw_sql(\n",
    "    '''\n",
    "    SELECT a.gvkey, a.datadate, a.tic, a.conm, \n",
    "           a.at, a.lt, b.prccm, b.cshoq \n",
    "    FROM comp.funda a join comp.secm b \n",
    "    ON a.gvkey = b.gvkey and a.datadate = b.datadate \n",
    "    WHERE a.tic = 'IBM' and a.datafmt = 'STD' and a.consol = 'C' and a.indfmt = 'INDL'\n",
    "    ''',\n",
    "    date_cols=[\"datadate\"])\n",
    "\n",
    "# The code joins both datasets using a common gvkey identifier and date, querying IBM with a frequency of one year, resulting in a result of 55 observations (as of 2017). Running joined queries between large datasets can require large amounts of memory and execution time. It is recommended you limit the scope of your queries to reasonable sizes when performing joins.\n",
    "\n",
    "df.head()"
   ]
  },
  {
   "cell_type": "code",
   "execution_count": 41,
   "metadata": {},
   "outputs": [
    {
     "output_type": "execute_result",
     "data": {
      "text/plain": [
       "       datadate   gvkey      cusip\n",
       "0    1982-10-31  002484  121579932\n",
       "1    1983-10-31  002484  121579932\n",
       "2    1984-10-31  002484  121579932\n",
       "3    1985-10-31  002484  121579932\n",
       "4    1986-10-31  002484  121579932\n",
       "..          ...     ...        ...\n",
       "208  2009-12-31  179519  61847Z002\n",
       "209  2010-12-31  179519  61847Z002\n",
       "210  2010-12-31  179519  61847Z002\n",
       "211  2011-12-31  179519  61847Z002\n",
       "212  2011-12-31  179519  61847Z002\n",
       "\n",
       "[213 rows x 3 columns]"
      ],
      "text/html": "<div>\n<style scoped>\n    .dataframe tbody tr th:only-of-type {\n        vertical-align: middle;\n    }\n\n    .dataframe tbody tr th {\n        vertical-align: top;\n    }\n\n    .dataframe thead th {\n        text-align: right;\n    }\n</style>\n<table border=\"1\" class=\"dataframe\">\n  <thead>\n    <tr style=\"text-align: right;\">\n      <th></th>\n      <th>datadate</th>\n      <th>gvkey</th>\n      <th>cusip</th>\n    </tr>\n  </thead>\n  <tbody>\n    <tr>\n      <th>0</th>\n      <td>1982-10-31</td>\n      <td>002484</td>\n      <td>121579932</td>\n    </tr>\n    <tr>\n      <th>1</th>\n      <td>1983-10-31</td>\n      <td>002484</td>\n      <td>121579932</td>\n    </tr>\n    <tr>\n      <th>2</th>\n      <td>1984-10-31</td>\n      <td>002484</td>\n      <td>121579932</td>\n    </tr>\n    <tr>\n      <th>3</th>\n      <td>1985-10-31</td>\n      <td>002484</td>\n      <td>121579932</td>\n    </tr>\n    <tr>\n      <th>4</th>\n      <td>1986-10-31</td>\n      <td>002484</td>\n      <td>121579932</td>\n    </tr>\n    <tr>\n      <th>...</th>\n      <td>...</td>\n      <td>...</td>\n      <td>...</td>\n    </tr>\n    <tr>\n      <th>208</th>\n      <td>2009-12-31</td>\n      <td>179519</td>\n      <td>61847Z002</td>\n    </tr>\n    <tr>\n      <th>209</th>\n      <td>2010-12-31</td>\n      <td>179519</td>\n      <td>61847Z002</td>\n    </tr>\n    <tr>\n      <th>210</th>\n      <td>2010-12-31</td>\n      <td>179519</td>\n      <td>61847Z002</td>\n    </tr>\n    <tr>\n      <th>211</th>\n      <td>2011-12-31</td>\n      <td>179519</td>\n      <td>61847Z002</td>\n    </tr>\n    <tr>\n      <th>212</th>\n      <td>2011-12-31</td>\n      <td>179519</td>\n      <td>61847Z002</td>\n    </tr>\n  </tbody>\n</table>\n<p>213 rows × 3 columns</p>\n</div>"
     },
     "metadata": {},
     "execution_count": 41
    }
   ],
   "source": [
    "######################## Parameterize Data ########################\n",
    "# The raw_sql() method now also supports parameterized SQL, allowing you to pass variables or lists from elsewhere in your Python code to your SQL statement. This is great for large lists of company codes or identifiers, or an array of specific trading days. Here is an example where a dictionary of tickers is passed through to a raw_sql() SQL statement:\n",
    "\n",
    "parm = {'tickers': ('0015B', '0030B', '0032A', '0033A', '0038A')}\n",
    "df = db.raw_sql(\n",
    "    '''\n",
    "    SELECT datadate,gvkey,cusip \n",
    "    FROM comp.funda \n",
    "    WHERE tic in %(tickers)s''', \n",
    "    params=parm)\n",
    "\n",
    "# This allows for a great deal of flexibility in terms of your SQL queries. Common use cases might include building out a list of tickers, CUSIPS, etc programmatically or from an external file; re-using the same code list over multiple queries that adjust other parameters, such as date range; or matching based on specified trading days.\n",
    "\n",
    "df\n",
    "\n"
   ]
  },
  {
   "source": [
    "# Example Python Data Workflow\n",
    "https://wrds-www.wharton.upenn.edu/pages/support/programming-wrds/programming-python/python-example-data-workflow/"
   ],
   "cell_type": "markdown",
   "metadata": {}
  },
  {
   "cell_type": "code",
   "execution_count": null,
   "metadata": {},
   "outputs": [],
   "source": []
  },
  {
   "cell_type": "code",
   "execution_count": null,
   "metadata": {},
   "outputs": [],
   "source": []
  },
  {
   "cell_type": "code",
   "execution_count": null,
   "metadata": {},
   "outputs": [],
   "source": []
  },
  {
   "cell_type": "code",
   "execution_count": null,
   "metadata": {},
   "outputs": [],
   "source": []
  }
 ]
}
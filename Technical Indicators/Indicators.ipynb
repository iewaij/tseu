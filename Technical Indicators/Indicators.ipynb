{
 "cells": [
  {
   "cell_type": "code",
   "execution_count": 1,
   "metadata": {},
   "outputs": [],
   "source": [
    "import pandas as pd\n",
    "from ta import add_all_ta_features\n",
    "from ta.utils import dropna"
   ]
  },
  {
   "cell_type": "code",
   "execution_count": 2,
   "metadata": {},
   "outputs": [],
   "source": [
    "import pandas_datareader as pdr\n",
    "df_bmw = pdr.get_data_yahoo(\"BMW.DE\", start=\"2001-01-01\", end=\"2021-02-01\",adjust_price=True)"
   ]
  },
  {
   "cell_type": "code",
   "execution_count": 3,
   "metadata": {},
   "outputs": [],
   "source": [
    "# Awesome Oscilator\n",
    "\n",
    "from ta.momentum import AwesomeOscillatorIndicator\n",
    "AwesomeOscillator = AwesomeOscillatorIndicator(high=df_bmw[\"High\"],low=df_bmw[\"Low\"],window1 = 5,window2 =34)\n",
    "df_bmw['AwesomeOscillator'] = AwesomeOscillator.awesome_oscillator()"
   ]
  },
  {
   "cell_type": "code",
   "execution_count": 4,
   "metadata": {},
   "outputs": [],
   "source": [
    "# KAMA Indicator\n",
    "\n",
    "from ta.momentum import KAMAIndicator\n",
    "KAMA = KAMAIndicator(close = df_bmw[\"Close\"],window = 10,pow1 = 2, pow2 = 30)\n",
    "df_bmw['KAMA'] = KAMA.kama()"
   ]
  },
  {
   "cell_type": "code",
   "execution_count": 5,
   "metadata": {},
   "outputs": [],
   "source": [
    "# Percentage Price Oscilator\n",
    "\n",
    "from ta.momentum import PercentagePriceOscillator\n",
    "PPO = PercentagePriceOscillator(close = df_bmw[\"Close\"],window_slow = 26, window_fast = 12, window_sign = 9)\n",
    "df_bmw['PPO Oscilator Line'] = PPO.ppo()\n",
    "df_bmw['PPO Signal Line'] = PPO.ppo_signal()"
   ]
  },
  {
   "cell_type": "code",
   "execution_count": 6,
   "metadata": {},
   "outputs": [],
   "source": [
    "# Rate of Change\n",
    "\n",
    "from ta.momentum import ROCIndicator\n",
    "ROCI = ROCIndicator(close=df_bmw[\"Close\"],window=12)\n",
    "df_bmw[\"ROCI\"] = ROCI.roc()"
   ]
  },
  {
   "cell_type": "code",
   "execution_count": 7,
   "metadata": {},
   "outputs": [],
   "source": [
    "# Relative Strength Indicator\n",
    "\n",
    "from ta.momentum import RSIIndicator\n",
    "RSI = RSIIndicator(close=df_bmw[\"Close\"],window = 14)\n",
    "df_bmw[\"RSI\"] = RSI.rsi()"
   ]
  },
  {
   "cell_type": "code",
   "execution_count": 8,
   "metadata": {},
   "outputs": [],
   "source": [
    "# Ultimate Oscilator \n",
    "\n",
    "from ta.momentum import UltimateOscillator\n",
    "UO = UltimateOscillator(high = df_bmw[\"High\"] , low = df_bmw[\"Low\"],close = df_bmw[\"Close\"],window1=7,window2=14,window3=28,weight1=4.0,weight2=2.0,weight3=1.0)\n",
    "df_bmw['Ultimate Oscilator'] = UO.ultimate_oscillator()"
   ]
  },
  {
   "cell_type": "code",
   "execution_count": 9,
   "metadata": {},
   "outputs": [],
   "source": [
    "# Accumulation/Distribution Index\n",
    "\n",
    "from ta.volume import AccDistIndexIndicator\n",
    "ADI = AccDistIndexIndicator(high = df_bmw[\"High\"], low = df_bmw[\"Low\"], close= df_bmw[\"Close\"], volume = df_bmw[\"Volume\"])\n",
    "df_bmw['ADI'] = ADI.acc_dist_index()"
   ]
  },
  {
   "cell_type": "code",
   "execution_count": 10,
   "metadata": {},
   "outputs": [],
   "source": [
    "# ChaikinMoneyFlowIndicator\n",
    "\n",
    "from ta.volume import ChaikinMoneyFlowIndicator\n",
    "Chaikin = ChaikinMoneyFlowIndicator(high = df_bmw[\"High\"], low = df_bmw[\"Low\"], close= df_bmw[\"Close\"],volume=df_bmw[\"Volume\"],window = 20)\n",
    "df_bmw[\"Chaikin\"] = Chaikin.chaikin_money_flow()"
   ]
  },
  {
   "cell_type": "code",
   "execution_count": 11,
   "metadata": {},
   "outputs": [],
   "source": [
    "# Ease of Movement\n",
    "\n",
    "from ta.volume import EaseOfMovementIndicator\n",
    "EOM = EaseOfMovementIndicator(high = df_bmw[\"High\"], low = df_bmw[\"Low\"],volume=df_bmw[\"Volume\"],window = 14)\n",
    "df_bmw[\"EOM\"] = EOM.ease_of_movement()\n",
    "df_bmw[\"EOM Signal\"] = EOM.sma_ease_of_movement()"
   ]
  },
  {
   "cell_type": "code",
   "execution_count": 12,
   "metadata": {},
   "outputs": [],
   "source": [
    "# Force Index \n",
    "\n",
    "from ta.volume import ForceIndexIndicator\n",
    "FII = ForceIndexIndicator(close = df_bmw[\"Close\"],volume = df_bmw[\"Volume\"], window = 13)\n",
    "df_bmw[\"FII\"] = FII.force_index()"
   ]
  },
  {
   "cell_type": "code",
   "execution_count": 13,
   "metadata": {},
   "outputs": [],
   "source": [
    "# Money Flow Index\n",
    "\n",
    "from ta.volume import MFIIndicator\n",
    "MFI = MFIIndicator(high = df_bmw[\"High\"], low = df_bmw[\"Low\"],close = df_bmw[\"Close\"],volume = df_bmw[\"Volume\"],window = 14)\n",
    "df_bmw[\"MFI\"] = MFI.money_flow_index()"
   ]
  },
  {
   "cell_type": "code",
   "execution_count": 14,
   "metadata": {},
   "outputs": [],
   "source": [
    "# Volume Price Trend Indicator\n",
    "\n",
    "from ta.volume import VolumePriceTrendIndicator\n",
    "VPT = VolumePriceTrendIndicator(close = df_bmw[\"Close\"],volume = df_bmw[\"Volume\"])\n",
    "df_bmw[\"VPT\"] = VPT.volume_price_trend()"
   ]
  },
  {
   "cell_type": "code",
   "execution_count": 15,
   "metadata": {},
   "outputs": [],
   "source": [
    "# Bollinger Bands\n",
    "\n",
    "from ta.volatility import BollingerBands\n",
    "BB = BollingerBands(close = df_bmw[\"Close\"],window = 20, window_dev = 2)\n",
    "df_bmw[\"BB_high\"] = BB.bollinger_hband()\n",
    "df_bmw[\"BB high Ind\"] = BB.bollinger_hband_indicator()\n",
    "df_bmw[\"BB low\"] = BB.bollinger_lband()\n",
    "df_bmw[\"BB low Ind\"] = BB.bollinger_lband_indicator()"
   ]
  },
  {
   "cell_type": "code",
   "execution_count": 16,
   "metadata": {},
   "outputs": [],
   "source": [
    "# Donchian Channel\n",
    "\n",
    "from ta.volatility import DonchianChannel\n",
    "Donchian = DonchianChannel(high = df_bmw[\"High\"],low = df_bmw[\"Low\"],close = df_bmw[\"Close\"], window = 20 , offset = 0)\n",
    "df_bmw[\"Donchian High\"] = Donchian.donchian_channel_hband()\n",
    "df_bmw[\"Donchian Low\"] = Donchian.donchian_channel_lband()\n",
    "df_bmw[\"Donchian Mid\"] = Donchian.donchian_channel_mband()\n",
    "df_bmw[\"Donchian Perc\"] = Donchian.donchian_channel_pband()\n",
    "df_bmw[\"Donchian BandWidth\"] = Donchian.donchian_channel_wband()"
   ]
  },
  {
   "cell_type": "code",
   "execution_count": 17,
   "metadata": {},
   "outputs": [],
   "source": [
    "# Ulcer Index\n",
    "\n",
    "from ta.volatility import UlcerIndex\n",
    "Ulcer = UlcerIndex(close = df_bmw[\"Close\"], window = 14)\n",
    "df_bmw[\"Ulcer\"] = Ulcer.ulcer_index()"
   ]
  },
  {
   "cell_type": "code",
   "execution_count": 18,
   "metadata": {},
   "outputs": [],
   "source": [
    "# Keltner Channel\n",
    "\n",
    "from ta.volatility import KeltnerChannel\n",
    "KC = KeltnerChannel(high = df_bmw[\"High\"],low = df_bmw[\"Low\"],close = df_bmw[\"Close\"], window = 20, window_atr = 10,original_version = False)\n",
    "df_bmw[\"KC High Band\"] = KC.keltner_channel_hband()\n",
    "df_bmw[\"KC High Band Indic\"] = KC.keltner_channel_hband_indicator()\n",
    "df_bmw[\"KC Low Band\"] = KC.keltner_channel_lband()\n",
    "df_bmw[\"KC Low Band Indicator\"] = KC.keltner_channel_lband_indicator()\n",
    "df_bmw[\"KC Mid Band\"] = KC.keltner_channel_mband()\n",
    "df_bmw[\"KC P Band\"] = KC.keltner_channel_pband()\n",
    "df_bmw[\"KC Band Width\"] = KC.keltner_channel_wband()"
   ]
  },
  {
   "cell_type": "code",
   "execution_count": 19,
   "metadata": {},
   "outputs": [
    {
     "name": "stderr",
     "output_type": "stream",
     "text": [
      "C:\\Users\\Strahinja\\anaconda3\\envs\\Data_analytics_project\\lib\\site-packages\\ta\\trend.py:768: RuntimeWarning: invalid value encountered in double_scalars\n",
      "  dip[i] = 100 * (self._dip[i] / self._trs[i])\n",
      "C:\\Users\\Strahinja\\anaconda3\\envs\\Data_analytics_project\\lib\\site-packages\\ta\\trend.py:772: RuntimeWarning: invalid value encountered in double_scalars\n",
      "  din[i] = 100 * (self._din[i] / self._trs[i])\n"
     ]
    }
   ],
   "source": [
    "# Average Direction of Movement Index\n",
    "\n",
    "from ta.trend import ADXIndicator\n",
    "ADX = ADXIndicator(high = df_bmw[\"High\"],low = df_bmw[\"Low\"],close = df_bmw[\"Close\"],window = 14)\n",
    "df_bmw[\"ADX Short\"] = ADX.adx()\n",
    "df_bmw[\"ADX Negative\"] = ADX.adx_neg()\n",
    "df_bmw[\"ADX Postivie\"] = ADX.adx_pos()"
   ]
  },
  {
   "cell_type": "code",
   "execution_count": 20,
   "metadata": {},
   "outputs": [],
   "source": [
    "# Aroon Indicator\n",
    "\n",
    "from ta.trend import AroonIndicator\n",
    "Aroon = AroonIndicator(close = df_bmw[\"Close\"],window = 25)\n",
    "df_bmw[\"Aroon DownChannel\"] = Aroon.aroon_down()\n",
    "df_bmw[\"Aroon Indicator\"] = Aroon.aroon_indicator()\n",
    "df_bmw[\"Aroon UpChannel\"] = Aroon.aroon_up()"
   ]
  },
  {
   "cell_type": "code",
   "execution_count": 21,
   "metadata": {},
   "outputs": [],
   "source": [
    "# Exponantial Moving Average\n",
    "\n",
    "from ta.trend import EMAIndicator\n",
    "EMA14 = EMAIndicator(close = df_bmw[\"Close\"],window = 14)\n",
    "EMA25 = EMAIndicator(close = df_bmw[\"Close\"],window = 25)\n",
    "EMA40 = EMAIndicator(close = df_bmw[\"Close\"],window = 40)\n",
    "EMA50 = EMAIndicator(close = df_bmw[\"Close\"],window = 50)\n",
    "EMA100 = EMAIndicator(close = df_bmw[\"Close\"],window = 100)\n",
    "\n",
    "df_bmw[\"EMA 14\"] = EMA14.ema_indicator()\n",
    "df_bmw[\"EMA 25\"] = EMA25.ema_indicator()\n",
    "df_bmw[\"EMA 40\"] = EMA40.ema_indicator()\n",
    "df_bmw[\"EMA 50\"] = EMA50.ema_indicator()\n",
    "df_bmw[\"EMA 100\"] = EMA100.ema_indicator()"
   ]
  },
  {
   "cell_type": "code",
   "execution_count": 22,
   "metadata": {},
   "outputs": [],
   "source": [
    "# Moving Average Convergance Divergence\n",
    "\n",
    "from ta.trend import MACD\n",
    "MACD = MACD(close = df_bmw[\"Close\"],window_slow = 26,window_fast = 12,window_sign=9)\n",
    "df_bmw[\"MACD\"] = MACD.macd()\n",
    "df_bmw[\"MACD Signal\"] = MACD.macd_signal()"
   ]
  },
  {
   "cell_type": "code",
   "execution_count": 23,
   "metadata": {},
   "outputs": [],
   "source": [
    "# Mass Index\n",
    "\n",
    "from ta.trend import MassIndex\n",
    "Mass = MassIndex(high = df_bmw[\"High\"],low = df_bmw[\"Low\"], window_fast = 9,window_slow = 25)\n",
    "df_bmw[\"Mass Index\"] = Mass.mass_index()"
   ]
  },
  {
   "cell_type": "code",
   "execution_count": null,
   "metadata": {},
   "outputs": [],
   "source": []
  }
 ],
 "metadata": {
  "kernelspec": {
   "display_name": "Python 3",
   "language": "python",
   "name": "python3"
  },
  "language_info": {
   "codemirror_mode": {
    "name": "ipython",
    "version": 3
   },
   "file_extension": ".py",
   "mimetype": "text/x-python",
   "name": "python",
   "nbconvert_exporter": "python",
   "pygments_lexer": "ipython3",
   "version": "3.8.5"
  }
 },
 "nbformat": 4,
 "nbformat_minor": 4
}

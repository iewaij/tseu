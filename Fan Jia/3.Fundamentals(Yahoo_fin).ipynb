{
 "metadata": {
  "language_info": {
   "codemirror_mode": {
    "name": "ipython",
    "version": 3
   },
   "file_extension": ".py",
   "mimetype": "text/x-python",
   "name": "python",
   "nbconvert_exporter": "python",
   "pygments_lexer": "ipython3",
   "version": "3.8.5-final"
  },
  "orig_nbformat": 2,
  "kernelspec": {
   "name": "python3",
   "display_name": "Python 3.8.5 64-bit ('base': conda)",
   "metadata": {
    "interpreter": {
     "hash": "ef5e7a481a0a3ea0d3b4f28929775359bcaa47dcbbabd1c4cf0f1cdb0452fc78"
    }
   }
  }
 },
 "nbformat": 4,
 "nbformat_minor": 2,
 "cells": [
  {
   "source": [
    "# YAHOO_FIN\n",
    "http://theautomatic.net/yahoo_fin-documentation/#get_earnings_in_date_range"
   ],
   "cell_type": "markdown",
   "metadata": {}
  },
  {
   "cell_type": "code",
   "execution_count": 2,
   "metadata": {},
   "outputs": [],
   "source": [
    "# Imoprt yahoo_fin\n",
    "import pandas as pd\n",
    "import yahoo_fin.stock_info as si "
   ]
  },
  {
   "cell_type": "code",
   "execution_count": 3,
   "metadata": {},
   "outputs": [
    {
     "output_type": "execute_result",
     "data": {
      "text/plain": [
       "{'1y Target Est': 151.75,\n",
       " '52 Week Range': '53.15 - 145.09',\n",
       " 'Ask': '121.76 x 1100',\n",
       " 'Avg. Volume': 107597034.0,\n",
       " 'Beta (5Y Monthly)': 1.27,\n",
       " 'Bid': '121.69 x 1400',\n",
       " \"Day's Range\": '121.20 - 124.85',\n",
       " 'EPS (TTM)': 3.69,\n",
       " 'Earnings Date': 'Apr 28, 2021 - May 03, 2021',\n",
       " 'Ex-Dividend Date': 'Feb 05, 2021',\n",
       " 'Forward Dividend & Yield': '0.82 (0.68%)',\n",
       " 'Market Cap': '2.036T',\n",
       " 'Open': 122.59,\n",
       " 'PE Ratio (TTM)': 32.89,\n",
       " 'Previous Close': 120.99,\n",
       " 'Quote Price': 121.26000213623047,\n",
       " 'Volume': 164560045.0}"
      ]
     },
     "metadata": {},
     "execution_count": 3
    }
   ],
   "source": [
    "# Extract the data found on the summary page of a stock\n",
    "quote = si.get_quote_table(\"aapl\")\n",
    "quote"
   ]
  },
  {
   "cell_type": "code",
   "execution_count": 4,
   "metadata": {},
   "outputs": [
    {
     "output_type": "execute_result",
     "data": {
      "text/plain": [
       "32.89"
      ]
     },
     "metadata": {},
     "execution_count": 4
    }
   ],
   "source": [
    "# pull the P/E ratio from the dictionary that is returned\n",
    "quote[\"PE Ratio (TTM)\"]"
   ]
  },
  {
   "cell_type": "code",
   "execution_count": 10,
   "metadata": {},
   "outputs": [
    {
     "output_type": "execute_result",
     "data": {
      "text/plain": [
       "                     Attribute Recent\n",
       "0      Market Cap (intraday) 5  2.04T\n",
       "1           Enterprise Value 3  2.07T\n",
       "2                 Trailing P/E  32.89\n",
       "3                Forward P/E 1  25.91\n",
       "4  PEG Ratio (5 yr expected) 1   2.02\n",
       "5            Price/Sales (ttm)   6.92\n",
       "6             Price/Book (mrq)  30.81\n",
       "7   Enterprise Value/Revenue 3   7.04\n",
       "8    Enterprise Value/EBITDA 6  24.32"
      ],
      "text/html": "<div>\n<style scoped>\n    .dataframe tbody tr th:only-of-type {\n        vertical-align: middle;\n    }\n\n    .dataframe tbody tr th {\n        vertical-align: top;\n    }\n\n    .dataframe thead th {\n        text-align: right;\n    }\n</style>\n<table border=\"1\" class=\"dataframe\">\n  <thead>\n    <tr style=\"text-align: right;\">\n      <th></th>\n      <th>Attribute</th>\n      <th>Recent</th>\n    </tr>\n  </thead>\n  <tbody>\n    <tr>\n      <th>0</th>\n      <td>Market Cap (intraday) 5</td>\n      <td>2.04T</td>\n    </tr>\n    <tr>\n      <th>1</th>\n      <td>Enterprise Value 3</td>\n      <td>2.07T</td>\n    </tr>\n    <tr>\n      <th>2</th>\n      <td>Trailing P/E</td>\n      <td>32.89</td>\n    </tr>\n    <tr>\n      <th>3</th>\n      <td>Forward P/E 1</td>\n      <td>25.91</td>\n    </tr>\n    <tr>\n      <th>4</th>\n      <td>PEG Ratio (5 yr expected) 1</td>\n      <td>2.02</td>\n    </tr>\n    <tr>\n      <th>5</th>\n      <td>Price/Sales (ttm)</td>\n      <td>6.92</td>\n    </tr>\n    <tr>\n      <th>6</th>\n      <td>Price/Book (mrq)</td>\n      <td>30.81</td>\n    </tr>\n    <tr>\n      <th>7</th>\n      <td>Enterprise Value/Revenue 3</td>\n      <td>7.04</td>\n    </tr>\n    <tr>\n      <th>8</th>\n      <td>Enterprise Value/EBITDA 6</td>\n      <td>24.32</td>\n    </tr>\n  </tbody>\n</table>\n</div>"
     },
     "metadata": {},
     "execution_count": 10
    }
   ],
   "source": [
    "# A company’s P/E ratio can also be extracted from the get_stats_valuation method. \n",
    "val = si.get_stats_valuation(\"aapl\")\n",
    "val = val.iloc[:,:2]\n",
    "val.columns = [\"Attribute\", \"Recent\"]\n",
    "val"
   ]
  },
  {
   "cell_type": "code",
   "execution_count": 14,
   "metadata": {},
   "outputs": [
    {
     "output_type": "stream",
     "name": "stdout",
     "text": [
      "32.89\n6.92\n"
     ]
    }
   ],
   "source": [
    "# extract the P/E and P/S ratio\n",
    "print(float(val[val.Attribute.str.contains(\"Trailing P/E\")].iloc[0,1]))\n",
    "print(float(val[val.Attribute.str.contains(\"Price/Sales\")].iloc[0,1]))"
   ]
  },
  {
   "cell_type": "code",
   "execution_count": 15,
   "metadata": {},
   "outputs": [],
   "source": [
    "# We could also do things above for a custom list of tickers as well\n",
    "# get list of Dow tickers\n",
    "dow_list = si.tickers_dow()\n",
    " \n",
    " \n",
    "# Get data in the current column for each stock's valuation table\n",
    "dow_stats = {}\n",
    "for ticker in dow_list:\n",
    "    temp = si.get_stats_valuation(ticker)\n",
    "    temp = temp.iloc[:,:2]\n",
    "    temp.columns = [\"Attribute\", \"Recent\"]\n",
    " \n",
    "    dow_stats[ticker] = temp\n",
    " \n",
    " \n",
    "# combine all the stats valuation tables into a single data frame\n",
    "combined_stats = pd.concat(dow_stats)\n",
    "combined_stats = combined_stats.reset_index()\n",
    " \n",
    "del combined_stats[\"level_1\"]\n",
    " \n",
    "# update column names\n",
    "combined_stats.columns = [\"Ticker\", \"Attribute\", \"Recent\"]"
   ]
  },
  {
   "cell_type": "code",
   "execution_count": 16,
   "metadata": {},
   "outputs": [
    {
     "output_type": "execute_result",
     "data": {
      "text/plain": [
       "    Ticker                    Attribute Recent\n",
       "0     AAPL      Market Cap (intraday) 5  2.04T\n",
       "1     AAPL           Enterprise Value 3  2.07T\n",
       "2     AAPL                 Trailing P/E  32.89\n",
       "3     AAPL                Forward P/E 1  25.91\n",
       "4     AAPL  PEG Ratio (5 yr expected) 1   2.02\n",
       "..     ...                          ...    ...\n",
       "265    WMT  PEG Ratio (5 yr expected) 1   4.28\n",
       "266    WMT            Price/Sales (ttm)   0.66\n",
       "267    WMT             Price/Book (mrq)   4.52\n",
       "268    WMT   Enterprise Value/Revenue 3   0.75\n",
       "269    WMT    Enterprise Value/EBITDA 6  12.29\n",
       "\n",
       "[270 rows x 3 columns]"
      ],
      "text/html": "<div>\n<style scoped>\n    .dataframe tbody tr th:only-of-type {\n        vertical-align: middle;\n    }\n\n    .dataframe tbody tr th {\n        vertical-align: top;\n    }\n\n    .dataframe thead th {\n        text-align: right;\n    }\n</style>\n<table border=\"1\" class=\"dataframe\">\n  <thead>\n    <tr style=\"text-align: right;\">\n      <th></th>\n      <th>Ticker</th>\n      <th>Attribute</th>\n      <th>Recent</th>\n    </tr>\n  </thead>\n  <tbody>\n    <tr>\n      <th>0</th>\n      <td>AAPL</td>\n      <td>Market Cap (intraday) 5</td>\n      <td>2.04T</td>\n    </tr>\n    <tr>\n      <th>1</th>\n      <td>AAPL</td>\n      <td>Enterprise Value 3</td>\n      <td>2.07T</td>\n    </tr>\n    <tr>\n      <th>2</th>\n      <td>AAPL</td>\n      <td>Trailing P/E</td>\n      <td>32.89</td>\n    </tr>\n    <tr>\n      <th>3</th>\n      <td>AAPL</td>\n      <td>Forward P/E 1</td>\n      <td>25.91</td>\n    </tr>\n    <tr>\n      <th>4</th>\n      <td>AAPL</td>\n      <td>PEG Ratio (5 yr expected) 1</td>\n      <td>2.02</td>\n    </tr>\n    <tr>\n      <th>...</th>\n      <td>...</td>\n      <td>...</td>\n      <td>...</td>\n    </tr>\n    <tr>\n      <th>265</th>\n      <td>WMT</td>\n      <td>PEG Ratio (5 yr expected) 1</td>\n      <td>4.28</td>\n    </tr>\n    <tr>\n      <th>266</th>\n      <td>WMT</td>\n      <td>Price/Sales (ttm)</td>\n      <td>0.66</td>\n    </tr>\n    <tr>\n      <th>267</th>\n      <td>WMT</td>\n      <td>Price/Book (mrq)</td>\n      <td>4.52</td>\n    </tr>\n    <tr>\n      <th>268</th>\n      <td>WMT</td>\n      <td>Enterprise Value/Revenue 3</td>\n      <td>0.75</td>\n    </tr>\n    <tr>\n      <th>269</th>\n      <td>WMT</td>\n      <td>Enterprise Value/EBITDA 6</td>\n      <td>12.29</td>\n    </tr>\n  </tbody>\n</table>\n<p>270 rows × 3 columns</p>\n</div>"
     },
     "metadata": {},
     "execution_count": 16
    }
   ],
   "source": [
    "combined_stats"
   ]
  },
  {
   "cell_type": "code",
   "execution_count": 19,
   "metadata": {},
   "outputs": [
    {
     "output_type": "execute_result",
     "data": {
      "text/plain": [
       "   Ticker     Attribute Recent\n",
       "2    AAPL  Trailing P/E  32.89\n",
       "11   AMGN  Trailing P/E  18.27\n",
       "20    AXP  Trailing P/E  35.88\n",
       "29     BA  Trailing P/E    NaN\n",
       "38    CAT  Trailing P/E  39.54"
      ],
      "text/html": "<div>\n<style scoped>\n    .dataframe tbody tr th:only-of-type {\n        vertical-align: middle;\n    }\n\n    .dataframe tbody tr th {\n        vertical-align: top;\n    }\n\n    .dataframe thead th {\n        text-align: right;\n    }\n</style>\n<table border=\"1\" class=\"dataframe\">\n  <thead>\n    <tr style=\"text-align: right;\">\n      <th></th>\n      <th>Ticker</th>\n      <th>Attribute</th>\n      <th>Recent</th>\n    </tr>\n  </thead>\n  <tbody>\n    <tr>\n      <th>2</th>\n      <td>AAPL</td>\n      <td>Trailing P/E</td>\n      <td>32.89</td>\n    </tr>\n    <tr>\n      <th>11</th>\n      <td>AMGN</td>\n      <td>Trailing P/E</td>\n      <td>18.27</td>\n    </tr>\n    <tr>\n      <th>20</th>\n      <td>AXP</td>\n      <td>Trailing P/E</td>\n      <td>35.88</td>\n    </tr>\n    <tr>\n      <th>29</th>\n      <td>BA</td>\n      <td>Trailing P/E</td>\n      <td>NaN</td>\n    </tr>\n    <tr>\n      <th>38</th>\n      <td>CAT</td>\n      <td>Trailing P/E</td>\n      <td>39.54</td>\n    </tr>\n  </tbody>\n</table>\n</div>"
     },
     "metadata": {},
     "execution_count": 19
    }
   ],
   "source": [
    "# get P/E ratio for each stock\n",
    "pe_all = combined_stats[combined_stats.Attribute.str.contains(\"Trailing P/E\")]\n",
    "pe_all.head()\n"
   ]
  },
  {
   "cell_type": "code",
   "execution_count": 23,
   "metadata": {},
   "outputs": [],
   "source": [
    "# get balance sheets for many stocks at once\n",
    "balance_sheets = {}\n",
    "for ticker in dow_list:\n",
    "    balance_sheets[ticker] = si.get_balance_sheet(ticker)\n"
   ]
  },
  {
   "cell_type": "code",
   "execution_count": 27,
   "metadata": {},
   "outputs": [
    {
     "output_type": "execute_result",
     "data": {
      "text/plain": [
       "endDate                         2021-01-31    2020-01-31    2019-01-31  \\\n",
       "Breakdown                                                                \n",
       "capitalSurplus                3.646000e+09  3.247000e+09  2.965000e+09   \n",
       "totalLiab                     1.649650e+11  1.549430e+11  1.396610e+11   \n",
       "totalStockholderEquity        8.129800e+10  7.466900e+10  7.249600e+10   \n",
       "minorityInterest              6.233000e+09  6.883000e+09  7.138000e+09   \n",
       "otherCurrentLiab              1.294200e+10  2.270000e+09  2.360000e+09   \n",
       "totalAssets                   2.524960e+11  2.364950e+11  2.192950e+11   \n",
       "commonStock                   2.820000e+08  2.840000e+08  2.880000e+08   \n",
       "otherCurrentAssets            1.920000e+10           NaN  3.400000e+07   \n",
       "retainedEarnings              8.876300e+10  8.394300e+10  8.078500e+10   \n",
       "otherLiab                     1.437000e+10  1.226500e+10  1.155300e+10   \n",
       "goodWill                      2.898300e+10  3.107300e+10  3.118100e+10   \n",
       "treasuryStock                -1.139300e+10 -1.280500e+10 -1.154200e+10   \n",
       "otherAssets                   2.359800e+10  5.377000e+09  5.027000e+09   \n",
       "cash                          1.774100e+10  9.465000e+09  7.722000e+09   \n",
       "totalCurrentLiabilities       9.264500e+10  7.779000e+10  7.747700e+10   \n",
       "shortLongTermDebt             3.115000e+09  5.362000e+09  1.876000e+09   \n",
       "otherStockholderEquity       -1.139300e+10 -1.280500e+10 -1.154200e+10   \n",
       "propertyPlantEquipment        1.098480e+11  1.270490e+11  1.113950e+11   \n",
       "totalCurrentAssets            9.006700e+10  6.180600e+10  6.189700e+10   \n",
       "netTangibleAssets             5.231500e+10  3.839600e+10  3.551500e+10   \n",
       "netReceivables                6.516000e+09  6.284000e+09  6.283000e+09   \n",
       "longTermDebt                  4.119400e+10  4.441000e+10  4.394800e+10   \n",
       "inventory                     4.494900e+10  4.443500e+10  4.426900e+10   \n",
       "accountsPayable               4.914100e+10  4.697300e+10  4.706000e+10   \n",
       "intangibleAssets                       NaN  5.200000e+09  5.800000e+09   \n",
       "deferredLongTermAssetCharges           NaN  1.914000e+09  1.796000e+09   \n",
       "longTermInvestments                    NaN  5.990000e+09  3.995000e+09   \n",
       "\n",
       "endDate                         2018-01-31  \n",
       "Breakdown                                   \n",
       "capitalSurplus                2.648000e+09  \n",
       "totalLiab                     1.237000e+11  \n",
       "totalStockholderEquity        7.786900e+10  \n",
       "minorityInterest              2.953000e+09  \n",
       "otherCurrentLiab              2.662000e+09  \n",
       "totalAssets                   2.045220e+11  \n",
       "commonStock                   2.950000e+08  \n",
       "otherCurrentAssets                     NaN  \n",
       "retainedEarnings              8.510700e+10  \n",
       "otherLiab                     8.168000e+09  \n",
       "goodWill                      1.824200e+10  \n",
       "treasuryStock                -1.018100e+10  \n",
       "otherAssets                   4.184000e+09  \n",
       "cash                          6.756000e+09  \n",
       "totalCurrentLiabilities       7.852100e+10  \n",
       "shortLongTermDebt             3.738000e+09  \n",
       "otherStockholderEquity       -1.018100e+10  \n",
       "propertyPlantEquipment        1.148180e+11  \n",
       "totalCurrentAssets            5.966400e+10  \n",
       "netTangibleAssets             5.962700e+10  \n",
       "netReceivables                5.614000e+09  \n",
       "longTermDebt                  3.023100e+10  \n",
       "inventory                     4.378300e+10  \n",
       "accountsPayable               4.609200e+10  \n",
       "intangibleAssets                       NaN  \n",
       "deferredLongTermAssetCharges  1.879000e+09  \n",
       "longTermInvestments           7.614000e+09  "
      ],
      "text/html": "<div>\n<style scoped>\n    .dataframe tbody tr th:only-of-type {\n        vertical-align: middle;\n    }\n\n    .dataframe tbody tr th {\n        vertical-align: top;\n    }\n\n    .dataframe thead th {\n        text-align: right;\n    }\n</style>\n<table border=\"1\" class=\"dataframe\">\n  <thead>\n    <tr style=\"text-align: right;\">\n      <th>endDate</th>\n      <th>2021-01-31</th>\n      <th>2020-01-31</th>\n      <th>2019-01-31</th>\n      <th>2018-01-31</th>\n    </tr>\n    <tr>\n      <th>Breakdown</th>\n      <th></th>\n      <th></th>\n      <th></th>\n      <th></th>\n    </tr>\n  </thead>\n  <tbody>\n    <tr>\n      <th>capitalSurplus</th>\n      <td>3.646000e+09</td>\n      <td>3.247000e+09</td>\n      <td>2.965000e+09</td>\n      <td>2.648000e+09</td>\n    </tr>\n    <tr>\n      <th>totalLiab</th>\n      <td>1.649650e+11</td>\n      <td>1.549430e+11</td>\n      <td>1.396610e+11</td>\n      <td>1.237000e+11</td>\n    </tr>\n    <tr>\n      <th>totalStockholderEquity</th>\n      <td>8.129800e+10</td>\n      <td>7.466900e+10</td>\n      <td>7.249600e+10</td>\n      <td>7.786900e+10</td>\n    </tr>\n    <tr>\n      <th>minorityInterest</th>\n      <td>6.233000e+09</td>\n      <td>6.883000e+09</td>\n      <td>7.138000e+09</td>\n      <td>2.953000e+09</td>\n    </tr>\n    <tr>\n      <th>otherCurrentLiab</th>\n      <td>1.294200e+10</td>\n      <td>2.270000e+09</td>\n      <td>2.360000e+09</td>\n      <td>2.662000e+09</td>\n    </tr>\n    <tr>\n      <th>totalAssets</th>\n      <td>2.524960e+11</td>\n      <td>2.364950e+11</td>\n      <td>2.192950e+11</td>\n      <td>2.045220e+11</td>\n    </tr>\n    <tr>\n      <th>commonStock</th>\n      <td>2.820000e+08</td>\n      <td>2.840000e+08</td>\n      <td>2.880000e+08</td>\n      <td>2.950000e+08</td>\n    </tr>\n    <tr>\n      <th>otherCurrentAssets</th>\n      <td>1.920000e+10</td>\n      <td>NaN</td>\n      <td>3.400000e+07</td>\n      <td>NaN</td>\n    </tr>\n    <tr>\n      <th>retainedEarnings</th>\n      <td>8.876300e+10</td>\n      <td>8.394300e+10</td>\n      <td>8.078500e+10</td>\n      <td>8.510700e+10</td>\n    </tr>\n    <tr>\n      <th>otherLiab</th>\n      <td>1.437000e+10</td>\n      <td>1.226500e+10</td>\n      <td>1.155300e+10</td>\n      <td>8.168000e+09</td>\n    </tr>\n    <tr>\n      <th>goodWill</th>\n      <td>2.898300e+10</td>\n      <td>3.107300e+10</td>\n      <td>3.118100e+10</td>\n      <td>1.824200e+10</td>\n    </tr>\n    <tr>\n      <th>treasuryStock</th>\n      <td>-1.139300e+10</td>\n      <td>-1.280500e+10</td>\n      <td>-1.154200e+10</td>\n      <td>-1.018100e+10</td>\n    </tr>\n    <tr>\n      <th>otherAssets</th>\n      <td>2.359800e+10</td>\n      <td>5.377000e+09</td>\n      <td>5.027000e+09</td>\n      <td>4.184000e+09</td>\n    </tr>\n    <tr>\n      <th>cash</th>\n      <td>1.774100e+10</td>\n      <td>9.465000e+09</td>\n      <td>7.722000e+09</td>\n      <td>6.756000e+09</td>\n    </tr>\n    <tr>\n      <th>totalCurrentLiabilities</th>\n      <td>9.264500e+10</td>\n      <td>7.779000e+10</td>\n      <td>7.747700e+10</td>\n      <td>7.852100e+10</td>\n    </tr>\n    <tr>\n      <th>shortLongTermDebt</th>\n      <td>3.115000e+09</td>\n      <td>5.362000e+09</td>\n      <td>1.876000e+09</td>\n      <td>3.738000e+09</td>\n    </tr>\n    <tr>\n      <th>otherStockholderEquity</th>\n      <td>-1.139300e+10</td>\n      <td>-1.280500e+10</td>\n      <td>-1.154200e+10</td>\n      <td>-1.018100e+10</td>\n    </tr>\n    <tr>\n      <th>propertyPlantEquipment</th>\n      <td>1.098480e+11</td>\n      <td>1.270490e+11</td>\n      <td>1.113950e+11</td>\n      <td>1.148180e+11</td>\n    </tr>\n    <tr>\n      <th>totalCurrentAssets</th>\n      <td>9.006700e+10</td>\n      <td>6.180600e+10</td>\n      <td>6.189700e+10</td>\n      <td>5.966400e+10</td>\n    </tr>\n    <tr>\n      <th>netTangibleAssets</th>\n      <td>5.231500e+10</td>\n      <td>3.839600e+10</td>\n      <td>3.551500e+10</td>\n      <td>5.962700e+10</td>\n    </tr>\n    <tr>\n      <th>netReceivables</th>\n      <td>6.516000e+09</td>\n      <td>6.284000e+09</td>\n      <td>6.283000e+09</td>\n      <td>5.614000e+09</td>\n    </tr>\n    <tr>\n      <th>longTermDebt</th>\n      <td>4.119400e+10</td>\n      <td>4.441000e+10</td>\n      <td>4.394800e+10</td>\n      <td>3.023100e+10</td>\n    </tr>\n    <tr>\n      <th>inventory</th>\n      <td>4.494900e+10</td>\n      <td>4.443500e+10</td>\n      <td>4.426900e+10</td>\n      <td>4.378300e+10</td>\n    </tr>\n    <tr>\n      <th>accountsPayable</th>\n      <td>4.914100e+10</td>\n      <td>4.697300e+10</td>\n      <td>4.706000e+10</td>\n      <td>4.609200e+10</td>\n    </tr>\n    <tr>\n      <th>intangibleAssets</th>\n      <td>NaN</td>\n      <td>5.200000e+09</td>\n      <td>5.800000e+09</td>\n      <td>NaN</td>\n    </tr>\n    <tr>\n      <th>deferredLongTermAssetCharges</th>\n      <td>NaN</td>\n      <td>1.914000e+09</td>\n      <td>1.796000e+09</td>\n      <td>1.879000e+09</td>\n    </tr>\n    <tr>\n      <th>longTermInvestments</th>\n      <td>NaN</td>\n      <td>5.990000e+09</td>\n      <td>3.995000e+09</td>\n      <td>7.614000e+09</td>\n    </tr>\n  </tbody>\n</table>\n</div>"
     },
     "metadata": {},
     "execution_count": 27
    }
   ],
   "source": [
    "balance_sheets['WMT']"
   ]
  },
  {
   "cell_type": "code",
   "execution_count": 29,
   "metadata": {},
   "outputs": [
    {
     "output_type": "execute_result",
     "data": {
      "text/plain": [
       "    Ticker                     Breakdown        Recent\n",
       "0     AAPL                     totalLiab  2.585490e+11\n",
       "1     AAPL        totalStockholderEquity  6.533900e+10\n",
       "2     AAPL              otherCurrentLiab  4.786700e+10\n",
       "3     AAPL                   totalAssets  3.238880e+11\n",
       "4     AAPL                   commonStock  5.077900e+10\n",
       "..     ...                           ...           ...\n",
       "783    WMT                     inventory  4.494900e+10\n",
       "784    WMT               accountsPayable  4.914100e+10\n",
       "785    WMT              intangibleAssets           NaN\n",
       "786    WMT  deferredLongTermAssetCharges           NaN\n",
       "787    WMT           longTermInvestments           NaN\n",
       "\n",
       "[788 rows x 3 columns]"
      ],
      "text/html": "<div>\n<style scoped>\n    .dataframe tbody tr th:only-of-type {\n        vertical-align: middle;\n    }\n\n    .dataframe tbody tr th {\n        vertical-align: top;\n    }\n\n    .dataframe thead th {\n        text-align: right;\n    }\n</style>\n<table border=\"1\" class=\"dataframe\">\n  <thead>\n    <tr style=\"text-align: right;\">\n      <th></th>\n      <th>Ticker</th>\n      <th>Breakdown</th>\n      <th>Recent</th>\n    </tr>\n  </thead>\n  <tbody>\n    <tr>\n      <th>0</th>\n      <td>AAPL</td>\n      <td>totalLiab</td>\n      <td>2.585490e+11</td>\n    </tr>\n    <tr>\n      <th>1</th>\n      <td>AAPL</td>\n      <td>totalStockholderEquity</td>\n      <td>6.533900e+10</td>\n    </tr>\n    <tr>\n      <th>2</th>\n      <td>AAPL</td>\n      <td>otherCurrentLiab</td>\n      <td>4.786700e+10</td>\n    </tr>\n    <tr>\n      <th>3</th>\n      <td>AAPL</td>\n      <td>totalAssets</td>\n      <td>3.238880e+11</td>\n    </tr>\n    <tr>\n      <th>4</th>\n      <td>AAPL</td>\n      <td>commonStock</td>\n      <td>5.077900e+10</td>\n    </tr>\n    <tr>\n      <th>...</th>\n      <td>...</td>\n      <td>...</td>\n      <td>...</td>\n    </tr>\n    <tr>\n      <th>783</th>\n      <td>WMT</td>\n      <td>inventory</td>\n      <td>4.494900e+10</td>\n    </tr>\n    <tr>\n      <th>784</th>\n      <td>WMT</td>\n      <td>accountsPayable</td>\n      <td>4.914100e+10</td>\n    </tr>\n    <tr>\n      <th>785</th>\n      <td>WMT</td>\n      <td>intangibleAssets</td>\n      <td>NaN</td>\n    </tr>\n    <tr>\n      <th>786</th>\n      <td>WMT</td>\n      <td>deferredLongTermAssetCharges</td>\n      <td>NaN</td>\n    </tr>\n    <tr>\n      <th>787</th>\n      <td>WMT</td>\n      <td>longTermInvestments</td>\n      <td>NaN</td>\n    </tr>\n  </tbody>\n</table>\n<p>788 rows × 3 columns</p>\n</div>"
     },
     "metadata": {},
     "execution_count": 29
    }
   ],
   "source": [
    "# Combine all balance sheet into one df\n",
    "\n",
    "recent_sheets = {ticker : sheet.iloc[:,:1] for ticker,sheet in balance_sheets.items()}\n",
    " \n",
    "for ticker in recent_sheets.keys():\n",
    "    recent_sheets[ticker].columns = [\"Recent\"]\n",
    " \n",
    "# Combine all balance sheets together\n",
    "combined_sheets = pd.concat(recent_sheets)\n",
    " \n",
    "# reset index to pull in ticker\n",
    "combined_sheets = combined_sheets.reset_index()\n",
    " \n",
    "# update column names\n",
    "combined_sheets.columns = [\"Ticker\", \"Breakdown\", \"Recent\"]\n",
    "\n",
    "combined_sheets"
   ]
  },
  {
   "cell_type": "code",
   "execution_count": 30,
   "metadata": {},
   "outputs": [
    {
     "output_type": "execute_result",
     "data": {
      "text/plain": [
       "    Ticker                          Breakdown        Recent\n",
       "0     AAPL                researchDevelopment   18752000000\n",
       "1     AAPL          effectOfAccountingCharges          None\n",
       "2     AAPL                    incomeBeforeTax   67091000000\n",
       "3     AAPL                   minorityInterest          None\n",
       "4     AAPL                          netIncome   57411000000\n",
       "..     ...                                ...           ...\n",
       "655    WMT                      costOfRevenue  420315000000\n",
       "656    WMT         totalOtherIncomeExpenseNet   -2364000000\n",
       "657    WMT             discontinuedOperations          None\n",
       "658    WMT         netIncomeFromContinuingOps   13706000000\n",
       "659    WMT  netIncomeApplicableToCommonShares   13510000000\n",
       "\n",
       "[660 rows x 3 columns]"
      ],
      "text/html": "<div>\n<style scoped>\n    .dataframe tbody tr th:only-of-type {\n        vertical-align: middle;\n    }\n\n    .dataframe tbody tr th {\n        vertical-align: top;\n    }\n\n    .dataframe thead th {\n        text-align: right;\n    }\n</style>\n<table border=\"1\" class=\"dataframe\">\n  <thead>\n    <tr style=\"text-align: right;\">\n      <th></th>\n      <th>Ticker</th>\n      <th>Breakdown</th>\n      <th>Recent</th>\n    </tr>\n  </thead>\n  <tbody>\n    <tr>\n      <th>0</th>\n      <td>AAPL</td>\n      <td>researchDevelopment</td>\n      <td>18752000000</td>\n    </tr>\n    <tr>\n      <th>1</th>\n      <td>AAPL</td>\n      <td>effectOfAccountingCharges</td>\n      <td>None</td>\n    </tr>\n    <tr>\n      <th>2</th>\n      <td>AAPL</td>\n      <td>incomeBeforeTax</td>\n      <td>67091000000</td>\n    </tr>\n    <tr>\n      <th>3</th>\n      <td>AAPL</td>\n      <td>minorityInterest</td>\n      <td>None</td>\n    </tr>\n    <tr>\n      <th>4</th>\n      <td>AAPL</td>\n      <td>netIncome</td>\n      <td>57411000000</td>\n    </tr>\n    <tr>\n      <th>...</th>\n      <td>...</td>\n      <td>...</td>\n      <td>...</td>\n    </tr>\n    <tr>\n      <th>655</th>\n      <td>WMT</td>\n      <td>costOfRevenue</td>\n      <td>420315000000</td>\n    </tr>\n    <tr>\n      <th>656</th>\n      <td>WMT</td>\n      <td>totalOtherIncomeExpenseNet</td>\n      <td>-2364000000</td>\n    </tr>\n    <tr>\n      <th>657</th>\n      <td>WMT</td>\n      <td>discontinuedOperations</td>\n      <td>None</td>\n    </tr>\n    <tr>\n      <th>658</th>\n      <td>WMT</td>\n      <td>netIncomeFromContinuingOps</td>\n      <td>13706000000</td>\n    </tr>\n    <tr>\n      <th>659</th>\n      <td>WMT</td>\n      <td>netIncomeApplicableToCommonShares</td>\n      <td>13510000000</td>\n    </tr>\n  </tbody>\n</table>\n<p>660 rows × 3 columns</p>\n</div>"
     },
     "metadata": {},
     "execution_count": 30
    }
   ],
   "source": [
    "# Getting the income statement from each Dow stock\n",
    "income_statements = {}\n",
    "for ticker in dow_list:\n",
    "    income_statements[ticker] = si.get_income_statement(ticker)\n",
    "\n",
    "# Combine all income statement together\n",
    "recent_income_statements = {ticker : sheet.iloc[:,:1] for ticker,sheet in income_statements.items()}\n",
    " \n",
    "for ticker in recent_income_statements.keys():\n",
    "    recent_income_statements[ticker].columns = [\"Recent\"]\n",
    " \n",
    "combined_income = pd.concat(recent_income_statements)\n",
    " \n",
    "combined_income = combined_income.reset_index()\n",
    " \n",
    "combined_income.columns = [\"Ticker\", \"Breakdown\", \"Recent\"]\n",
    "\n",
    "combined_income"
   ]
  },
  {
   "cell_type": "code",
   "execution_count": 31,
   "metadata": {},
   "outputs": [
    {
     "output_type": "execute_result",
     "data": {
      "text/plain": [
       "    Ticker                              Breakdown        Recent\n",
       "0     AAPL                            investments  5.335000e+09\n",
       "1     AAPL                    changeToLiabilities -1.981000e+09\n",
       "2     AAPL  totalCashflowsFromInvestingActivities -4.289000e+09\n",
       "3     AAPL                          netBorrowings  2.499000e+09\n",
       "4     AAPL       totalCashFromFinancingActivities -8.682000e+10\n",
       "..     ...                                    ...           ...\n",
       "558    WMT                      changeToInventory -2.395000e+09\n",
       "559    WMT             changeToAccountReceivables -1.086000e+09\n",
       "560    WMT  otherCashflowsFromFinancingActivities -1.670000e+09\n",
       "561    WMT                      changeToNetincome  3.440000e+09\n",
       "562    WMT                    capitalExpenditures -1.026400e+10\n",
       "\n",
       "[563 rows x 3 columns]"
      ],
      "text/html": "<div>\n<style scoped>\n    .dataframe tbody tr th:only-of-type {\n        vertical-align: middle;\n    }\n\n    .dataframe tbody tr th {\n        vertical-align: top;\n    }\n\n    .dataframe thead th {\n        text-align: right;\n    }\n</style>\n<table border=\"1\" class=\"dataframe\">\n  <thead>\n    <tr style=\"text-align: right;\">\n      <th></th>\n      <th>Ticker</th>\n      <th>Breakdown</th>\n      <th>Recent</th>\n    </tr>\n  </thead>\n  <tbody>\n    <tr>\n      <th>0</th>\n      <td>AAPL</td>\n      <td>investments</td>\n      <td>5.335000e+09</td>\n    </tr>\n    <tr>\n      <th>1</th>\n      <td>AAPL</td>\n      <td>changeToLiabilities</td>\n      <td>-1.981000e+09</td>\n    </tr>\n    <tr>\n      <th>2</th>\n      <td>AAPL</td>\n      <td>totalCashflowsFromInvestingActivities</td>\n      <td>-4.289000e+09</td>\n    </tr>\n    <tr>\n      <th>3</th>\n      <td>AAPL</td>\n      <td>netBorrowings</td>\n      <td>2.499000e+09</td>\n    </tr>\n    <tr>\n      <th>4</th>\n      <td>AAPL</td>\n      <td>totalCashFromFinancingActivities</td>\n      <td>-8.682000e+10</td>\n    </tr>\n    <tr>\n      <th>...</th>\n      <td>...</td>\n      <td>...</td>\n      <td>...</td>\n    </tr>\n    <tr>\n      <th>558</th>\n      <td>WMT</td>\n      <td>changeToInventory</td>\n      <td>-2.395000e+09</td>\n    </tr>\n    <tr>\n      <th>559</th>\n      <td>WMT</td>\n      <td>changeToAccountReceivables</td>\n      <td>-1.086000e+09</td>\n    </tr>\n    <tr>\n      <th>560</th>\n      <td>WMT</td>\n      <td>otherCashflowsFromFinancingActivities</td>\n      <td>-1.670000e+09</td>\n    </tr>\n    <tr>\n      <th>561</th>\n      <td>WMT</td>\n      <td>changeToNetincome</td>\n      <td>3.440000e+09</td>\n    </tr>\n    <tr>\n      <th>562</th>\n      <td>WMT</td>\n      <td>capitalExpenditures</td>\n      <td>-1.026400e+10</td>\n    </tr>\n  </tbody>\n</table>\n<p>563 rows × 3 columns</p>\n</div>"
     },
     "metadata": {},
     "execution_count": 31
    }
   ],
   "source": [
    "# Getting the cashflow statement from each Dow stock\n",
    "cash_flows = {}\n",
    "for ticker in dow_list:\n",
    "    cash_flows[ticker] = si.get_cash_flow(ticker)\n",
    "\n",
    "# Combine all cashflow statement together\n",
    "recent_cash_flows = {ticker : flow.iloc[:,:1] for ticker,flow in cash_flows.items()}\n",
    " \n",
    " \n",
    "for ticker in recent_cash_flows.keys():\n",
    "    recent_cash_flows[ticker].columns = [\"Recent\"]\n",
    " \n",
    " \n",
    "combined_cash_flows = pd.concat(recent_cash_flows)\n",
    " \n",
    "combined_cash_flows = combined_cash_flows.reset_index()\n",
    " \n",
    "combined_cash_flows.columns = [\"Ticker\", \"Breakdown\", \"Recent\"]\n",
    "\n",
    "combined_cash_flows"
   ]
  },
  {
   "cell_type": "code",
   "execution_count": 32,
   "metadata": {},
   "outputs": [
    {
     "output_type": "execute_result",
     "data": {
      "text/plain": [
       "    Ticker      Breakdown        Recent\n",
       "13    AAPL  dividendsPaid -1.408100e+10\n",
       "31    AMGN  dividendsPaid -3.755000e+09\n",
       "51     AXP  dividendsPaid -1.474000e+09\n",
       "69      BA  dividendsPaid -1.158000e+09\n",
       "89     CAT  dividendsPaid -2.243000e+09\n",
       "123   CSCO  dividendsPaid -6.016000e+09\n",
       "142    CVX  dividendsPaid -9.651000e+09\n",
       "161    DIS  dividendsPaid -1.587000e+09\n",
       "182    DOW  dividendsPaid -2.071000e+09\n",
       "199     GS  dividendsPaid -2.336000e+09\n",
       "218     HD  dividendsPaid -6.451000e+09\n",
       "238    HON  dividendsPaid -2.592000e+09\n",
       "256    IBM  dividendsPaid -5.797000e+09\n",
       "276   INTC  dividendsPaid -5.568000e+09\n",
       "296    JNJ  dividendsPaid -1.048100e+10\n",
       "315    JPM  dividendsPaid -1.269000e+10\n",
       "332     KO  dividendsPaid -7.047000e+09\n",
       "351    MCD  dividendsPaid -3.752900e+09\n",
       "370    MMM  dividendsPaid -3.388000e+09\n",
       "390    MRK  dividendsPaid           NaN\n",
       "410   MSFT  dividendsPaid -1.513700e+10\n",
       "430    NKE  dividendsPaid -1.452000e+09\n",
       "449     PG  dividendsPaid -7.789000e+09\n",
       "469    TRV  dividendsPaid -8.610000e+08\n",
       "485    UNH  dividendsPaid -4.584000e+09\n",
       "505      V  dividendsPaid -2.664000e+09\n",
       "520     VZ  dividendsPaid -1.023200e+10\n",
       "539    WBA  dividendsPaid -1.747000e+09\n",
       "557    WMT  dividendsPaid -6.116000e+09"
      ],
      "text/html": "<div>\n<style scoped>\n    .dataframe tbody tr th:only-of-type {\n        vertical-align: middle;\n    }\n\n    .dataframe tbody tr th {\n        vertical-align: top;\n    }\n\n    .dataframe thead th {\n        text-align: right;\n    }\n</style>\n<table border=\"1\" class=\"dataframe\">\n  <thead>\n    <tr style=\"text-align: right;\">\n      <th></th>\n      <th>Ticker</th>\n      <th>Breakdown</th>\n      <th>Recent</th>\n    </tr>\n  </thead>\n  <tbody>\n    <tr>\n      <th>13</th>\n      <td>AAPL</td>\n      <td>dividendsPaid</td>\n      <td>-1.408100e+10</td>\n    </tr>\n    <tr>\n      <th>31</th>\n      <td>AMGN</td>\n      <td>dividendsPaid</td>\n      <td>-3.755000e+09</td>\n    </tr>\n    <tr>\n      <th>51</th>\n      <td>AXP</td>\n      <td>dividendsPaid</td>\n      <td>-1.474000e+09</td>\n    </tr>\n    <tr>\n      <th>69</th>\n      <td>BA</td>\n      <td>dividendsPaid</td>\n      <td>-1.158000e+09</td>\n    </tr>\n    <tr>\n      <th>89</th>\n      <td>CAT</td>\n      <td>dividendsPaid</td>\n      <td>-2.243000e+09</td>\n    </tr>\n    <tr>\n      <th>123</th>\n      <td>CSCO</td>\n      <td>dividendsPaid</td>\n      <td>-6.016000e+09</td>\n    </tr>\n    <tr>\n      <th>142</th>\n      <td>CVX</td>\n      <td>dividendsPaid</td>\n      <td>-9.651000e+09</td>\n    </tr>\n    <tr>\n      <th>161</th>\n      <td>DIS</td>\n      <td>dividendsPaid</td>\n      <td>-1.587000e+09</td>\n    </tr>\n    <tr>\n      <th>182</th>\n      <td>DOW</td>\n      <td>dividendsPaid</td>\n      <td>-2.071000e+09</td>\n    </tr>\n    <tr>\n      <th>199</th>\n      <td>GS</td>\n      <td>dividendsPaid</td>\n      <td>-2.336000e+09</td>\n    </tr>\n    <tr>\n      <th>218</th>\n      <td>HD</td>\n      <td>dividendsPaid</td>\n      <td>-6.451000e+09</td>\n    </tr>\n    <tr>\n      <th>238</th>\n      <td>HON</td>\n      <td>dividendsPaid</td>\n      <td>-2.592000e+09</td>\n    </tr>\n    <tr>\n      <th>256</th>\n      <td>IBM</td>\n      <td>dividendsPaid</td>\n      <td>-5.797000e+09</td>\n    </tr>\n    <tr>\n      <th>276</th>\n      <td>INTC</td>\n      <td>dividendsPaid</td>\n      <td>-5.568000e+09</td>\n    </tr>\n    <tr>\n      <th>296</th>\n      <td>JNJ</td>\n      <td>dividendsPaid</td>\n      <td>-1.048100e+10</td>\n    </tr>\n    <tr>\n      <th>315</th>\n      <td>JPM</td>\n      <td>dividendsPaid</td>\n      <td>-1.269000e+10</td>\n    </tr>\n    <tr>\n      <th>332</th>\n      <td>KO</td>\n      <td>dividendsPaid</td>\n      <td>-7.047000e+09</td>\n    </tr>\n    <tr>\n      <th>351</th>\n      <td>MCD</td>\n      <td>dividendsPaid</td>\n      <td>-3.752900e+09</td>\n    </tr>\n    <tr>\n      <th>370</th>\n      <td>MMM</td>\n      <td>dividendsPaid</td>\n      <td>-3.388000e+09</td>\n    </tr>\n    <tr>\n      <th>390</th>\n      <td>MRK</td>\n      <td>dividendsPaid</td>\n      <td>NaN</td>\n    </tr>\n    <tr>\n      <th>410</th>\n      <td>MSFT</td>\n      <td>dividendsPaid</td>\n      <td>-1.513700e+10</td>\n    </tr>\n    <tr>\n      <th>430</th>\n      <td>NKE</td>\n      <td>dividendsPaid</td>\n      <td>-1.452000e+09</td>\n    </tr>\n    <tr>\n      <th>449</th>\n      <td>PG</td>\n      <td>dividendsPaid</td>\n      <td>-7.789000e+09</td>\n    </tr>\n    <tr>\n      <th>469</th>\n      <td>TRV</td>\n      <td>dividendsPaid</td>\n      <td>-8.610000e+08</td>\n    </tr>\n    <tr>\n      <th>485</th>\n      <td>UNH</td>\n      <td>dividendsPaid</td>\n      <td>-4.584000e+09</td>\n    </tr>\n    <tr>\n      <th>505</th>\n      <td>V</td>\n      <td>dividendsPaid</td>\n      <td>-2.664000e+09</td>\n    </tr>\n    <tr>\n      <th>520</th>\n      <td>VZ</td>\n      <td>dividendsPaid</td>\n      <td>-1.023200e+10</td>\n    </tr>\n    <tr>\n      <th>539</th>\n      <td>WBA</td>\n      <td>dividendsPaid</td>\n      <td>-1.747000e+09</td>\n    </tr>\n    <tr>\n      <th>557</th>\n      <td>WMT</td>\n      <td>dividendsPaid</td>\n      <td>-6.116000e+09</td>\n    </tr>\n  </tbody>\n</table>\n</div>"
     },
     "metadata": {},
     "execution_count": 32
    }
   ],
   "source": [
    "# Getting dividends paid across companies\n",
    "combined_cash_flows[combined_cash_flows.Breakdown == \"dividendsPaid\"]\n"
   ]
  },
  {
   "cell_type": "code",
   "execution_count": 36,
   "metadata": {},
   "outputs": [
    {
     "output_type": "execute_result",
     "data": {
      "text/plain": [
       "{'yearly_income_statement': endDate                              2021-01-31    2020-01-31    2019-01-31  \\\n",
       " Breakdown                                                                     \n",
       " researchDevelopment                        None          None          None   \n",
       " effectOfAccountingCharges                  None          None          None   \n",
       " incomeBeforeTax                     20564000000   20116000000   11460000000   \n",
       " minorityInterest                     6233000000    6883000000    7138000000   \n",
       " netIncome                           13510000000   14881000000    6670000000   \n",
       " sellingGeneralAdministrative       115908000000  107891000000  106987000000   \n",
       " grossProfit                        138836000000  129359000000  129104000000   \n",
       " ebit                                22928000000   21468000000   22117000000   \n",
       " operatingIncome                     22928000000   21468000000   22117000000   \n",
       " otherOperatingExpenses                     None          None          None   \n",
       " interestExpense                     -2315000000   -2599000000   -2346000000   \n",
       " extraordinaryItems                         None          None          None   \n",
       " nonRecurring                               None          None          None   \n",
       " otherItems                                 None          None          None   \n",
       " incomeTaxExpense                     6858000000    4915000000    4281000000   \n",
       " totalRevenue                       559151000000  523964000000  514405000000   \n",
       " totalOperatingExpenses             536223000000  502496000000  492288000000   \n",
       " costOfRevenue                      420315000000  394605000000  385301000000   \n",
       " totalOtherIncomeExpenseNet          -2364000000   -1352000000  -10657000000   \n",
       " discontinuedOperations                     None          None          None   \n",
       " netIncomeFromContinuingOps          13706000000   15201000000    7179000000   \n",
       " netIncomeApplicableToCommonShares   13510000000   14881000000    6670000000   \n",
       " \n",
       " endDate                              2018-01-31  \n",
       " Breakdown                                        \n",
       " researchDevelopment                        None  \n",
       " effectOfAccountingCharges                  None  \n",
       " incomeBeforeTax                     15123000000  \n",
       " minorityInterest                     2953000000  \n",
       " netIncome                            9862000000  \n",
       " sellingGeneralAdministrative       106010000000  \n",
       " grossProfit                        126947000000  \n",
       " ebit                                20937000000  \n",
       " operatingIncome                     20937000000  \n",
       " otherOperatingExpenses                     None  \n",
       " interestExpense                     -2330000000  \n",
       " extraordinaryItems                         None  \n",
       " nonRecurring                               None  \n",
       " otherItems                                 None  \n",
       " incomeTaxExpense                     4600000000  \n",
       " totalRevenue                       500343000000  \n",
       " totalOperatingExpenses             479406000000  \n",
       " costOfRevenue                      373396000000  \n",
       " totalOtherIncomeExpenseNet          -5814000000  \n",
       " discontinuedOperations                     None  \n",
       " netIncomeFromContinuingOps          10523000000  \n",
       " netIncomeApplicableToCommonShares    9862000000  ,\n",
       " 'yearly_balance_sheet': endDate                         2021-01-31    2020-01-31    2019-01-31  \\\n",
       " Breakdown                                                                \n",
       " capitalSurplus                3.646000e+09  3.247000e+09  2.965000e+09   \n",
       " totalLiab                     1.649650e+11  1.549430e+11  1.396610e+11   \n",
       " totalStockholderEquity        8.129800e+10  7.466900e+10  7.249600e+10   \n",
       " minorityInterest              6.233000e+09  6.883000e+09  7.138000e+09   \n",
       " otherCurrentLiab              1.294200e+10  2.270000e+09  2.360000e+09   \n",
       " totalAssets                   2.524960e+11  2.364950e+11  2.192950e+11   \n",
       " commonStock                   2.820000e+08  2.840000e+08  2.880000e+08   \n",
       " otherCurrentAssets            1.920000e+10           NaN  3.400000e+07   \n",
       " retainedEarnings              8.876300e+10  8.394300e+10  8.078500e+10   \n",
       " otherLiab                     1.437000e+10  1.226500e+10  1.155300e+10   \n",
       " goodWill                      2.898300e+10  3.107300e+10  3.118100e+10   \n",
       " treasuryStock                -1.139300e+10 -1.280500e+10 -1.154200e+10   \n",
       " otherAssets                   2.359800e+10  5.377000e+09  5.027000e+09   \n",
       " cash                          1.774100e+10  9.465000e+09  7.722000e+09   \n",
       " totalCurrentLiabilities       9.264500e+10  7.779000e+10  7.747700e+10   \n",
       " shortLongTermDebt             3.115000e+09  5.362000e+09  1.876000e+09   \n",
       " otherStockholderEquity       -1.139300e+10 -1.280500e+10 -1.154200e+10   \n",
       " propertyPlantEquipment        1.098480e+11  1.270490e+11  1.113950e+11   \n",
       " totalCurrentAssets            9.006700e+10  6.180600e+10  6.189700e+10   \n",
       " netTangibleAssets             5.231500e+10  3.839600e+10  3.551500e+10   \n",
       " netReceivables                6.516000e+09  6.284000e+09  6.283000e+09   \n",
       " longTermDebt                  4.119400e+10  4.441000e+10  4.394800e+10   \n",
       " inventory                     4.494900e+10  4.443500e+10  4.426900e+10   \n",
       " accountsPayable               4.914100e+10  4.697300e+10  4.706000e+10   \n",
       " intangibleAssets                       NaN  5.200000e+09  5.800000e+09   \n",
       " deferredLongTermAssetCharges           NaN  1.914000e+09  1.796000e+09   \n",
       " longTermInvestments                    NaN  5.990000e+09  3.995000e+09   \n",
       " \n",
       " endDate                         2018-01-31  \n",
       " Breakdown                                   \n",
       " capitalSurplus                2.648000e+09  \n",
       " totalLiab                     1.237000e+11  \n",
       " totalStockholderEquity        7.786900e+10  \n",
       " minorityInterest              2.953000e+09  \n",
       " otherCurrentLiab              2.662000e+09  \n",
       " totalAssets                   2.045220e+11  \n",
       " commonStock                   2.950000e+08  \n",
       " otherCurrentAssets                     NaN  \n",
       " retainedEarnings              8.510700e+10  \n",
       " otherLiab                     8.168000e+09  \n",
       " goodWill                      1.824200e+10  \n",
       " treasuryStock                -1.018100e+10  \n",
       " otherAssets                   4.184000e+09  \n",
       " cash                          6.756000e+09  \n",
       " totalCurrentLiabilities       7.852100e+10  \n",
       " shortLongTermDebt             3.738000e+09  \n",
       " otherStockholderEquity       -1.018100e+10  \n",
       " propertyPlantEquipment        1.148180e+11  \n",
       " totalCurrentAssets            5.966400e+10  \n",
       " netTangibleAssets             5.962700e+10  \n",
       " netReceivables                5.614000e+09  \n",
       " longTermDebt                  3.023100e+10  \n",
       " inventory                     4.378300e+10  \n",
       " accountsPayable               4.609200e+10  \n",
       " intangibleAssets                       NaN  \n",
       " deferredLongTermAssetCharges  1.879000e+09  \n",
       " longTermInvestments           7.614000e+09  ,\n",
       " 'yearly_cash_flow': endDate                                 2021-01-31   2020-01-31   2019-01-31  \\\n",
       " Breakdown                                                                      \n",
       " changeToLiabilities                     6966000000   -274000000   1831000000   \n",
       " totalCashflowsFromInvestingActivities -10071000000  -9128000000 -24036000000   \n",
       " netBorrowings                          -5706000000  -1071000000  12035000000   \n",
       " totalCashFromFinancingActivities      -16117000000 -14299000000  -2537000000   \n",
       " changeToOperatingActivities             4623000000    186000000    183000000   \n",
       " netIncome                              13510000000  14881000000   6670000000   \n",
       " changeInCash                            8273000000   1759000000    742000000   \n",
       " repurchaseOfStock                      -2625000000  -5717000000  -7410000000   \n",
       " effectOfExchangeRate                     235000000    -69000000   -438000000   \n",
       " totalCashFromOperatingActivities       36074000000  25255000000  27753000000   \n",
       " depreciation                           11152000000  11467000000  10678000000   \n",
       " otherCashflowsFromInvestingActivities    102000000    479000000   -431000000   \n",
       " dividendsPaid                          -6116000000  -6048000000  -6102000000   \n",
       " changeToInventory                      -2395000000   -300000000  -1311000000   \n",
       " changeToAccountReceivables             -1086000000    154000000   -368000000   \n",
       " otherCashflowsFromFinancingActivities  -1670000000  -1463000000  -1060000000   \n",
       " changeToNetincome                       3440000000   -766000000  10110000000   \n",
       " capitalExpenditures                   -10264000000 -10705000000 -10344000000   \n",
       " \n",
       " endDate                                 2018-01-31  \n",
       " Breakdown                                           \n",
       " changeToLiabilities                     4086000000  \n",
       " totalCashflowsFromInvestingActivities  -9079000000  \n",
       " netBorrowings                          -1437000000  \n",
       " totalCashFromFinancingActivities      -19875000000  \n",
       " changeToOperatingActivities              928000000  \n",
       " netIncome                               9862000000  \n",
       " changeInCash                            -130000000  \n",
       " repurchaseOfStock                      -8296000000  \n",
       " effectOfExchangeRate                     487000000  \n",
       " totalCashFromOperatingActivities       28337000000  \n",
       " depreciation                           10529000000  \n",
       " otherCashflowsFromInvestingActivities    -77000000  \n",
       " dividendsPaid                          -6124000000  \n",
       " changeToInventory                       -140000000  \n",
       " changeToAccountReceivables             -1074000000  \n",
       " otherCashflowsFromFinancingActivities  -4018000000  \n",
       " changeToNetincome                       4703000000  \n",
       " capitalExpenditures                   -10051000000  ,\n",
       " 'quarterly_income_statement': endDate                              2021-01-31    2020-10-31    2020-07-31  \\\n",
       " Breakdown                                                                     \n",
       " researchDevelopment                        None          None          None   \n",
       " effectOfAccountingCharges                  None          None          None   \n",
       " incomeBeforeTax                      -593000000    7115000000    8646000000   \n",
       " minorityInterest                     6233000000    6073000000    5887000000   \n",
       " netIncome                           -2091000000    5135000000    6476000000   \n",
       " sellingGeneralAdministrative        30231000000   27991000000   27094000000   \n",
       " grossProfit                         36818000000   34369000000   35053000000   \n",
       " ebit                                 6587000000    6378000000    7959000000   \n",
       " operatingIncome                      6587000000    6378000000    7959000000   \n",
       " otherOperatingExpenses                     None          None          None   \n",
       " interestExpense                      -524000000    -541000000    -658000000   \n",
       " extraordinaryItems                         None          None          None   \n",
       " nonRecurring                               None          None          None   \n",
       " otherItems                                 None          None          None   \n",
       " incomeTaxExpense                     1415000000    1914000000    2207000000   \n",
       " totalRevenue                       152079000000  134708000000  137742000000   \n",
       " totalOperatingExpenses             145492000000  128330000000  129783000000   \n",
       " costOfRevenue                      115261000000  100339000000  102689000000   \n",
       " totalOtherIncomeExpenseNet          -7180000000     737000000     687000000   \n",
       " discontinuedOperations                     None          None          None   \n",
       " netIncomeFromContinuingOps          -2008000000    5201000000    6439000000   \n",
       " netIncomeApplicableToCommonShares   -2091000000    5135000000    6476000000   \n",
       " \n",
       " endDate                              2020-04-30  \n",
       " Breakdown                                        \n",
       " researchDevelopment                        None  \n",
       " effectOfAccountingCharges                  None  \n",
       " incomeBeforeTax                      5396000000  \n",
       " minorityInterest                     5870000000  \n",
       " netIncome                            3990000000  \n",
       " sellingGeneralAdministrative        26472000000  \n",
       " grossProfit                         32596000000  \n",
       " ebit                                 6124000000  \n",
       " operatingIncome                      6124000000  \n",
       " otherOperatingExpenses                     None  \n",
       " interestExpense                      -592000000  \n",
       " extraordinaryItems                         None  \n",
       " nonRecurring                               None  \n",
       " otherItems                                 None  \n",
       " incomeTaxExpense                     1322000000  \n",
       " totalRevenue                       134622000000  \n",
       " totalOperatingExpenses             128498000000  \n",
       " costOfRevenue                      102026000000  \n",
       " totalOtherIncomeExpenseNet           -728000000  \n",
       " discontinuedOperations                     None  \n",
       " netIncomeFromContinuingOps           4074000000  \n",
       " netIncomeApplicableToCommonShares    3990000000  ,\n",
       " 'quarterly_balance_sheet': endDate                    2021-01-31    2020-10-31    2020-07-31  \\\n",
       " Breakdown                                                           \n",
       " capitalSurplus           3.646000e+09  3.485000e+09  3.197000e+09   \n",
       " totalLiab                1.649650e+11  1.633590e+11  1.561850e+11   \n",
       " totalStockholderEquity   8.129800e+10  8.143100e+10  7.531000e+10   \n",
       " minorityInterest         6.233000e+09  6.073000e+09  5.887000e+09   \n",
       " otherCurrentLiab         1.294200e+10  2.077000e+09  3.670000e+09   \n",
       " totalAssets              2.524960e+11  2.508630e+11  2.373820e+11   \n",
       " commonStock              2.820000e+08  2.830000e+08  2.830000e+08   \n",
       " otherCurrentAssets       1.920000e+10           NaN           NaN   \n",
       " retainedEarnings         8.876300e+10  9.227900e+10  8.761400e+10   \n",
       " otherLiab                1.437000e+10  1.293500e+10  1.217900e+10   \n",
       " goodWill                 2.898300e+10  3.023600e+10  2.954200e+10   \n",
       " treasuryStock           -1.139300e+10 -1.461600e+10 -1.578400e+10   \n",
       " otherAssets              2.359800e+10  9.790000e+09  9.381000e+09   \n",
       " cash                     1.774100e+10  1.432500e+10  1.690600e+10   \n",
       " totalCurrentLiabilities  9.264500e+10  8.812100e+10  8.195700e+10   \n",
       " shortLongTermDebt        3.115000e+09  4.358000e+09  5.553000e+09   \n",
       " otherStockholderEquity  -1.139300e+10 -1.461600e+10 -1.578400e+10   \n",
       " propertyPlantEquipment   1.098480e+11  1.242890e+11  1.228940e+11   \n",
       " totalCurrentAssets       9.006700e+10  7.360200e+10  6.499600e+10   \n",
       " netTangibleAssets        5.231500e+10  5.119500e+10  4.576800e+10   \n",
       " netReceivables           6.516000e+09  5.770000e+09  5.111000e+09   \n",
       " longTermDebt             4.119400e+10  4.157100e+10  4.170700e+10   \n",
       " inventory                4.494900e+10  5.184200e+10  4.108400e+10   \n",
       " accountsPayable          4.914100e+10  5.415200e+10  4.632600e+10   \n",
       " longTermInvestments               NaN  1.294600e+10  1.056900e+10   \n",
       " \n",
       " endDate                    2020-04-30  \n",
       " Breakdown                              \n",
       " capitalSurplus           2.983000e+09  \n",
       " totalLiab                1.587820e+11  \n",
       " totalStockholderEquity   6.824000e+10  \n",
       " minorityInterest         5.870000e+09  \n",
       " otherCurrentLiab         5.891000e+09  \n",
       " totalAssets              2.328920e+11  \n",
       " commonStock              2.840000e+08  \n",
       " otherCurrentAssets                NaN  \n",
       " retainedEarnings         8.114100e+10  \n",
       " otherLiab                1.183100e+10  \n",
       " goodWill                 2.941600e+10  \n",
       " treasuryStock           -1.616800e+10  \n",
       " otherAssets              9.756000e+09  \n",
       " cash                     1.493000e+10  \n",
       " totalCurrentLiabilities  8.264700e+10  \n",
       " shortLongTermDebt        5.983000e+09  \n",
       " otherStockholderEquity  -1.616800e+10  \n",
       " propertyPlantEquipment   1.233780e+11  \n",
       " totalCurrentAssets       6.332800e+10  \n",
       " netTangibleAssets        3.882400e+10  \n",
       " netReceivables           5.029000e+09  \n",
       " longTermDebt             4.416100e+10  \n",
       " inventory                4.121700e+10  \n",
       " accountsPayable          4.409600e+10  \n",
       " longTermInvestments      7.014000e+09  ,\n",
       " 'quarterly_cash_flow': endDate                                 2021-01-31   2020-10-31   2020-07-31  \\\n",
       " Breakdown                                                                      \n",
       " changeToLiabilities                    -1587000000   7501000000   2235000000   \n",
       " totalCashflowsFromInvestingActivities  -3564000000  -2873000000  -1938000000   \n",
       " netBorrowings                          -1273000000  -1318000000  -6657000000   \n",
       " totalCashFromFinancingActivities       -4777000000  -3526000000  -8379000000   \n",
       " changeToOperatingActivities             2827000000    368000000   3537000000   \n",
       " netIncome                              -2091000000   5135000000   6476000000   \n",
       " changeInCash                            3410000000  -2576000000   1968000000   \n",
       " repurchaseOfStock                      -1439000000   -463000000   -463000000   \n",
       " effectOfExchangeRate                     405000000   -101000000    346000000   \n",
       " totalCashFromOperatingActivities       13194000000   3924000000  11939000000   \n",
       " depreciation                            2819000000   2771000000   2771000000   \n",
       " otherCashflowsFromInvestingActivities    102000000    -27000000     21000000   \n",
       " dividendsPaid                          -1534000000  -1524000000  -1529000000   \n",
       " changeToInventory                       5865000000 -10726000000    245000000   \n",
       " changeToAccountReceivables             -1251000000   -658000000   -101000000   \n",
       " otherCashflowsFromFinancingActivities   -531000000   -221000000   -193000000   \n",
       " changeToNetincome                       7006000000   -421000000  -2479000000   \n",
       " capitalExpenditures                    -3826000000  -2869000000  -1817000000   \n",
       " \n",
       " endDate                                2020-04-30  \n",
       " Breakdown                                          \n",
       " changeToLiabilities                   -1183000000  \n",
       " totalCashflowsFromInvestingActivities -1696000000  \n",
       " netBorrowings                          3542000000  \n",
       " totalCashFromFinancingActivities        565000000  \n",
       " changeToOperatingActivities           -2109000000  \n",
       " netIncome                              3990000000  \n",
       " changeInCash                           5471000000  \n",
       " repurchaseOfStock                      -723000000  \n",
       " effectOfExchangeRate                   -415000000  \n",
       " totalCashFromOperatingActivities       7017000000  \n",
       " depreciation                           2791000000  \n",
       " otherCashflowsFromInvestingActivities     6000000  \n",
       " dividendsPaid                         -1529000000  \n",
       " changeToInventory                      2221000000  \n",
       " changeToAccountReceivables              924000000  \n",
       " otherCashflowsFromFinancingActivities  -725000000  \n",
       " changeToNetincome                      -666000000  \n",
       " capitalExpenditures                   -1752000000  }"
      ]
     },
     "metadata": {},
     "execution_count": 36
    }
   ],
   "source": [
    "financials = si.get_financials('WMT', yearly = True, quarterly = True)\n",
    "financials"
   ]
  }
 ]
}
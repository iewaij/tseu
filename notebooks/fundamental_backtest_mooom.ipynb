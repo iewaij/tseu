{
 "cells": [
  {
   "cell_type": "code",
   "execution_count": 118,
   "metadata": {},
   "outputs": [],
   "source": [
    "from functools import reduce\n",
    "import numpy as np\n",
    "import pandas as pd\n",
    "from pandas.tseries.offsets import DateOffset\n",
    "from sklearn.ensemble import RandomForestRegressor\n",
    "from sklearn.ensemble import RandomForestClassifier\n",
    "from sklearn.metrics import plot_confusion_matrix\n",
    "from sklearn.metrics import plot_roc_curve\n",
    "from sklearn.metrics import make_scorer\n",
    "from sklearn.metrics import classification_report\n",
    "from xgboost import XGBClassifier\n",
    "from xgboost import XGBRegressor\n",
    "from ta import add_all_ta_features\n",
    "pd.set_option(\"display.max_rows\", None)\n",
    "pd.set_option(\"display.max_columns\", None)\n",
    "pd.options.mode.chained_assignment = None\n",
    "np.seterr(divide=\"ignore\", invalid=\"ignore\")\n",
    "import warnings\n",
    "warnings.filterwarnings('ignore')"
   ]
  },
  {
   "cell_type": "code",
   "execution_count": 2,
   "metadata": {},
   "outputs": [],
   "source": [
    "df = pd.read_parquet(\"../data/compustat_ibes_raw_alpha.1.parquet\")"
   ]
  },
  {
   "cell_type": "markdown",
   "metadata": {},
   "source": [
    "## Mooomentums"
   ]
  },
  {
   "cell_type": "code",
   "execution_count": 3,
   "metadata": {},
   "outputs": [],
   "source": [
    "def extreme(df):\n",
    "    \"\"\"Retain the 20% values that are the smallest and the 20% that are the largest.\"\"\"\n",
    "    top = df.y.quantile(0.8)\n",
    "    low = df.y.quantile(0.2)\n",
    "    return df[(df.y < low) | (df.y > top)]"
   ]
  },
  {
   "cell_type": "code",
   "execution_count": 116,
   "metadata": {},
   "outputs": [],
   "source": [
    "def threshold(y):\n",
    "    thres = 0.1\n",
    "    y_0 = np.where(y <= -thres, -1, y)\n",
    "    y_1 = np.where((y < thres) & (y > -thres), 0, y_0)\n",
    "    y_2 = np.where(y >= thres, 1, y_1)\n",
    "    return y_2"
   ]
  },
  {
   "cell_type": "code",
   "execution_count": 89,
   "metadata": {},
   "outputs": [],
   "source": [
    "def r2(y_true, y_pred):\n",
    "    r2 = 1 - np.sum((y_true - y_pred) ** 2)/np.sum(y_true ** 2)\n",
    "    return r2\n",
    "\n",
    "r2_score = make_scorer(r2)"
   ]
  },
  {
   "cell_type": "code",
   "execution_count": 83,
   "metadata": {},
   "outputs": [],
   "source": [
    "def mooom(df):\n",
    "    \"\"\"\n",
    "    Mooom is a strategy that heavily relies on momentum.\n",
    "    It enriches dataframe with simple momentum and industrial momentum factors. \n",
    "    Returns will be substracted by a cross-sectional median.\n",
    "    \"\"\"\n",
    "    df_mom = df[[\"classification\",\n",
    "                 \"mcap\",\n",
    "                 \"act\",\n",
    "                 \"ceq\",\n",
    "                 \"cogs\",\n",
    "                 \"lct\",\n",
    "                 \"nicon\",\n",
    "                 \"revt\",\n",
    "                 \"xrd\",\n",
    "                 \"prccd\",\n",
    "                 \"close\"]]\n",
    "    df_mom[\"profitability_roe\"]=df_mom.nicon / df_mom.ceq\n",
    "    df_mom[\"intangible_rdm\"] = df_mom.xrd / df_mom.mcap\n",
    "    df_mom[\"liquid_cur\"] = df_mom.act / df_mom.lct\n",
    "    df_mom[\"market_pe\"] = df_mom.mcap / (df_mom.nicon * 10 ** 6)\n",
    "    df_mom[\"market_mb\"] = df_mom.mcap / (df_mom.ceq * 10 ** 6)\n",
    "    df_mom[\"52wk_high\"] = df_mom.close.groupby(\"gvkey\").transform(lambda x: np.log(x) - np.log(x.rolling(12, min_periods=1).max()))\n",
    "    df_mom[\"mom_12m\"] = df_mom.close.groupby(\"gvkey\").transform(lambda x: np.log(x.shift(2))-np.log(x.shift(13)))\n",
    "    df_mom[\"mom_6m\"] = df_mom.close.groupby(\"gvkey\").transform(lambda x: np.log(x).shift(2) - np.log(x.shift(7)))\n",
    "    df_mom[\"mom_1m\"] = df_mom.close.groupby(\"gvkey\").transform(lambda x: np.log(x) - np.log(x.shift(1)))\n",
    "    df_mom[\"ind_mom_12m\"] = df_mom.groupby([\"date\", \"classification\"]).mom_12m.transform(\"mean\")\n",
    "    df_mom[\"ind_mom_6m\"] = df_mom.groupby([\"date\", \"classification\"]).mom_6m.transform(\"mean\")\n",
    "    df_mom[\"ind_mom_1m\"] = df_mom.groupby([\"date\", \"classification\"]).mom_1m.transform(\"mean\")\n",
    "    df_mom[\"log_return\"] = df_mom.close.groupby(\"gvkey\").transform(lambda x: np.log(x.shift(-3)) - np.log(x))\n",
    "    df_mom[\"y\"] = df_mom.groupby(\"date\").log_return.transform(lambda x: (x - x.median()).clip(-1,1))\n",
    "    return df_mom.loc[df.prccd > 5, [\"mcap\",\n",
    "                                     \"profitability_roe\",\n",
    "                                     \"intangible_rdm\",\n",
    "                                     \"liquid_cur\",\n",
    "                                     \"market_mb\",\n",
    "                                     \"market_pe\",\n",
    "                                     \"52wk_high\",\n",
    "                                     \"mom_12m\",\n",
    "                                     \"mom_6m\",\n",
    "                                     \"mom_1m\",\n",
    "                                     \"ind_mom_12m\",\n",
    "                                     \"ind_mom_6m\",\n",
    "                                     \"ind_mom_1m\",\n",
    "                                     \"y\"]].dropna()"
   ]
  },
  {
   "cell_type": "code",
   "execution_count": 125,
   "metadata": {},
   "outputs": [],
   "source": [
    "df_mom = mooom(df)\n",
    "# df_train = df_mom.xs(slice(\"2002-01-01\", \"2012-01-01\"), level=\"date\", drop_level=False)\n",
    "df_train = df_mom.xs(slice(\"2002-01-01\", \"2012-01-01\"), level=\"date\", drop_level=False).groupby(\"date\").apply(extreme)\n",
    "df_test = df_mom.xs(slice(\"2012-01-01\", \"2016-01-01\"), level=\"date\", drop_level=False)\n",
    "X_train = df_train.drop([\"y\"], axis=1).to_numpy()\n",
    "y_train = df_train[\"y\"].to_numpy()\n",
    "X_test = df_test.drop([\"y\"], axis=1).to_numpy()\n",
    "y_test = df_test[\"y\"].to_numpy()"
   ]
  },
  {
   "cell_type": "code",
   "execution_count": 126,
   "metadata": {},
   "outputs": [
    {
     "name": "stdout",
     "output_type": "stream",
     "text": [
      "R2 on training set: 0.1494156124487761\n",
      "R2 on test set: -0.02287041306154558\n"
     ]
    }
   ],
   "source": [
    "xgb_reg = XGBRegressor(n_estimators=100, max_depth=3, n_jobs=-1)\n",
    "xgb_fit = xgb_reg.fit(X_train, y_train)\n",
    "train_score = r2_score(xgb_reg, X_train, y_train)\n",
    "test_score = r2_score(xgb_reg, X_test, y_test)\n",
    "print(f\"R2 on training set: {train_score}\\nR2 on test set: {test_score}\")"
   ]
  },
  {
   "cell_type": "code",
   "execution_count": 127,
   "metadata": {},
   "outputs": [
    {
     "name": "stdout",
     "output_type": "stream",
     "text": [
      "              precision    recall  f1-score   support\n",
      "\n",
      "        sell       0.24      0.47      0.32      7102\n",
      "        hold       0.00      0.00      0.00     26866\n",
      "         buy       0.22      0.72      0.34      8817\n",
      "\n",
      "    accuracy                           0.23     42785\n",
      "   macro avg       0.15      0.40      0.22     42785\n",
      "weighted avg       0.09      0.23      0.12     42785\n",
      "\n"
     ]
    },
    {
     "data": {
      "image/png": "[encoded data removed]",
      "text/plain": "<Figure size 432x288 with 2 Axes>"
     },
     "metadata": {
      "image/png": {
       "height": 261,
       "width": 338
      },
      "needs_background": "light"
     },
     "output_type": "display_data"
    }
   ],
   "source": [
    "xgb_clf = XGBClassifier(n_estimators=100, max_depth=3, n_jobs=-1, eval_metric='logloss')\n",
    "y_train_thres = threshold(y_train)\n",
    "y_test_thres = threshold(y_test)\n",
    "xgb_fit = xgb_clf.fit(X_train, y_train_thres)\n",
    "plot_confusion_matrix(xgb_clf, X_test, y_test_thres)\n",
    "print(classification_report(y_test_thres, xgb_fit.predict(X_test), target_names=[\"sell\", \"hold\", \"buy\"]))"
   ]
  },
  {
   "cell_type": "code",
   "execution_count": 154,
   "metadata": {},
   "outputs": [],
   "source": [
    "# backtest\n",
    "# every stock invest 100\n",
    "# every day invest top 10 predicted best performing stocks\n",
    "# collect return 7 days after\n",
    "# y_position = y_pred.grouby(\"date\").head(10)\n",
    "# y_return = y_position * y_test\n"
   ]
  }
 ],
 "metadata": {
  "kernelspec": {
   "display_name": "Python 3.8.7 64-bit ('quant': pyenv)",
   "name": "python387jvsc74a57bd06c4d53544fd442ed60c2caa64d39fbda392cb3a8c6227dbf35141831a3031a61"
  },
  "language_info": {
   "codemirror_mode": {
    "name": "ipython",
    "version": 3
   },
   "file_extension": ".py",
   "mimetype": "text/x-python",
   "name": "python",
   "nbconvert_exporter": "python",
   "pygments_lexer": "ipython3",
   "version": "3.8.7"
  },
  "orig_nbformat": 2
 },
 "nbformat": 4,
 "nbformat_minor": 2
}
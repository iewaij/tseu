{
 "metadata": {
  "language_info": {
   "codemirror_mode": {
    "name": "ipython",
    "version": 3
   },
   "file_extension": ".py",
   "mimetype": "text/x-python",
   "name": "python",
   "nbconvert_exporter": "python",
   "pygments_lexer": "ipython3",
   "version": "3.8.5-final"
  },
  "orig_nbformat": 2,
  "kernelspec": {
   "name": "python3",
   "display_name": "Python 3.8.5 64-bit ('base': conda)",
   "metadata": {
    "interpreter": {
     "hash": "ef5e7a481a0a3ea0d3b4f28929775359bcaa47dcbbabd1c4cf0f1cdb0452fc78"
    }
   }
  }
 },
 "nbformat": 4,
 "nbformat_minor": 2,
 "cells": [
  {
   "cell_type": "code",
   "execution_count": 1,
   "metadata": {},
   "outputs": [
    {
     "output_type": "execute_result",
     "data": {
      "text/plain": [
       "'\\npip install pandas_datareader\\n'"
      ]
     },
     "metadata": {},
     "execution_count": 1
    }
   ],
   "source": [
    "# To install `pandas_datareader`: Already installed\n",
    "'''\n",
    "pip install pandas_datareader\n",
    "'''"
   ]
  },
  {
   "source": [
    "# Making the same request repeatedly can use a lot of bandwidth, slow down your code and may result in your IP being banned. `pandas-datareader` allows you to cache queries into a `sqlite` database using `requests_cache`. First make sure you have installed `requests_cache`:\n",
    "\n",
    "'''\n",
    "pip install requests_cache\n",
    "'''"
   ],
   "cell_type": "code",
   "metadata": {},
   "execution_count": 2,
   "outputs": [
    {
     "output_type": "execute_result",
     "data": {
      "text/plain": [
       "'\\npip install requests_cache\\n'"
      ]
     },
     "metadata": {},
     "execution_count": 2
    }
   ]
  },
  {
   "cell_type": "code",
   "execution_count": 13,
   "metadata": {},
   "outputs": [
    {
     "output_type": "execute_result",
     "data": {
      "text/plain": [
       "' pip install wrds  #在terminal里面运行\\n'"
      ]
     },
     "metadata": {},
     "execution_count": 13
    }
   ],
   "source": [
    "# The wrds module is available for free on PyPI, the online, central repository of all Python packages. \n",
    "''' pip install wrds  #在terminal里面运行\n",
    "'''"
   ]
  },
  {
   "cell_type": "code",
   "execution_count": 3,
   "metadata": {},
   "outputs": [
    {
     "output_type": "execute_result",
     "data": {
      "text/plain": [
       "                 High        Low       Open      Close     Volume  Adj Close\n",
       "Date                                                                        \n",
       "2001-01-01  34.900002  34.900002  34.900002  34.900002        0.0  20.443398\n",
       "2001-01-02  36.200001  34.150002  35.730000  34.470001   420631.0  20.191515\n",
       "2001-01-03  35.799999  32.400002  34.220001  34.529999  1593510.0  20.226660\n",
       "2001-01-04  36.040001  33.799999  35.150002  35.110001  1203012.0  20.566406\n",
       "2001-01-05  35.110001  35.110001  35.110001  35.110001        0.0  20.566406\n",
       "2021-01-26  73.209999  69.779999  70.160004  72.080002  2034716.0  72.080002\n",
       "2021-01-27  72.029999  70.500000  71.940002  71.309998  2044649.0  71.309998\n",
       "2021-01-28  71.080002  68.360001  69.279999  70.910004  2072544.0  70.910004\n",
       "2021-01-29  70.870003  69.050003  69.400002  70.010002  1924221.0  70.010002\n",
       "2021-02-01  70.949997  69.550003  70.809998  69.879997  1139613.0  69.879997"
      ],
      "text/html": "<div>\n<style scoped>\n    .dataframe tbody tr th:only-of-type {\n        vertical-align: middle;\n    }\n\n    .dataframe tbody tr th {\n        vertical-align: top;\n    }\n\n    .dataframe thead th {\n        text-align: right;\n    }\n</style>\n<table border=\"1\" class=\"dataframe\">\n  <thead>\n    <tr style=\"text-align: right;\">\n      <th></th>\n      <th>High</th>\n      <th>Low</th>\n      <th>Open</th>\n      <th>Close</th>\n      <th>Volume</th>\n      <th>Adj Close</th>\n    </tr>\n    <tr>\n      <th>Date</th>\n      <th></th>\n      <th></th>\n      <th></th>\n      <th></th>\n      <th></th>\n      <th></th>\n    </tr>\n  </thead>\n  <tbody>\n    <tr>\n      <th>2001-01-01</th>\n      <td>34.900002</td>\n      <td>34.900002</td>\n      <td>34.900002</td>\n      <td>34.900002</td>\n      <td>0.0</td>\n      <td>20.443398</td>\n    </tr>\n    <tr>\n      <th>2001-01-02</th>\n      <td>36.200001</td>\n      <td>34.150002</td>\n      <td>35.730000</td>\n      <td>34.470001</td>\n      <td>420631.0</td>\n      <td>20.191515</td>\n    </tr>\n    <tr>\n      <th>2001-01-03</th>\n      <td>35.799999</td>\n      <td>32.400002</td>\n      <td>34.220001</td>\n      <td>34.529999</td>\n      <td>1593510.0</td>\n      <td>20.226660</td>\n    </tr>\n    <tr>\n      <th>2001-01-04</th>\n      <td>36.040001</td>\n      <td>33.799999</td>\n      <td>35.150002</td>\n      <td>35.110001</td>\n      <td>1203012.0</td>\n      <td>20.566406</td>\n    </tr>\n    <tr>\n      <th>2001-01-05</th>\n      <td>35.110001</td>\n      <td>35.110001</td>\n      <td>35.110001</td>\n      <td>35.110001</td>\n      <td>0.0</td>\n      <td>20.566406</td>\n    </tr>\n    <tr>\n      <th>2021-01-26</th>\n      <td>73.209999</td>\n      <td>69.779999</td>\n      <td>70.160004</td>\n      <td>72.080002</td>\n      <td>2034716.0</td>\n      <td>72.080002</td>\n    </tr>\n    <tr>\n      <th>2021-01-27</th>\n      <td>72.029999</td>\n      <td>70.500000</td>\n      <td>71.940002</td>\n      <td>71.309998</td>\n      <td>2044649.0</td>\n      <td>71.309998</td>\n    </tr>\n    <tr>\n      <th>2021-01-28</th>\n      <td>71.080002</td>\n      <td>68.360001</td>\n      <td>69.279999</td>\n      <td>70.910004</td>\n      <td>2072544.0</td>\n      <td>70.910004</td>\n    </tr>\n    <tr>\n      <th>2021-01-29</th>\n      <td>70.870003</td>\n      <td>69.050003</td>\n      <td>69.400002</td>\n      <td>70.010002</td>\n      <td>1924221.0</td>\n      <td>70.010002</td>\n    </tr>\n    <tr>\n      <th>2021-02-01</th>\n      <td>70.949997</td>\n      <td>69.550003</td>\n      <td>70.809998</td>\n      <td>69.879997</td>\n      <td>1139613.0</td>\n      <td>69.879997</td>\n    </tr>\n  </tbody>\n</table>\n</div>"
     },
     "metadata": {},
     "execution_count": 3
    }
   ],
   "source": [
    "# The following code pulls BMW historical (split and dividend) adjusted price between 1/1/2001 and 1/2/2021 from yahoo finance:\n",
    "import pandas as pd \n",
    "import pandas_datareader as pdr\n",
    "df_bmw = pdr.get_data_yahoo(\"BMW.DE\", start=\"2001-01-01\", end=\"2021-02-01\")\n",
    "pd.concat([df_bmw.head(5),df_bmw.tail(5)],axis=0)  "
   ]
  },
  {
   "cell_type": "code",
   "execution_count": 4,
   "metadata": {},
   "outputs": [
    {
     "output_type": "execute_result",
     "data": {
      "text/plain": [
       "                 High        Low       Open      Close     Volume  Adj_Ratio\n",
       "Date                                                                        \n",
       "2001-01-01  20.443398  20.443398  20.443398  20.443398        0.0   0.585771\n",
       "2001-01-02  21.204898  20.004069  20.929585  20.191515   420631.0   0.585771\n",
       "2001-01-03  20.970589  18.978970  20.045072  20.226660  1593510.0   0.585771\n",
       "2001-01-04  21.111173  19.799046  20.589838  20.566406  1203012.0   0.585771\n",
       "2001-01-05  20.566406  20.566406  20.566406  20.566406        0.0   0.585771"
      ],
      "text/html": "<div>\n<style scoped>\n    .dataframe tbody tr th:only-of-type {\n        vertical-align: middle;\n    }\n\n    .dataframe tbody tr th {\n        vertical-align: top;\n    }\n\n    .dataframe thead th {\n        text-align: right;\n    }\n</style>\n<table border=\"1\" class=\"dataframe\">\n  <thead>\n    <tr style=\"text-align: right;\">\n      <th></th>\n      <th>High</th>\n      <th>Low</th>\n      <th>Open</th>\n      <th>Close</th>\n      <th>Volume</th>\n      <th>Adj_Ratio</th>\n    </tr>\n    <tr>\n      <th>Date</th>\n      <th></th>\n      <th></th>\n      <th></th>\n      <th></th>\n      <th></th>\n      <th></th>\n    </tr>\n  </thead>\n  <tbody>\n    <tr>\n      <th>2001-01-01</th>\n      <td>20.443398</td>\n      <td>20.443398</td>\n      <td>20.443398</td>\n      <td>20.443398</td>\n      <td>0.0</td>\n      <td>0.585771</td>\n    </tr>\n    <tr>\n      <th>2001-01-02</th>\n      <td>21.204898</td>\n      <td>20.004069</td>\n      <td>20.929585</td>\n      <td>20.191515</td>\n      <td>420631.0</td>\n      <td>0.585771</td>\n    </tr>\n    <tr>\n      <th>2001-01-03</th>\n      <td>20.970589</td>\n      <td>18.978970</td>\n      <td>20.045072</td>\n      <td>20.226660</td>\n      <td>1593510.0</td>\n      <td>0.585771</td>\n    </tr>\n    <tr>\n      <th>2001-01-04</th>\n      <td>21.111173</td>\n      <td>19.799046</td>\n      <td>20.589838</td>\n      <td>20.566406</td>\n      <td>1203012.0</td>\n      <td>0.585771</td>\n    </tr>\n    <tr>\n      <th>2001-01-05</th>\n      <td>20.566406</td>\n      <td>20.566406</td>\n      <td>20.566406</td>\n      <td>20.566406</td>\n      <td>0.0</td>\n      <td>0.585771</td>\n    </tr>\n  </tbody>\n</table>\n</div>"
     },
     "metadata": {},
     "execution_count": 4
    }
   ],
   "source": [
    "# By specifying `adjust_price=True`, `pandas_datareader` adjusts all prices (`Open`, `High`, `Low`, `Close`) based on `Adj Close` price. It also adds `Adj_Ratio` column and drops `Adj Close`.\n",
    "\n",
    "df_bmw_adj = pdr.get_data_yahoo(\"BMW.DE\", start=\"2001-01-01\", end=\"2021-02-01\", adjust_price=True)\n",
    "df_bmw_adj.head()"
   ]
  },
  {
   "cell_type": "code",
   "execution_count": 5,
   "metadata": {},
   "outputs": [
    {
     "output_type": "execute_result",
     "data": {
      "text/plain": [
       "Attributes Symbols  Adj_Ratio      Close       High        Low       Open  \\\n",
       "Date                                                                        \n",
       "2001-01-01  ADS.DE   0.749004  12.358573  12.358573  12.358573  12.358573   \n",
       "2001-01-01  BMW.DE   0.585771  20.443398  20.443398  20.443398  20.443398   \n",
       "2001-01-02  ADS.DE   0.749004  12.171323  12.208772  11.916661  11.974709   \n",
       "2001-01-02  BMW.DE   0.585771  20.191515  21.204898  20.004069  20.929585   \n",
       "2001-01-03  ADS.DE   0.749004  11.909169  11.944747  11.609568  11.892317   \n",
       "2001-01-03  BMW.DE   0.585771  20.226660  20.970589  18.978970  20.045072   \n",
       "2001-01-04  ADS.DE   0.749004  12.358573  12.639450  11.796820  12.077696   \n",
       "2001-01-04  BMW.DE   0.585771  20.566406  21.111173  19.799046  20.589838   \n",
       "2001-01-05  ADS.DE   0.749004  12.358573  12.358573  12.358573  12.358573   \n",
       "2001-01-05  BMW.DE   0.585771  20.566406  20.566406  20.566406  20.566406   \n",
       "\n",
       "Attributes     Volume  \n",
       "Date                   \n",
       "2001-01-01        0.0  \n",
       "2001-01-01        0.0  \n",
       "2001-01-02  1607584.0  \n",
       "2001-01-02   420631.0  \n",
       "2001-01-03   506560.0  \n",
       "2001-01-03  1593510.0  \n",
       "2001-01-04   894416.0  \n",
       "2001-01-04  1203012.0  \n",
       "2001-01-05        0.0  \n",
       "2001-01-05        0.0  "
      ],
      "text/html": "<div>\n<style scoped>\n    .dataframe tbody tr th:only-of-type {\n        vertical-align: middle;\n    }\n\n    .dataframe tbody tr th {\n        vertical-align: top;\n    }\n\n    .dataframe thead th {\n        text-align: right;\n    }\n</style>\n<table border=\"1\" class=\"dataframe\">\n  <thead>\n    <tr style=\"text-align: right;\">\n      <th>Attributes</th>\n      <th>Symbols</th>\n      <th>Adj_Ratio</th>\n      <th>Close</th>\n      <th>High</th>\n      <th>Low</th>\n      <th>Open</th>\n      <th>Volume</th>\n    </tr>\n    <tr>\n      <th>Date</th>\n      <th></th>\n      <th></th>\n      <th></th>\n      <th></th>\n      <th></th>\n      <th></th>\n      <th></th>\n    </tr>\n  </thead>\n  <tbody>\n    <tr>\n      <th>2001-01-01</th>\n      <td>ADS.DE</td>\n      <td>0.749004</td>\n      <td>12.358573</td>\n      <td>12.358573</td>\n      <td>12.358573</td>\n      <td>12.358573</td>\n      <td>0.0</td>\n    </tr>\n    <tr>\n      <th>2001-01-01</th>\n      <td>BMW.DE</td>\n      <td>0.585771</td>\n      <td>20.443398</td>\n      <td>20.443398</td>\n      <td>20.443398</td>\n      <td>20.443398</td>\n      <td>0.0</td>\n    </tr>\n    <tr>\n      <th>2001-01-02</th>\n      <td>ADS.DE</td>\n      <td>0.749004</td>\n      <td>12.171323</td>\n      <td>12.208772</td>\n      <td>11.916661</td>\n      <td>11.974709</td>\n      <td>1607584.0</td>\n    </tr>\n    <tr>\n      <th>2001-01-02</th>\n      <td>BMW.DE</td>\n      <td>0.585771</td>\n      <td>20.191515</td>\n      <td>21.204898</td>\n      <td>20.004069</td>\n      <td>20.929585</td>\n      <td>420631.0</td>\n    </tr>\n    <tr>\n      <th>2001-01-03</th>\n      <td>ADS.DE</td>\n      <td>0.749004</td>\n      <td>11.909169</td>\n      <td>11.944747</td>\n      <td>11.609568</td>\n      <td>11.892317</td>\n      <td>506560.0</td>\n    </tr>\n    <tr>\n      <th>2001-01-03</th>\n      <td>BMW.DE</td>\n      <td>0.585771</td>\n      <td>20.226660</td>\n      <td>20.970589</td>\n      <td>18.978970</td>\n      <td>20.045072</td>\n      <td>1593510.0</td>\n    </tr>\n    <tr>\n      <th>2001-01-04</th>\n      <td>ADS.DE</td>\n      <td>0.749004</td>\n      <td>12.358573</td>\n      <td>12.639450</td>\n      <td>11.796820</td>\n      <td>12.077696</td>\n      <td>894416.0</td>\n    </tr>\n    <tr>\n      <th>2001-01-04</th>\n      <td>BMW.DE</td>\n      <td>0.585771</td>\n      <td>20.566406</td>\n      <td>21.111173</td>\n      <td>19.799046</td>\n      <td>20.589838</td>\n      <td>1203012.0</td>\n    </tr>\n    <tr>\n      <th>2001-01-05</th>\n      <td>ADS.DE</td>\n      <td>0.749004</td>\n      <td>12.358573</td>\n      <td>12.358573</td>\n      <td>12.358573</td>\n      <td>12.358573</td>\n      <td>0.0</td>\n    </tr>\n    <tr>\n      <th>2001-01-05</th>\n      <td>BMW.DE</td>\n      <td>0.585771</td>\n      <td>20.566406</td>\n      <td>20.566406</td>\n      <td>20.566406</td>\n      <td>20.566406</td>\n      <td>0.0</td>\n    </tr>\n  </tbody>\n</table>\n</div>"
     },
     "metadata": {},
     "execution_count": 5
    }
   ],
   "source": [
    "# You may also download multiple stock data at the same time, though you need some pandas kung-fu to transform the shape of the dataframe:\n",
    "\n",
    "data = pdr.get_data_yahoo([\"ADS.DE\", \"BMW.DE\"], start=\"2001-01-01\", end=\"2021-02-01\", adjust_price=True)\n",
    "df_multi = data.stack(level=1).reset_index(level=1)\n",
    "df_multi.head(10)"
   ]
  },
  {
   "cell_type": "code",
   "execution_count": 6,
   "metadata": {},
   "outputs": [
    {
     "output_type": "execute_result",
     "data": {
      "text/plain": [
       "                 High        Low       Open      Close     Volume  Adj Close\n",
       "Date                                                                        \n",
       "2001-01-01  34.900002  34.900002  34.900002  34.900002        0.0  20.443398\n",
       "2001-01-02  36.200001  34.150002  35.730000  34.470001   420631.0  20.191515\n",
       "2001-01-03  35.799999  32.400002  34.220001  34.529999  1593510.0  20.226660\n",
       "2001-01-04  36.040001  33.799999  35.150002  35.110001  1203012.0  20.566406\n",
       "2001-01-05  35.110001  35.110001  35.110001  35.110001        0.0  20.566406\n",
       "2001-01-08  37.299999  36.400002  37.000000  37.500000  1178138.0  21.966396\n",
       "2001-01-09  37.000000  36.349998  37.000000  37.080002  1174091.0  21.720377\n",
       "2001-01-10  36.650002  36.000000  36.500000  36.000000   785169.0  21.087746\n",
       "2001-01-11  35.549999  34.049999  35.549999  34.849998  1313572.0  20.414104\n",
       "2001-01-12  36.000000  34.509998  34.549999  34.599998   903691.0  20.267664"
      ],
      "text/html": "<div>\n<style scoped>\n    .dataframe tbody tr th:only-of-type {\n        vertical-align: middle;\n    }\n\n    .dataframe tbody tr th {\n        vertical-align: top;\n    }\n\n    .dataframe thead th {\n        text-align: right;\n    }\n</style>\n<table border=\"1\" class=\"dataframe\">\n  <thead>\n    <tr style=\"text-align: right;\">\n      <th></th>\n      <th>High</th>\n      <th>Low</th>\n      <th>Open</th>\n      <th>Close</th>\n      <th>Volume</th>\n      <th>Adj Close</th>\n    </tr>\n    <tr>\n      <th>Date</th>\n      <th></th>\n      <th></th>\n      <th></th>\n      <th></th>\n      <th></th>\n      <th></th>\n    </tr>\n  </thead>\n  <tbody>\n    <tr>\n      <th>2001-01-01</th>\n      <td>34.900002</td>\n      <td>34.900002</td>\n      <td>34.900002</td>\n      <td>34.900002</td>\n      <td>0.0</td>\n      <td>20.443398</td>\n    </tr>\n    <tr>\n      <th>2001-01-02</th>\n      <td>36.200001</td>\n      <td>34.150002</td>\n      <td>35.730000</td>\n      <td>34.470001</td>\n      <td>420631.0</td>\n      <td>20.191515</td>\n    </tr>\n    <tr>\n      <th>2001-01-03</th>\n      <td>35.799999</td>\n      <td>32.400002</td>\n      <td>34.220001</td>\n      <td>34.529999</td>\n      <td>1593510.0</td>\n      <td>20.226660</td>\n    </tr>\n    <tr>\n      <th>2001-01-04</th>\n      <td>36.040001</td>\n      <td>33.799999</td>\n      <td>35.150002</td>\n      <td>35.110001</td>\n      <td>1203012.0</td>\n      <td>20.566406</td>\n    </tr>\n    <tr>\n      <th>2001-01-05</th>\n      <td>35.110001</td>\n      <td>35.110001</td>\n      <td>35.110001</td>\n      <td>35.110001</td>\n      <td>0.0</td>\n      <td>20.566406</td>\n    </tr>\n    <tr>\n      <th>2001-01-08</th>\n      <td>37.299999</td>\n      <td>36.400002</td>\n      <td>37.000000</td>\n      <td>37.500000</td>\n      <td>1178138.0</td>\n      <td>21.966396</td>\n    </tr>\n    <tr>\n      <th>2001-01-09</th>\n      <td>37.000000</td>\n      <td>36.349998</td>\n      <td>37.000000</td>\n      <td>37.080002</td>\n      <td>1174091.0</td>\n      <td>21.720377</td>\n    </tr>\n    <tr>\n      <th>2001-01-10</th>\n      <td>36.650002</td>\n      <td>36.000000</td>\n      <td>36.500000</td>\n      <td>36.000000</td>\n      <td>785169.0</td>\n      <td>21.087746</td>\n    </tr>\n    <tr>\n      <th>2001-01-11</th>\n      <td>35.549999</td>\n      <td>34.049999</td>\n      <td>35.549999</td>\n      <td>34.849998</td>\n      <td>1313572.0</td>\n      <td>20.414104</td>\n    </tr>\n    <tr>\n      <th>2001-01-12</th>\n      <td>36.000000</td>\n      <td>34.509998</td>\n      <td>34.549999</td>\n      <td>34.599998</td>\n      <td>903691.0</td>\n      <td>20.267664</td>\n    </tr>\n  </tbody>\n</table>\n</div>"
     },
     "metadata": {},
     "execution_count": 6
    }
   ],
   "source": [
    "# The following function can download and cache your requests for BMW historical price between 1/1/2001 and today from yahoo finance. `web.DataReader()` exposes limited parameters, therefore we can only get adjusted closing price:\n",
    "\n",
    "from datetime import timedelta, date\n",
    "import pandas_datareader.data as web\n",
    "import requests_cache\n",
    "\n",
    "def get_data(symbols, start=\"1/1/2001\", end=date.today()):  ##### 用这个来获取data！！！！！！！！！！\n",
    "    session = requests_cache.CachedSession(\n",
    "        cache_name=\"cache\", backend=\"sqlite\", expire_after=timedelta(days=1))\n",
    "    data = web.DataReader(symbols, \"yahoo\", start, end, session=session)\n",
    "    return data\n",
    "\n",
    "get_data(\"BMW.DE\").head(10)\n"
   ]
  },
  {
   "source": [
    "# WRDS\n",
    "Wharton Research Data Services (WRDS) provides rich amount of data and fruitful tutorials. We will count on WRDS to pull security price, fundamental, and analyst data.\n",
    "\n",
    "After finishing [initial setup](https://wrds-www.wharton.upenn.edu/pages/support/programming-wrds/programming-python/python-from-your-computer/#initial-setup-the-pgpass-file), you can create a new connection by using the following code:"
   ],
   "cell_type": "markdown",
   "metadata": {}
  },
  {
   "cell_type": "code",
   "execution_count": 15,
   "metadata": {},
   "outputs": [
    {
     "output_type": "stream",
     "name": "stdout",
     "text": [
      "WRDS recommends setting up a .pgpass file.\n",
      "You can find more info here:\n",
      "https://www.postgresql.org/docs/9.5/static/libpq-pgpass.html.\n",
      "Loading library list...\n",
      "Done\n"
     ]
    }
   ],
   "source": [
    "# Now that we've installed Python and the wrds module, the next step is to setup a pgpass file on your workstation. The pgpass file includes your WRDS username and password so that you do not need to enter them each time you wish to connect to WRDS within Python. With the wrds module, creating this file is easy!\n",
    "\n",
    "# Where wrds_username is your own WRDS username (the same as your login to the WRDS website). You will be prompted once for your WRDS username and password on your first login, at the Connection() step, but then, after running create_pgpass_file() once, you should be able to connect from then on without needing to do so.\n",
    "\n",
    "import wrds\n",
    "db = wrds.Connection(wrds_username='joe')\n",
    "db.create_pgpass_file()"
   ]
  },
  {
   "cell_type": "code",
   "execution_count": 18,
   "metadata": {},
   "outputs": [
    {
     "output_type": "stream",
     "name": "stdout",
     "text": [
      "WRDS recommends setting up a .pgpass file.\n",
      "You can find more info here:\n",
      "https://www.postgresql.org/docs/9.5/static/libpq-pgpass.html.\n",
      "Loading library list...\n",
      "Done\n"
     ]
    }
   ],
   "source": [
    "#Test this by disconnecting and reconnecting, using the following:\n",
    "\n",
    "db.close()\n",
    "db = wrds.Connection(wrds_username='joe')"
   ]
  },
  {
   "cell_type": "code",
   "execution_count": 19,
   "metadata": {},
   "outputs": [
    {
     "output_type": "stream",
     "name": "stdout",
     "text": [
      "Loading library list...\n",
      "Done\n"
     ]
    }
   ],
   "source": [
    "# you can create a new connection by using the following code:\n",
    "\n",
    "db = wrds.Connection(wrds_username='fanjia')"
   ]
  },
  {
   "cell_type": "code",
   "execution_count": 20,
   "metadata": {},
   "outputs": [
    {
     "output_type": "execute_result",
     "data": {
      "text/plain": [
       "                     conm   gvkey            add1  add2  add3  add4 addzip  \\\n",
       "0  BAYER MOTOREN WERKE AG  100022  Petuelring 130  None  None  None  80788   \n",
       "\n",
       "                                             busdesc         cik    city  ...  \\\n",
       "0  Bayerische Motoren Werke Aktiengesellschaft, t...  0001446250  Munich  ...   \n",
       "\n",
       "  priusa   sic spcindcd spcseccd spcsrc state stko            weburl dldte  \\\n",
       "0     90  3711    120.0    976.0   None  None  3.0  www.bmwgroup.com  None   \n",
       "\n",
       "  ipodate  \n",
       "0    None  \n",
       "\n",
       "[1 rows x 39 columns]"
      ],
      "text/html": "<div>\n<style scoped>\n    .dataframe tbody tr th:only-of-type {\n        vertical-align: middle;\n    }\n\n    .dataframe tbody tr th {\n        vertical-align: top;\n    }\n\n    .dataframe thead th {\n        text-align: right;\n    }\n</style>\n<table border=\"1\" class=\"dataframe\">\n  <thead>\n    <tr style=\"text-align: right;\">\n      <th></th>\n      <th>conm</th>\n      <th>gvkey</th>\n      <th>add1</th>\n      <th>add2</th>\n      <th>add3</th>\n      <th>add4</th>\n      <th>addzip</th>\n      <th>busdesc</th>\n      <th>cik</th>\n      <th>city</th>\n      <th>...</th>\n      <th>priusa</th>\n      <th>sic</th>\n      <th>spcindcd</th>\n      <th>spcseccd</th>\n      <th>spcsrc</th>\n      <th>state</th>\n      <th>stko</th>\n      <th>weburl</th>\n      <th>dldte</th>\n      <th>ipodate</th>\n    </tr>\n  </thead>\n  <tbody>\n    <tr>\n      <th>0</th>\n      <td>BAYER MOTOREN WERKE AG</td>\n      <td>100022</td>\n      <td>Petuelring 130</td>\n      <td>None</td>\n      <td>None</td>\n      <td>None</td>\n      <td>80788</td>\n      <td>Bayerische Motoren Werke Aktiengesellschaft, t...</td>\n      <td>0001446250</td>\n      <td>Munich</td>\n      <td>...</td>\n      <td>90</td>\n      <td>3711</td>\n      <td>120.0</td>\n      <td>976.0</td>\n      <td>None</td>\n      <td>None</td>\n      <td>3.0</td>\n      <td>www.bmwgroup.com</td>\n      <td>None</td>\n      <td>None</td>\n    </tr>\n  </tbody>\n</table>\n<p>1 rows × 39 columns</p>\n</div>"
     },
     "metadata": {},
     "execution_count": 20
    }
   ],
   "source": [
    "# You can use this connection object (`db`) to query WRDS database. You can find company specific code using [WRDS company code lookup](https://wrds-web.wharton.upenn.edu/wrds/code_search/). Note that the most standard identifiers, such as companies’ tickers and CUSIPs, tend to change over time. Therefore, using GVKEY (Global Company Key) which is a unique number assigned to each company in the Compustat-Capital IQ database is always prefered. To pull the company information of BMW, you can query against [Compustat Global Daily](https://wrds-www.wharton.upenn.edu/data-dictionary/comp_global_daily/) library:\n",
    "\n",
    "db.raw_sql(\n",
    "    \"\"\"\n",
    "    SELECT *\n",
    "    FROM comp_global_daily.g_company\n",
    "    WHERE gvkey = '100022'\n",
    "    \"\"\")"
   ]
  },
  {
   "cell_type": "code",
   "execution_count": 21,
   "metadata": {},
   "outputs": [
    {
     "output_type": "execute_result",
     "data": {
      "text/plain": [
       "            date   high    low   open  close     volume  ajexdi\n",
       "0     2001-01-02  36.20  34.15    NaN  34.22   426034.0     1.0\n",
       "1     2001-01-03  35.80  32.40    NaN  34.53  1638848.0     1.0\n",
       "2     2001-01-04  36.04  33.80    NaN  35.24  1209552.0     1.0\n",
       "3     2001-01-05  38.13  35.79    NaN  37.69  3134659.0     1.0\n",
       "4     2001-01-08  37.49  36.40    NaN  37.49  1490758.0     1.0\n",
       "...          ...    ...    ...    ...    ...        ...     ...\n",
       "5195  2021-02-22  71.43  70.20  70.78  71.27  1065258.0     1.0\n",
       "5196  2021-02-23  71.34  68.87  71.09  69.32  1859119.0     1.0\n",
       "5197  2021-02-24  70.60  68.94  69.15  70.39  1389110.0     1.0\n",
       "5198  2021-02-25  72.44  70.70  70.75  71.50  1603942.0     1.0\n",
       "5199  2021-02-26  71.55  70.18  70.48  71.50  1502192.0     1.0\n",
       "\n",
       "[5200 rows x 7 columns]"
      ],
      "text/html": "<div>\n<style scoped>\n    .dataframe tbody tr th:only-of-type {\n        vertical-align: middle;\n    }\n\n    .dataframe tbody tr th {\n        vertical-align: top;\n    }\n\n    .dataframe thead th {\n        text-align: right;\n    }\n</style>\n<table border=\"1\" class=\"dataframe\">\n  <thead>\n    <tr style=\"text-align: right;\">\n      <th></th>\n      <th>date</th>\n      <th>high</th>\n      <th>low</th>\n      <th>open</th>\n      <th>close</th>\n      <th>volume</th>\n      <th>ajexdi</th>\n    </tr>\n  </thead>\n  <tbody>\n    <tr>\n      <th>0</th>\n      <td>2001-01-02</td>\n      <td>36.20</td>\n      <td>34.15</td>\n      <td>NaN</td>\n      <td>34.22</td>\n      <td>426034.0</td>\n      <td>1.0</td>\n    </tr>\n    <tr>\n      <th>1</th>\n      <td>2001-01-03</td>\n      <td>35.80</td>\n      <td>32.40</td>\n      <td>NaN</td>\n      <td>34.53</td>\n      <td>1638848.0</td>\n      <td>1.0</td>\n    </tr>\n    <tr>\n      <th>2</th>\n      <td>2001-01-04</td>\n      <td>36.04</td>\n      <td>33.80</td>\n      <td>NaN</td>\n      <td>35.24</td>\n      <td>1209552.0</td>\n      <td>1.0</td>\n    </tr>\n    <tr>\n      <th>3</th>\n      <td>2001-01-05</td>\n      <td>38.13</td>\n      <td>35.79</td>\n      <td>NaN</td>\n      <td>37.69</td>\n      <td>3134659.0</td>\n      <td>1.0</td>\n    </tr>\n    <tr>\n      <th>4</th>\n      <td>2001-01-08</td>\n      <td>37.49</td>\n      <td>36.40</td>\n      <td>NaN</td>\n      <td>37.49</td>\n      <td>1490758.0</td>\n      <td>1.0</td>\n    </tr>\n    <tr>\n      <th>...</th>\n      <td>...</td>\n      <td>...</td>\n      <td>...</td>\n      <td>...</td>\n      <td>...</td>\n      <td>...</td>\n      <td>...</td>\n    </tr>\n    <tr>\n      <th>5195</th>\n      <td>2021-02-22</td>\n      <td>71.43</td>\n      <td>70.20</td>\n      <td>70.78</td>\n      <td>71.27</td>\n      <td>1065258.0</td>\n      <td>1.0</td>\n    </tr>\n    <tr>\n      <th>5196</th>\n      <td>2021-02-23</td>\n      <td>71.34</td>\n      <td>68.87</td>\n      <td>71.09</td>\n      <td>69.32</td>\n      <td>1859119.0</td>\n      <td>1.0</td>\n    </tr>\n    <tr>\n      <th>5197</th>\n      <td>2021-02-24</td>\n      <td>70.60</td>\n      <td>68.94</td>\n      <td>69.15</td>\n      <td>70.39</td>\n      <td>1389110.0</td>\n      <td>1.0</td>\n    </tr>\n    <tr>\n      <th>5198</th>\n      <td>2021-02-25</td>\n      <td>72.44</td>\n      <td>70.70</td>\n      <td>70.75</td>\n      <td>71.50</td>\n      <td>1603942.0</td>\n      <td>1.0</td>\n    </tr>\n    <tr>\n      <th>5199</th>\n      <td>2021-02-26</td>\n      <td>71.55</td>\n      <td>70.18</td>\n      <td>70.48</td>\n      <td>71.50</td>\n      <td>1502192.0</td>\n      <td>1.0</td>\n    </tr>\n  </tbody>\n</table>\n<p>5200 rows × 7 columns</p>\n</div>"
     },
     "metadata": {},
     "execution_count": 21
    }
   ],
   "source": [
    "# The following code queries against the daily prices of BMW since 1/1/2001. Note that the adjusted price is PRICE/AJEXDI and you need to adjust that manually: \n",
    "\n",
    "db.raw_sql(\n",
    "    \"\"\"\n",
    "    SELECT datadate as date, prchd as high, \n",
    "            prcld as low, prcod as open, prccd as close, \n",
    "            cshtrd as volume, ajexdi \n",
    "    FROM comp_global_daily.g_sec_dprc\n",
    "    WHERE datadate >= '2001-01-01'::date\n",
    "    AND gvkey = '100022'\n",
    "    AND iid = '01W'\n",
    "    ORDER BY date\n",
    "    \"\"\",\n",
    "    date_cols=[\"datadate\"])"
   ]
  },
  {
   "cell_type": "code",
   "execution_count": null,
   "metadata": {},
   "outputs": [],
   "source": [
    "##################### Close the Connection #######################\n",
    "# You should always disconnect using `close()` when you exit your Python environment or complete your data query download step and want to move onto another:\n",
    "\n",
    "db.close() \n",
    "\n",
    "# Or you can use `with` statement which automatically closes the connection when the query is finished:\n",
    "\n",
    "def get_data_wrds():\n",
    "    with wrds.Connection(wrds_username=\"iewaij\") as db:\n",
    "        data = db.raw_sql(\n",
    "            \"\"\"\n",
    "            SELECT datadate as date, prchd as high, prcld as low, prcod as open, prccd as close, cshtrd as volume, ajexdi \n",
    "            FROM comp_global_daily.g_sec_dprc\n",
    "            WHERE datadate >= '2001-01-01'::date\n",
    "            AND gvkey = '100022'\n",
    "            AND iid = '01W'\n",
    "            ORDER BY date\n",
    "            \"\"\",\n",
    "            date_cols=[\"datadate\"],\n",
    "        )\n",
    "    return data"
   ]
  }
 ]
}
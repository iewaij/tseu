{
 "cells": [
  {
   "cell_type": "markdown",
   "metadata": {},
   "source": [
    "# Mooomentums\n",
    "Mooom is a strategy that heavily relies on momentum. It enriches dataframe with simple momentum and industrial momentum factors. Returns will be substracted by a cross-sectional median."
   ]
  },
  {
   "cell_type": "code",
   "execution_count": 1,
   "metadata": {},
   "outputs": [],
   "source": [
    "from functools import reduce\n",
    "import numpy as np\n",
    "import pandas as pd\n",
    "from pandas.tseries.offsets import DateOffset\n",
    "from sklearn.ensemble import RandomForestRegressor\n",
    "from sklearn.ensemble import RandomForestClassifier\n",
    "from sklearn.metrics import plot_confusion_matrix\n",
    "from sklearn.metrics import plot_roc_curve\n",
    "from sklearn.metrics import make_scorer\n",
    "from sklearn.metrics import accuracy_score\n",
    "from sklearn.metrics import confusion_matrix\n",
    "from sklearn.metrics import classification_report\n",
    "from xgboost import XGBClassifier\n",
    "from xgboost import XGBRegressor\n",
    "import matplotlib.pyplot as plt\n",
    "import seaborn as sns\n",
    "pd.set_option(\"display.max_rows\", None)\n",
    "pd.set_option(\"display.max_columns\", None)\n",
    "pd.options.mode.chained_assignment = None\n",
    "np.seterr(divide=\"ignore\", invalid=\"ignore\")\n",
    "import warnings\n",
    "warnings.filterwarnings('ignore')"
   ]
  },
  {
   "cell_type": "code",
   "execution_count": 2,
   "metadata": {},
   "outputs": [],
   "source": [
    "df = pd.read_parquet(\"compustat_ibes_raw_alpha.1.parquet\")"
   ]
  },
  {
   "cell_type": "code",
   "execution_count": 4,
   "metadata": {},
   "outputs": [],
   "source": [
    "def conf(clf, X_test, y_test):\n",
    "    f, ax = plt.subplots(figsize=(4.8, 4.8))\n",
    "    y_test_pred = clf.predict(X_test)\n",
    "    conf_mat = confusion_matrix(y_test, y_test_pred)\n",
    "    conf_ax = sns.heatmap(\n",
    "        conf_mat, ax=ax, annot=True, fmt=\"\", cmap=plt.cm.Blues, cbar=False\n",
    "    )\n",
    "    conf_ax.set_xlabel(\"Predicted\")\n",
    "    conf_ax.set_ylabel(\"True\")"
   ]
  },
  {
   "cell_type": "code",
   "execution_count": 6,
   "metadata": {},
   "outputs": [],
   "source": [
    "def computeRSI(data, time_window):\n",
    "    diff = data.diff(1)  # diff in one field(one day)\n",
    "\n",
    "    # this preservers dimensions off diff values\n",
    "    up_chg = 0 * diff\n",
    "    down_chg = 0 * diff\n",
    "\n",
    "    # up change is equal to the positive difference, otherwise equal to zero\n",
    "    up_chg[diff > 0] = diff[diff > 0]\n",
    "\n",
    "    # down change is equal to negative deifference, otherwise equal to zero\n",
    "    down_chg[diff < 0] = diff[diff < 0]\n",
    "\n",
    "    # check pandas documentation for ewm\n",
    "    # https://pandas.pydata.org/pandas-docs/stable/reference/api/pandas.DataFrame.ewm.html\n",
    "    # values are related to exponential decay\n",
    "    # we set com=time_window-1 so we get decay alpha=1/time_window\n",
    "    up_chg_avg = up_chg.ewm(com=time_window - 1, min_periods=time_window).mean()\n",
    "    down_chg_avg = down_chg.ewm(com=time_window - 1, min_periods=time_window).mean()\n",
    "\n",
    "    rs = abs(up_chg_avg / down_chg_avg)\n",
    "    rsi = 1 - 1 / (1 + rs)\n",
    "    return rsi"
   ]
  },
  {
   "cell_type": "code",
   "execution_count": 8,
   "metadata": {},
   "outputs": [],
   "source": [
    "def mooom(df):\n",
    "    \"\"\"\n",
    "    Mooom is a strategy that heavily relies on momentum.\n",
    "    It enriches dataframe with simple momentum and industrial momentum factors. \n",
    "    Returns will be substracted by a cross-sectional median.\n",
    "    \"\"\"\n",
    "    df_mom = df\n",
    "    df_mom = df_mom['low high close prccd mcap'.split()]\n",
    "    df_mom = df_mom.loc[df.prccd > 10]\n",
    "    times = [3, 4, 5, 10, 20, 40]\n",
    "    \n",
    "    df = df_mom\n",
    "    df[\"return\"] = df_mom.close.groupby(\"gvkey\").transform(lambda x: x.pct_change(1))\n",
    "    for time in times:\n",
    "        df[f\"RET {time}\"] = df.close.groupby(\"gvkey\").transform(lambda x: x.pct_change(time - 1))\n",
    "        df[f\"STD {time}\"] = df['return'].groupby(\"gvkey\").transform(lambda x: x.rolling(time).std())\n",
    "        df[f\"EMA {time}\"] = df.close.groupby(\"gvkey\").transform(lambda x: x / x.ewm(span=time, adjust=False).mean() -1 )\n",
    "        df[f\"SH {time}\"] = df['return'].groupby(\"gvkey\").transform(lambda x: x.rolling(time).mean() / x.rolling(time).std())\n",
    "        df[f\"QT {time}\"] = df['close'].groupby(\"gvkey\").transform(lambda x: x.rolling(time).quantile(0.75) / x)\n",
    "        df[f\"SCOSC {time}\"] = df['close'].groupby(\"gvkey\").transform(lambda x: (x - x.rolling(time).min()) \n",
    "                                                                     / (x.rolling(time).max() - x.rolling(time).min()))\n",
    "        df[f\"RSI {time}\"] = df['close'].groupby(\"gvkey\").transform(lambda x: computeRSI(x,time))\n",
    "\n",
    "    df['high'] = df['high'] / df['close'] - 1\n",
    "    df['low'] = df['low'] / df['close'] - 1\n",
    "    \n",
    "    df_mom = df\n",
    "    df_mom[\"return\"] = df_mom.close.groupby(\"gvkey\").transform(lambda x: x.pct_change(3))\n",
    "    df_mom[\"targ_return\"] = df_mom.close.groupby(\"gvkey\").transform(lambda x: x.pct_change(3).shift(-3))\n",
    "\n",
    "    df_mom[\"y1\"] = np.where(df_mom['targ_return'] > 0.05, 1, 0)\n",
    "    df_mom[\"y2\"] = np.where(df_mom['targ_return'] < -0.03, -1, 0)\n",
    "    df_mom[\"y\"] = df_mom[\"y2\"] + df_mom[\"y1\"]\n",
    "    \n",
    "    df_mom = df_mom.drop('y2',axis=1)\n",
    "    df_mom = df_mom.drop('y1',axis=1)\n",
    "    df_mom = df_mom.drop('targ_return',axis=1)\n",
    "    df_mom = df_mom.drop('prccd',axis=1)\n",
    "    df_mom = df_mom.drop('close',axis=1)\n",
    "    df_mom = df_mom.drop('mcap',axis=1)\n",
    "    return df_mom.dropna()"
   ]
  },
  {
   "cell_type": "code",
   "execution_count": 9,
   "metadata": {},
   "outputs": [],
   "source": [
    "df_mom = mooom(df)"
   ]
  },
  {
   "cell_type": "code",
   "execution_count": 10,
   "metadata": {},
   "outputs": [],
   "source": [
    "df_backup = df_mom.copy()"
   ]
  },
  {
   "cell_type": "code",
   "execution_count": 11,
   "metadata": {},
   "outputs": [],
   "source": [
    "# df_mom = df_backup.copy()"
   ]
  },
  {
   "cell_type": "code",
   "execution_count": 12,
   "metadata": {},
   "outputs": [
    {
     "data": {
      "text/html": [
       "<div>\n",
       "<style scoped>\n",
       "    .dataframe tbody tr th:only-of-type {\n",
       "        vertical-align: middle;\n",
       "    }\n",
       "\n",
       "    .dataframe tbody tr th {\n",
       "        vertical-align: top;\n",
       "    }\n",
       "\n",
       "    .dataframe thead th {\n",
       "        text-align: right;\n",
       "    }\n",
       "</style>\n",
       "<table border=\"1\" class=\"dataframe\">\n",
       "  <thead>\n",
       "    <tr style=\"text-align: right;\">\n",
       "      <th></th>\n",
       "      <th></th>\n",
       "      <th>low</th>\n",
       "      <th>high</th>\n",
       "      <th>return</th>\n",
       "      <th>RET 3</th>\n",
       "      <th>STD 3</th>\n",
       "      <th>EMA 3</th>\n",
       "      <th>SH 3</th>\n",
       "      <th>QT 3</th>\n",
       "      <th>SCOSC 3</th>\n",
       "      <th>RSI 3</th>\n",
       "      <th>RET 4</th>\n",
       "      <th>STD 4</th>\n",
       "      <th>EMA 4</th>\n",
       "      <th>SH 4</th>\n",
       "      <th>QT 4</th>\n",
       "      <th>SCOSC 4</th>\n",
       "      <th>RSI 4</th>\n",
       "      <th>RET 5</th>\n",
       "      <th>STD 5</th>\n",
       "      <th>EMA 5</th>\n",
       "      <th>SH 5</th>\n",
       "      <th>QT 5</th>\n",
       "      <th>SCOSC 5</th>\n",
       "      <th>RSI 5</th>\n",
       "      <th>RET 10</th>\n",
       "      <th>STD 10</th>\n",
       "      <th>EMA 10</th>\n",
       "      <th>SH 10</th>\n",
       "      <th>QT 10</th>\n",
       "      <th>SCOSC 10</th>\n",
       "      <th>RSI 10</th>\n",
       "      <th>RET 20</th>\n",
       "      <th>STD 20</th>\n",
       "      <th>EMA 20</th>\n",
       "      <th>SH 20</th>\n",
       "      <th>QT 20</th>\n",
       "      <th>SCOSC 20</th>\n",
       "      <th>RSI 20</th>\n",
       "      <th>RET 40</th>\n",
       "      <th>STD 40</th>\n",
       "      <th>EMA 40</th>\n",
       "      <th>SH 40</th>\n",
       "      <th>QT 40</th>\n",
       "      <th>SCOSC 40</th>\n",
       "      <th>RSI 40</th>\n",
       "      <th>y</th>\n",
       "    </tr>\n",
       "    <tr>\n",
       "      <th>gvkey</th>\n",
       "      <th>date</th>\n",
       "      <th></th>\n",
       "      <th></th>\n",
       "      <th></th>\n",
       "      <th></th>\n",
       "      <th></th>\n",
       "      <th></th>\n",
       "      <th></th>\n",
       "      <th></th>\n",
       "      <th></th>\n",
       "      <th></th>\n",
       "      <th></th>\n",
       "      <th></th>\n",
       "      <th></th>\n",
       "      <th></th>\n",
       "      <th></th>\n",
       "      <th></th>\n",
       "      <th></th>\n",
       "      <th></th>\n",
       "      <th></th>\n",
       "      <th></th>\n",
       "      <th></th>\n",
       "      <th></th>\n",
       "      <th></th>\n",
       "      <th></th>\n",
       "      <th></th>\n",
       "      <th></th>\n",
       "      <th></th>\n",
       "      <th></th>\n",
       "      <th></th>\n",
       "      <th></th>\n",
       "      <th></th>\n",
       "      <th></th>\n",
       "      <th></th>\n",
       "      <th></th>\n",
       "      <th></th>\n",
       "      <th></th>\n",
       "      <th></th>\n",
       "      <th></th>\n",
       "      <th></th>\n",
       "      <th></th>\n",
       "      <th></th>\n",
       "      <th></th>\n",
       "      <th></th>\n",
       "      <th></th>\n",
       "      <th></th>\n",
       "      <th></th>\n",
       "    </tr>\n",
       "  </thead>\n",
       "  <tbody>\n",
       "    <tr>\n",
       "      <th rowspan=\"5\" valign=\"top\">001166</th>\n",
       "      <th>2003-07-31</th>\n",
       "      <td>-0.147281</td>\n",
       "      <td>0.135582</td>\n",
       "      <td>0.188062</td>\n",
       "      <td>0.128982</td>\n",
       "      <td>0.046099</td>\n",
       "      <td>0.064181</td>\n",
       "      <td>1.296925</td>\n",
       "      <td>0.950791</td>\n",
       "      <td>1.000000</td>\n",
       "      <td>0.729954</td>\n",
       "      <td>0.188062</td>\n",
       "      <td>0.060635</td>\n",
       "      <td>0.078164</td>\n",
       "      <td>1.378017</td>\n",
       "      <td>0.926187</td>\n",
       "      <td>1.000000</td>\n",
       "      <td>0.607385</td>\n",
       "      <td>0.372049</td>\n",
       "      <td>0.096967</td>\n",
       "      <td>0.081172</td>\n",
       "      <td>0.485734</td>\n",
       "      <td>0.901583</td>\n",
       "      <td>1.000000</td>\n",
       "      <td>0.538816</td>\n",
       "      <td>-0.004795</td>\n",
       "      <td>0.137098</td>\n",
       "      <td>0.018059</td>\n",
       "      <td>-0.087456</td>\n",
       "      <td>0.975396</td>\n",
       "      <td>0.912037</td>\n",
       "      <td>0.458782</td>\n",
       "      <td>0.135156</td>\n",
       "      <td>0.196410</td>\n",
       "      <td>-0.111728</td>\n",
       "      <td>-0.019038</td>\n",
       "      <td>1.456469</td>\n",
       "      <td>0.206175</td>\n",
       "      <td>0.455204</td>\n",
       "      <td>-0.436822</td>\n",
       "      <td>0.230274</td>\n",
       "      <td>-0.225815</td>\n",
       "      <td>0.054493</td>\n",
       "      <td>1.789401</td>\n",
       "      <td>0.152950</td>\n",
       "      <td>0.460179</td>\n",
       "      <td>0</td>\n",
       "    </tr>\n",
       "    <tr>\n",
       "      <th>2003-08-31</th>\n",
       "      <td>-0.219601</td>\n",
       "      <td>0.075620</td>\n",
       "      <td>0.284382</td>\n",
       "      <td>0.261832</td>\n",
       "      <td>0.062572</td>\n",
       "      <td>0.095293</td>\n",
       "      <td>1.409997</td>\n",
       "      <td>0.939504</td>\n",
       "      <td>1.000000</td>\n",
       "      <td>0.853490</td>\n",
       "      <td>0.284382</td>\n",
       "      <td>0.054150</td>\n",
       "      <td>0.124645</td>\n",
       "      <td>1.463553</td>\n",
       "      <td>0.909256</td>\n",
       "      <td>1.000000</td>\n",
       "      <td>0.736002</td>\n",
       "      <td>0.351594</td>\n",
       "      <td>0.057815</td>\n",
       "      <td>0.142410</td>\n",
       "      <td>1.632340</td>\n",
       "      <td>0.879008</td>\n",
       "      <td>1.000000</td>\n",
       "      <td>0.650957</td>\n",
       "      <td>0.271538</td>\n",
       "      <td>0.129652</td>\n",
       "      <td>0.125811</td>\n",
       "      <td>0.156232</td>\n",
       "      <td>0.857381</td>\n",
       "      <td>1.000000</td>\n",
       "      <td>0.507955</td>\n",
       "      <td>-0.057045</td>\n",
       "      <td>0.167772</td>\n",
       "      <td>0.009526</td>\n",
       "      <td>0.153388</td>\n",
       "      <td>1.280248</td>\n",
       "      <td>0.310832</td>\n",
       "      <td>0.477724</td>\n",
       "      <td>-0.487442</td>\n",
       "      <td>0.230481</td>\n",
       "      <td>-0.114098</td>\n",
       "      <td>0.056169</td>\n",
       "      <td>1.572898</td>\n",
       "      <td>0.230590</td>\n",
       "      <td>0.473922</td>\n",
       "      <td>-1</td>\n",
       "    </tr>\n",
       "    <tr>\n",
       "      <th>2003-09-30</th>\n",
       "      <td>-0.021961</td>\n",
       "      <td>0.341176</td>\n",
       "      <td>-0.026718</td>\n",
       "      <td>-0.122505</td>\n",
       "      <td>0.203771</td>\n",
       "      <td>-0.084112</td>\n",
       "      <td>0.029660</td>\n",
       "      <td>1.218039</td>\n",
       "      <td>0.000000</td>\n",
       "      <td>0.371582</td>\n",
       "      <td>-0.026718</td>\n",
       "      <td>0.166483</td>\n",
       "      <td>-0.083972</td>\n",
       "      <td>0.054063</td>\n",
       "      <td>1.178824</td>\n",
       "      <td>0.000000</td>\n",
       "      <td>0.403171</td>\n",
       "      <td>-0.009324</td>\n",
       "      <td>0.145475</td>\n",
       "      <td>-0.082488</td>\n",
       "      <td>0.121440</td>\n",
       "      <td>1.139608</td>\n",
       "      <td>0.000000</td>\n",
       "      <td>0.413447</td>\n",
       "      <td>0.003937</td>\n",
       "      <td>0.147187</td>\n",
       "      <td>-0.110342</td>\n",
       "      <td>0.056712</td>\n",
       "      <td>1.111569</td>\n",
       "      <td>0.363636</td>\n",
       "      <td>0.426567</td>\n",
       "      <td>-0.250000</td>\n",
       "      <td>0.156177</td>\n",
       "      <td>-0.204561</td>\n",
       "      <td>-0.026740</td>\n",
       "      <td>1.659804</td>\n",
       "      <td>0.113030</td>\n",
       "      <td>0.441422</td>\n",
       "      <td>-0.595238</td>\n",
       "      <td>0.230284</td>\n",
       "      <td>-0.305961</td>\n",
       "      <td>0.004251</td>\n",
       "      <td>2.014706</td>\n",
       "      <td>0.083851</td>\n",
       "      <td>0.451634</td>\n",
       "      <td>1</td>\n",
       "    </tr>\n",
       "    <tr>\n",
       "      <th>2003-10-31</th>\n",
       "      <td>-0.157965</td>\n",
       "      <td>0.054217</td>\n",
       "      <td>0.028217</td>\n",
       "      <td>-0.096189</td>\n",
       "      <td>0.222001</td>\n",
       "      <td>0.035310</td>\n",
       "      <td>0.121224</td>\n",
       "      <td>1.053213</td>\n",
       "      <td>0.579365</td>\n",
       "      <td>0.578439</td>\n",
       "      <td>0.028217</td>\n",
       "      <td>0.185870</td>\n",
       "      <td>0.042767</td>\n",
       "      <td>0.255416</td>\n",
       "      <td>1.026606</td>\n",
       "      <td>0.579365</td>\n",
       "      <td>0.557685</td>\n",
       "      <td>0.140458</td>\n",
       "      <td>0.161511</td>\n",
       "      <td>0.048849</td>\n",
       "      <td>0.257278</td>\n",
       "      <td>1.000000</td>\n",
       "      <td>0.579365</td>\n",
       "      <td>0.536042</td>\n",
       "      <td>0.002012</td>\n",
       "      <td>0.155241</td>\n",
       "      <td>0.034482</td>\n",
       "      <td>0.179279</td>\n",
       "      <td>0.991633</td>\n",
       "      <td>0.732323</td>\n",
       "      <td>0.480183</td>\n",
       "      <td>-0.313103</td>\n",
       "      <td>0.160864</td>\n",
       "      <td>-0.061863</td>\n",
       "      <td>0.036825</td>\n",
       "      <td>1.416499</td>\n",
       "      <td>0.227630</td>\n",
       "      <td>0.466161</td>\n",
       "      <td>-0.588996</td>\n",
       "      <td>0.231817</td>\n",
       "      <td>-0.179272</td>\n",
       "      <td>0.025255</td>\n",
       "      <td>1.671352</td>\n",
       "      <td>0.168866</td>\n",
       "      <td>0.466542</td>\n",
       "      <td>1</td>\n",
       "    </tr>\n",
       "    <tr>\n",
       "      <th>2003-11-30</th>\n",
       "      <td>-0.053797</td>\n",
       "      <td>0.069620</td>\n",
       "      <td>-0.044162</td>\n",
       "      <td>0.239216</td>\n",
       "      <td>0.206287</td>\n",
       "      <td>0.045303</td>\n",
       "      <td>0.001055</td>\n",
       "      <td>0.972785</td>\n",
       "      <td>1.000000</td>\n",
       "      <td>0.646903</td>\n",
       "      <td>-0.044162</td>\n",
       "      <td>0.181910</td>\n",
       "      <td>0.059240</td>\n",
       "      <td>0.190066</td>\n",
       "      <td>1.011551</td>\n",
       "      <td>0.806878</td>\n",
       "      <td>0.610485</td>\n",
       "      <td>0.087405</td>\n",
       "      <td>0.161031</td>\n",
       "      <td>0.070258</td>\n",
       "      <td>0.307344</td>\n",
       "      <td>1.000000</td>\n",
       "      <td>0.806878</td>\n",
       "      <td>0.579212</td>\n",
       "      <td>0.344681</td>\n",
       "      <td>0.147217</td>\n",
       "      <td>0.075641</td>\n",
       "      <td>0.109948</td>\n",
       "      <td>0.939082</td>\n",
       "      <td>0.877104</td>\n",
       "      <td>0.500559</td>\n",
       "      <td>-0.254717</td>\n",
       "      <td>0.148161</td>\n",
       "      <td>-0.007117</td>\n",
       "      <td>-0.034885</td>\n",
       "      <td>1.184810</td>\n",
       "      <td>0.272632</td>\n",
       "      <td>0.475759</td>\n",
       "      <td>-0.457045</td>\n",
       "      <td>0.230737</td>\n",
       "      <td>-0.126402</td>\n",
       "      <td>0.014928</td>\n",
       "      <td>1.500158</td>\n",
       "      <td>0.272632</td>\n",
       "      <td>0.472320</td>\n",
       "      <td>1</td>\n",
       "    </tr>\n",
       "  </tbody>\n",
       "</table>\n",
       "</div>"
      ],
      "text/plain": [
       "                        low      high    return     RET 3     STD 3     EMA 3  \\\n",
       "gvkey  date                                                                     \n",
       "001166 2003-07-31 -0.147281  0.135582  0.188062  0.128982  0.046099  0.064181   \n",
       "       2003-08-31 -0.219601  0.075620  0.284382  0.261832  0.062572  0.095293   \n",
       "       2003-09-30 -0.021961  0.341176 -0.026718 -0.122505  0.203771 -0.084112   \n",
       "       2003-10-31 -0.157965  0.054217  0.028217 -0.096189  0.222001  0.035310   \n",
       "       2003-11-30 -0.053797  0.069620 -0.044162  0.239216  0.206287  0.045303   \n",
       "\n",
       "                       SH 3      QT 3   SCOSC 3     RSI 3     RET 4     STD 4  \\\n",
       "gvkey  date                                                                     \n",
       "001166 2003-07-31  1.296925  0.950791  1.000000  0.729954  0.188062  0.060635   \n",
       "       2003-08-31  1.409997  0.939504  1.000000  0.853490  0.284382  0.054150   \n",
       "       2003-09-30  0.029660  1.218039  0.000000  0.371582 -0.026718  0.166483   \n",
       "       2003-10-31  0.121224  1.053213  0.579365  0.578439  0.028217  0.185870   \n",
       "       2003-11-30  0.001055  0.972785  1.000000  0.646903 -0.044162  0.181910   \n",
       "\n",
       "                      EMA 4      SH 4      QT 4   SCOSC 4     RSI 4     RET 5  \\\n",
       "gvkey  date                                                                     \n",
       "001166 2003-07-31  0.078164  1.378017  0.926187  1.000000  0.607385  0.372049   \n",
       "       2003-08-31  0.124645  1.463553  0.909256  1.000000  0.736002  0.351594   \n",
       "       2003-09-30 -0.083972  0.054063  1.178824  0.000000  0.403171 -0.009324   \n",
       "       2003-10-31  0.042767  0.255416  1.026606  0.579365  0.557685  0.140458   \n",
       "       2003-11-30  0.059240  0.190066  1.011551  0.806878  0.610485  0.087405   \n",
       "\n",
       "                      STD 5     EMA 5      SH 5      QT 5   SCOSC 5     RSI 5  \\\n",
       "gvkey  date                                                                     \n",
       "001166 2003-07-31  0.096967  0.081172  0.485734  0.901583  1.000000  0.538816   \n",
       "       2003-08-31  0.057815  0.142410  1.632340  0.879008  1.000000  0.650957   \n",
       "       2003-09-30  0.145475 -0.082488  0.121440  1.139608  0.000000  0.413447   \n",
       "       2003-10-31  0.161511  0.048849  0.257278  1.000000  0.579365  0.536042   \n",
       "       2003-11-30  0.161031  0.070258  0.307344  1.000000  0.806878  0.579212   \n",
       "\n",
       "                     RET 10    STD 10    EMA 10     SH 10     QT 10  SCOSC 10  \\\n",
       "gvkey  date                                                                     \n",
       "001166 2003-07-31 -0.004795  0.137098  0.018059 -0.087456  0.975396  0.912037   \n",
       "       2003-08-31  0.271538  0.129652  0.125811  0.156232  0.857381  1.000000   \n",
       "       2003-09-30  0.003937  0.147187 -0.110342  0.056712  1.111569  0.363636   \n",
       "       2003-10-31  0.002012  0.155241  0.034482  0.179279  0.991633  0.732323   \n",
       "       2003-11-30  0.344681  0.147217  0.075641  0.109948  0.939082  0.877104   \n",
       "\n",
       "                     RSI 10    RET 20    STD 20    EMA 20     SH 20     QT 20  \\\n",
       "gvkey  date                                                                     \n",
       "001166 2003-07-31  0.458782  0.135156  0.196410 -0.111728 -0.019038  1.456469   \n",
       "       2003-08-31  0.507955 -0.057045  0.167772  0.009526  0.153388  1.280248   \n",
       "       2003-09-30  0.426567 -0.250000  0.156177 -0.204561 -0.026740  1.659804   \n",
       "       2003-10-31  0.480183 -0.313103  0.160864 -0.061863  0.036825  1.416499   \n",
       "       2003-11-30  0.500559 -0.254717  0.148161 -0.007117 -0.034885  1.184810   \n",
       "\n",
       "                   SCOSC 20    RSI 20    RET 40    STD 40    EMA 40     SH 40  \\\n",
       "gvkey  date                                                                     \n",
       "001166 2003-07-31  0.206175  0.455204 -0.436822  0.230274 -0.225815  0.054493   \n",
       "       2003-08-31  0.310832  0.477724 -0.487442  0.230481 -0.114098  0.056169   \n",
       "       2003-09-30  0.113030  0.441422 -0.595238  0.230284 -0.305961  0.004251   \n",
       "       2003-10-31  0.227630  0.466161 -0.588996  0.231817 -0.179272  0.025255   \n",
       "       2003-11-30  0.272632  0.475759 -0.457045  0.230737 -0.126402  0.014928   \n",
       "\n",
       "                      QT 40  SCOSC 40    RSI 40  y  \n",
       "gvkey  date                                         \n",
       "001166 2003-07-31  1.789401  0.152950  0.460179  0  \n",
       "       2003-08-31  1.572898  0.230590  0.473922 -1  \n",
       "       2003-09-30  2.014706  0.083851  0.451634  1  \n",
       "       2003-10-31  1.671352  0.168866  0.466542  1  \n",
       "       2003-11-30  1.500158  0.272632  0.472320  1  "
      ]
     },
     "execution_count": 12,
     "metadata": {},
     "output_type": "execute_result"
    }
   ],
   "source": [
    "df_mom.head()"
   ]
  },
  {
   "cell_type": "code",
   "execution_count": 13,
   "metadata": {},
   "outputs": [
    {
     "data": {
      "text/plain": [
       " 1    40063\n",
       " 0    35023\n",
       "-1    34019\n",
       "Name: y, dtype: int64"
      ]
     },
     "execution_count": 13,
     "metadata": {},
     "output_type": "execute_result"
    }
   ],
   "source": [
    "df_mom.y.value_counts()"
   ]
  },
  {
   "cell_type": "markdown",
   "metadata": {},
   "source": [
    "## Multi Classification"
   ]
  },
  {
   "cell_type": "code",
   "execution_count": 14,
   "metadata": {},
   "outputs": [],
   "source": [
    "def threshold(y):\n",
    "    return y"
   ]
  },
  {
   "cell_type": "markdown",
   "metadata": {},
   "source": [
    "## Portfolio Return"
   ]
  },
  {
   "cell_type": "code",
   "execution_count": 50,
   "metadata": {},
   "outputs": [
    {
     "name": "stdout",
     "output_type": "stream",
     "text": [
      "[14:03:12] WARNING: ../src/learner.cc:516: \n",
      "Parameters: { class_weight } might not be used.\n",
      "\n",
      "  This may not be accurate due to some parameters are only used in language bindings but\n",
      "  passed down to XGBoost core.  Or some parameters are not used but slip through this\n",
      "  verification. Please open an issue if you find above cases.\n",
      "\n",
      "\n",
      "Accuracy on training set: 0.6879295532646048\n",
      "Accuracy on test set: 0.3727823938917584\n",
      "              precision    recall  f1-score   support\n",
      "\n",
      "        sell       0.30      0.27      0.28     16993\n",
      "        hold       0.47      0.27      0.34     20206\n",
      "         buy       0.37      0.56      0.45     20690\n",
      "\n",
      "    accuracy                           0.37     57889\n",
      "   macro avg       0.38      0.37      0.36     57889\n",
      "weighted avg       0.38      0.37      0.36     57889\n",
      "\n"
     ]
    }
   ],
   "source": [
    "df_train = df_mom.xs(slice(\"2002-01-01\", \"2010-01-01\"), level=\"date\", drop_level=False).groupby(\"date\").apply(extreme)\n",
    "df_test = df_mom.xs(slice(\"2010-01-01\", \"2020-01-01\"), level=\"date\", drop_level=False)\n",
    "X_train = df_train.drop([\"y\"], axis=1)\n",
    "y_train= threshold(df_train.y)\n",
    "X_test = df_test.drop([\"y\"], axis=1)\n",
    "y_test= threshold(df_test.y)\n",
    "xgb_clf = XGBClassifier(n_jobs=-1, \n",
    "                        class_weight='balanced',\n",
    "                        max_depth=6,\n",
    "                        learning_rate=0.3\n",
    "                       )\n",
    "xgb_fit = xgb_clf.fit(X_train, y_train)\n",
    "y_pred= xgb_clf.predict(X_test)\n",
    "train_score = accuracy_score(y_train, xgb_clf.predict(X_train))\n",
    "test_score = accuracy_score(y_test, y_pred)\n",
    "print(f\"Accuracy on training set: {train_score}\\nAccuracy on test set: {test_score}\")\n",
    "print(classification_report(y_test, y_pred, target_names=[\"sell\", 'hold', \"buy\"]))"
   ]
  },
  {
   "cell_type": "code",
   "execution_count": 61,
   "metadata": {},
   "outputs": [],
   "source": [
    "def frame_to_signals(frame, estimator):\n",
    "    X = frame.drop(columns=\"y\").to_numpy()\n",
    "    short_array = -1 * estimator.predict_proba(X)[:, 0]\n",
    "    long_array = estimator.predict_proba(X)[:, -1]\n",
    "    short_signal = pd.Series(short_array, frame.index)\n",
    "    long_signal = pd.Series(long_array, frame.index)\n",
    "    return short_signal, long_signal"
   ]
  },
  {
   "cell_type": "code",
   "execution_count": 62,
   "metadata": {},
   "outputs": [],
   "source": [
    "def noise_to_belief(signal, n):\n",
    "    return signal.groupby(\"date\", group_keys=False).apply(lambda x: x.sort_values(ascending=False).head(n))"
   ]
  },
  {
   "cell_type": "code",
   "execution_count": 63,
   "metadata": {},
   "outputs": [],
   "source": [
    "def monthly_to_daily(signal, months, weight):\n",
    "    daily_signals = []\n",
    "    for index, value in signal.iteritems():\n",
    "        gvkey = index[0]\n",
    "        predict_date = pd.to_datetime(index[1])\n",
    "        start = predict_date + DateOffset(days=1)\n",
    "        end = predict_date + DateOffset(months=months)\n",
    "        date_range = pd.date_range(start, end, freq=\"D\", name=\"date\")\n",
    "        daily_idx = pd.MultiIndex.from_tuples([(gvkey, date) for date in date_range], names=[\"gvkey\", \"date\"])\n",
    "        if weight == \"equal\":\n",
    "            daily_signal = pd.Series(np.sign(value), daily_idx)\n",
    "        elif weight == \"value\":\n",
    "            daily_signal = pd.Series(value, daily_idx)\n",
    "        daily_signals.append(daily_signal)\n",
    "    return pd.concat(daily_signals)"
   ]
  },
  {
   "cell_type": "code",
   "execution_count": 64,
   "metadata": {},
   "outputs": [],
   "source": [
    "def signals_to_positions(short_signal, long_signal, n=10, months=3, weight=\"equal\"):\n",
    "    short_belief = noise_to_belief(short_signal, n)\n",
    "    long_belief = noise_to_belief(long_signal, n)\n",
    "    short_daily = monthly_to_daily(short_belief, months, weight)\n",
    "    long_daily = monthly_to_daily(long_belief, months, weight)\n",
    "    short_position = short_daily.groupby([\"gvkey\", \"date\"]).agg(\"sum\")\n",
    "    long_position = long_daily.groupby([\"gvkey\", \"date\"]).agg(\"sum\")\n",
    "    neutral_position = pd.concat([short_position, long_position]).groupby([\"gvkey\", \"date\"]).agg(\"sum\")\n",
    "    return short_position, long_position, neutral_position"
   ]
  },
  {
   "cell_type": "code",
   "execution_count": 65,
   "metadata": {},
   "outputs": [],
   "source": [
    "def position_to_margin(data, position, tx=-0.001, method=\"percent\"):\n",
    "    merged = pd.merge(position.rename(\"position\"), data.close, how=\"left\", left_index=True, right_index=True)\n",
    "    merged[\"close\"] = merged.close.groupby(\"gvkey\").fillna(method=\"ffill\")\n",
    "    merged[\"tx\"] = np.where(position.shift(1) != position, tx, 0)\n",
    "    if method == \"log\":\n",
    "        merged[\"margin\"] = merged.close.groupby(\"gvkey\").transform(lambda x: np.log(x.shift(-1) / x)).fillna(0)\n",
    "        margin = merged.position * merged.margin + merged.tx\n",
    "        margin = margin.droplevel(\"gvkey\").resample(\"D\").mean().cumsum()\n",
    "    elif method == \"percent\":\n",
    "        merged[\"margin\"] = merged.close.groupby(\"gvkey\").transform(lambda x: x.pct_change(1)).fillna(0)\n",
    "        margin = (merged.position * merged.margin + merged.tx)\n",
    "        margin = 1 + (margin.droplevel(\"gvkey\").resample(\"D\").mean().cumsum())\n",
    "    return margin"
   ]
  },
  {
   "cell_type": "code",
   "execution_count": 66,
   "metadata": {},
   "outputs": [],
   "source": [
    "def sharpe_ratio(data, position):\n",
    "    merged = pd.merge(position.rename(\"position\"), data.close, how=\"left\", left_index=True, right_index=True)\n",
    "    merged[\"close\"] = merged.close.groupby(\"gvkey\").fillna(method=\"ffill\")\n",
    "    merged[\"tx\"] = np.where(position.shift(1) != position, -0.001, 0)\n",
    "    merged[\"margin\"] = merged.close.groupby(\"gvkey\").transform(lambda x: x.pct_change(1)).fillna(0)\n",
    "    margin = merged.position * merged.margin\n",
    "    margin = margin + merged.tx * abs(margin) * 2\n",
    "    margin = margin.droplevel(\"gvkey\").resample(\"D\").mean()\n",
    "    return margin.mean() / margin.std() * np.sqrt(252)"
   ]
  },
  {
   "cell_type": "code",
   "execution_count": 67,
   "metadata": {},
   "outputs": [],
   "source": [
    "data = pd.read_parquet(\"daily_price_backtest.parquet\")\n",
    "data = data[data.index.get_level_values(\"gvkey\") != '249103']\n",
    "short_signal, long_signal = frame_to_signals(df_test, xgb_clf)\n",
    "short_position, long_position, neutral_position = signals_to_positions(short_signal, long_signal, n=30, months=3, weight=\"equal\")"
   ]
  },
  {
   "cell_type": "code",
   "execution_count": 68,
   "metadata": {},
   "outputs": [
    {
     "name": "stdout",
     "output_type": "stream",
     "text": [
      "sharpe 1.5738854881036244\n"
     ]
    },
    {
     "data": {
      "text/plain": [
       "<AxesSubplot:xlabel='date'>"
      ]
     },
     "execution_count": 68,
     "metadata": {},
     "output_type": "execute_result"
    },
    {
     "data": {
      "image/png": "[encoded data removed]",
      "text/plain": [
       "<Figure size 432x288 with 1 Axes>"
      ]
     },
     "metadata": {
      "needs_background": "light"
     },
     "output_type": "display_data"
    }
   ],
   "source": [
    "margin = position_to_margin(data, long_position, method=\"percent\")\n",
    "print('sharpe', sharpe_ratio(data,long_position))\n",
    "margin.plot()"
   ]
  },
  {
   "cell_type": "code",
   "execution_count": 69,
   "metadata": {},
   "outputs": [
    {
     "name": "stdout",
     "output_type": "stream",
     "text": [
      "sharpe 1.119069078802168\n"
     ]
    },
    {
     "data": {
      "text/plain": [
       "<AxesSubplot:xlabel='date'>"
      ]
     },
     "execution_count": 69,
     "metadata": {},
     "output_type": "execute_result"
    },
    {
     "data": {
      "image/png": "[encoded data removed]",
      "text/plain": [
       "<Figure size 432x288 with 1 Axes>"
      ]
     },
     "metadata": {
      "needs_background": "light"
     },
     "output_type": "display_data"
    }
   ],
   "source": [
    "margin = position_to_margin(data, neutral_position, method=\"percent\")\n",
    "print('sharpe', sharpe_ratio(data, neutral_position))\n",
    "margin.plot()"
   ]
  },
  {
   "cell_type": "code",
   "execution_count": 70,
   "metadata": {},
   "outputs": [
    {
     "name": "stdout",
     "output_type": "stream",
     "text": [
      "sharpe -1.7717305959600913\n"
     ]
    },
    {
     "data": {
      "text/plain": [
       "<AxesSubplot:xlabel='date'>"
      ]
     },
     "execution_count": 70,
     "metadata": {},
     "output_type": "execute_result"
    },
    {
     "data": {
      "image/png": "[encoded data removed]",
      "text/plain": [
       "<Figure size 432x288 with 1 Axes>"
      ]
     },
     "metadata": {
      "needs_background": "light"
     },
     "output_type": "display_data"
    }
   ],
   "source": [
    "margin = position_to_margin(data, short_position, method=\"percent\")\n",
    "print('sharpe', sharpe_ratio(data,short_position))\n",
    "margin.plot()"
   ]
  },
  {
   "cell_type": "code",
   "execution_count": null,
   "metadata": {},
   "outputs": [],
   "source": []
  }
 ],
 "metadata": {
  "kernelspec": {
   "display_name": "Python 3.8.7 64-bit ('quant': pyenv)",
   "name": "python387jvsc74a57bd06c4d53544fd442ed60c2caa64d39fbda392cb3a8c6227dbf35141831a3031a61"
  },
  "language_info": {
   "codemirror_mode": {
    "name": "ipython",
    "version": 3
   },
   "file_extension": ".py",
   "mimetype": "text/x-python",
   "name": "python",
   "nbconvert_exporter": "python",
   "pygments_lexer": "ipython3",
   "version": "3.8.7"
  }
 },
 "nbformat": 4,
 "nbformat_minor": 2
}
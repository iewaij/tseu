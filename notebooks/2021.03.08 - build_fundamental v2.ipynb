{
 "cells": [
  {
   "cell_type": "markdown",
   "metadata": {},
   "source": [
    "# Build Fundamentals"
   ]
  },
  {
   "cell_type": "code",
   "execution_count": 1,
   "metadata": {},
   "outputs": [],
   "source": [
    "import wrds\n",
    "import numpy as np\n",
    "import pandas as pd\n",
    "from pandas.tseries.offsets import DateOffset"
   ]
  },
  {
   "cell_type": "code",
   "execution_count": 2,
   "metadata": {},
   "outputs": [],
   "source": [
    "prc_stmt = \"\"\"\n",
    "SELECT\n",
    "    prc.gvkey,\n",
    "    prc.datadate AS date,\n",
    "    cshoc,\n",
    "    prccd\n",
    "FROM ( SELECT DISTINCT\n",
    "        gvkey,\n",
    "        iid\n",
    "    FROM\n",
    "        comp_global_daily.g_funda\n",
    "    WHERE\n",
    "        exchg = ANY (ARRAY [104, 132, 151, 154, 171, 172, 192, 194, 201, 209, 228, 256, 257, 273, 286])\n",
    "        AND curcd = 'EUR') AS fund\n",
    "    JOIN comp_global_daily.g_sec_dprc AS prc ON fund.gvkey = prc.gvkey\n",
    "        AND fund.iid = prc.iid\n",
    "WHERE\n",
    "    curcdd = 'EUR'\n",
    "    AND cshtrd IS NOT NULL\n",
    "    AND datadate >= '1999-01-01'\n",
    "    AND prc.gvkey = '100022'\n",
    "\"\"\""
   ]
  },
  {
   "cell_type": "code",
   "execution_count": 3,
   "metadata": {},
   "outputs": [],
   "source": [
    "fund_stmt = \"\"\"\n",
    "SELECT\n",
    "    gvkey,\n",
    "    datadate AS date,\n",
    "    loc AS country,\n",
    "    indfmt AS industry,\n",
    "    sicdesc AS classification,\n",
    "    act,\n",
    "    at AS att,\n",
    "    capx,\n",
    "    ceq,\n",
    "    che,\n",
    "    chee, \n",
    "    dlc,\n",
    "    dltis,\n",
    "    dltr,\n",
    "    dltt,\n",
    "    dp,\n",
    "    dv,\n",
    "    dvc,\n",
    "    dvt,\n",
    "    dlcch,\n",
    "    ebit,\n",
    "    ebitda,\n",
    "    gdwl,\n",
    "    icapt,\n",
    "    intan,\n",
    "    invt,\n",
    "    ivaeq,\n",
    "    ivao,\n",
    "    ivst,\n",
    "    lct,\n",
    "    lt AS ltt,\n",
    "    mib,\n",
    "    nicon,\n",
    "    oancf,\n",
    "    pi,\n",
    "    ppegt,\n",
    "    pstk,\n",
    "    prstkc,\n",
    "    revt,\n",
    "    sstk,\n",
    "    COALESCE(txp, txpfs) AS txp,\n",
    "    xrd\n",
    "FROM\n",
    "    comp.g_funda AS fund\n",
    "    JOIN comp.r_siccd AS sic ON fund.sich::VARCHAR = sic.siccd\n",
    "WHERE\n",
    "    exchg = ANY (ARRAY [104, 107, 132, 151, 154, 171, 192, 194, 201, 209, 256, 257, 273, 276, 286])\n",
    "    AND curcd = 'EUR'\n",
    "    AND gvkey = '100022'\n",
    "ORDER BY\n",
    "    gvkey, datadate;\n",
    "\"\"\""
   ]
  },
  {
   "cell_type": "code",
   "execution_count": 4,
   "metadata": {},
   "outputs": [],
   "source": [
    "def query_wrds(sql_stmt):\n",
    "    with wrds.Connection(wrds_username=\"ottoriess\") as db:\n",
    "        data = db.raw_sql(\n",
    "            sql_stmt,\n",
    "            date_cols=[\"date\", \"datadate\"],\n",
    "        )\n",
    "    return data"
   ]
  },
  {
   "cell_type": "code",
   "execution_count": 5,
   "metadata": {},
   "outputs": [],
   "source": [
    "def query_fundamental():\n",
    "    fund = (\n",
    "        query_wrds(fund_stmt)\n",
    "        .fillna(0)\n",
    "        .astype(\n",
    "            {\n",
    "                \"gvkey\": \"object\",\n",
    "                \"country\": \"category\",\n",
    "                \"industry\": \"category\",\n",
    "                \"classification\": \"category\",\n",
    "            }\n",
    "        )\n",
    "    )\n",
    "    return fund"
   ]
  },
  {
   "cell_type": "code",
   "execution_count": 6,
   "metadata": {},
   "outputs": [],
   "source": [
    "def query_price():\n",
    "    prc = query_wrds(prc_stmt)\n",
    "    return prc"
   ]
  },
  {
   "cell_type": "code",
   "execution_count": 7,
   "metadata": {},
   "outputs": [
    {
     "name": "stdout",
     "output_type": "stream",
     "text": [
      "Enter your WRDS username [ottoh]:ottoriess\n",
      "Enter your password:········\n",
      "WRDS recommends setting up a .pgpass file.\n",
      "You can find more info here:\n",
      "https://www.postgresql.org/docs/9.5/static/libpq-pgpass.html.\n",
      "Loading library list...\n",
      "Done\n"
     ]
    }
   ],
   "source": [
    "fund = query_fundamental()"
   ]
  },
  {
   "cell_type": "code",
   "execution_count": 8,
   "metadata": {},
   "outputs": [
    {
     "name": "stdout",
     "output_type": "stream",
     "text": [
      "Enter your WRDS username [ottoh]:ottoriess\n",
      "Enter your password:········\n",
      "WRDS recommends setting up a .pgpass file.\n",
      "You can find more info here:\n",
      "https://www.postgresql.org/docs/9.5/static/libpq-pgpass.html.\n",
      "Loading library list...\n",
      "Done\n"
     ]
    }
   ],
   "source": [
    "prc = query_price()"
   ]
  },
  {
   "cell_type": "code",
   "execution_count": 9,
   "metadata": {},
   "outputs": [],
   "source": [
    "def fill_year(df):\n",
    "    first_date = df[\"date\"].iloc[0]\n",
    "    last_date = df[\"date\"].iloc[-1]\n",
    "    date_index = pd.date_range(\n",
    "        pd.to_datetime(first_date), pd.to_datetime(last_date) + DateOffset(years=1), name=\"date\"\n",
    "    )\n",
    "    return (\n",
    "        df.drop(\"gvkey\", axis=1)\n",
    "        .set_index(\"date\")\n",
    "        .sort_index()\n",
    "        .reindex(date_index, method=\"ffill\")\n",
    "    )"
   ]
  },
  {
   "cell_type": "code",
   "execution_count": 10,
   "metadata": {},
   "outputs": [],
   "source": [
    "def build_fundamental(df):\n",
    "    oa = df.att - df.che\n",
    "    ol = df.att - df.dlc - df.dltt - df.mib - df.pstk - df.ceq\n",
    "    chact = df.act - df.act.shift(1)\n",
    "    chchee = df.chee - df.chee.shift(1)\n",
    "    chlct = df.lct - df.lct.shift(1)\n",
    "    chdlc = df.dlc - df.dlc.shift(1)\n",
    "    chtxp = df.txp - df.txp.shift(1)\n",
    "    chchee = df.chee - df.chee.shift(1)\n",
    "    avg_at = (df.att + df.att.shift(1)) / 2\n",
    "    nca = df.att - df.act - df.ivaeq\n",
    "    ncl = df.ltt - df.lct - df.dltt\n",
    "    ncoa = nca - ncl\n",
    "    coa = df.act - df.che\n",
    "    col = df.lct - df.dlc\n",
    "    wc = df.act - df.che - df.lct + df.dlc\n",
    "    fna = df.ivst + df.ivao\n",
    "    fnl = df.dltt + df.dlc + df.pstk\n",
    "    nfna = fna - fnl\n",
    "    df = df.assign(\n",
    "        acc=((chact - chchee) - (chlct - chdlc - chtxp) - df.dp) / avg_at,\n",
    "        chcoa=(coa - coa.shift(1)) / df.att.shift(1),\n",
    "        chcol=(col - col.shift(1)) / df.att.shift(1),\n",
    "        chnncwc=(wc - wc.shift(1)) / df.att.shift(1),\n",
    "        chnncoa=(ncoa - ncoa.shift(1)) / df.att.shift(1),\n",
    "        chncoa=(nca - nca.shift(1)) / df.att.shift(1),\n",
    "        chncol=(ncl - ncl.shift(1)) / df.att.shift(1),\n",
    "        chnfa=nfna - nfna.shift(1) / df.att.shift(1),\n",
    "        chlti=(df.ivao - df.ivao.shift(1)) / df.att.shift(1),\n",
    "        chce=(df.ceq - df.ceq.shift(1)) / df.att.shift(1),\n",
    "        chfl=(df.dltt + df.dlc + df.pstk - (df.dltt + df.dlc + df.pstk).shift(1))\n",
    "        / df.att.shift(1),\n",
    "        grii=(df.invt - df.invt.shift(1)) / ((df.att + df.att.shift(1)) / 2),\n",
    "        ich=(df.invt - df.invt.shift(1)) / df.att.shift(1),\n",
    "        igr=(df.invt - df.invt.shift(1)) / df.invt.shift(1),\n",
    "        nwcch=(wc - wc.shift(1)) / df.att.shift(1),\n",
    "        ta=((ncoa + wc + nfna) - (ncoa + wc + nfna).shift(1)) / df.att.shift(1),\n",
    "        agr=df.att / df.att.shift(1),\n",
    "        chnoa=(((oa - ol) / df.att.shift(1)) - (((oa - ol) / df.att.shift(1)).shift(1)))\n",
    "        / df.att.shift(1),\n",
    "        chppeia=((df.ppegt - df.ppegt.shift(1)) + (df.invt - df.invt.shift(1)))\n",
    "        / df.att.shift(1),\n",
    "        cdi=np.log((df.dltt + df.dlc) / (df.dltt.shift(5) + df.dlc.shift(5))),\n",
    "        griltnoa=(\n",
    "            ((oa - ol) / df.att.shift(1))\n",
    "            - (((oa - ol) / df.att.shift(1)).shift(1))\n",
    "            - ((chact - chchee) - (chlct - chdlc - chtxp) - df.dp) / avg_at\n",
    "        ),\n",
    "        inv=(df.capx / df.revt)\n",
    "        / (\n",
    "            (\n",
    "                (df.capx.shift(1) / df.revt.shift(1))\n",
    "                + (df.capx.shift(2) / df.revt.shift(2))\n",
    "                + (df.capx.shift(3) / df.revt.shift(3))\n",
    "            )\n",
    "            / 3\n",
    "        ),\n",
    "        ndf=(df.dltis - df.dltr + df.dlcch) / ((df.att + df.att.shift(1)) / 2),\n",
    "        nef=(df.sstk - df.prstkc - df.dv) / ((df.att + df.att.shift(1)) / 2),\n",
    "        noa=(oa - ol) / df.att.shift(1),\n",
    "        noach=(ncoa - ncoa.shift(1)) / df.att,\n",
    "        txfin=(df.sstk - df.dv - df.prstkc + df.dltis - df.dltr) / df.att,\n",
    "        ir=(df.icapt - df.icapt.shift(1)) / (df.ebit * (df.nicon / df.pi)),\n",
    "        nopat_g=(df.icapt - df.icapt.shift(1)) / df.icapt,\n",
    "        rev_cagr_3=((df.revt / df.revt.shift(3)) ** (1 / 3)) - 1,\n",
    "        ebitda_cagr_3=((df.ebitda / df.ebitda.shift(3)) ** (1 / 3)) - 1,\n",
    "    )\n",
    "    df.loc[:, \"acc\":] = df.loc[:, \"acc\":].fillna(0).replace(np.inf, 0)\n",
    "    return df"
   ]
  },
  {
   "cell_type": "code",
   "execution_count": 11,
   "metadata": {},
   "outputs": [],
   "source": [
    "fund_build = fund.groupby(\"gvkey\").apply(build_fundamental).groupby(\"gvkey\").apply(fill_year)"
   ]
  },
  {
   "cell_type": "code",
   "execution_count": 12,
   "metadata": {},
   "outputs": [],
   "source": [
    "prc_build = prc.set_index([\"gvkey\", \"date\"])"
   ]
  },
  {
   "cell_type": "code",
   "execution_count": 13,
   "metadata": {},
   "outputs": [],
   "source": [
    "df = fund_build.join(prc_build)"
   ]
  },
  {
   "cell_type": "code",
   "execution_count": 14,
   "metadata": {},
   "outputs": [
    {
     "data": {
      "text/html": [
       "<div>\n",
       "<style scoped>\n",
       "    .dataframe tbody tr th:only-of-type {\n",
       "        vertical-align: middle;\n",
       "    }\n",
       "\n",
       "    .dataframe tbody tr th {\n",
       "        vertical-align: top;\n",
       "    }\n",
       "\n",
       "    .dataframe thead th {\n",
       "        text-align: right;\n",
       "    }\n",
       "</style>\n",
       "<table border=\"1\" class=\"dataframe\">\n",
       "  <thead>\n",
       "    <tr style=\"text-align: right;\">\n",
       "      <th></th>\n",
       "      <th></th>\n",
       "      <th>country</th>\n",
       "      <th>industry</th>\n",
       "      <th>classification</th>\n",
       "      <th>act</th>\n",
       "      <th>att</th>\n",
       "      <th>capx</th>\n",
       "      <th>ceq</th>\n",
       "      <th>che</th>\n",
       "      <th>chee</th>\n",
       "      <th>dlc</th>\n",
       "      <th>...</th>\n",
       "      <th>nef</th>\n",
       "      <th>noa</th>\n",
       "      <th>noach</th>\n",
       "      <th>txfin</th>\n",
       "      <th>ir</th>\n",
       "      <th>nopat_g</th>\n",
       "      <th>rev_cagr_3</th>\n",
       "      <th>ebitda_cagr_3</th>\n",
       "      <th>cshoc</th>\n",
       "      <th>prccd</th>\n",
       "    </tr>\n",
       "    <tr>\n",
       "      <th>gvkey</th>\n",
       "      <th>date</th>\n",
       "      <th></th>\n",
       "      <th></th>\n",
       "      <th></th>\n",
       "      <th></th>\n",
       "      <th></th>\n",
       "      <th></th>\n",
       "      <th></th>\n",
       "      <th></th>\n",
       "      <th></th>\n",
       "      <th></th>\n",
       "      <th></th>\n",
       "      <th></th>\n",
       "      <th></th>\n",
       "      <th></th>\n",
       "      <th></th>\n",
       "      <th></th>\n",
       "      <th></th>\n",
       "      <th></th>\n",
       "      <th></th>\n",
       "      <th></th>\n",
       "      <th></th>\n",
       "    </tr>\n",
       "  </thead>\n",
       "  <tbody>\n",
       "    <tr>\n",
       "      <th rowspan=\"11\" valign=\"top\">100022</th>\n",
       "      <th>1999-12-31</th>\n",
       "      <td>DEU</td>\n",
       "      <td>INDL</td>\n",
       "      <td>MOTOR VEHICLES AND PASSENGER CAR BODIES</td>\n",
       "      <td>28736.0</td>\n",
       "      <td>37507.0</td>\n",
       "      <td>2125.0</td>\n",
       "      <td>3883.0</td>\n",
       "      <td>2939.0</td>\n",
       "      <td>2055.0</td>\n",
       "      <td>7379.0</td>\n",
       "      <td>...</td>\n",
       "      <td>0.000000</td>\n",
       "      <td>0.000000</td>\n",
       "      <td>0.000000</td>\n",
       "      <td>-0.005732</td>\n",
       "      <td>0.00000</td>\n",
       "      <td>0.000000</td>\n",
       "      <td>0.0</td>\n",
       "      <td>0.0</td>\n",
       "      <td>NaN</td>\n",
       "      <td>NaN</td>\n",
       "    </tr>\n",
       "    <tr>\n",
       "      <th>2000-01-01</th>\n",
       "      <td>DEU</td>\n",
       "      <td>INDL</td>\n",
       "      <td>MOTOR VEHICLES AND PASSENGER CAR BODIES</td>\n",
       "      <td>28736.0</td>\n",
       "      <td>37507.0</td>\n",
       "      <td>2125.0</td>\n",
       "      <td>3883.0</td>\n",
       "      <td>2939.0</td>\n",
       "      <td>2055.0</td>\n",
       "      <td>7379.0</td>\n",
       "      <td>...</td>\n",
       "      <td>0.000000</td>\n",
       "      <td>0.000000</td>\n",
       "      <td>0.000000</td>\n",
       "      <td>-0.005732</td>\n",
       "      <td>0.00000</td>\n",
       "      <td>0.000000</td>\n",
       "      <td>0.0</td>\n",
       "      <td>0.0</td>\n",
       "      <td>NaN</td>\n",
       "      <td>NaN</td>\n",
       "    </tr>\n",
       "    <tr>\n",
       "      <th>2000-01-02</th>\n",
       "      <td>DEU</td>\n",
       "      <td>INDL</td>\n",
       "      <td>MOTOR VEHICLES AND PASSENGER CAR BODIES</td>\n",
       "      <td>28736.0</td>\n",
       "      <td>37507.0</td>\n",
       "      <td>2125.0</td>\n",
       "      <td>3883.0</td>\n",
       "      <td>2939.0</td>\n",
       "      <td>2055.0</td>\n",
       "      <td>7379.0</td>\n",
       "      <td>...</td>\n",
       "      <td>0.000000</td>\n",
       "      <td>0.000000</td>\n",
       "      <td>0.000000</td>\n",
       "      <td>-0.005732</td>\n",
       "      <td>0.00000</td>\n",
       "      <td>0.000000</td>\n",
       "      <td>0.0</td>\n",
       "      <td>0.0</td>\n",
       "      <td>NaN</td>\n",
       "      <td>NaN</td>\n",
       "    </tr>\n",
       "    <tr>\n",
       "      <th>2000-01-03</th>\n",
       "      <td>DEU</td>\n",
       "      <td>INDL</td>\n",
       "      <td>MOTOR VEHICLES AND PASSENGER CAR BODIES</td>\n",
       "      <td>28736.0</td>\n",
       "      <td>37507.0</td>\n",
       "      <td>2125.0</td>\n",
       "      <td>3883.0</td>\n",
       "      <td>2939.0</td>\n",
       "      <td>2055.0</td>\n",
       "      <td>7379.0</td>\n",
       "      <td>...</td>\n",
       "      <td>0.000000</td>\n",
       "      <td>0.000000</td>\n",
       "      <td>0.000000</td>\n",
       "      <td>-0.005732</td>\n",
       "      <td>0.00000</td>\n",
       "      <td>0.000000</td>\n",
       "      <td>0.0</td>\n",
       "      <td>0.0</td>\n",
       "      <td>622227918.0</td>\n",
       "      <td>29.10</td>\n",
       "    </tr>\n",
       "    <tr>\n",
       "      <th>2000-01-04</th>\n",
       "      <td>DEU</td>\n",
       "      <td>INDL</td>\n",
       "      <td>MOTOR VEHICLES AND PASSENGER CAR BODIES</td>\n",
       "      <td>28736.0</td>\n",
       "      <td>37507.0</td>\n",
       "      <td>2125.0</td>\n",
       "      <td>3883.0</td>\n",
       "      <td>2939.0</td>\n",
       "      <td>2055.0</td>\n",
       "      <td>7379.0</td>\n",
       "      <td>...</td>\n",
       "      <td>0.000000</td>\n",
       "      <td>0.000000</td>\n",
       "      <td>0.000000</td>\n",
       "      <td>-0.005732</td>\n",
       "      <td>0.00000</td>\n",
       "      <td>0.000000</td>\n",
       "      <td>0.0</td>\n",
       "      <td>0.0</td>\n",
       "      <td>622227918.0</td>\n",
       "      <td>28.20</td>\n",
       "    </tr>\n",
       "    <tr>\n",
       "      <th>...</th>\n",
       "      <td>...</td>\n",
       "      <td>...</td>\n",
       "      <td>...</td>\n",
       "      <td>...</td>\n",
       "      <td>...</td>\n",
       "      <td>...</td>\n",
       "      <td>...</td>\n",
       "      <td>...</td>\n",
       "      <td>...</td>\n",
       "      <td>...</td>\n",
       "      <td>...</td>\n",
       "      <td>...</td>\n",
       "      <td>...</td>\n",
       "      <td>...</td>\n",
       "      <td>...</td>\n",
       "      <td>...</td>\n",
       "      <td>...</td>\n",
       "      <td>...</td>\n",
       "      <td>...</td>\n",
       "      <td>...</td>\n",
       "      <td>...</td>\n",
       "    </tr>\n",
       "    <tr>\n",
       "      <th>2002-09-21</th>\n",
       "      <td>DEU</td>\n",
       "      <td>INDL</td>\n",
       "      <td>MOTOR VEHICLES AND PASSENGER CAR BODIES</td>\n",
       "      <td>32791.0</td>\n",
       "      <td>51259.0</td>\n",
       "      <td>8047.0</td>\n",
       "      <td>10719.0</td>\n",
       "      <td>3344.0</td>\n",
       "      <td>2437.0</td>\n",
       "      <td>11720.0</td>\n",
       "      <td>...</td>\n",
       "      <td>-0.006565</td>\n",
       "      <td>0.922397</td>\n",
       "      <td>0.253263</td>\n",
       "      <td>-0.005580</td>\n",
       "      <td>6.89527</td>\n",
       "      <td>0.499049</td>\n",
       "      <td>0.0</td>\n",
       "      <td>0.0</td>\n",
       "      <td>NaN</td>\n",
       "      <td>NaN</td>\n",
       "    </tr>\n",
       "    <tr>\n",
       "      <th>2002-09-22</th>\n",
       "      <td>DEU</td>\n",
       "      <td>INDL</td>\n",
       "      <td>MOTOR VEHICLES AND PASSENGER CAR BODIES</td>\n",
       "      <td>32791.0</td>\n",
       "      <td>51259.0</td>\n",
       "      <td>8047.0</td>\n",
       "      <td>10719.0</td>\n",
       "      <td>3344.0</td>\n",
       "      <td>2437.0</td>\n",
       "      <td>11720.0</td>\n",
       "      <td>...</td>\n",
       "      <td>-0.006565</td>\n",
       "      <td>0.922397</td>\n",
       "      <td>0.253263</td>\n",
       "      <td>-0.005580</td>\n",
       "      <td>6.89527</td>\n",
       "      <td>0.499049</td>\n",
       "      <td>0.0</td>\n",
       "      <td>0.0</td>\n",
       "      <td>NaN</td>\n",
       "      <td>NaN</td>\n",
       "    </tr>\n",
       "    <tr>\n",
       "      <th>2002-09-23</th>\n",
       "      <td>DEU</td>\n",
       "      <td>INDL</td>\n",
       "      <td>MOTOR VEHICLES AND PASSENGER CAR BODIES</td>\n",
       "      <td>32791.0</td>\n",
       "      <td>51259.0</td>\n",
       "      <td>8047.0</td>\n",
       "      <td>10719.0</td>\n",
       "      <td>3344.0</td>\n",
       "      <td>2437.0</td>\n",
       "      <td>11720.0</td>\n",
       "      <td>...</td>\n",
       "      <td>-0.006565</td>\n",
       "      <td>0.922397</td>\n",
       "      <td>0.253263</td>\n",
       "      <td>-0.005580</td>\n",
       "      <td>6.89527</td>\n",
       "      <td>0.499049</td>\n",
       "      <td>0.0</td>\n",
       "      <td>0.0</td>\n",
       "      <td>622227918.0</td>\n",
       "      <td>33.75</td>\n",
       "    </tr>\n",
       "    <tr>\n",
       "      <th>2002-09-24</th>\n",
       "      <td>DEU</td>\n",
       "      <td>INDL</td>\n",
       "      <td>MOTOR VEHICLES AND PASSENGER CAR BODIES</td>\n",
       "      <td>32791.0</td>\n",
       "      <td>51259.0</td>\n",
       "      <td>8047.0</td>\n",
       "      <td>10719.0</td>\n",
       "      <td>3344.0</td>\n",
       "      <td>2437.0</td>\n",
       "      <td>11720.0</td>\n",
       "      <td>...</td>\n",
       "      <td>-0.006565</td>\n",
       "      <td>0.922397</td>\n",
       "      <td>0.253263</td>\n",
       "      <td>-0.005580</td>\n",
       "      <td>6.89527</td>\n",
       "      <td>0.499049</td>\n",
       "      <td>0.0</td>\n",
       "      <td>0.0</td>\n",
       "      <td>622227918.0</td>\n",
       "      <td>31.86</td>\n",
       "    </tr>\n",
       "    <tr>\n",
       "      <th>2002-09-25</th>\n",
       "      <td>DEU</td>\n",
       "      <td>INDL</td>\n",
       "      <td>MOTOR VEHICLES AND PASSENGER CAR BODIES</td>\n",
       "      <td>32791.0</td>\n",
       "      <td>51259.0</td>\n",
       "      <td>8047.0</td>\n",
       "      <td>10719.0</td>\n",
       "      <td>3344.0</td>\n",
       "      <td>2437.0</td>\n",
       "      <td>11720.0</td>\n",
       "      <td>...</td>\n",
       "      <td>-0.006565</td>\n",
       "      <td>0.922397</td>\n",
       "      <td>0.253263</td>\n",
       "      <td>-0.005580</td>\n",
       "      <td>6.89527</td>\n",
       "      <td>0.499049</td>\n",
       "      <td>0.0</td>\n",
       "      <td>0.0</td>\n",
       "      <td>622227918.0</td>\n",
       "      <td>32.11</td>\n",
       "    </tr>\n",
       "  </tbody>\n",
       "</table>\n",
       "<p>1000 rows × 73 columns</p>\n",
       "</div>"
      ],
      "text/plain": [
       "                  country industry                           classification  \\\n",
       "gvkey  date                                                                   \n",
       "100022 1999-12-31     DEU     INDL  MOTOR VEHICLES AND PASSENGER CAR BODIES   \n",
       "       2000-01-01     DEU     INDL  MOTOR VEHICLES AND PASSENGER CAR BODIES   \n",
       "       2000-01-02     DEU     INDL  MOTOR VEHICLES AND PASSENGER CAR BODIES   \n",
       "       2000-01-03     DEU     INDL  MOTOR VEHICLES AND PASSENGER CAR BODIES   \n",
       "       2000-01-04     DEU     INDL  MOTOR VEHICLES AND PASSENGER CAR BODIES   \n",
       "...                   ...      ...                                      ...   \n",
       "       2002-09-21     DEU     INDL  MOTOR VEHICLES AND PASSENGER CAR BODIES   \n",
       "       2002-09-22     DEU     INDL  MOTOR VEHICLES AND PASSENGER CAR BODIES   \n",
       "       2002-09-23     DEU     INDL  MOTOR VEHICLES AND PASSENGER CAR BODIES   \n",
       "       2002-09-24     DEU     INDL  MOTOR VEHICLES AND PASSENGER CAR BODIES   \n",
       "       2002-09-25     DEU     INDL  MOTOR VEHICLES AND PASSENGER CAR BODIES   \n",
       "\n",
       "                       act      att    capx      ceq     che    chee      dlc  \\\n",
       "gvkey  date                                                                     \n",
       "100022 1999-12-31  28736.0  37507.0  2125.0   3883.0  2939.0  2055.0   7379.0   \n",
       "       2000-01-01  28736.0  37507.0  2125.0   3883.0  2939.0  2055.0   7379.0   \n",
       "       2000-01-02  28736.0  37507.0  2125.0   3883.0  2939.0  2055.0   7379.0   \n",
       "       2000-01-03  28736.0  37507.0  2125.0   3883.0  2939.0  2055.0   7379.0   \n",
       "       2000-01-04  28736.0  37507.0  2125.0   3883.0  2939.0  2055.0   7379.0   \n",
       "...                    ...      ...     ...      ...     ...     ...      ...   \n",
       "       2002-09-21  32791.0  51259.0  8047.0  10719.0  3344.0  2437.0  11720.0   \n",
       "       2002-09-22  32791.0  51259.0  8047.0  10719.0  3344.0  2437.0  11720.0   \n",
       "       2002-09-23  32791.0  51259.0  8047.0  10719.0  3344.0  2437.0  11720.0   \n",
       "       2002-09-24  32791.0  51259.0  8047.0  10719.0  3344.0  2437.0  11720.0   \n",
       "       2002-09-25  32791.0  51259.0  8047.0  10719.0  3344.0  2437.0  11720.0   \n",
       "\n",
       "                   ...       nef       noa     noach     txfin       ir  \\\n",
       "gvkey  date        ...                                                    \n",
       "100022 1999-12-31  ...  0.000000  0.000000  0.000000 -0.005732  0.00000   \n",
       "       2000-01-01  ...  0.000000  0.000000  0.000000 -0.005732  0.00000   \n",
       "       2000-01-02  ...  0.000000  0.000000  0.000000 -0.005732  0.00000   \n",
       "       2000-01-03  ...  0.000000  0.000000  0.000000 -0.005732  0.00000   \n",
       "       2000-01-04  ...  0.000000  0.000000  0.000000 -0.005732  0.00000   \n",
       "...                ...       ...       ...       ...       ...      ...   \n",
       "       2002-09-21  ... -0.006565  0.922397  0.253263 -0.005580  6.89527   \n",
       "       2002-09-22  ... -0.006565  0.922397  0.253263 -0.005580  6.89527   \n",
       "       2002-09-23  ... -0.006565  0.922397  0.253263 -0.005580  6.89527   \n",
       "       2002-09-24  ... -0.006565  0.922397  0.253263 -0.005580  6.89527   \n",
       "       2002-09-25  ... -0.006565  0.922397  0.253263 -0.005580  6.89527   \n",
       "\n",
       "                    nopat_g  rev_cagr_3  ebitda_cagr_3        cshoc  prccd  \n",
       "gvkey  date                                                                 \n",
       "100022 1999-12-31  0.000000         0.0            0.0          NaN    NaN  \n",
       "       2000-01-01  0.000000         0.0            0.0          NaN    NaN  \n",
       "       2000-01-02  0.000000         0.0            0.0          NaN    NaN  \n",
       "       2000-01-03  0.000000         0.0            0.0  622227918.0  29.10  \n",
       "       2000-01-04  0.000000         0.0            0.0  622227918.0  28.20  \n",
       "...                     ...         ...            ...          ...    ...  \n",
       "       2002-09-21  0.499049         0.0            0.0          NaN    NaN  \n",
       "       2002-09-22  0.499049         0.0            0.0          NaN    NaN  \n",
       "       2002-09-23  0.499049         0.0            0.0  622227918.0  33.75  \n",
       "       2002-09-24  0.499049         0.0            0.0  622227918.0  31.86  \n",
       "       2002-09-25  0.499049         0.0            0.0  622227918.0  32.11  \n",
       "\n",
       "[1000 rows x 73 columns]"
      ]
     },
     "execution_count": 14,
     "metadata": {},
     "output_type": "execute_result"
    }
   ],
   "source": [
    "df.head(1000)"
   ]
  },
  {
   "cell_type": "code",
   "execution_count": 31,
   "metadata": {},
   "outputs": [
    {
     "data": {
      "text/plain": [
       "gvkey   date      \n",
       "100022  1999-12-31         NaN\n",
       "        2000-01-01         NaN\n",
       "        2000-01-02         NaN\n",
       "        2000-01-03    0.000000\n",
       "        2000-01-04    0.000000\n",
       "                        ...   \n",
       "        2020-12-27         NaN\n",
       "        2020-12-28    0.037206\n",
       "        2020-12-29    0.037373\n",
       "        2020-12-30    0.037855\n",
       "        2020-12-31         NaN\n",
       "Length: 7672, dtype: float64"
      ]
     },
     "execution_count": 31,
     "metadata": {},
     "output_type": "execute_result"
    }
   ],
   "source": [
    "#### Dividend yield ratio\n",
    "dyr = ((df.dvt*10**6) / df.cshoc) / df.prccd\n",
    "dyr\n",
    "# Recheck here if dvt should be taken - at least for this example, only cash paid div (dv) has figures"
   ]
  },
  {
   "cell_type": "code",
   "execution_count": 32,
   "metadata": {},
   "outputs": [
    {
     "data": {
      "text/plain": [
       "gvkey   date      \n",
       "100022  1999-12-31         NaN\n",
       "        2000-01-01         NaN\n",
       "        2000-01-02         NaN\n",
       "        2000-01-03         inf\n",
       "        2000-01-04         inf\n",
       "                        ...   \n",
       "        2020-12-27         NaN\n",
       "        2020-12-28    9.082453\n",
       "        2020-12-29    9.041669\n",
       "        2020-12-30    8.926732\n",
       "        2020-12-31         NaN\n",
       "Length: 7672, dtype: float64"
      ]
     },
     "execution_count": 32,
     "metadata": {},
     "output_type": "execute_result"
    }
   ],
   "source": [
    "#### Price to earnings\n",
    "pe = (df.cshoc * df.prccd) / (df.nicon*10**6)\n",
    "pe"
   ]
  },
  {
   "cell_type": "code",
   "execution_count": 33,
   "metadata": {},
   "outputs": [
    {
     "data": {
      "text/plain": [
       "gvkey   date      \n",
       "100022  1999-12-31          NaN\n",
       "        2000-01-01          NaN\n",
       "        2000-01-02          NaN\n",
       "        2000-01-03     3.416383\n",
       "        2000-01-04     3.310722\n",
       "                        ...    \n",
       "        2020-12-27          NaN\n",
       "        2020-12-28    12.081001\n",
       "        2020-12-29    12.026753\n",
       "        2020-12-30    11.873870\n",
       "        2020-12-31          NaN\n",
       "Length: 7672, dtype: float64"
      ]
     },
     "execution_count": 33,
     "metadata": {},
     "output_type": "execute_result"
    }
   ],
   "source": [
    "#### Price to cash flow\n",
    "pocf = (df.cshoc * df.prccd) / (df.oancf*10**6)\n",
    "pocf"
   ]
  },
  {
   "cell_type": "code",
   "execution_count": 30,
   "metadata": {},
   "outputs": [
    {
     "data": {
      "text/plain": [
       "gvkey   date      \n",
       "100022  1999-12-31         NaN\n",
       "        2000-01-01         NaN\n",
       "        2000-01-02         NaN\n",
       "        2000-01-03    0.526331\n",
       "        2000-01-04    0.510053\n",
       "                        ...   \n",
       "        2020-12-27         NaN\n",
       "        2020-12-28    0.424533\n",
       "        2020-12-29    0.422627\n",
       "        2020-12-30    0.417255\n",
       "        2020-12-31         NaN\n",
       "Length: 7672, dtype: float64"
      ]
     },
     "execution_count": 30,
     "metadata": {},
     "output_type": "execute_result"
    }
   ],
   "source": [
    "#### Price to sales\n",
    "psales = (df.cshoc * df.prccd) / (df.revt*10**6)\n",
    "psales"
   ]
  },
  {
   "cell_type": "code",
   "execution_count": 29,
   "metadata": {},
   "outputs": [
    {
     "data": {
      "text/plain": [
       "gvkey   date      \n",
       "100022  1999-12-31    NaN\n",
       "        2000-01-01    NaN\n",
       "        2000-01-02    NaN\n",
       "        2000-01-03    NaN\n",
       "        2000-01-04    NaN\n",
       "                     ... \n",
       "        2020-12-27    NaN\n",
       "        2020-12-28    NaN\n",
       "        2020-12-29    inf\n",
       "        2020-12-30    inf\n",
       "        2020-12-31    NaN\n",
       "Length: 7672, dtype: float64"
      ]
     },
     "execution_count": 29,
     "metadata": {},
     "output_type": "execute_result"
    }
   ],
   "source": [
    "#### PEG\n",
    "peg = (df.prccd/((df.nicon*10**6)/df.cshoc)) / ((((df.nicon*10**6)/df.cshoc)/(((df.nicon*10**6)/df.cshoc).shift(1)))-1)\n",
    "peg"
   ]
  },
  {
   "cell_type": "code",
   "execution_count": 25,
   "metadata": {},
   "outputs": [
    {
     "data": {
      "text/plain": [
       "gvkey   date      \n",
       "100022  1999-12-31         NaN\n",
       "        2000-01-01         NaN\n",
       "        2000-01-02         NaN\n",
       "        2000-01-03    4.663104\n",
       "        2000-01-04    4.518884\n",
       "                        ...   \n",
       "        2020-12-27         NaN\n",
       "        2020-12-28    0.745746\n",
       "        2020-12-29    0.742397\n",
       "        2020-12-30    0.732960\n",
       "        2020-12-31         NaN\n",
       "Length: 7672, dtype: float64"
      ]
     },
     "execution_count": 25,
     "metadata": {},
     "output_type": "execute_result"
    }
   ],
   "source": [
    "#### M/B ratio\n",
    "mb = (df.cshoc * df.prccd) / (df.ceq*10**6)\n",
    "mb"
   ]
  },
  {
   "cell_type": "code",
   "execution_count": 35,
   "metadata": {},
   "outputs": [
    {
     "data": {
      "text/plain": [
       "gvkey   date      \n",
       "100022  1999-12-31         NaN\n",
       "        2000-01-01         NaN\n",
       "        2000-01-02         NaN\n",
       "        2000-01-03    0.917471\n",
       "        2000-01-04    0.901193\n",
       "                        ...   \n",
       "        2020-12-27         NaN\n",
       "        2020-12-28    1.409161\n",
       "        2020-12-29    1.407254\n",
       "        2020-12-30    1.401882\n",
       "        2020-12-31         NaN\n",
       "Length: 7672, dtype: float64"
      ]
     },
     "execution_count": 35,
     "metadata": {},
     "output_type": "execute_result"
    }
   ],
   "source": [
    "#### EV Sales\n",
    "evsales = ((df.cshoc * df.prccd) + (df.dlc + df.dltt + df.pstk + df.mib - df.chee)*10**6) / (df.revt*10**6)\n",
    "evsales"
   ]
  },
  {
   "cell_type": "code",
   "execution_count": 36,
   "metadata": {},
   "outputs": [
    {
     "data": {
      "text/plain": [
       "gvkey   date      \n",
       "100022  1999-12-31          NaN\n",
       "        2000-01-01          NaN\n",
       "        2000-01-02          NaN\n",
       "        2000-01-03    10.616493\n",
       "        2000-01-04    10.428129\n",
       "                        ...    \n",
       "        2020-12-27          NaN\n",
       "        2020-12-28     9.556102\n",
       "        2020-12-29     9.543175\n",
       "        2020-12-30     9.506743\n",
       "        2020-12-31          NaN\n",
       "Length: 7672, dtype: float64"
      ]
     },
     "execution_count": 36,
     "metadata": {},
     "output_type": "execute_result"
    }
   ],
   "source": [
    "#### EV EBITDA\n",
    "evebitda = ((df.cshoc * df.prccd) + (df.dlc + df.dltt + df.pstk + df.mib - df.chee)*10**6) / (df.ebitda*10**6)\n",
    "evebitda"
   ]
  },
  {
   "cell_type": "code",
   "execution_count": 37,
   "metadata": {},
   "outputs": [
    {
     "data": {
      "text/plain": [
       "gvkey   date      \n",
       "100022  1999-12-31          NaN\n",
       "        2000-01-01          NaN\n",
       "        2000-01-02          NaN\n",
       "        2000-01-03    33.902076\n",
       "        2000-01-04    33.300566\n",
       "                        ...    \n",
       "        2020-12-27          NaN\n",
       "        2020-12-28    13.329275\n",
       "        2020-12-29    13.311243\n",
       "        2020-12-30    13.260426\n",
       "        2020-12-31          NaN\n",
       "Length: 7672, dtype: float64"
      ]
     },
     "execution_count": 37,
     "metadata": {},
     "output_type": "execute_result"
    }
   ],
   "source": [
    "#### EV EBIT\n",
    "evebit = ((df.cshoc * df.prccd) + (df.dlc + df.dltt + df.pstk + df.mib - df.chee)*10**6) / (df.ebit*10**6)\n",
    "evebit"
   ]
  },
  {
   "cell_type": "code",
   "execution_count": 38,
   "metadata": {},
   "outputs": [
    {
     "data": {
      "text/plain": [
       "gvkey   date      \n",
       "100022  1999-12-31          NaN\n",
       "        2000-01-01          NaN\n",
       "        2000-01-02          NaN\n",
       "        2000-01-03    37.220321\n",
       "        2000-01-04    36.559938\n",
       "                        ...    \n",
       "        2020-12-27          NaN\n",
       "        2020-12-28    17.347741\n",
       "        2020-12-29    17.324273\n",
       "        2020-12-30    17.258135\n",
       "        2020-12-31          NaN\n",
       "Length: 7672, dtype: float64"
      ]
     },
     "execution_count": 38,
     "metadata": {},
     "output_type": "execute_result"
    }
   ],
   "source": [
    "#### EV EBITDA-Capex\n",
    "evebitdacpx = ((df.cshoc * df.prccd) + (df.dlc + df.dltt + df.pstk + df.mib - df.chee)*10**6) / ((df.ebitda-df.capx)*10**6)\n",
    "evebitdacpx"
   ]
  },
  {
   "cell_type": "code",
   "execution_count": 39,
   "metadata": {},
   "outputs": [
    {
     "data": {
      "text/plain": [
       "gvkey   date      \n",
       "100022  1999-12-31          NaN\n",
       "        2000-01-01          NaN\n",
       "        2000-01-02          NaN\n",
       "        2000-01-03     5.955251\n",
       "        2000-01-04     5.849590\n",
       "                        ...    \n",
       "        2020-12-27          NaN\n",
       "        2020-12-28    40.100663\n",
       "        2020-12-29    40.046414\n",
       "        2020-12-30    39.893532\n",
       "        2020-12-31          NaN\n",
       "Length: 7672, dtype: float64"
      ]
     },
     "execution_count": 39,
     "metadata": {},
     "output_type": "execute_result"
    }
   ],
   "source": [
    "#### EV Operating CF\n",
    "evocf = ((df.cshoc * df.prccd) + (df.dlc + df.dltt + df.pstk + df.mib - df.chee)*10**6) / ((df.oancf)*10**6)\n",
    "evocf"
   ]
  },
  {
   "cell_type": "code",
   "execution_count": 40,
   "metadata": {},
   "outputs": [
    {
     "data": {
      "text/plain": [
       "gvkey   date      \n",
       "100022  1999-12-31         NaN\n",
       "        2000-01-01         NaN\n",
       "        2000-01-02         NaN\n",
       "        2000-01-03    0.000000\n",
       "        2000-01-04    0.000000\n",
       "                        ...   \n",
       "        2020-12-27         NaN\n",
       "        2020-12-28    0.134537\n",
       "        2020-12-29    0.135144\n",
       "        2020-12-30    0.136884\n",
       "        2020-12-31         NaN\n",
       "Length: 7672, dtype: float64"
      ]
     },
     "execution_count": 40,
     "metadata": {},
     "output_type": "execute_result"
    }
   ],
   "source": [
    "#### R&D to Market Capitalization\n",
    "rdmarket = (df.xrd*10**6) / (df.cshoc * df.prccd)\n",
    "rdmarket"
   ]
  },
  {
   "cell_type": "code",
   "execution_count": 45,
   "metadata": {},
   "outputs": [
    {
     "data": {
      "text/plain": [
       "gvkey   date      \n",
       "100022  1999-12-31   NaN\n",
       "        2000-01-01   NaN\n",
       "        2000-01-02   NaN\n",
       "        2000-01-03   NaN\n",
       "        2000-01-04   NaN\n",
       "                      ..\n",
       "        2020-12-27   NaN\n",
       "        2020-12-28   NaN\n",
       "        2020-12-29   NaN\n",
       "        2020-12-30   NaN\n",
       "        2020-12-31   NaN\n",
       "Length: 7672, dtype: float64"
      ]
     },
     "execution_count": 45,
     "metadata": {},
     "output_type": "execute_result"
    }
   ],
   "source": [
    "#### Degree of Operating Leverage\n",
    "dopl = ((df.ebit/df.ebit.shift(1))-1) / ((df.revt/df.revt.shift(1))-1)\n",
    "dopl"
   ]
  },
  {
   "cell_type": "code",
   "execution_count": null,
   "metadata": {},
   "outputs": [],
   "source": []
  }
 ],
 "metadata": {
  "kernelspec": {
   "display_name": "Python 3",
   "language": "python",
   "name": "python3"
  },
  "language_info": {
   "codemirror_mode": {
    "name": "ipython",
    "version": 3
   },
   "file_extension": ".py",
   "mimetype": "text/x-python",
   "name": "python",
   "nbconvert_exporter": "python",
   "pygments_lexer": "ipython3",
   "version": "3.8.3"
  }
 },
 "nbformat": 4,
 "nbformat_minor": 5
}

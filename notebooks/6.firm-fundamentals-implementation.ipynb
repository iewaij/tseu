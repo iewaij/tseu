{
 "cells": [
  {
   "cell_type": "markdown",
   "metadata": {
    "heading_collapsed": true
   },
   "source": [
    "### Set up"
   ]
  },
  {
   "cell_type": "code",
   "execution_count": 1,
   "metadata": {
    "hidden": true,
    "scrolled": true
   },
   "outputs": [],
   "source": [
    "import wrds"
   ]
  },
  {
   "cell_type": "code",
   "execution_count": 2,
   "metadata": {
    "hidden": true
   },
   "outputs": [
    {
     "name": "stdout",
     "output_type": "stream",
     "text": [
      "Loading library list...\n",
      "Done\n"
     ]
    }
   ],
   "source": [
    "conn = wrds.Connection(wrds_username='fanjia')"
   ]
  },
  {
   "cell_type": "code",
   "execution_count": 9,
   "metadata": {
    "hidden": true
   },
   "outputs": [
    {
     "data": {
      "text/plain": [
       "['aco_amda',\n",
       " 'aco_imda',\n",
       " 'aco_indfnta',\n",
       " 'aco_indfntq',\n",
       " 'aco_indfntytd',\n",
       " 'aco_indsta',\n",
       " 'aco_indstq',\n",
       " 'aco_indstytd',\n",
       " 'aco_notesa',\n",
       " 'aco_notesq',\n",
       " 'aco_notessa',\n",
       " 'aco_notesytd',\n",
       " 'aco_pnfnda',\n",
       " 'aco_pnfndq',\n",
       " 'aco_pnfndytd',\n",
       " 'aco_pnfnta',\n",
       " 'aco_pnfntq',\n",
       " 'aco_pnfntytd',\n",
       " 'aco_transa',\n",
       " 'aco_transq',\n",
       " 'aco_transsa',\n",
       " 'aco_transytd',\n",
       " 'adsprate',\n",
       " 'asec_amda',\n",
       " 'asec_imda',\n",
       " 'asec_notesa',\n",
       " 'asec_notesq',\n",
       " 'asec_transa',\n",
       " 'asec_transq',\n",
       " 'bank_aacctchg',\n",
       " 'bank_adesind',\n",
       " 'bank_afnd1',\n",
       " 'bank_afnd2',\n",
       " 'bank_afnddc1',\n",
       " 'bank_afnddc2',\n",
       " 'bank_afntind',\n",
       " 'bank_funda',\n",
       " 'bank_funda_fncd',\n",
       " 'bank_fundq',\n",
       " 'bank_fundq_fncd',\n",
       " 'bank_iacctchg',\n",
       " 'bank_idesind',\n",
       " 'bank_ifndq',\n",
       " 'bank_ifndytd',\n",
       " 'bank_ifntq',\n",
       " 'bank_ifntytd',\n",
       " 'bank_names',\n",
       " 'bank_namesq',\n",
       " 'chars',\n",
       " 'co_aacctchg',\n",
       " 'co_aaudit',\n",
       " 'co_adesind',\n",
       " 'co_adjfact',\n",
       " 'co_afnd1',\n",
       " 'co_afnd2',\n",
       " 'co_afnddc1',\n",
       " 'co_afnddc2',\n",
       " 'co_afntind1',\n",
       " 'co_afntind2',\n",
       " 'co_ainvval',\n",
       " 'co_amkt',\n",
       " 'co_busdescl',\n",
       " 'co_cotype',\n",
       " 'co_filedate',\n",
       " 'co_fortune',\n",
       " 'co_hgic',\n",
       " 'co_iacctchg',\n",
       " 'co_iaudit',\n",
       " 'co_idesind',\n",
       " 'co_ifndq',\n",
       " 'co_ifndsa',\n",
       " 'co_ifndytd',\n",
       " 'co_ifntq',\n",
       " 'co_ifntsa',\n",
       " 'co_ifntytd',\n",
       " 'co_imkt',\n",
       " 'co_industry',\n",
       " 'co_ipcd',\n",
       " 'co_mthly',\n",
       " 'co_offtitl',\n",
       " 'company',\n",
       " 'currency',\n",
       " 'dd_group',\n",
       " 'dd_group_xref',\n",
       " 'dd_item',\n",
       " 'dd_package',\n",
       " 'ecind_desc',\n",
       " 'ecind_mth',\n",
       " 'exrt_dly',\n",
       " 'exrt_mth',\n",
       " 'filings',\n",
       " 'funda',\n",
       " 'funda_fncd',\n",
       " 'fundq',\n",
       " 'fundq_fncd',\n",
       " 'g_chars',\n",
       " 'g_co_aaudit',\n",
       " 'g_co_adesind',\n",
       " 'g_co_afnd1',\n",
       " 'g_co_afnd2',\n",
       " 'g_co_afnddc1',\n",
       " 'g_co_afnddc2',\n",
       " 'g_co_afntind1',\n",
       " 'g_co_afntind2',\n",
       " 'g_co_ainvval',\n",
       " 'g_co_hgic',\n",
       " 'g_co_iaudit',\n",
       " 'g_co_idesind',\n",
       " 'g_co_ifndq',\n",
       " 'g_co_ifndsa',\n",
       " 'g_co_ifndytd',\n",
       " 'g_co_ifntq',\n",
       " 'g_co_ifntsa',\n",
       " 'g_co_ifntytd',\n",
       " 'g_co_industry',\n",
       " 'g_co_ipcd',\n",
       " 'g_co_offtitl',\n",
       " 'g_company',\n",
       " 'g_currency',\n",
       " 'g_ecind_desc',\n",
       " 'g_ecind_mth',\n",
       " 'g_exrt_dly',\n",
       " 'g_exrt_mth',\n",
       " 'g_funda',\n",
       " 'g_funda_fncd',\n",
       " 'g_fundq',\n",
       " 'g_fundq_fncd',\n",
       " 'g_idx_daily',\n",
       " 'g_idx_index',\n",
       " 'g_idx_mth',\n",
       " 'g_idxcst_his',\n",
       " 'g_names',\n",
       " 'g_names_ix',\n",
       " 'g_names_ix_cst',\n",
       " 'g_namesq',\n",
       " 'g_sec_adesind',\n",
       " 'g_sec_adjfact',\n",
       " 'g_sec_afnd',\n",
       " 'g_sec_afnddc',\n",
       " 'g_sec_afnt',\n",
       " 'g_sec_divid',\n",
       " 'g_sec_dprc',\n",
       " 'g_sec_dtrt',\n",
       " 'g_sec_history',\n",
       " 'g_sec_idesind',\n",
       " 'g_sec_ifnd',\n",
       " 'g_sec_ifnt',\n",
       " 'g_sec_split',\n",
       " 'g_secd',\n",
       " 'g_secnamesd',\n",
       " 'g_security',\n",
       " 'g_sedolgvkey',\n",
       " 'g_tmptable_pkg6153_tbl4023',\n",
       " 'idx_ann',\n",
       " 'idx_anndes',\n",
       " 'idx_daily',\n",
       " 'idx_index',\n",
       " 'idx_mth',\n",
       " 'idx_qrt',\n",
       " 'idx_qrtdes',\n",
       " 'idxcst_his',\n",
       " 'io_qaggregate',\n",
       " 'io_qbuysell',\n",
       " 'io_qchanges',\n",
       " 'io_qfloatadj',\n",
       " 'io_qholders',\n",
       " 'it_mbuysell',\n",
       " 'it_msummary',\n",
       " 'it_r_rltn',\n",
       " 'names',\n",
       " 'names_aco_indsta',\n",
       " 'names_aco_indstq',\n",
       " 'names_aco_pnfnda',\n",
       " 'names_aco_pnfndq',\n",
       " 'names_adsprate',\n",
       " 'names_ix',\n",
       " 'names_ix_cst',\n",
       " 'names_seg',\n",
       " 'namesd',\n",
       " 'namesm',\n",
       " 'namesq',\n",
       " 'r_accstd',\n",
       " 'r_acqmeth',\n",
       " 'r_auditors',\n",
       " 'r_auopic',\n",
       " 'r_balpres',\n",
       " 'r_cf_formt',\n",
       " 'r_co_status',\n",
       " 'r_coindpre',\n",
       " 'r_compstat',\n",
       " 'r_consol',\n",
       " 'r_country',\n",
       " 'r_cstclscd',\n",
       " 'r_datacode',\n",
       " 'r_datafmt',\n",
       " 'r_divtaxmarker',\n",
       " 'r_docsrce',\n",
       " 'r_ex_codes',\n",
       " 'r_exchgtier',\n",
       " 'r_exrt_typ',\n",
       " 'r_fndfntcd',\n",
       " 'r_footnts',\n",
       " 'r_foricd',\n",
       " 'r_giccd',\n",
       " 'r_hcalendr',\n",
       " 'r_idxclscd',\n",
       " 'r_inactvcd',\n",
       " 'r_incstats',\n",
       " 'r_indfmt',\n",
       " 'r_indsec',\n",
       " 'r_invval',\n",
       " 'r_issuetyp',\n",
       " 'r_majidxcl',\n",
       " 'r_mic_codes',\n",
       " 'r_naiccd',\n",
       " 'r_notetype',\n",
       " 'r_ntsubtype',\n",
       " 'r_offcrso',\n",
       " 'r_ogmethod',\n",
       " 'r_opinions',\n",
       " 'r_prc_stat',\n",
       " 'r_qsrcdoc',\n",
       " 'r_sec_stat',\n",
       " 'r_secannfn',\n",
       " 'r_sectors',\n",
       " 'r_siccd',\n",
       " 'r_spiicd',\n",
       " 'r_spmicd',\n",
       " 'r_statalrt',\n",
       " 'r_states',\n",
       " 'r_stko',\n",
       " 'r_titles',\n",
       " 'r_updates',\n",
       " 'sec_adesind',\n",
       " 'sec_adjfact',\n",
       " 'sec_afnd',\n",
       " 'sec_afnddc',\n",
       " 'sec_afnt',\n",
       " 'sec_divid',\n",
       " 'sec_dprc',\n",
       " 'sec_dtrt',\n",
       " 'sec_history',\n",
       " 'sec_idesind',\n",
       " 'sec_ifnd',\n",
       " 'sec_ifnt',\n",
       " 'sec_mdivfn',\n",
       " 'sec_mshare',\n",
       " 'sec_msptfn',\n",
       " 'sec_mth',\n",
       " 'sec_mthdiv',\n",
       " 'sec_mthprc',\n",
       " 'sec_mthspt',\n",
       " 'sec_mthtrt',\n",
       " 'sec_shortint',\n",
       " 'sec_spind',\n",
       " 'sec_split',\n",
       " 'secd',\n",
       " 'secm',\n",
       " 'security',\n",
       " 'sedolgvkey',\n",
       " 'seg_ann',\n",
       " 'seg_annfund',\n",
       " 'seg_customer',\n",
       " 'seg_geo',\n",
       " 'seg_naics',\n",
       " 'seg_product',\n",
       " 'seg_type',\n",
       " 'spidx_cst',\n",
       " 'spind',\n",
       " 'spind_dly',\n",
       " 'spind_mth',\n",
       " 'tmptable_pkg6153_tbl4023',\n",
       " 'wrds_seg_customer',\n",
       " 'wrds_seg_geo',\n",
       " 'wrds_seg_product',\n",
       " 'wrds_segmerged',\n",
       " 'xfl_column',\n",
       " 'xfl_table']"
      ]
     },
     "execution_count": 9,
     "metadata": {},
     "output_type": "execute_result"
    }
   ],
   "source": [
    "conn.list_tables(library='comp')"
   ]
  },
  {
   "cell_type": "markdown",
   "metadata": {
    "hidden": true
   },
   "source": [
    "***Directed Provided by Compustat***\n",
    "~~~python\n",
    "a = conn.raw_sql(\"\"\"SELECT\n",
    "                        datadate,\n",
    "                        ACCDQ,\n",
    "                        -- Accrued Expenses & Deferred Income\n",
    "                        ACCLIY\n",
    "                        -- Accrued Liabilities - Increase/Decrease\n",
    "                    FROM\n",
    "                        comp.g_fundq\n",
    "                    WHERE\n",
    "                        gvkey = '019349'\n",
    "                        AND datadate >= '2019-09-30'::date\"\"\")\n",
    "a\n",
    "~~~"
   ]
  },
  {
   "cell_type": "markdown",
   "metadata": {
    "heading_collapsed": true
   },
   "source": [
    "# Liquidity ratio"
   ]
  },
  {
   "cell_type": "markdown",
   "metadata": {
    "hidden": true
   },
   "source": [
    "**Current Ratio**"
   ]
  },
  {
   "cell_type": "code",
   "execution_count": 39,
   "metadata": {
    "hidden": true
   },
   "outputs": [
    {
     "data": {
      "text/html": [
       "<div>\n",
       "<style scoped>\n",
       "    .dataframe tbody tr th:only-of-type {\n",
       "        vertical-align: middle;\n",
       "    }\n",
       "\n",
       "    .dataframe tbody tr th {\n",
       "        vertical-align: top;\n",
       "    }\n",
       "\n",
       "    .dataframe thead th {\n",
       "        text-align: right;\n",
       "    }\n",
       "</style>\n",
       "<table border=\"1\" class=\"dataframe\">\n",
       "  <thead>\n",
       "    <tr style=\"text-align: right;\">\n",
       "      <th></th>\n",
       "      <th>datadate</th>\n",
       "      <th>current_ratio_q</th>\n",
       "      <th>current_ratio_a</th>\n",
       "    </tr>\n",
       "  </thead>\n",
       "  <tbody>\n",
       "    <tr>\n",
       "      <th>0</th>\n",
       "      <td>2000-03-31</td>\n",
       "      <td>53.342581</td>\n",
       "      <td>4.129180</td>\n",
       "    </tr>\n",
       "    <tr>\n",
       "      <th>1</th>\n",
       "      <td>2000-09-30</td>\n",
       "      <td>2.237396</td>\n",
       "      <td>4.129180</td>\n",
       "    </tr>\n",
       "    <tr>\n",
       "      <th>2</th>\n",
       "      <td>2001-03-31</td>\n",
       "      <td>1.386260</td>\n",
       "      <td>4.129180</td>\n",
       "    </tr>\n",
       "    <tr>\n",
       "      <th>3</th>\n",
       "      <td>2001-09-30</td>\n",
       "      <td>1.145742</td>\n",
       "      <td>4.129180</td>\n",
       "    </tr>\n",
       "    <tr>\n",
       "      <th>4</th>\n",
       "      <td>2002-03-31</td>\n",
       "      <td>NaN</td>\n",
       "      <td>4.129180</td>\n",
       "    </tr>\n",
       "    <tr>\n",
       "      <th>...</th>\n",
       "      <td>...</td>\n",
       "      <td>...</td>\n",
       "      <td>...</td>\n",
       "    </tr>\n",
       "    <tr>\n",
       "      <th>3323</th>\n",
       "      <td>2019-12-31</td>\n",
       "      <td>1.382680</td>\n",
       "      <td>1.552615</td>\n",
       "    </tr>\n",
       "    <tr>\n",
       "      <th>3324</th>\n",
       "      <td>2020-03-31</td>\n",
       "      <td>1.577812</td>\n",
       "      <td>1.552615</td>\n",
       "    </tr>\n",
       "    <tr>\n",
       "      <th>3325</th>\n",
       "      <td>2020-06-30</td>\n",
       "      <td>1.633536</td>\n",
       "      <td>1.552615</td>\n",
       "    </tr>\n",
       "    <tr>\n",
       "      <th>3326</th>\n",
       "      <td>2020-09-30</td>\n",
       "      <td>1.552615</td>\n",
       "      <td>1.552615</td>\n",
       "    </tr>\n",
       "    <tr>\n",
       "      <th>3327</th>\n",
       "      <td>2020-12-31</td>\n",
       "      <td>1.562913</td>\n",
       "      <td>1.552615</td>\n",
       "    </tr>\n",
       "  </tbody>\n",
       "</table>\n",
       "<p>3328 rows × 3 columns</p>\n",
       "</div>"
      ],
      "text/plain": [
       "        datadate  current_ratio_q  current_ratio_a\n",
       "0     2000-03-31        53.342581         4.129180\n",
       "1     2000-09-30         2.237396         4.129180\n",
       "2     2001-03-31         1.386260         4.129180\n",
       "3     2001-09-30         1.145742         4.129180\n",
       "4     2002-03-31              NaN         4.129180\n",
       "...          ...              ...              ...\n",
       "3323  2019-12-31         1.382680         1.552615\n",
       "3324  2020-03-31         1.577812         1.552615\n",
       "3325  2020-06-30         1.633536         1.552615\n",
       "3326  2020-09-30         1.552615         1.552615\n",
       "3327  2020-12-31         1.562913         1.552615\n",
       "\n",
       "[3328 rows x 3 columns]"
      ]
     },
     "execution_count": 39,
     "metadata": {},
     "output_type": "execute_result"
    }
   ],
   "source": [
    "# current_ratios quarterly -- q / yearly -- a\n",
    "current_ratios = conn.raw_sql(\n",
    "    \"\"\"SELECT q.datadate, q.actq/q.lctq as current_ratio_q,\n",
    "              a.act/a.lct as current_ratio_a\n",
    "        FROM comp.g_fundq q\n",
    "        JOIN comp.g_funda a\n",
    "        ON a.gvkey = q.gvkey\n",
    "        WHERE q.gvkey = '019349'\n",
    "        AND q.datadate >= '2000-01-01'::date\n",
    "        ORDER BY a.datadate\n",
    "        \"\"\")\n",
    "current_ratios"
   ]
  },
  {
   "cell_type": "code",
   "execution_count": 41,
   "metadata": {},
   "outputs": [
    {
     "data": {
      "text/html": [
       "<div>\n",
       "<style scoped>\n",
       "    .dataframe tbody tr th:only-of-type {\n",
       "        vertical-align: middle;\n",
       "    }\n",
       "\n",
       "    .dataframe tbody tr th {\n",
       "        vertical-align: top;\n",
       "    }\n",
       "\n",
       "    .dataframe thead th {\n",
       "        text-align: right;\n",
       "    }\n",
       "</style>\n",
       "<table border=\"1\" class=\"dataframe\">\n",
       "  <thead>\n",
       "    <tr style=\"text-align: right;\">\n",
       "      <th></th>\n",
       "      <th>datadate</th>\n",
       "      <th>current_ratio_a</th>\n",
       "    </tr>\n",
       "  </thead>\n",
       "  <tbody>\n",
       "    <tr>\n",
       "      <th>0</th>\n",
       "      <td>2016-09-30</td>\n",
       "      <td>1.289239</td>\n",
       "    </tr>\n",
       "    <tr>\n",
       "      <th>1</th>\n",
       "      <td>2017-09-30</td>\n",
       "      <td>1.346476</td>\n",
       "    </tr>\n",
       "    <tr>\n",
       "      <th>2</th>\n",
       "      <td>2018-09-30</td>\n",
       "      <td>1.348749</td>\n",
       "    </tr>\n",
       "    <tr>\n",
       "      <th>3</th>\n",
       "      <td>2019-09-30</td>\n",
       "      <td>1.387339</td>\n",
       "    </tr>\n",
       "    <tr>\n",
       "      <th>4</th>\n",
       "      <td>2020-09-30</td>\n",
       "      <td>1.552615</td>\n",
       "    </tr>\n",
       "  </tbody>\n",
       "</table>\n",
       "</div>"
      ],
      "text/plain": [
       "     datadate  current_ratio_a\n",
       "0  2016-09-30         1.289239\n",
       "1  2017-09-30         1.346476\n",
       "2  2018-09-30         1.348749\n",
       "3  2019-09-30         1.387339\n",
       "4  2020-09-30         1.552615"
      ]
     },
     "execution_count": 41,
     "metadata": {},
     "output_type": "execute_result"
    }
   ],
   "source": [
    "# current_ratios / yearly -- a\n",
    "current_ratios = conn.raw_sql(\n",
    "    \"\"\"SELECT datadate, act/lct as current_ratio_a\n",
    "        FROM comp.g_funda\n",
    "        WHERE gvkey = '019349'\n",
    "        AND datadate >= '2016-01-01'::date\n",
    "        ORDER BY datadate\n",
    "        \"\"\")\n",
    "current_ratios"
   ]
  },
  {
   "cell_type": "markdown",
   "metadata": {
    "hidden": true
   },
   "source": [
    "**Quick Ratio**"
   ]
  },
  {
   "cell_type": "code",
   "execution_count": 44,
   "metadata": {
    "hidden": true
   },
   "outputs": [
    {
     "data": {
      "text/html": [
       "<div>\n",
       "<style scoped>\n",
       "    .dataframe tbody tr th:only-of-type {\n",
       "        vertical-align: middle;\n",
       "    }\n",
       "\n",
       "    .dataframe tbody tr th {\n",
       "        vertical-align: top;\n",
       "    }\n",
       "\n",
       "    .dataframe thead th {\n",
       "        text-align: right;\n",
       "    }\n",
       "</style>\n",
       "<table border=\"1\" class=\"dataframe\">\n",
       "  <thead>\n",
       "    <tr style=\"text-align: right;\">\n",
       "      <th></th>\n",
       "      <th>datadate</th>\n",
       "      <th>quick_ratio_a</th>\n",
       "    </tr>\n",
       "  </thead>\n",
       "  <tbody>\n",
       "    <tr>\n",
       "      <th>0</th>\n",
       "      <td>2016-09-30</td>\n",
       "      <td>0.866087</td>\n",
       "    </tr>\n",
       "    <tr>\n",
       "      <th>1</th>\n",
       "      <td>2017-09-30</td>\n",
       "      <td>0.886920</td>\n",
       "    </tr>\n",
       "    <tr>\n",
       "      <th>2</th>\n",
       "      <td>2018-09-30</td>\n",
       "      <td>1.058717</td>\n",
       "    </tr>\n",
       "    <tr>\n",
       "      <th>3</th>\n",
       "      <td>2019-09-30</td>\n",
       "      <td>1.095440</td>\n",
       "    </tr>\n",
       "    <tr>\n",
       "      <th>4</th>\n",
       "      <td>2020-09-30</td>\n",
       "      <td>1.324129</td>\n",
       "    </tr>\n",
       "  </tbody>\n",
       "</table>\n",
       "</div>"
      ],
      "text/plain": [
       "     datadate  quick_ratio_a\n",
       "0  2016-09-30       0.866087\n",
       "1  2017-09-30       0.886920\n",
       "2  2018-09-30       1.058717\n",
       "3  2019-09-30       1.095440\n",
       "4  2020-09-30       1.324129"
      ]
     },
     "execution_count": 44,
     "metadata": {},
     "output_type": "execute_result"
    }
   ],
   "source": [
    "# quick_ratio / yearly -- a\n",
    "quick_ratio = conn.raw_sql(\"\"\"SELECT datadate, (act - invt)/lct as quick_ratio_a\n",
    "                            FROM comp.g_funda\n",
    "                            WHERE gvkey = '019349'\n",
    "                            AND datadate >= '2016-01-01'::date\"\"\")\n",
    "quick_ratio"
   ]
  },
  {
   "cell_type": "markdown",
   "metadata": {
    "hidden": true
   },
   "source": [
    "**Cash Ratio**"
   ]
  },
  {
   "cell_type": "code",
   "execution_count": 68,
   "metadata": {
    "hidden": true
   },
   "outputs": [
    {
     "data": {
      "text/html": [
       "<div>\n",
       "<style scoped>\n",
       "    .dataframe tbody tr th:only-of-type {\n",
       "        vertical-align: middle;\n",
       "    }\n",
       "\n",
       "    .dataframe tbody tr th {\n",
       "        vertical-align: top;\n",
       "    }\n",
       "\n",
       "    .dataframe thead th {\n",
       "        text-align: right;\n",
       "    }\n",
       "</style>\n",
       "<table border=\"1\" class=\"dataframe\">\n",
       "  <thead>\n",
       "    <tr style=\"text-align: right;\">\n",
       "      <th></th>\n",
       "      <th>datadate</th>\n",
       "      <th>cash_ratio_a</th>\n",
       "    </tr>\n",
       "  </thead>\n",
       "  <tbody>\n",
       "    <tr>\n",
       "      <th>0</th>\n",
       "      <td>2016-09-30</td>\n",
       "      <td>0.247414</td>\n",
       "    </tr>\n",
       "    <tr>\n",
       "      <th>1</th>\n",
       "      <td>2017-09-30</td>\n",
       "      <td>0.193322</td>\n",
       "    </tr>\n",
       "    <tr>\n",
       "      <th>2</th>\n",
       "      <td>2018-09-30</td>\n",
       "      <td>0.231148</td>\n",
       "    </tr>\n",
       "    <tr>\n",
       "      <th>3</th>\n",
       "      <td>2019-09-30</td>\n",
       "      <td>0.244288</td>\n",
       "    </tr>\n",
       "    <tr>\n",
       "      <th>4</th>\n",
       "      <td>2020-09-30</td>\n",
       "      <td>0.411947</td>\n",
       "    </tr>\n",
       "  </tbody>\n",
       "</table>\n",
       "</div>"
      ],
      "text/plain": [
       "     datadate  cash_ratio_a\n",
       "0  2016-09-30      0.247414\n",
       "1  2017-09-30      0.193322\n",
       "2  2018-09-30      0.231148\n",
       "3  2019-09-30      0.244288\n",
       "4  2020-09-30      0.411947"
      ]
     },
     "execution_count": 68,
     "metadata": {},
     "output_type": "execute_result"
    }
   ],
   "source": [
    "# cash_ratio / yearly -- a\n",
    "cash_ratio = conn.raw_sql(\"\"\"SELECT datadate, chee/lct as cash_ratio_a\n",
    "                            FROM comp.g_funda\n",
    "                            WHERE gvkey = '019349'\n",
    "                            AND datadate >= '2016-01-01'::date\"\"\")\n",
    "cash_ratio"
   ]
  },
  {
   "cell_type": "markdown",
   "metadata": {
    "hidden": true
   },
   "source": [
    "**Operating cash flow ratio**"
   ]
  },
  {
   "cell_type": "code",
   "execution_count": 52,
   "metadata": {
    "hidden": true
   },
   "outputs": [
    {
     "data": {
      "text/html": [
       "<div>\n",
       "<style scoped>\n",
       "    .dataframe tbody tr th:only-of-type {\n",
       "        vertical-align: middle;\n",
       "    }\n",
       "\n",
       "    .dataframe tbody tr th {\n",
       "        vertical-align: top;\n",
       "    }\n",
       "\n",
       "    .dataframe thead th {\n",
       "        text-align: right;\n",
       "    }\n",
       "</style>\n",
       "<table border=\"1\" class=\"dataframe\">\n",
       "  <thead>\n",
       "    <tr style=\"text-align: right;\">\n",
       "      <th></th>\n",
       "      <th>datadate</th>\n",
       "      <th>operating_cf_ratio_a</th>\n",
       "    </tr>\n",
       "  </thead>\n",
       "  <tbody>\n",
       "    <tr>\n",
       "      <th>0</th>\n",
       "      <td>2016-09-30</td>\n",
       "      <td>0.177346</td>\n",
       "    </tr>\n",
       "    <tr>\n",
       "      <th>1</th>\n",
       "      <td>2017-09-30</td>\n",
       "      <td>0.165368</td>\n",
       "    </tr>\n",
       "    <tr>\n",
       "      <th>2</th>\n",
       "      <td>2018-09-30</td>\n",
       "      <td>0.175983</td>\n",
       "    </tr>\n",
       "    <tr>\n",
       "      <th>3</th>\n",
       "      <td>2019-09-30</td>\n",
       "      <td>0.166709</td>\n",
       "    </tr>\n",
       "    <tr>\n",
       "      <th>4</th>\n",
       "      <td>2020-09-30</td>\n",
       "      <td>0.259761</td>\n",
       "    </tr>\n",
       "  </tbody>\n",
       "</table>\n",
       "</div>"
      ],
      "text/plain": [
       "     datadate  operating_cf_ratio_a\n",
       "0  2016-09-30              0.177346\n",
       "1  2017-09-30              0.165368\n",
       "2  2018-09-30              0.175983\n",
       "3  2019-09-30              0.166709\n",
       "4  2020-09-30              0.259761"
      ]
     },
     "execution_count": 52,
     "metadata": {},
     "output_type": "execute_result"
    }
   ],
   "source": [
    "# Operating_cf / yearly -- a\n",
    "operating_cf = conn.raw_sql(\"\"\"SELECT datadate, oancf/lct as Operating_cf_ratio_a\n",
    "                                FROM comp.g_funda\n",
    "                                WHERE gvkey = '019349'\n",
    "                                AND datadate >= '2016-01-01'::date\"\"\")\n",
    "operating_cf"
   ]
  },
  {
   "cell_type": "markdown",
   "metadata": {
    "heading_collapsed": true
   },
   "source": [
    "# Leverage Ratios"
   ]
  },
  {
   "cell_type": "markdown",
   "metadata": {
    "hidden": true
   },
   "source": [
    "**Debt to equity**"
   ]
  },
  {
   "cell_type": "code",
   "execution_count": 58,
   "metadata": {
    "hidden": true
   },
   "outputs": [
    {
     "data": {
      "text/html": [
       "<div>\n",
       "<style scoped>\n",
       "    .dataframe tbody tr th:only-of-type {\n",
       "        vertical-align: middle;\n",
       "    }\n",
       "\n",
       "    .dataframe tbody tr th {\n",
       "        vertical-align: top;\n",
       "    }\n",
       "\n",
       "    .dataframe thead th {\n",
       "        text-align: right;\n",
       "    }\n",
       "</style>\n",
       "<table border=\"1\" class=\"dataframe\">\n",
       "  <thead>\n",
       "    <tr style=\"text-align: right;\">\n",
       "      <th></th>\n",
       "      <th>datadate</th>\n",
       "      <th>de_ratio_a</th>\n",
       "    </tr>\n",
       "  </thead>\n",
       "  <tbody>\n",
       "    <tr>\n",
       "      <th>0</th>\n",
       "      <td>2016-09-30</td>\n",
       "      <td>0.889447</td>\n",
       "    </tr>\n",
       "    <tr>\n",
       "      <th>1</th>\n",
       "      <td>2017-09-30</td>\n",
       "      <td>0.723696</td>\n",
       "    </tr>\n",
       "    <tr>\n",
       "      <th>2</th>\n",
       "      <td>2018-09-30</td>\n",
       "      <td>0.669698</td>\n",
       "    </tr>\n",
       "    <tr>\n",
       "      <th>3</th>\n",
       "      <td>2019-09-30</td>\n",
       "      <td>0.714905</td>\n",
       "    </tr>\n",
       "    <tr>\n",
       "      <th>4</th>\n",
       "      <td>2020-09-30</td>\n",
       "      <td>1.119127</td>\n",
       "    </tr>\n",
       "  </tbody>\n",
       "</table>\n",
       "</div>"
      ],
      "text/plain": [
       "     datadate  de_ratio_a\n",
       "0  2016-09-30    0.889447\n",
       "1  2017-09-30    0.723696\n",
       "2  2018-09-30    0.669698\n",
       "3  2019-09-30    0.714905\n",
       "4  2020-09-30    1.119127"
      ]
     },
     "execution_count": 58,
     "metadata": {},
     "output_type": "execute_result"
    }
   ],
   "source": [
    "# debt_to_equity / yearly -- a\n",
    "de_ratio = conn.raw_sql(\"\"\"SELECT datadate, (dlc + dltt)/ceq as de_ratio_a\n",
    "                                FROM comp.g_funda\n",
    "                                WHERE gvkey = '019349'\n",
    "                                AND datadate >= '2016-01-01'::date\"\"\")\n",
    "de_ratio"
   ]
  },
  {
   "cell_type": "markdown",
   "metadata": {
    "hidden": true
   },
   "source": [
    "**Debt to asset**"
   ]
  },
  {
   "cell_type": "code",
   "execution_count": 60,
   "metadata": {
    "hidden": true
   },
   "outputs": [
    {
     "data": {
      "text/html": [
       "<div>\n",
       "<style scoped>\n",
       "    .dataframe tbody tr th:only-of-type {\n",
       "        vertical-align: middle;\n",
       "    }\n",
       "\n",
       "    .dataframe tbody tr th {\n",
       "        vertical-align: top;\n",
       "    }\n",
       "\n",
       "    .dataframe thead th {\n",
       "        text-align: right;\n",
       "    }\n",
       "</style>\n",
       "<table border=\"1\" class=\"dataframe\">\n",
       "  <thead>\n",
       "    <tr style=\"text-align: right;\">\n",
       "      <th></th>\n",
       "      <th>datadate</th>\n",
       "      <th>da_ratio_y</th>\n",
       "    </tr>\n",
       "  </thead>\n",
       "  <tbody>\n",
       "    <tr>\n",
       "      <th>0</th>\n",
       "      <td>2016-09-30</td>\n",
       "      <td>0.246323</td>\n",
       "    </tr>\n",
       "    <tr>\n",
       "      <th>1</th>\n",
       "      <td>2017-09-30</td>\n",
       "      <td>0.240830</td>\n",
       "    </tr>\n",
       "    <tr>\n",
       "      <th>2</th>\n",
       "      <td>2018-09-30</td>\n",
       "      <td>0.231631</td>\n",
       "    </tr>\n",
       "    <tr>\n",
       "      <th>3</th>\n",
       "      <td>2019-09-30</td>\n",
       "      <td>0.242586</td>\n",
       "    </tr>\n",
       "    <tr>\n",
       "      <th>4</th>\n",
       "      <td>2020-09-30</td>\n",
       "      <td>0.359710</td>\n",
       "    </tr>\n",
       "  </tbody>\n",
       "</table>\n",
       "</div>"
      ],
      "text/plain": [
       "     datadate  da_ratio_y\n",
       "0  2016-09-30    0.246323\n",
       "1  2017-09-30    0.240830\n",
       "2  2018-09-30    0.231631\n",
       "3  2019-09-30    0.242586\n",
       "4  2020-09-30    0.359710"
      ]
     },
     "execution_count": 60,
     "metadata": {},
     "output_type": "execute_result"
    }
   ],
   "source": [
    "# debt_to_asset/ yearly -- a\n",
    "da_ratio = conn.raw_sql(\"\"\"SELECT datadate, (dltt+dlc)/at as da_ratio_a\n",
    "\n",
    "                            FROM comp.g_funda\n",
    "                            WHERE gvkey = '019349'\n",
    "                            AND datadate >= '2016-01-01'::date\"\"\")\n",
    "da_ratio"
   ]
  },
  {
   "cell_type": "markdown",
   "metadata": {
    "hidden": true
   },
   "source": [
    "**Debt to EBITDA**"
   ]
  },
  {
   "cell_type": "code",
   "execution_count": 62,
   "metadata": {
    "hidden": true
   },
   "outputs": [
    {
     "data": {
      "text/html": [
       "<div>\n",
       "<style scoped>\n",
       "    .dataframe tbody tr th:only-of-type {\n",
       "        vertical-align: middle;\n",
       "    }\n",
       "\n",
       "    .dataframe tbody tr th {\n",
       "        vertical-align: top;\n",
       "    }\n",
       "\n",
       "    .dataframe thead th {\n",
       "        text-align: right;\n",
       "    }\n",
       "</style>\n",
       "<table border=\"1\" class=\"dataframe\">\n",
       "  <thead>\n",
       "    <tr style=\"text-align: right;\">\n",
       "      <th></th>\n",
       "      <th>datadate</th>\n",
       "      <th>d_ebitda_a</th>\n",
       "    </tr>\n",
       "  </thead>\n",
       "  <tbody>\n",
       "    <tr>\n",
       "      <th>0</th>\n",
       "      <td>2016-09-30</td>\n",
       "      <td>3.187545</td>\n",
       "    </tr>\n",
       "    <tr>\n",
       "      <th>1</th>\n",
       "      <td>2017-09-30</td>\n",
       "      <td>3.113129</td>\n",
       "    </tr>\n",
       "    <tr>\n",
       "      <th>2</th>\n",
       "      <td>2018-09-30</td>\n",
       "      <td>3.521230</td>\n",
       "    </tr>\n",
       "    <tr>\n",
       "      <th>3</th>\n",
       "      <td>2019-09-30</td>\n",
       "      <td>3.669754</td>\n",
       "    </tr>\n",
       "    <tr>\n",
       "      <th>4</th>\n",
       "      <td>2020-09-30</td>\n",
       "      <td>5.929617</td>\n",
       "    </tr>\n",
       "  </tbody>\n",
       "</table>\n",
       "</div>"
      ],
      "text/plain": [
       "     datadate  d_ebitda_a\n",
       "0  2016-09-30    3.187545\n",
       "1  2017-09-30    3.113129\n",
       "2  2018-09-30    3.521230\n",
       "3  2019-09-30    3.669754\n",
       "4  2020-09-30    5.929617"
      ]
     },
     "execution_count": 62,
     "metadata": {},
     "output_type": "execute_result"
    }
   ],
   "source": [
    "# debt_to_ebitda/ yearly -- a\n",
    "d_ebita = conn.raw_sql(\"\"\"SELECT datadate, (dltt+dlc)/(ebitda) as d_ebitda_a\n",
    "                            FROM comp.g_funda\n",
    "                            WHERE gvkey = '019349'\n",
    "                            AND datadate >= '2016-01-01'::date\"\"\")\n",
    "d_ebita"
   ]
  },
  {
   "cell_type": "markdown",
   "metadata": {
    "hidden": true
   },
   "source": [
    "**Net Debt to EBITDA**"
   ]
  },
  {
   "cell_type": "code",
   "execution_count": 65,
   "metadata": {
    "hidden": true
   },
   "outputs": [
    {
     "data": {
      "text/html": [
       "<div>\n",
       "<style scoped>\n",
       "    .dataframe tbody tr th:only-of-type {\n",
       "        vertical-align: middle;\n",
       "    }\n",
       "\n",
       "    .dataframe tbody tr th {\n",
       "        vertical-align: top;\n",
       "    }\n",
       "\n",
       "    .dataframe thead th {\n",
       "        text-align: right;\n",
       "    }\n",
       "</style>\n",
       "<table border=\"1\" class=\"dataframe\">\n",
       "  <thead>\n",
       "    <tr style=\"text-align: right;\">\n",
       "      <th></th>\n",
       "      <th>datadate</th>\n",
       "      <th>net_d_ebitda_a</th>\n",
       "    </tr>\n",
       "  </thead>\n",
       "  <tbody>\n",
       "    <tr>\n",
       "      <th>0</th>\n",
       "      <td>2016-09-30</td>\n",
       "      <td>2.094596</td>\n",
       "    </tr>\n",
       "    <tr>\n",
       "      <th>1</th>\n",
       "      <td>2017-09-30</td>\n",
       "      <td>2.302676</td>\n",
       "    </tr>\n",
       "    <tr>\n",
       "      <th>2</th>\n",
       "      <td>2018-09-30</td>\n",
       "      <td>2.310243</td>\n",
       "    </tr>\n",
       "    <tr>\n",
       "      <th>3</th>\n",
       "      <td>2019-09-30</td>\n",
       "      <td>2.422171</td>\n",
       "    </tr>\n",
       "    <tr>\n",
       "      <th>4</th>\n",
       "      <td>2020-09-30</td>\n",
       "      <td>4.059739</td>\n",
       "    </tr>\n",
       "  </tbody>\n",
       "</table>\n",
       "</div>"
      ],
      "text/plain": [
       "     datadate  net_d_ebitda_a\n",
       "0  2016-09-30        2.094596\n",
       "1  2017-09-30        2.302676\n",
       "2  2018-09-30        2.310243\n",
       "3  2019-09-30        2.422171\n",
       "4  2020-09-30        4.059739"
      ]
     },
     "execution_count": 65,
     "metadata": {},
     "output_type": "execute_result"
    }
   ],
   "source": [
    "# net_debt_to_ebitda/ yearly -- a\n",
    "net_d_ebitda = conn.raw_sql(\"\"\"SELECT datadate, (dlttchee)/(ebitda) as net_d_ebitda_a\n",
    "                                FROM comp.g_funda\n",
    "                                WHERE gvkey = '019349'\n",
    "                                AND datadate >= '2016-01-01'::date\"\"\")\n",
    "net_d_ebitda"
   ]
  },
  {
   "cell_type": "markdown",
   "metadata": {
    "hidden": true
   },
   "source": [
    "**Interest Coverage Ratio**"
   ]
  },
  {
   "cell_type": "code",
   "execution_count": 69,
   "metadata": {
    "hidden": true
   },
   "outputs": [
    {
     "data": {
      "text/html": [
       "<div>\n",
       "<style scoped>\n",
       "    .dataframe tbody tr th:only-of-type {\n",
       "        vertical-align: middle;\n",
       "    }\n",
       "\n",
       "    .dataframe tbody tr th {\n",
       "        vertical-align: top;\n",
       "    }\n",
       "\n",
       "    .dataframe thead th {\n",
       "        text-align: right;\n",
       "    }\n",
       "</style>\n",
       "<table border=\"1\" class=\"dataframe\">\n",
       "  <thead>\n",
       "    <tr style=\"text-align: right;\">\n",
       "      <th></th>\n",
       "      <th>datadate</th>\n",
       "      <th>int_coverage_a</th>\n",
       "    </tr>\n",
       "  </thead>\n",
       "  <tbody>\n",
       "    <tr>\n",
       "      <th>0</th>\n",
       "      <td>2016-09-30</td>\n",
       "      <td>9.823054</td>\n",
       "    </tr>\n",
       "    <tr>\n",
       "      <th>1</th>\n",
       "      <td>2017-09-30</td>\n",
       "      <td>9.848716</td>\n",
       "    </tr>\n",
       "    <tr>\n",
       "      <th>2</th>\n",
       "      <td>2018-09-30</td>\n",
       "      <td>8.620755</td>\n",
       "    </tr>\n",
       "    <tr>\n",
       "      <th>3</th>\n",
       "      <td>2019-09-30</td>\n",
       "      <td>6.424321</td>\n",
       "    </tr>\n",
       "    <tr>\n",
       "      <th>4</th>\n",
       "      <td>2020-09-30</td>\n",
       "      <td>10.381215</td>\n",
       "    </tr>\n",
       "  </tbody>\n",
       "</table>\n",
       "</div>"
      ],
      "text/plain": [
       "     datadate  int_coverage_a\n",
       "0  2016-09-30        9.823054\n",
       "1  2017-09-30        9.848716\n",
       "2  2018-09-30        8.620755\n",
       "3  2019-09-30        6.424321\n",
       "4  2020-09-30       10.381215"
      ]
     },
     "execution_count": 69,
     "metadata": {},
     "output_type": "execute_result"
    }
   ],
   "source": [
    "# int_cov/ yearly -- a\n",
    "int_cov = conn.raw_sql(\"\"\"SELECT datadate, ebitda/xint as int_coverage_a\n",
    "                            FROM comp.g_funda\n",
    "                            WHERE gvkey = '019349'\n",
    "                            AND datadate >= '2016-01-01'::date\"\"\")\n",
    "int_cov"
   ]
  },
  {
   "cell_type": "markdown",
   "metadata": {
    "hidden": true
   },
   "source": [
    "**Debt to Total Capitalization**"
   ]
  },
  {
   "cell_type": "code",
   "execution_count": 12,
   "metadata": {
    "hidden": true
   },
   "outputs": [
    {
     "data": {
      "text/html": [
       "<div>\n",
       "<style scoped>\n",
       "    .dataframe tbody tr th:only-of-type {\n",
       "        vertical-align: middle;\n",
       "    }\n",
       "\n",
       "    .dataframe tbody tr th {\n",
       "        vertical-align: top;\n",
       "    }\n",
       "\n",
       "    .dataframe thead th {\n",
       "        text-align: right;\n",
       "    }\n",
       "</style>\n",
       "<table border=\"1\" class=\"dataframe\">\n",
       "  <thead>\n",
       "    <tr style=\"text-align: right;\">\n",
       "      <th></th>\n",
       "      <th>datadate</th>\n",
       "      <th>d_total_cap_a</th>\n",
       "    </tr>\n",
       "  </thead>\n",
       "  <tbody>\n",
       "    <tr>\n",
       "      <th>0</th>\n",
       "      <td>2016-09-30</td>\n",
       "      <td>0.470745</td>\n",
       "    </tr>\n",
       "    <tr>\n",
       "      <th>1</th>\n",
       "      <td>2017-09-30</td>\n",
       "      <td>0.419851</td>\n",
       "    </tr>\n",
       "    <tr>\n",
       "      <th>2</th>\n",
       "      <td>2018-09-30</td>\n",
       "      <td>0.401089</td>\n",
       "    </tr>\n",
       "    <tr>\n",
       "      <th>3</th>\n",
       "      <td>2019-09-30</td>\n",
       "      <td>0.416877</td>\n",
       "    </tr>\n",
       "    <tr>\n",
       "      <th>4</th>\n",
       "      <td>2020-09-30</td>\n",
       "      <td>0.528108</td>\n",
       "    </tr>\n",
       "  </tbody>\n",
       "</table>\n",
       "</div>"
      ],
      "text/plain": [
       "     datadate  d_total_cap_a\n",
       "0  2016-09-30       0.470745\n",
       "1  2017-09-30       0.419851\n",
       "2  2018-09-30       0.401089\n",
       "3  2019-09-30       0.416877\n",
       "4  2020-09-30       0.528108"
      ]
     },
     "execution_count": 12,
     "metadata": {},
     "output_type": "execute_result"
    }
   ],
   "source": [
    "# d_total_cap/ yearly -- a\n",
    "d_total_cap = conn.raw_sql(\"\"\"SELECT datadate, (dltt+dlc)/(dltt+dlc+teq) as d_total_cap_a\n",
    "                                FROM comp.g_funda\n",
    "                                WHERE gvkey = '019349'\n",
    "                                AND datadate >= '2016-01-01'::date\"\"\")\n",
    "d_total_cap"
   ]
  },
  {
   "cell_type": "markdown",
   "metadata": {
    "heading_collapsed": true
   },
   "source": [
    "# Efficiency Ratios"
   ]
  },
  {
   "cell_type": "markdown",
   "metadata": {
    "hidden": true
   },
   "source": [
    "**Inventory Turnover**"
   ]
  },
  {
   "cell_type": "code",
   "execution_count": 74,
   "metadata": {
    "hidden": true
   },
   "outputs": [
    {
     "data": {
      "text/html": [
       "<div>\n",
       "<style scoped>\n",
       "    .dataframe tbody tr th:only-of-type {\n",
       "        vertical-align: middle;\n",
       "    }\n",
       "\n",
       "    .dataframe tbody tr th {\n",
       "        vertical-align: top;\n",
       "    }\n",
       "\n",
       "    .dataframe thead th {\n",
       "        text-align: right;\n",
       "    }\n",
       "</style>\n",
       "<table border=\"1\" class=\"dataframe\">\n",
       "  <thead>\n",
       "    <tr style=\"text-align: right;\">\n",
       "      <th></th>\n",
       "      <th>datadate</th>\n",
       "      <th>invt_turnover_a</th>\n",
       "    </tr>\n",
       "  </thead>\n",
       "  <tbody>\n",
       "    <tr>\n",
       "      <th>0</th>\n",
       "      <td>2016-09-30</td>\n",
       "      <td>2.932379</td>\n",
       "    </tr>\n",
       "    <tr>\n",
       "      <th>1</th>\n",
       "      <td>2017-09-30</td>\n",
       "      <td>2.758650</td>\n",
       "    </tr>\n",
       "    <tr>\n",
       "      <th>2</th>\n",
       "      <td>2018-09-30</td>\n",
       "      <td>3.957868</td>\n",
       "    </tr>\n",
       "    <tr>\n",
       "      <th>3</th>\n",
       "      <td>2019-09-30</td>\n",
       "      <td>3.895853</td>\n",
       "    </tr>\n",
       "    <tr>\n",
       "      <th>4</th>\n",
       "      <td>2020-09-30</td>\n",
       "      <td>4.360616</td>\n",
       "    </tr>\n",
       "  </tbody>\n",
       "</table>\n",
       "</div>"
      ],
      "text/plain": [
       "     datadate  invt_turnover_a\n",
       "0  2016-09-30         2.932379\n",
       "1  2017-09-30         2.758650\n",
       "2  2018-09-30         3.957868\n",
       "3  2019-09-30         3.895853\n",
       "4  2020-09-30         4.360616"
      ]
     },
     "execution_count": 74,
     "metadata": {},
     "output_type": "execute_result"
    }
   ],
   "source": [
    "# invt_turnover/ yearly -- a\n",
    "invt_turnover = conn.raw_sql(\"\"\"SELECT datadate, cogs/invt as invt_turnover_a\n",
    "                                    FROM comp.g_funda\n",
    "                                    WHERE gvkey = '019349'\n",
    "                                    AND datadate >= '2016-01-01'::date\"\"\")\n",
    "invt_turnover"
   ]
  },
  {
   "cell_type": "markdown",
   "metadata": {
    "hidden": true
   },
   "source": [
    "Fixed Assets Turnover"
   ]
  },
  {
   "cell_type": "code",
   "execution_count": 75,
   "metadata": {
    "hidden": true
   },
   "outputs": [
    {
     "data": {
      "text/html": [
       "<div>\n",
       "<style scoped>\n",
       "    .dataframe tbody tr th:only-of-type {\n",
       "        vertical-align: middle;\n",
       "    }\n",
       "\n",
       "    .dataframe tbody tr th {\n",
       "        vertical-align: top;\n",
       "    }\n",
       "\n",
       "    .dataframe thead th {\n",
       "        text-align: right;\n",
       "    }\n",
       "</style>\n",
       "<table border=\"1\" class=\"dataframe\">\n",
       "  <thead>\n",
       "    <tr style=\"text-align: right;\">\n",
       "      <th></th>\n",
       "      <th>datadate</th>\n",
       "      <th>f_asset_turnover_a</th>\n",
       "    </tr>\n",
       "  </thead>\n",
       "  <tbody>\n",
       "    <tr>\n",
       "      <th>0</th>\n",
       "      <td>2016-09-30</td>\n",
       "      <td>3.111823</td>\n",
       "    </tr>\n",
       "    <tr>\n",
       "      <th>1</th>\n",
       "      <td>2017-09-30</td>\n",
       "      <td>3.089735</td>\n",
       "    </tr>\n",
       "    <tr>\n",
       "      <th>2</th>\n",
       "      <td>2018-09-30</td>\n",
       "      <td>2.975528</td>\n",
       "    </tr>\n",
       "    <tr>\n",
       "      <th>3</th>\n",
       "      <td>2019-09-30</td>\n",
       "      <td>2.912344</td>\n",
       "    </tr>\n",
       "    <tr>\n",
       "      <th>4</th>\n",
       "      <td>2020-09-30</td>\n",
       "      <td>2.447486</td>\n",
       "    </tr>\n",
       "  </tbody>\n",
       "</table>\n",
       "</div>"
      ],
      "text/plain": [
       "     datadate  f_asset_turnover_a\n",
       "0  2016-09-30            3.111823\n",
       "1  2017-09-30            3.089735\n",
       "2  2018-09-30            2.975528\n",
       "3  2019-09-30            2.912344\n",
       "4  2020-09-30            2.447486"
      ]
     },
     "execution_count": 75,
     "metadata": {},
     "output_type": "execute_result"
    }
   ],
   "source": [
    "# f_asset_turnover/ yearly -- a\n",
    "f_asset_turnover = conn.raw_sql(\"\"\"SELECT datadate, revt/ppegt as f_asset_turnover_a\n",
    "                                    FROM comp.g_funda\n",
    "                                    WHERE gvkey = '019349'\n",
    "                                    AND datadate >= '2016-01-01'::date\"\"\")\n",
    "f_asset_turnover"
   ]
  },
  {
   "cell_type": "markdown",
   "metadata": {
    "hidden": true
   },
   "source": [
    "**Total Assets Turnover**"
   ]
  },
  {
   "cell_type": "code",
   "execution_count": 76,
   "metadata": {
    "hidden": true
   },
   "outputs": [
    {
     "data": {
      "text/html": [
       "<div>\n",
       "<style scoped>\n",
       "    .dataframe tbody tr th:only-of-type {\n",
       "        vertical-align: middle;\n",
       "    }\n",
       "\n",
       "    .dataframe tbody tr th {\n",
       "        vertical-align: top;\n",
       "    }\n",
       "\n",
       "    .dataframe thead th {\n",
       "        text-align: right;\n",
       "    }\n",
       "</style>\n",
       "<table border=\"1\" class=\"dataframe\">\n",
       "  <thead>\n",
       "    <tr style=\"text-align: right;\">\n",
       "      <th></th>\n",
       "      <th>datadate</th>\n",
       "      <th>t_asset_turnover_a</th>\n",
       "    </tr>\n",
       "  </thead>\n",
       "  <tbody>\n",
       "    <tr>\n",
       "      <th>0</th>\n",
       "      <td>2016-09-30</td>\n",
       "      <td>0.633518</td>\n",
       "    </tr>\n",
       "    <tr>\n",
       "      <th>1</th>\n",
       "      <td>2017-09-30</td>\n",
       "      <td>0.620677</td>\n",
       "    </tr>\n",
       "    <tr>\n",
       "      <th>2</th>\n",
       "      <td>2018-09-30</td>\n",
       "      <td>0.597804</td>\n",
       "    </tr>\n",
       "    <tr>\n",
       "      <th>3</th>\n",
       "      <td>2019-09-30</td>\n",
       "      <td>0.578038</td>\n",
       "    </tr>\n",
       "    <tr>\n",
       "      <th>4</th>\n",
       "      <td>2020-09-30</td>\n",
       "      <td>0.461181</td>\n",
       "    </tr>\n",
       "  </tbody>\n",
       "</table>\n",
       "</div>"
      ],
      "text/plain": [
       "     datadate  t_asset_turnover_a\n",
       "0  2016-09-30            0.633518\n",
       "1  2017-09-30            0.620677\n",
       "2  2018-09-30            0.597804\n",
       "3  2019-09-30            0.578038\n",
       "4  2020-09-30            0.461181"
      ]
     },
     "execution_count": 76,
     "metadata": {},
     "output_type": "execute_result"
    }
   ],
   "source": [
    "# t_asset_turnover/ yearly -- a\n",
    "t_asset_turnover = conn.raw_sql(\"\"\"SELECT datadate, revt/at as t_asset_turnover_a\n",
    "                                    FROM comp.g_funda\n",
    "                                    WHERE gvkey = '019349'\n",
    "                                    AND datadate >= '2016-01-01'::date\"\"\")\n",
    "t_asset_turnover"
   ]
  },
  {
   "cell_type": "markdown",
   "metadata": {
    "heading_collapsed": true
   },
   "source": [
    "# Profitability Ratios"
   ]
  },
  {
   "cell_type": "markdown",
   "metadata": {
    "hidden": true
   },
   "source": [
    "**Gross Profit Margin**"
   ]
  },
  {
   "cell_type": "code",
   "execution_count": 78,
   "metadata": {
    "hidden": true
   },
   "outputs": [
    {
     "data": {
      "text/html": [
       "<div>\n",
       "<style scoped>\n",
       "    .dataframe tbody tr th:only-of-type {\n",
       "        vertical-align: middle;\n",
       "    }\n",
       "\n",
       "    .dataframe tbody tr th {\n",
       "        vertical-align: top;\n",
       "    }\n",
       "\n",
       "    .dataframe thead th {\n",
       "        text-align: right;\n",
       "    }\n",
       "</style>\n",
       "<table border=\"1\" class=\"dataframe\">\n",
       "  <thead>\n",
       "    <tr style=\"text-align: right;\">\n",
       "      <th></th>\n",
       "      <th>datadate</th>\n",
       "      <th>gross_profit_a</th>\n",
       "    </tr>\n",
       "  </thead>\n",
       "  <tbody>\n",
       "    <tr>\n",
       "      <th>0</th>\n",
       "      <td>2016-09-30</td>\n",
       "      <td>0.331375</td>\n",
       "    </tr>\n",
       "    <tr>\n",
       "      <th>1</th>\n",
       "      <td>2017-09-30</td>\n",
       "      <td>0.337584</td>\n",
       "    </tr>\n",
       "    <tr>\n",
       "      <th>2</th>\n",
       "      <td>2018-09-30</td>\n",
       "      <td>0.338242</td>\n",
       "    </tr>\n",
       "    <tr>\n",
       "      <th>3</th>\n",
       "      <td>2019-09-30</td>\n",
       "      <td>0.335836</td>\n",
       "    </tr>\n",
       "    <tr>\n",
       "      <th>4</th>\n",
       "      <td>2020-09-30</td>\n",
       "      <td>0.405117</td>\n",
       "    </tr>\n",
       "  </tbody>\n",
       "</table>\n",
       "</div>"
      ],
      "text/plain": [
       "     datadate  gross_profit_a\n",
       "0  2016-09-30        0.331375\n",
       "1  2017-09-30        0.337584\n",
       "2  2018-09-30        0.338242\n",
       "3  2019-09-30        0.335836\n",
       "4  2020-09-30        0.405117"
      ]
     },
     "execution_count": 78,
     "metadata": {},
     "output_type": "execute_result"
    }
   ],
   "source": [
    "# gross_profit/ yearly -- a\n",
    "gross_profit = conn.raw_sql(\"\"\"SELECT datadate, (revt-cogs)/revt as gross_profit_a\n",
    "                                    FROM comp.g_funda\n",
    "                                    WHERE gvkey = '019349'\n",
    "                                    AND datadate >= '2016-01-01'::date\"\"\")\n",
    "gross_profit"
   ]
  },
  {
   "cell_type": "markdown",
   "metadata": {
    "hidden": true
   },
   "source": [
    "**Operating Margin**"
   ]
  },
  {
   "cell_type": "code",
   "execution_count": 79,
   "metadata": {
    "hidden": true
   },
   "outputs": [
    {
     "data": {
      "text/html": [
       "<div>\n",
       "<style scoped>\n",
       "    .dataframe tbody tr th:only-of-type {\n",
       "        vertical-align: middle;\n",
       "    }\n",
       "\n",
       "    .dataframe tbody tr th {\n",
       "        vertical-align: top;\n",
       "    }\n",
       "\n",
       "    .dataframe thead th {\n",
       "        text-align: right;\n",
       "    }\n",
       "</style>\n",
       "<table border=\"1\" class=\"dataframe\">\n",
       "  <thead>\n",
       "    <tr style=\"text-align: right;\">\n",
       "      <th></th>\n",
       "      <th>datadate</th>\n",
       "      <th>operating_margin_a</th>\n",
       "    </tr>\n",
       "  </thead>\n",
       "  <tbody>\n",
       "    <tr>\n",
       "      <th>0</th>\n",
       "      <td>2016-09-30</td>\n",
       "      <td>0.089661</td>\n",
       "    </tr>\n",
       "    <tr>\n",
       "      <th>1</th>\n",
       "      <td>2017-09-30</td>\n",
       "      <td>0.088418</td>\n",
       "    </tr>\n",
       "    <tr>\n",
       "      <th>2</th>\n",
       "      <td>2018-09-30</td>\n",
       "      <td>0.071191</td>\n",
       "    </tr>\n",
       "    <tr>\n",
       "      <th>3</th>\n",
       "      <td>2019-09-30</td>\n",
       "      <td>0.077053</td>\n",
       "    </tr>\n",
       "    <tr>\n",
       "      <th>4</th>\n",
       "      <td>2020-09-30</td>\n",
       "      <td>0.079700</td>\n",
       "    </tr>\n",
       "  </tbody>\n",
       "</table>\n",
       "</div>"
      ],
      "text/plain": [
       "     datadate  operating_margin_a\n",
       "0  2016-09-30            0.089661\n",
       "1  2017-09-30            0.088418\n",
       "2  2018-09-30            0.071191\n",
       "3  2019-09-30            0.077053\n",
       "4  2020-09-30            0.079700"
      ]
     },
     "execution_count": 79,
     "metadata": {},
     "output_type": "execute_result"
    }
   ],
   "source": [
    "# operating_margin/ yearly -- a\n",
    "operating_margin = conn.raw_sql(\"\"\"SELECT datadate, ebit/revt as operating_margin_a\n",
    "                                    FROM comp.g_funda\n",
    "                                    WHERE gvkey = '019349'\n",
    "                                    AND datadate >= '2016-01-01'::date\"\"\")\n",
    "operating_margin"
   ]
  },
  {
   "cell_type": "markdown",
   "metadata": {},
   "source": [
    "ROA"
   ]
  },
  {
   "cell_type": "code",
   "execution_count": 81,
   "metadata": {
    "hidden": true
   },
   "outputs": [
    {
     "data": {
      "text/html": [
       "<div>\n",
       "<style scoped>\n",
       "    .dataframe tbody tr th:only-of-type {\n",
       "        vertical-align: middle;\n",
       "    }\n",
       "\n",
       "    .dataframe tbody tr th {\n",
       "        vertical-align: top;\n",
       "    }\n",
       "\n",
       "    .dataframe thead th {\n",
       "        text-align: right;\n",
       "    }\n",
       "</style>\n",
       "<table border=\"1\" class=\"dataframe\">\n",
       "  <thead>\n",
       "    <tr style=\"text-align: right;\">\n",
       "      <th></th>\n",
       "      <th>datadate</th>\n",
       "      <th>roa_a</th>\n",
       "    </tr>\n",
       "  </thead>\n",
       "  <tbody>\n",
       "    <tr>\n",
       "      <th>0</th>\n",
       "      <td>2016-09-30</td>\n",
       "      <td>0.041856</td>\n",
       "    </tr>\n",
       "    <tr>\n",
       "      <th>1</th>\n",
       "      <td>2017-09-30</td>\n",
       "      <td>0.044789</td>\n",
       "    </tr>\n",
       "    <tr>\n",
       "      <th>2</th>\n",
       "      <td>2018-09-30</td>\n",
       "      <td>0.040910</td>\n",
       "    </tr>\n",
       "    <tr>\n",
       "      <th>3</th>\n",
       "      <td>2019-09-30</td>\n",
       "      <td>0.034416</td>\n",
       "    </tr>\n",
       "    <tr>\n",
       "      <th>4</th>\n",
       "      <td>2020-09-30</td>\n",
       "      <td>0.033253</td>\n",
       "    </tr>\n",
       "  </tbody>\n",
       "</table>\n",
       "</div>"
      ],
      "text/plain": [
       "     datadate     roa_a\n",
       "0  2016-09-30  0.041856\n",
       "1  2017-09-30  0.044789\n",
       "2  2018-09-30  0.040910\n",
       "3  2019-09-30  0.034416\n",
       "4  2020-09-30  0.033253"
      ]
     },
     "execution_count": 81,
     "metadata": {},
     "output_type": "execute_result"
    }
   ],
   "source": [
    "# roa/ yearly -- a\n",
    "roa = conn.raw_sql(\"\"\"SELECT datadate, nicon/at as roa_a\n",
    "                        FROM comp.g_funda\n",
    "                        WHERE gvkey = '019349'\n",
    "                        AND datadate >= '2016-01-01'::date\"\"\")\n",
    "roa"
   ]
  },
  {
   "cell_type": "markdown",
   "metadata": {
    "hidden": true
   },
   "source": [
    "**ROE**"
   ]
  },
  {
   "cell_type": "code",
   "execution_count": 82,
   "metadata": {
    "hidden": true
   },
   "outputs": [
    {
     "data": {
      "text/html": [
       "<div>\n",
       "<style scoped>\n",
       "    .dataframe tbody tr th:only-of-type {\n",
       "        vertical-align: middle;\n",
       "    }\n",
       "\n",
       "    .dataframe tbody tr th {\n",
       "        vertical-align: top;\n",
       "    }\n",
       "\n",
       "    .dataframe thead th {\n",
       "        text-align: right;\n",
       "    }\n",
       "</style>\n",
       "<table border=\"1\" class=\"dataframe\">\n",
       "  <thead>\n",
       "    <tr style=\"text-align: right;\">\n",
       "      <th></th>\n",
       "      <th>datadate</th>\n",
       "      <th>roe_a</th>\n",
       "    </tr>\n",
       "  </thead>\n",
       "  <tbody>\n",
       "    <tr>\n",
       "      <th>0</th>\n",
       "      <td>2016-09-30</td>\n",
       "      <td>0.151137</td>\n",
       "    </tr>\n",
       "    <tr>\n",
       "      <th>1</th>\n",
       "      <td>2017-09-30</td>\n",
       "      <td>0.134592</td>\n",
       "    </tr>\n",
       "    <tr>\n",
       "      <th>2</th>\n",
       "      <td>2018-09-30</td>\n",
       "      <td>0.118280</td>\n",
       "    </tr>\n",
       "    <tr>\n",
       "      <th>3</th>\n",
       "      <td>2019-09-30</td>\n",
       "      <td>0.101426</td>\n",
       "    </tr>\n",
       "    <tr>\n",
       "      <th>4</th>\n",
       "      <td>2020-09-30</td>\n",
       "      <td>0.103458</td>\n",
       "    </tr>\n",
       "  </tbody>\n",
       "</table>\n",
       "</div>"
      ],
      "text/plain": [
       "     datadate     roe_a\n",
       "0  2016-09-30  0.151137\n",
       "1  2017-09-30  0.134592\n",
       "2  2018-09-30  0.118280\n",
       "3  2019-09-30  0.101426\n",
       "4  2020-09-30  0.103458"
      ]
     },
     "execution_count": 82,
     "metadata": {},
     "output_type": "execute_result"
    }
   ],
   "source": [
    "# roa/ yearly -- a\n",
    "roe = conn.raw_sql(\"\"\"SELECT datadate, nicon/ceq as roe_a\n",
    "                        FROM comp.g_funda\n",
    "                        WHERE gvkey = '019349'\n",
    "                        AND datadate >= '2016-01-01'::date\"\"\")\n",
    "roe"
   ]
  },
  {
   "cell_type": "markdown",
   "metadata": {
    "hidden": true
   },
   "source": [
    "**Net Profit Margin**"
   ]
  },
  {
   "cell_type": "code",
   "execution_count": 83,
   "metadata": {
    "hidden": true
   },
   "outputs": [
    {
     "data": {
      "text/html": [
       "<div>\n",
       "<style scoped>\n",
       "    .dataframe tbody tr th:only-of-type {\n",
       "        vertical-align: middle;\n",
       "    }\n",
       "\n",
       "    .dataframe tbody tr th {\n",
       "        vertical-align: top;\n",
       "    }\n",
       "\n",
       "    .dataframe thead th {\n",
       "        text-align: right;\n",
       "    }\n",
       "</style>\n",
       "<table border=\"1\" class=\"dataframe\">\n",
       "  <thead>\n",
       "    <tr style=\"text-align: right;\">\n",
       "      <th></th>\n",
       "      <th>datadate</th>\n",
       "      <th>net_profit_a</th>\n",
       "    </tr>\n",
       "  </thead>\n",
       "  <tbody>\n",
       "    <tr>\n",
       "      <th>0</th>\n",
       "      <td>2016-09-30</td>\n",
       "      <td>0.066069</td>\n",
       "    </tr>\n",
       "    <tr>\n",
       "      <th>1</th>\n",
       "      <td>2017-09-30</td>\n",
       "      <td>0.072162</td>\n",
       "    </tr>\n",
       "    <tr>\n",
       "      <th>2</th>\n",
       "      <td>2018-09-30</td>\n",
       "      <td>0.068434</td>\n",
       "    </tr>\n",
       "    <tr>\n",
       "      <th>3</th>\n",
       "      <td>2019-09-30</td>\n",
       "      <td>0.059540</td>\n",
       "    </tr>\n",
       "    <tr>\n",
       "      <th>4</th>\n",
       "      <td>2020-09-30</td>\n",
       "      <td>0.072105</td>\n",
       "    </tr>\n",
       "  </tbody>\n",
       "</table>\n",
       "</div>"
      ],
      "text/plain": [
       "     datadate  net_profit_a\n",
       "0  2016-09-30      0.066069\n",
       "1  2017-09-30      0.072162\n",
       "2  2018-09-30      0.068434\n",
       "3  2019-09-30      0.059540\n",
       "4  2020-09-30      0.072105"
      ]
     },
     "execution_count": 83,
     "metadata": {},
     "output_type": "execute_result"
    }
   ],
   "source": [
    "# net_profit / yearly -- a\n",
    "net_profit = conn.raw_sql(\"\"\"SELECT datadate, nicon/revt as net_profit_a\n",
    "                        FROM comp.g_funda\n",
    "                        WHERE gvkey = '019349'\n",
    "                        AND datadate >= '2016-01-01'::date\"\"\")\n",
    "net_profit"
   ]
  },
  {
   "cell_type": "markdown",
   "metadata": {
    "hidden": true
   },
   "source": [
    "**EBITDA Margin**"
   ]
  },
  {
   "cell_type": "code",
   "execution_count": 84,
   "metadata": {
    "hidden": true
   },
   "outputs": [
    {
     "data": {
      "text/html": [
       "<div>\n",
       "<style scoped>\n",
       "    .dataframe tbody tr th:only-of-type {\n",
       "        vertical-align: middle;\n",
       "    }\n",
       "\n",
       "    .dataframe tbody tr th {\n",
       "        vertical-align: top;\n",
       "    }\n",
       "\n",
       "    .dataframe thead th {\n",
       "        text-align: right;\n",
       "    }\n",
       "</style>\n",
       "<table border=\"1\" class=\"dataframe\">\n",
       "  <thead>\n",
       "    <tr style=\"text-align: right;\">\n",
       "      <th></th>\n",
       "      <th>datadate</th>\n",
       "      <th>ebitda_a</th>\n",
       "    </tr>\n",
       "  </thead>\n",
       "  <tbody>\n",
       "    <tr>\n",
       "      <th>0</th>\n",
       "      <td>2016-09-30</td>\n",
       "      <td>0.121980</td>\n",
       "    </tr>\n",
       "    <tr>\n",
       "      <th>1</th>\n",
       "      <td>2017-09-30</td>\n",
       "      <td>0.124637</td>\n",
       "    </tr>\n",
       "    <tr>\n",
       "      <th>2</th>\n",
       "      <td>2018-09-30</td>\n",
       "      <td>0.110038</td>\n",
       "    </tr>\n",
       "    <tr>\n",
       "      <th>3</th>\n",
       "      <td>2019-09-30</td>\n",
       "      <td>0.114359</td>\n",
       "    </tr>\n",
       "    <tr>\n",
       "      <th>4</th>\n",
       "      <td>2020-09-30</td>\n",
       "      <td>0.131539</td>\n",
       "    </tr>\n",
       "  </tbody>\n",
       "</table>\n",
       "</div>"
      ],
      "text/plain": [
       "     datadate  ebitda_a\n",
       "0  2016-09-30  0.121980\n",
       "1  2017-09-30  0.124637\n",
       "2  2018-09-30  0.110038\n",
       "3  2019-09-30  0.114359\n",
       "4  2020-09-30  0.131539"
      ]
     },
     "execution_count": 84,
     "metadata": {},
     "output_type": "execute_result"
    }
   ],
   "source": [
    "# ebitda / yearly -- a\n",
    "ebitda = conn.raw_sql(\"\"\"SELECT datadate, ebitda/revt as ebitda_a\n",
    "                        FROM comp.g_funda\n",
    "                        WHERE gvkey = '019349'\n",
    "                        AND datadate >= '2016-01-01'::date\"\"\")\n",
    "ebitda"
   ]
  },
  {
   "cell_type": "markdown",
   "metadata": {},
   "source": [
    "# Market Value Ratios"
   ]
  },
  {
   "cell_type": "markdown",
   "metadata": {},
   "source": [
    "**Book value per share**"
   ]
  },
  {
   "cell_type": "code",
   "execution_count": 86,
   "metadata": {},
   "outputs": [
    {
     "data": {
      "text/html": [
       "<div>\n",
       "<style scoped>\n",
       "    .dataframe tbody tr th:only-of-type {\n",
       "        vertical-align: middle;\n",
       "    }\n",
       "\n",
       "    .dataframe tbody tr th {\n",
       "        vertical-align: top;\n",
       "    }\n",
       "\n",
       "    .dataframe thead th {\n",
       "        text-align: right;\n",
       "    }\n",
       "</style>\n",
       "<table border=\"1\" class=\"dataframe\">\n",
       "  <thead>\n",
       "    <tr style=\"text-align: right;\">\n",
       "      <th></th>\n",
       "      <th>datadate</th>\n",
       "      <th>bvps_a</th>\n",
       "    </tr>\n",
       "  </thead>\n",
       "  <tbody>\n",
       "    <tr>\n",
       "      <th>0</th>\n",
       "      <td>2016-09-30</td>\n",
       "      <td>42.304430</td>\n",
       "    </tr>\n",
       "    <tr>\n",
       "      <th>1</th>\n",
       "      <td>2017-09-30</td>\n",
       "      <td>53.053510</td>\n",
       "    </tr>\n",
       "    <tr>\n",
       "      <th>2</th>\n",
       "      <td>2018-09-30</td>\n",
       "      <td>55.792006</td>\n",
       "    </tr>\n",
       "    <tr>\n",
       "      <th>3</th>\n",
       "      <td>2019-09-30</td>\n",
       "      <td>59.614282</td>\n",
       "    </tr>\n",
       "    <tr>\n",
       "      <th>4</th>\n",
       "      <td>2020-09-30</td>\n",
       "      <td>45.130126</td>\n",
       "    </tr>\n",
       "  </tbody>\n",
       "</table>\n",
       "</div>"
      ],
      "text/plain": [
       "     datadate     bvps_a\n",
       "0  2016-09-30  42.304430\n",
       "1  2017-09-30  53.053510\n",
       "2  2018-09-30  55.792006\n",
       "3  2019-09-30  59.614282\n",
       "4  2020-09-30  45.130126"
      ]
     },
     "execution_count": 86,
     "metadata": {},
     "output_type": "execute_result"
    }
   ],
   "source": [
    "# bvps / yearly -- a\n",
    "bvps = conn.raw_sql(\"\"\"SELECT datadate, ceq/cshpria as bvps_a\n",
    "                        FROM comp.g_funda\n",
    "                        WHERE gvkey = '019349'\n",
    "                        AND datadate >= '2016-01-01'::date\"\"\")\n",
    "bvps"
   ]
  },
  {
   "cell_type": "markdown",
   "metadata": {},
   "source": [
    "**EPS**"
   ]
  },
  {
   "cell_type": "code",
   "execution_count": 14,
   "metadata": {},
   "outputs": [
    {
     "data": {
      "text/html": [
       "<div>\n",
       "<style scoped>\n",
       "    .dataframe tbody tr th:only-of-type {\n",
       "        vertical-align: middle;\n",
       "    }\n",
       "\n",
       "    .dataframe tbody tr th {\n",
       "        vertical-align: top;\n",
       "    }\n",
       "\n",
       "    .dataframe thead th {\n",
       "        text-align: right;\n",
       "    }\n",
       "</style>\n",
       "<table border=\"1\" class=\"dataframe\">\n",
       "  <thead>\n",
       "    <tr style=\"text-align: right;\">\n",
       "      <th></th>\n",
       "      <th>datadate</th>\n",
       "      <th>eps_a</th>\n",
       "    </tr>\n",
       "  </thead>\n",
       "  <tbody>\n",
       "    <tr>\n",
       "      <th>0</th>\n",
       "      <td>2016-09-30</td>\n",
       "      <td>6.506852</td>\n",
       "    </tr>\n",
       "    <tr>\n",
       "      <th>1</th>\n",
       "      <td>2017-09-30</td>\n",
       "      <td>7.378906</td>\n",
       "    </tr>\n",
       "    <tr>\n",
       "      <th>2</th>\n",
       "      <td>2018-09-30</td>\n",
       "      <td>6.972467</td>\n",
       "    </tr>\n",
       "    <tr>\n",
       "      <th>3</th>\n",
       "      <td>2019-09-30</td>\n",
       "      <td>6.405516</td>\n",
       "    </tr>\n",
       "    <tr>\n",
       "      <th>4</th>\n",
       "      <td>2020-09-30</td>\n",
       "      <td>5.109539</td>\n",
       "    </tr>\n",
       "  </tbody>\n",
       "</table>\n",
       "</div>"
      ],
      "text/plain": [
       "     datadate     eps_a\n",
       "0  2016-09-30  6.506852\n",
       "1  2017-09-30  7.378906\n",
       "2  2018-09-30  6.972467\n",
       "3  2019-09-30  6.405516\n",
       "4  2020-09-30  5.109539"
      ]
     },
     "execution_count": 14,
     "metadata": {},
     "output_type": "execute_result"
    }
   ],
   "source": [
    "# eps / yearly -- a\n",
    "eps = conn.raw_sql(\"\"\"SELECT datadate, nicon/cshpria as eps_a\n",
    "                        FROM comp.g_funda\n",
    "                        WHERE gvkey = '019349'\n",
    "                        AND datadate >= '2016-01-01'::date\"\"\")\n",
    "eps"
   ]
  },
  {
   "cell_type": "markdown",
   "metadata": {},
   "source": [
    "**P/E**"
   ]
  },
  {
   "cell_type": "code",
   "execution_count": 32,
   "metadata": {},
   "outputs": [
    {
     "data": {
      "text/html": [
       "<div>\n",
       "<style scoped>\n",
       "    .dataframe tbody tr th:only-of-type {\n",
       "        vertical-align: middle;\n",
       "    }\n",
       "\n",
       "    .dataframe tbody tr th {\n",
       "        vertical-align: top;\n",
       "    }\n",
       "\n",
       "    .dataframe thead th {\n",
       "        text-align: right;\n",
       "    }\n",
       "</style>\n",
       "<table border=\"1\" class=\"dataframe\">\n",
       "  <thead>\n",
       "    <tr style=\"text-align: right;\">\n",
       "      <th></th>\n",
       "      <th>datadate</th>\n",
       "      <th>nicon</th>\n",
       "      <th>prccd</th>\n",
       "    </tr>\n",
       "  </thead>\n",
       "  <tbody>\n",
       "    <tr>\n",
       "      <th>0</th>\n",
       "      <td>2016-09-30</td>\n",
       "      <td>5262.0</td>\n",
       "      <td>720.00</td>\n",
       "    </tr>\n",
       "    <tr>\n",
       "      <th>1</th>\n",
       "      <td>2017-09-30</td>\n",
       "      <td>5993.0</td>\n",
       "      <td>720.00</td>\n",
       "    </tr>\n",
       "    <tr>\n",
       "      <th>2</th>\n",
       "      <td>2018-09-30</td>\n",
       "      <td>5683.0</td>\n",
       "      <td>720.00</td>\n",
       "    </tr>\n",
       "    <tr>\n",
       "      <th>3</th>\n",
       "      <td>2019-09-30</td>\n",
       "      <td>5171.0</td>\n",
       "      <td>720.00</td>\n",
       "    </tr>\n",
       "    <tr>\n",
       "      <th>4</th>\n",
       "      <td>2020-09-30</td>\n",
       "      <td>4120.0</td>\n",
       "      <td>720.00</td>\n",
       "    </tr>\n",
       "    <tr>\n",
       "      <th>...</th>\n",
       "      <td>...</td>\n",
       "      <td>...</td>\n",
       "      <td>...</td>\n",
       "    </tr>\n",
       "    <tr>\n",
       "      <th>79860</th>\n",
       "      <td>2016-09-30</td>\n",
       "      <td>5262.0</td>\n",
       "      <td>128.33</td>\n",
       "    </tr>\n",
       "    <tr>\n",
       "      <th>79861</th>\n",
       "      <td>2017-09-30</td>\n",
       "      <td>5993.0</td>\n",
       "      <td>128.33</td>\n",
       "    </tr>\n",
       "    <tr>\n",
       "      <th>79862</th>\n",
       "      <td>2018-09-30</td>\n",
       "      <td>5683.0</td>\n",
       "      <td>128.33</td>\n",
       "    </tr>\n",
       "    <tr>\n",
       "      <th>79863</th>\n",
       "      <td>2019-09-30</td>\n",
       "      <td>5171.0</td>\n",
       "      <td>128.33</td>\n",
       "    </tr>\n",
       "    <tr>\n",
       "      <th>79864</th>\n",
       "      <td>2020-09-30</td>\n",
       "      <td>4120.0</td>\n",
       "      <td>128.33</td>\n",
       "    </tr>\n",
       "  </tbody>\n",
       "</table>\n",
       "<p>79865 rows × 3 columns</p>\n",
       "</div>"
      ],
      "text/plain": [
       "         datadate   nicon   prccd\n",
       "0      2016-09-30  5262.0  720.00\n",
       "1      2017-09-30  5993.0  720.00\n",
       "2      2018-09-30  5683.0  720.00\n",
       "3      2019-09-30  5171.0  720.00\n",
       "4      2020-09-30  4120.0  720.00\n",
       "...           ...     ...     ...\n",
       "79860  2016-09-30  5262.0  128.33\n",
       "79861  2017-09-30  5993.0  128.33\n",
       "79862  2018-09-30  5683.0  128.33\n",
       "79863  2019-09-30  5171.0  128.33\n",
       "79864  2020-09-30  4120.0  128.33\n",
       "\n",
       "[79865 rows x 3 columns]"
      ]
     },
     "execution_count": 32,
     "metadata": {},
     "output_type": "execute_result"
    }
   ],
   "source": [
    "# pe / yearly -- a\n",
    "pe = conn.raw_sql(\"\"\"SELECT a.datadate, a.nicon, d.prccd\n",
    "                        FROM comp.g_funda a\n",
    "                        JOIN comp.g_sec_dprc d\n",
    "                        ON a.gvkey = d.gvkey \n",
    "                        WHERE a.gvkey = '019349'\n",
    "                        AND a.datadate >= '2016-01-01'\n",
    "                        \"\"\")\n",
    "pe"
   ]
  },
  {
   "cell_type": "code",
   "execution_count": 26,
   "metadata": {},
   "outputs": [
    {
     "data": {
      "text/html": [
       "<div>\n",
       "<style scoped>\n",
       "    .dataframe tbody tr th:only-of-type {\n",
       "        vertical-align: middle;\n",
       "    }\n",
       "\n",
       "    .dataframe tbody tr th {\n",
       "        vertical-align: top;\n",
       "    }\n",
       "\n",
       "    .dataframe thead th {\n",
       "        text-align: right;\n",
       "    }\n",
       "</style>\n",
       "<table border=\"1\" class=\"dataframe\">\n",
       "  <thead>\n",
       "    <tr style=\"text-align: right;\">\n",
       "      <th></th>\n",
       "      <th>date</th>\n",
       "      <th>gvkey</th>\n",
       "      <th>prccd</th>\n",
       "      <th>curcdd</th>\n",
       "    </tr>\n",
       "  </thead>\n",
       "  <tbody>\n",
       "    <tr>\n",
       "      <th>0</th>\n",
       "      <td>2018.0</td>\n",
       "      <td>019349</td>\n",
       "      <td>121.48</td>\n",
       "      <td>CHF</td>\n",
       "    </tr>\n",
       "    <tr>\n",
       "      <th>1</th>\n",
       "      <td>2018.0</td>\n",
       "      <td>019349</td>\n",
       "      <td>121.48</td>\n",
       "      <td>CHF</td>\n",
       "    </tr>\n",
       "    <tr>\n",
       "      <th>2</th>\n",
       "      <td>2018.0</td>\n",
       "      <td>019349</td>\n",
       "      <td>121.48</td>\n",
       "      <td>CHF</td>\n",
       "    </tr>\n",
       "    <tr>\n",
       "      <th>3</th>\n",
       "      <td>2018.0</td>\n",
       "      <td>019349</td>\n",
       "      <td>121.48</td>\n",
       "      <td>CHF</td>\n",
       "    </tr>\n",
       "    <tr>\n",
       "      <th>4</th>\n",
       "      <td>2018.0</td>\n",
       "      <td>019349</td>\n",
       "      <td>121.48</td>\n",
       "      <td>CHF</td>\n",
       "    </tr>\n",
       "    <tr>\n",
       "      <th>5</th>\n",
       "      <td>2018.0</td>\n",
       "      <td>019349</td>\n",
       "      <td>121.48</td>\n",
       "      <td>CHF</td>\n",
       "    </tr>\n",
       "    <tr>\n",
       "      <th>6</th>\n",
       "      <td>2018.0</td>\n",
       "      <td>019349</td>\n",
       "      <td>121.48</td>\n",
       "      <td>CHF</td>\n",
       "    </tr>\n",
       "    <tr>\n",
       "      <th>7</th>\n",
       "      <td>2018.0</td>\n",
       "      <td>019349</td>\n",
       "      <td>121.48</td>\n",
       "      <td>CHF</td>\n",
       "    </tr>\n",
       "    <tr>\n",
       "      <th>8</th>\n",
       "      <td>2018.0</td>\n",
       "      <td>019349</td>\n",
       "      <td>121.48</td>\n",
       "      <td>CHF</td>\n",
       "    </tr>\n",
       "    <tr>\n",
       "      <th>9</th>\n",
       "      <td>2018.0</td>\n",
       "      <td>019349</td>\n",
       "      <td>121.48</td>\n",
       "      <td>CHF</td>\n",
       "    </tr>\n",
       "    <tr>\n",
       "      <th>10</th>\n",
       "      <td>2018.0</td>\n",
       "      <td>019349</td>\n",
       "      <td>121.48</td>\n",
       "      <td>CHF</td>\n",
       "    </tr>\n",
       "    <tr>\n",
       "      <th>11</th>\n",
       "      <td>2018.0</td>\n",
       "      <td>019349</td>\n",
       "      <td>121.48</td>\n",
       "      <td>CHF</td>\n",
       "    </tr>\n",
       "    <tr>\n",
       "      <th>12</th>\n",
       "      <td>2018.0</td>\n",
       "      <td>019349</td>\n",
       "      <td>121.48</td>\n",
       "      <td>CHF</td>\n",
       "    </tr>\n",
       "    <tr>\n",
       "      <th>13</th>\n",
       "      <td>2018.0</td>\n",
       "      <td>019349</td>\n",
       "      <td>121.48</td>\n",
       "      <td>CHF</td>\n",
       "    </tr>\n",
       "    <tr>\n",
       "      <th>14</th>\n",
       "      <td>2018.0</td>\n",
       "      <td>019349</td>\n",
       "      <td>121.48</td>\n",
       "      <td>CHF</td>\n",
       "    </tr>\n",
       "    <tr>\n",
       "      <th>15</th>\n",
       "      <td>2018.0</td>\n",
       "      <td>019349</td>\n",
       "      <td>121.48</td>\n",
       "      <td>CHF</td>\n",
       "    </tr>\n",
       "    <tr>\n",
       "      <th>16</th>\n",
       "      <td>2018.0</td>\n",
       "      <td>019349</td>\n",
       "      <td>121.48</td>\n",
       "      <td>CHF</td>\n",
       "    </tr>\n",
       "    <tr>\n",
       "      <th>17</th>\n",
       "      <td>2018.0</td>\n",
       "      <td>019349</td>\n",
       "      <td>121.48</td>\n",
       "      <td>CHF</td>\n",
       "    </tr>\n",
       "    <tr>\n",
       "      <th>18</th>\n",
       "      <td>2018.0</td>\n",
       "      <td>019349</td>\n",
       "      <td>121.48</td>\n",
       "      <td>CHF</td>\n",
       "    </tr>\n",
       "    <tr>\n",
       "      <th>19</th>\n",
       "      <td>2018.0</td>\n",
       "      <td>019349</td>\n",
       "      <td>121.48</td>\n",
       "      <td>CHF</td>\n",
       "    </tr>\n",
       "    <tr>\n",
       "      <th>20</th>\n",
       "      <td>2018.0</td>\n",
       "      <td>019349</td>\n",
       "      <td>121.48</td>\n",
       "      <td>CHF</td>\n",
       "    </tr>\n",
       "    <tr>\n",
       "      <th>21</th>\n",
       "      <td>2018.0</td>\n",
       "      <td>019349</td>\n",
       "      <td>121.48</td>\n",
       "      <td>CHF</td>\n",
       "    </tr>\n",
       "    <tr>\n",
       "      <th>22</th>\n",
       "      <td>2018.0</td>\n",
       "      <td>019349</td>\n",
       "      <td>121.48</td>\n",
       "      <td>CHF</td>\n",
       "    </tr>\n",
       "    <tr>\n",
       "      <th>23</th>\n",
       "      <td>2018.0</td>\n",
       "      <td>019349</td>\n",
       "      <td>121.48</td>\n",
       "      <td>CHF</td>\n",
       "    </tr>\n",
       "    <tr>\n",
       "      <th>24</th>\n",
       "      <td>2018.0</td>\n",
       "      <td>019349</td>\n",
       "      <td>121.48</td>\n",
       "      <td>CHF</td>\n",
       "    </tr>\n",
       "    <tr>\n",
       "      <th>25</th>\n",
       "      <td>2018.0</td>\n",
       "      <td>019349</td>\n",
       "      <td>121.48</td>\n",
       "      <td>CHF</td>\n",
       "    </tr>\n",
       "    <tr>\n",
       "      <th>26</th>\n",
       "      <td>2018.0</td>\n",
       "      <td>019349</td>\n",
       "      <td>121.48</td>\n",
       "      <td>CHF</td>\n",
       "    </tr>\n",
       "    <tr>\n",
       "      <th>27</th>\n",
       "      <td>2018.0</td>\n",
       "      <td>019349</td>\n",
       "      <td>121.48</td>\n",
       "      <td>CHF</td>\n",
       "    </tr>\n",
       "    <tr>\n",
       "      <th>28</th>\n",
       "      <td>2018.0</td>\n",
       "      <td>019349</td>\n",
       "      <td>121.48</td>\n",
       "      <td>CHF</td>\n",
       "    </tr>\n",
       "    <tr>\n",
       "      <th>29</th>\n",
       "      <td>2018.0</td>\n",
       "      <td>019349</td>\n",
       "      <td>121.48</td>\n",
       "      <td>CHF</td>\n",
       "    </tr>\n",
       "    <tr>\n",
       "      <th>30</th>\n",
       "      <td>2018.0</td>\n",
       "      <td>019349</td>\n",
       "      <td>121.48</td>\n",
       "      <td>CHF</td>\n",
       "    </tr>\n",
       "    <tr>\n",
       "      <th>31</th>\n",
       "      <td>2018.0</td>\n",
       "      <td>019349</td>\n",
       "      <td>121.48</td>\n",
       "      <td>CHF</td>\n",
       "    </tr>\n",
       "    <tr>\n",
       "      <th>32</th>\n",
       "      <td>2018.0</td>\n",
       "      <td>019349</td>\n",
       "      <td>121.48</td>\n",
       "      <td>CHF</td>\n",
       "    </tr>\n",
       "    <tr>\n",
       "      <th>33</th>\n",
       "      <td>2018.0</td>\n",
       "      <td>019349</td>\n",
       "      <td>121.48</td>\n",
       "      <td>CHF</td>\n",
       "    </tr>\n",
       "    <tr>\n",
       "      <th>34</th>\n",
       "      <td>2018.0</td>\n",
       "      <td>019349</td>\n",
       "      <td>121.48</td>\n",
       "      <td>CHF</td>\n",
       "    </tr>\n",
       "    <tr>\n",
       "      <th>35</th>\n",
       "      <td>2018.0</td>\n",
       "      <td>019349</td>\n",
       "      <td>121.48</td>\n",
       "      <td>CHF</td>\n",
       "    </tr>\n",
       "    <tr>\n",
       "      <th>36</th>\n",
       "      <td>2018.0</td>\n",
       "      <td>019349</td>\n",
       "      <td>121.48</td>\n",
       "      <td>CHF</td>\n",
       "    </tr>\n",
       "    <tr>\n",
       "      <th>37</th>\n",
       "      <td>2018.0</td>\n",
       "      <td>019349</td>\n",
       "      <td>116.15</td>\n",
       "      <td>EUR</td>\n",
       "    </tr>\n",
       "    <tr>\n",
       "      <th>38</th>\n",
       "      <td>2018.0</td>\n",
       "      <td>019349</td>\n",
       "      <td>115.24</td>\n",
       "      <td>EUR</td>\n",
       "    </tr>\n",
       "    <tr>\n",
       "      <th>39</th>\n",
       "      <td>2018.0</td>\n",
       "      <td>019349</td>\n",
       "      <td>116.48</td>\n",
       "      <td>EUR</td>\n",
       "    </tr>\n",
       "    <tr>\n",
       "      <th>40</th>\n",
       "      <td>2018.0</td>\n",
       "      <td>019349</td>\n",
       "      <td>119.66</td>\n",
       "      <td>EUR</td>\n",
       "    </tr>\n",
       "    <tr>\n",
       "      <th>41</th>\n",
       "      <td>2018.0</td>\n",
       "      <td>019349</td>\n",
       "      <td>120.12</td>\n",
       "      <td>EUR</td>\n",
       "    </tr>\n",
       "    <tr>\n",
       "      <th>42</th>\n",
       "      <td>2018.0</td>\n",
       "      <td>019349</td>\n",
       "      <td>121.00</td>\n",
       "      <td>EUR</td>\n",
       "    </tr>\n",
       "    <tr>\n",
       "      <th>43</th>\n",
       "      <td>2018.0</td>\n",
       "      <td>019349</td>\n",
       "      <td>121.60</td>\n",
       "      <td>EUR</td>\n",
       "    </tr>\n",
       "    <tr>\n",
       "      <th>44</th>\n",
       "      <td>2018.0</td>\n",
       "      <td>019349</td>\n",
       "      <td>120.40</td>\n",
       "      <td>EUR</td>\n",
       "    </tr>\n",
       "    <tr>\n",
       "      <th>45</th>\n",
       "      <td>2018.0</td>\n",
       "      <td>019349</td>\n",
       "      <td>120.62</td>\n",
       "      <td>EUR</td>\n",
       "    </tr>\n",
       "    <tr>\n",
       "      <th>46</th>\n",
       "      <td>2018.0</td>\n",
       "      <td>019349</td>\n",
       "      <td>122.44</td>\n",
       "      <td>EUR</td>\n",
       "    </tr>\n",
       "    <tr>\n",
       "      <th>47</th>\n",
       "      <td>2018.0</td>\n",
       "      <td>019349</td>\n",
       "      <td>122.10</td>\n",
       "      <td>EUR</td>\n",
       "    </tr>\n",
       "    <tr>\n",
       "      <th>48</th>\n",
       "      <td>2018.0</td>\n",
       "      <td>019349</td>\n",
       "      <td>123.00</td>\n",
       "      <td>EUR</td>\n",
       "    </tr>\n",
       "    <tr>\n",
       "      <th>49</th>\n",
       "      <td>2018.0</td>\n",
       "      <td>019349</td>\n",
       "      <td>122.20</td>\n",
       "      <td>EUR</td>\n",
       "    </tr>\n",
       "  </tbody>\n",
       "</table>\n",
       "</div>"
      ],
      "text/plain": [
       "      date   gvkey   prccd curcdd\n",
       "0   2018.0  019349  121.48    CHF\n",
       "1   2018.0  019349  121.48    CHF\n",
       "2   2018.0  019349  121.48    CHF\n",
       "3   2018.0  019349  121.48    CHF\n",
       "4   2018.0  019349  121.48    CHF\n",
       "5   2018.0  019349  121.48    CHF\n",
       "6   2018.0  019349  121.48    CHF\n",
       "7   2018.0  019349  121.48    CHF\n",
       "8   2018.0  019349  121.48    CHF\n",
       "9   2018.0  019349  121.48    CHF\n",
       "10  2018.0  019349  121.48    CHF\n",
       "11  2018.0  019349  121.48    CHF\n",
       "12  2018.0  019349  121.48    CHF\n",
       "13  2018.0  019349  121.48    CHF\n",
       "14  2018.0  019349  121.48    CHF\n",
       "15  2018.0  019349  121.48    CHF\n",
       "16  2018.0  019349  121.48    CHF\n",
       "17  2018.0  019349  121.48    CHF\n",
       "18  2018.0  019349  121.48    CHF\n",
       "19  2018.0  019349  121.48    CHF\n",
       "20  2018.0  019349  121.48    CHF\n",
       "21  2018.0  019349  121.48    CHF\n",
       "22  2018.0  019349  121.48    CHF\n",
       "23  2018.0  019349  121.48    CHF\n",
       "24  2018.0  019349  121.48    CHF\n",
       "25  2018.0  019349  121.48    CHF\n",
       "26  2018.0  019349  121.48    CHF\n",
       "27  2018.0  019349  121.48    CHF\n",
       "28  2018.0  019349  121.48    CHF\n",
       "29  2018.0  019349  121.48    CHF\n",
       "30  2018.0  019349  121.48    CHF\n",
       "31  2018.0  019349  121.48    CHF\n",
       "32  2018.0  019349  121.48    CHF\n",
       "33  2018.0  019349  121.48    CHF\n",
       "34  2018.0  019349  121.48    CHF\n",
       "35  2018.0  019349  121.48    CHF\n",
       "36  2018.0  019349  121.48    CHF\n",
       "37  2018.0  019349  116.15    EUR\n",
       "38  2018.0  019349  115.24    EUR\n",
       "39  2018.0  019349  116.48    EUR\n",
       "40  2018.0  019349  119.66    EUR\n",
       "41  2018.0  019349  120.12    EUR\n",
       "42  2018.0  019349  121.00    EUR\n",
       "43  2018.0  019349  121.60    EUR\n",
       "44  2018.0  019349  120.40    EUR\n",
       "45  2018.0  019349  120.62    EUR\n",
       "46  2018.0  019349  122.44    EUR\n",
       "47  2018.0  019349  122.10    EUR\n",
       "48  2018.0  019349  123.00    EUR\n",
       "49  2018.0  019349  122.20    EUR"
      ]
     },
     "execution_count": 26,
     "metadata": {},
     "output_type": "execute_result"
    }
   ],
   "source": [
    "################### g_sec_dprc \n",
    "pe = conn.raw_sql(\"\"\"SELECT DATE_PART('year', datadate) as date, gvkey, prccd, curcdd\n",
    "                        FROM comp.g_sec_dprc \n",
    "                        WHERE gvkey = '019349'\n",
    "                        AND DATE_PART('year', datadate) >= '2018'\n",
    "                        \"\"\")\n",
    "pe.head(50)"
   ]
  },
  {
   "cell_type": "code",
   "execution_count": 10,
   "metadata": {},
   "outputs": [
    {
     "data": {
      "text/html": [
       "<div>\n",
       "<style scoped>\n",
       "    .dataframe tbody tr th:only-of-type {\n",
       "        vertical-align: middle;\n",
       "    }\n",
       "\n",
       "    .dataframe tbody tr th {\n",
       "        vertical-align: top;\n",
       "    }\n",
       "\n",
       "    .dataframe thead th {\n",
       "        text-align: right;\n",
       "    }\n",
       "</style>\n",
       "<table border=\"1\" class=\"dataframe\">\n",
       "  <thead>\n",
       "    <tr style=\"text-align: right;\">\n",
       "      <th></th>\n",
       "      <th>datadate</th>\n",
       "      <th>gvkey</th>\n",
       "      <th>nicon</th>\n",
       "    </tr>\n",
       "  </thead>\n",
       "  <tbody>\n",
       "    <tr>\n",
       "      <th>0</th>\n",
       "      <td>2018-09-30</td>\n",
       "      <td>019349</td>\n",
       "      <td>5683.0</td>\n",
       "    </tr>\n",
       "    <tr>\n",
       "      <th>1</th>\n",
       "      <td>2019-09-30</td>\n",
       "      <td>019349</td>\n",
       "      <td>5171.0</td>\n",
       "    </tr>\n",
       "    <tr>\n",
       "      <th>2</th>\n",
       "      <td>2020-09-30</td>\n",
       "      <td>019349</td>\n",
       "      <td>4120.0</td>\n",
       "    </tr>\n",
       "  </tbody>\n",
       "</table>\n",
       "</div>"
      ],
      "text/plain": [
       "     datadate   gvkey   nicon\n",
       "0  2018-09-30  019349  5683.0\n",
       "1  2019-09-30  019349  5171.0\n",
       "2  2020-09-30  019349  4120.0"
      ]
     },
     "execution_count": 10,
     "metadata": {},
     "output_type": "execute_result"
    }
   ],
   "source": [
    "############################ g_funda\n",
    "pe = conn.raw_sql(\"\"\"SELECT datadate, gvkey, nicon\n",
    "                        FROM comp.g_funda \n",
    "                        WHERE gvkey = '019349'\n",
    "                        AND datadate >= '2018-01-01'\n",
    "                        \"\"\")\n",
    "pe"
   ]
  },
  {
   "cell_type": "markdown",
   "metadata": {},
   "source": [
    "**P/Cash Flow**"
   ]
  },
  {
   "cell_type": "code",
   "execution_count": null,
   "metadata": {},
   "outputs": [],
   "source": []
  },
  {
   "cell_type": "markdown",
   "metadata": {},
   "source": [
    "**PEG (Price/EPS)/EPS Growth Rate**"
   ]
  },
  {
   "cell_type": "code",
   "execution_count": null,
   "metadata": {},
   "outputs": [],
   "source": []
  },
  {
   "cell_type": "code",
   "execution_count": null,
   "metadata": {},
   "outputs": [],
   "source": []
  },
  {
   "cell_type": "markdown",
   "metadata": {
    "heading_collapsed": true
   },
   "source": [
    "# Others"
   ]
  },
  {
   "cell_type": "markdown",
   "metadata": {
    "hidden": true
   },
   "source": [
    "**Z-Score**"
   ]
  },
  {
   "cell_type": "code",
   "execution_count": null,
   "metadata": {
    "hidden": true
   },
   "outputs": [],
   "source": []
  },
  {
   "cell_type": "markdown",
   "metadata": {
    "hidden": true
   },
   "source": [
    "**Credit Ratings**"
   ]
  },
  {
   "cell_type": "code",
   "execution_count": null,
   "metadata": {
    "hidden": true
   },
   "outputs": [],
   "source": []
  },
  {
   "cell_type": "markdown",
   "metadata": {
    "hidden": true
   },
   "source": [
    "**Investment Rate (IR)**"
   ]
  },
  {
   "cell_type": "code",
   "execution_count": null,
   "metadata": {
    "hidden": true
   },
   "outputs": [],
   "source": []
  },
  {
   "cell_type": "markdown",
   "metadata": {
    "hidden": true
   },
   "source": [
    "**Projected NOPLAT Growth**"
   ]
  },
  {
   "cell_type": "code",
   "execution_count": null,
   "metadata": {
    "hidden": true
   },
   "outputs": [],
   "source": []
  },
  {
   "cell_type": "markdown",
   "metadata": {
    "hidden": true
   },
   "source": [
    "**R&D expense / Sales**"
   ]
  },
  {
   "cell_type": "code",
   "execution_count": null,
   "metadata": {
    "hidden": true
   },
   "outputs": [],
   "source": []
  },
  {
   "cell_type": "code",
   "execution_count": null,
   "metadata": {
    "hidden": true
   },
   "outputs": [],
   "source": []
  },
  {
   "cell_type": "code",
   "execution_count": null,
   "metadata": {
    "hidden": true
   },
   "outputs": [],
   "source": []
  },
  {
   "cell_type": "code",
   "execution_count": null,
   "metadata": {
    "hidden": true
   },
   "outputs": [],
   "source": []
  },
  {
   "cell_type": "code",
   "execution_count": null,
   "metadata": {
    "hidden": true
   },
   "outputs": [],
   "source": []
  }
 ],
 "metadata": {
  "kernelspec": {
   "display_name": "Python 3",
   "language": "python",
   "name": "python3"
  },
  "language_info": {
   "codemirror_mode": {
    "name": "ipython",
    "version": 3
   },
   "file_extension": ".py",
   "mimetype": "text/x-python",
   "name": "python",
   "nbconvert_exporter": "python",
   "pygments_lexer": "ipython3",
   "version": "3.8.3"
  },
  "toc": {
   "base_numbering": 1,
   "nav_menu": {},
   "number_sections": true,
   "sideBar": true,
   "skip_h1_title": false,
   "title_cell": "Table of Contents",
   "title_sidebar": "Contents",
   "toc_cell": false,
   "toc_position": {},
   "toc_section_display": true,
   "toc_window_display": false
  }
 },
 "nbformat": 4,
 "nbformat_minor": 4
}

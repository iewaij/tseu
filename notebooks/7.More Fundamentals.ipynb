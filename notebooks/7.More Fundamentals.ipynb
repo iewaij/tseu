{
 "metadata": {
  "language_info": {
   "codemirror_mode": {
    "name": "ipython",
    "version": 3
   },
   "file_extension": ".py",
   "mimetype": "text/x-python",
   "name": "python",
   "nbconvert_exporter": "python",
   "pygments_lexer": "ipython3",
   "version": "3.8.5-final"
  },
  "orig_nbformat": 2,
  "kernelspec": {
   "name": "python3",
   "display_name": "Python 3.8.5 64-bit ('base': conda)",
   "metadata": {
    "interpreter": {
     "hash": "ef5e7a481a0a3ea0d3b4f28929775359bcaa47dcbbabd1c4cf0f1cdb0452fc78"
    }
   }
  }
 },
 "nbformat": 4,
 "nbformat_minor": 2,
 "cells": [
  {
   "cell_type": "code",
   "execution_count": 1,
   "metadata": {},
   "outputs": [
    {
     "output_type": "stream",
     "name": "stdout",
     "text": [
      "Loading library list...\n",
      "Done\n"
     ]
    }
   ],
   "source": [
    "import wrds\n",
    "conn = wrds.Connection(wrds_username='fanjia')"
   ]
  },
  {
   "cell_type": "code",
   "execution_count": 90,
   "metadata": {},
   "outputs": [],
   "source": [
    "import pandas as pd"
   ]
  },
  {
   "cell_type": "code",
   "execution_count": 11,
   "metadata": {},
   "outputs": [
    {
     "output_type": "execute_result",
     "data": {
      "text/plain": [
       "        ticker\n",
       "0         @G2R\n",
       "1         @G2R\n",
       "2         @G2R\n",
       "3         @G2R\n",
       "4         @G2R\n",
       "...        ...\n",
       "9173598   ZSAN\n",
       "9173599   ZSAN\n",
       "9173600   ZSAN\n",
       "9173601   ZSAN\n",
       "9173602   ZSAN\n",
       "\n",
       "[9173603 rows x 1 columns]"
      ],
      "text/html": "<div>\n<style scoped>\n    .dataframe tbody tr th:only-of-type {\n        vertical-align: middle;\n    }\n\n    .dataframe tbody tr th {\n        vertical-align: top;\n    }\n\n    .dataframe thead th {\n        text-align: right;\n    }\n</style>\n<table border=\"1\" class=\"dataframe\">\n  <thead>\n    <tr style=\"text-align: right;\">\n      <th></th>\n      <th>ticker</th>\n    </tr>\n  </thead>\n  <tbody>\n    <tr>\n      <th>0</th>\n      <td>@G2R</td>\n    </tr>\n    <tr>\n      <th>1</th>\n      <td>@G2R</td>\n    </tr>\n    <tr>\n      <th>2</th>\n      <td>@G2R</td>\n    </tr>\n    <tr>\n      <th>3</th>\n      <td>@G2R</td>\n    </tr>\n    <tr>\n      <th>4</th>\n      <td>@G2R</td>\n    </tr>\n    <tr>\n      <th>...</th>\n      <td>...</td>\n    </tr>\n    <tr>\n      <th>9173598</th>\n      <td>ZSAN</td>\n    </tr>\n    <tr>\n      <th>9173599</th>\n      <td>ZSAN</td>\n    </tr>\n    <tr>\n      <th>9173600</th>\n      <td>ZSAN</td>\n    </tr>\n    <tr>\n      <th>9173601</th>\n      <td>ZSAN</td>\n    </tr>\n    <tr>\n      <th>9173602</th>\n      <td>ZSAN</td>\n    </tr>\n  </tbody>\n</table>\n<p>9173603 rows × 1 columns</p>\n</div>"
     },
     "metadata": {},
     "execution_count": 11
    }
   ],
   "source": [
    "######################################## Testing IBES\n",
    "x = conn.raw_sql(\n",
    "    \"\"\" SELECT surprise.ticker\n",
    "        FROM ibes.surpsum AS surprise\n",
    "        WHERE surprise.anndats >= '2001-01-01'::date\n",
    "        ORDER BY surprise.anndats;\n",
    "    \"\"\")\n",
    "x"
   ]
  },
  {
   "cell_type": "code",
   "execution_count": 2,
   "metadata": {},
   "outputs": [],
   "source": [
    "df = conn.raw_sql(\n",
    "    \"\"\" SELECT\n",
    "        datadate AS date,\n",
    "        gvkey,\n",
    "        loc AS country,\n",
    "        indfmt AS industry,\n",
    "        sich AS classification,\n",
    "        at,\n",
    "        ppegt,\n",
    "        invt,\n",
    "        act,\n",
    "        chee,\n",
    "        ivao,\n",
    "        ivst,\n",
    "        intan,\n",
    "        gdwl,\n",
    "        ceq,\n",
    "        lt,\n",
    "        lct,\n",
    "        dlc,\n",
    "        capx,\n",
    "        icapt,\n",
    "        revt,\n",
    "        xrd,\n",
    "        ebit,\n",
    "        ebitda,\n",
    "        nicon,\n",
    "        oancf,\n",
    "        COALESCE(txp, txpfs) as txp, -- =tp\n",
    "        sstk,\n",
    "        prstkc,\n",
    "        ivaeq,\n",
    "        dvt,\n",
    "        dv,\n",
    "        dp,\n",
    "        dltt,\n",
    "        pstk,\n",
    "        at - che AS oa,\n",
    "        act - che AS coa,\n",
    "        lct - dlc AS col,\n",
    "        at - dlc - dltt - mib - pstk - ceq AS ol,\n",
    "        act - che - lct + dlc AS wc,\n",
    "        at - act - COALESCE(ivao, 0) AS ncoa,\n",
    "        lt - lct - dltt AS ncol,\n",
    "        at - act - COALESCE(ivao, 0) - (lt - lct - dltt) AS nncoa,\n",
    "        ivst + ivao AS fa,\n",
    "        dltt + dlc + pstk AS fl,\n",
    "        ivst + ivao - (dltt + dlc + pstk) AS nfa,\n",
    "        (nicon - oancf) / NULLIF(ABS(nicon), 0) AS poa,\n",
    "        (nicon - (- sstk + prstkc + dv + oancf + ivncf + fincf)) / NULLIF(nicon, 0) AS pta,\n",
    "        at - act - COALESCE(ivao, 0) + act - che - lct + dlc + ivst + ivao - (dltt + dlc + pstk) AS ta,\n",
    "        act / NULLIF(lct, 0) AS curr_ratio,\n",
    "        (act - invt) / NULLIF(lct, 0) AS quick_ratio,\n",
    "        chee / NULLIF(lct, 0) AS cash_ratio,\n",
    "        oancf / NULLIF(lct, 0) AS opr_cashflow_ratio,\n",
    "        capx / NULLIF(oancf, 0) AS capx_cashflow_ratio,\n",
    "        (dlc + dltt) / NULLIF(ceq, 0) AS debt_equity_ratio,\n",
    "        (dltt + dlc) / NULLIF(at, 0) debt_asset_ratio,\n",
    "        at / NULLIF(ceq, 0) AS fin_leverage,\n",
    "        (dltt + dlc) / NULLIF(ebitda, 0) AS debt_ebitda_ratio,\n",
    "        (dltt + dlc - chee) / NULLIF(ebitda, 0) AS net_debt_ebitda_ratio,\n",
    "        ebit / NULLIF(xint, 0) AS ebit_int_coverage_ratio,\n",
    "        ebitda / NULLIF(xint, 0) AS ebitda_int_coverage_ratio,\n",
    "        ch / NULLIF(xint, 0) AS cash_coverage_ratio,\n",
    "        (dltt + dlc) / NULLIF(dltt + dlc + teq, 0) AS debt_total_cap_ratio,\n",
    "        oancf / NULLIF(dlc + dltt, 0) AS cashflow_debt_ratio,\n",
    "        cogs / NULLIF(invt, 0) AS invt_turnover,\n",
    "        cogs / NULLIF(ap, 0) AS accounts_payable_turnover,\n",
    "        revt / NULLIF(COALESCE(rect, artfs), 0) AS rec_turnover,\n",
    "        365 * invt / NULLIF(cogs, 0) AS days_sales_invt,\n",
    "        365 * ap / NULLIF(cogs, 0) AS days_sales_payable,\n",
    "        365 * NULLIF(COALESCE(rect, artfs), 0) / NULLIF(revt, 0) AS days_sales_receivable,\n",
    "        revt / NULLIF(ppent, 0) AS fixed_asset_turnover,\n",
    "        revt / NULLIF(at, 0) AS total_asset_turnover,\n",
    "        (revt - cogs) / NULLIF(revt, 0) AS gross_profit_margin,\n",
    "        ebitda / NULLIF(revt, 0) AS ebitda_margin,\n",
    "        ebit / NULLIF(revt, 0) AS ebit_margin,\n",
    "        pi / NULLIF(revt, 0) AS pre_tax_margin,\n",
    "        nicon / NULLIF(revt, 0) AS net_profit_margin,\n",
    "        nicon / NULLIF(at, 0) AS roa,\n",
    "        nicon / NULLIF(ceq, 0) AS roe,\n",
    "        COALESCE((ebit * (nicon / NULLIF(pi, 0))) / NULLIF(dlc + dltt + teq, 0), ebit * (1 - txt / NULLIF(pi, 0)) / NULLIF(icapt, 0)) AS roic,\n",
    "        COALESCE(epsexcon, nicon / NULLIF(cshpria, 0)) AS eps,\n",
    "        COALESCE(epsincon, (nicon + xido) / NULLIF(cshpria, 0)) AS eps_inextra,\n",
    "        fincf + ivncf + oancf AS cashflow,\n",
    "        xrd / NULLIF(revt, 0) AS rd_sales_ratio\n",
    "FROM\n",
    "    comp_global_daily.g_funda\n",
    "WHERE \n",
    "    exchg = ANY (ARRAY [104, 107, 132, 151, 154, 171, 192, 194, 201, 209, 256, 257, 273, 276, 286])\n",
    "    AND curcd = 'EUR';\n",
    "\n",
    "        \"\"\")\n"
   ]
  },
  {
   "cell_type": "code",
   "execution_count": 78,
   "metadata": {},
   "outputs": [
    {
     "output_type": "execute_result",
     "data": {
      "text/plain": [
       "0          NaN\n",
       "1     0.030740\n",
       "2    -0.040623\n",
       "3    -0.055401\n",
       "4    -0.123233\n",
       "5    -0.004306\n",
       "6     0.008315\n",
       "7    -0.054317\n",
       "8     0.013350\n",
       "9    -0.056480\n",
       "10   -0.150775\n",
       "11    0.058354\n",
       "12    0.091667\n",
       "13   -0.006740\n",
       "14   -0.279665\n",
       "15   -0.026405\n",
       "16   -0.027095\n",
       "17   -0.008466\n",
       "18   -0.015259\n",
       "19   -0.014258\n",
       "20   -0.054996\n",
       "21    0.001935\n",
       "22         NaN\n",
       "dtype: float64"
      ]
     },
     "metadata": {},
     "execution_count": 78
    }
   ],
   "source": [
    "##### Accruals (Acc)\n",
    "df2 = df.loc[df['gvkey'] == '001166']\n",
    "df2 = df2[['date','act','chee','lct','dlc','txp','dp','at']]\n",
    "\n",
    "df2.loc[max(df2.index)+1, :] = None\n",
    "\n",
    "df2['change_act'] = df2['act'] - df2['act'].shift(1)\n",
    "df2['change_chee'] = df2['chee'] - df2['chee'].shift(1)\n",
    "df2['change_lct'] = df2['lct'] - df2['lct'].shift(1)\n",
    "df2['change_dlc'] = df2['dlc'].fillna(0) - df2['dlc'].shift(1).fillna(0)\n",
    "df2['change_txp'] = df2['txp'] - df2['txp'].shift(1)\n",
    "df2['change_chee'] = df2['chee'] - df2['chee'].shift(1)\n",
    "df2['avg_at'] = (df2['at'] + df2['at'].shift(1))/2\n",
    "\n",
    "acc = ((df2['change_act'] - df2['change_chee']) - (df2['change_lct'] - df2['change_dlc'] - df2['change_txp']) - df2['dp'])/df2['avg_at']\n",
    "acc"
   ]
  },
  {
   "cell_type": "code",
   "execution_count": 79,
   "metadata": {},
   "outputs": [
    {
     "output_type": "execute_result",
     "data": {
      "text/plain": [
       "0          NaN\n",
       "1     0.419283\n",
       "2    -0.106170\n",
       "3    -0.035421\n",
       "4    -0.043586\n",
       "5     0.066503\n",
       "6     0.083223\n",
       "7    -0.003899\n",
       "8     0.051644\n",
       "9    -0.075220\n",
       "10   -0.062457\n",
       "11    0.281073\n",
       "12    0.174344\n",
       "13    0.007821\n",
       "14   -0.408335\n",
       "15    0.017160\n",
       "16   -0.005014\n",
       "17    0.023852\n",
       "18    0.025017\n",
       "19    0.031414\n",
       "20    0.028522\n",
       "21    0.031416\n",
       "22         NaN\n",
       "dtype: float64"
      ]
     },
     "metadata": {},
     "execution_count": 79
    }
   ],
   "source": [
    "##### Change in Current Operating Assets (ChCOA)\n",
    "df2 = df.loc[df['gvkey'] == '001166']\n",
    "df2 = df2[['date','coa','at']]\n",
    "\n",
    "df2.loc[max(df2.index)+1, :] = None\n",
    "\n",
    "chcoa = (df2['coa'] - df2['coa'].shift(1))/df2['at'].shift(1)\n",
    "chcoa"
   ]
  },
  {
   "cell_type": "code",
   "execution_count": 85,
   "metadata": {},
   "outputs": [
    {
     "output_type": "execute_result",
     "data": {
      "text/plain": [
       "0          NaN\n",
       "1     0.274328\n",
       "2    -0.145178\n",
       "3    -0.034984\n",
       "4     0.026938\n",
       "5     0.025654\n",
       "6     0.022254\n",
       "7     0.014742\n",
       "8     0.001095\n",
       "9    -0.053762\n",
       "10    0.039647\n",
       "11    0.203251\n",
       "12    0.036174\n",
       "13   -0.038813\n",
       "14   -0.165758\n",
       "15    0.021504\n",
       "16   -0.010844\n",
       "17    0.001337\n",
       "18    0.015626\n",
       "19    0.019663\n",
       "20    0.064571\n",
       "21   -0.144164\n",
       "22         NaN\n",
       "dtype: float64"
      ]
     },
     "metadata": {},
     "execution_count": 85
    }
   ],
   "source": [
    "##### Change in Current Operating Liabilities (ChCOL)\n",
    "df2 = df.loc[df['gvkey'] == '001166']\n",
    "df2 = df2[['date','col','at']]\n",
    "\n",
    "df2.loc[max(df2.index)+1, :] = None\n",
    "\n",
    "chcol = (df2['col'].fillna(0) - df2['col'].shift(1))/df2['at'].shift(1)\n",
    "chcol"
   ]
  },
  {
   "cell_type": "code",
   "execution_count": 86,
   "metadata": {},
   "outputs": [
    {
     "output_type": "execute_result",
     "data": {
      "text/plain": [
       "0          NaN\n",
       "1     0.144955\n",
       "2     0.039008\n",
       "3    -0.000437\n",
       "4    -0.070523\n",
       "5     0.040849\n",
       "6     0.060969\n",
       "7    -0.018641\n",
       "8     0.050549\n",
       "9    -0.021458\n",
       "10   -0.102104\n",
       "11    0.077822\n",
       "12    0.138170\n",
       "13    0.046634\n",
       "14   -0.242577\n",
       "15   -0.004344\n",
       "16    0.005830\n",
       "17    0.022515\n",
       "18    0.009391\n",
       "19    0.011751\n",
       "20   -0.036049\n",
       "21   -0.061535\n",
       "22         NaN\n",
       "dtype: float64"
      ]
     },
     "metadata": {},
     "execution_count": 86
    }
   ],
   "source": [
    "##### Change in Net Non-Cash Working Capital (ChNNCWC)\n",
    "df2 = df.loc[df['gvkey'] == '001166']\n",
    "df2 = df2[['date','wc','at']]\n",
    "\n",
    "df2.loc[max(df2.index)+1, :] = None\n",
    "\n",
    "chnncwc = (df2['wc'].fillna(0) - df2['wc'].shift(1))/df2['at'].shift(1)\n",
    "chnncwc"
   ]
  },
  {
   "cell_type": "code",
   "execution_count": 98,
   "metadata": {},
   "outputs": [
    {
     "output_type": "execute_result",
     "data": {
      "text/plain": [
       "0          NaN\n",
       "1     0.206447\n",
       "2     0.078344\n",
       "3    -0.079393\n",
       "4    -0.061957\n",
       "5     0.099586\n",
       "6     0.004286\n",
       "7    -0.043969\n",
       "8    -0.010811\n",
       "9     0.001572\n",
       "10   -0.006211\n",
       "11    0.089979\n",
       "12    0.071224\n",
       "13    0.002961\n",
       "14    0.441533\n",
       "15    0.113279\n",
       "16    0.107868\n",
       "17    0.044089\n",
       "18   -0.224883\n",
       "19    0.070241\n",
       "20    0.033817\n",
       "21    0.022578\n",
       "22   -0.573537\n",
       "dtype: float64"
      ]
     },
     "metadata": {},
     "execution_count": 98
    }
   ],
   "source": [
    "##### Change in Net Non-Current Operating Assets (ChNNCOA)\n",
    "df2 = df.loc[df['gvkey'] == '001166']\n",
    "df2 = df2[['date','ncoa','at']]\n",
    "\n",
    "df2.loc[max(df2.index)+1, :] = None\n",
    "\n",
    "chnncoa = (df2['ncoa'].fillna(0) - df2['ncoa'].shift(1))/df2['at'].shift(1)\n",
    "chnncoa #drop the last row 22th"
   ]
  },
  {
   "cell_type": "code",
   "execution_count": 114,
   "metadata": {},
   "outputs": [
    {
     "output_type": "execute_result",
     "data": {
      "text/plain": [
       "0          NaN\n",
       "1     0.206447\n",
       "2     0.078344\n",
       "3    -0.079393\n",
       "4    -0.061957\n",
       "5     0.099586\n",
       "6     0.004286\n",
       "7    -0.043969\n",
       "8    -0.010811\n",
       "9     0.001572\n",
       "10   -0.006211\n",
       "11    0.089979\n",
       "12    0.071224\n",
       "13    0.002961\n",
       "14    0.441533\n",
       "15    0.113279\n",
       "16    0.107868\n",
       "17    0.044089\n",
       "18   -0.224883\n",
       "19    0.070241\n",
       "20    0.033817\n",
       "21    0.022578\n",
       "22         NaN\n",
       "dtype: float64"
      ]
     },
     "metadata": {},
     "execution_count": 114
    }
   ],
   "source": [
    "##### Change in Non-Current Operating Assets (ChNCOA)\n",
    "df2 = df.loc[df['gvkey'] == '001166']\n",
    "df2 = df2[['date','at','act','ivao']]\n",
    "\n",
    "df2.loc[max(df2.index)+1, :] = None\n",
    "\n",
    "chncoa = ((df2['at']-df2['act']-df2['ivao'].fillna(0)) - (df2['at']-df2['act']-df2['ivao'].fillna(0)).shift(1))/df2['at'].shift(1)\n",
    "chncoa"
   ]
  },
  {
   "cell_type": "code",
   "execution_count": 117,
   "metadata": {},
   "outputs": [
    {
     "output_type": "execute_result",
     "data": {
      "text/plain": [
       "0          NaN\n",
       "1    -0.006239\n",
       "2     0.001464\n",
       "3    -0.001224\n",
       "4     0.001055\n",
       "5    -0.001229\n",
       "6    -0.000732\n",
       "7     0.004677\n",
       "8     0.000674\n",
       "9     0.002806\n",
       "10    0.027380\n",
       "11   -0.024143\n",
       "12    0.008315\n",
       "13    0.000763\n",
       "14   -0.010897\n",
       "15   -0.000403\n",
       "16    0.005844\n",
       "17    0.000980\n",
       "18   -0.000133\n",
       "19   -0.000955\n",
       "20    0.004311\n",
       "21    0.000807\n",
       "22         NaN\n",
       "dtype: float64"
      ]
     },
     "metadata": {},
     "execution_count": 117
    }
   ],
   "source": [
    "##### Change in Non-Current Operating Liabilities (ChNCOL)\n",
    "df2 = df.loc[df['gvkey'] == '001166']\n",
    "df2 = df2[['date','at','lt','lct','dltt']]\n",
    "\n",
    "df2.loc[max(df2.index)+1, :] = None\n",
    "\n",
    "chncol = ((df2['lt']-df2['lct']-df2['dltt']) - (df2['lt']-df2['lct']-df2['dltt']).shift(1))/df2['at'].shift(1)\n",
    "chncol"
   ]
  },
  {
   "cell_type": "code",
   "execution_count": 9,
   "metadata": {},
   "outputs": [
    {
     "output_type": "execute_result",
     "data": {
      "text/plain": [
       "0          NaN\n",
       "1     0.089190\n",
       "2    -0.108720\n",
       "3     0.045023\n",
       "4    -0.087122\n",
       "5    -0.168847\n",
       "6     0.048374\n",
       "7     0.035573\n",
       "8     0.049939\n",
       "9     0.039311\n",
       "10   -0.116368\n",
       "11    0.060400\n",
       "12    0.013505\n",
       "13    0.072547\n",
       "14    0.040429\n",
       "15    0.000000\n",
       "16    0.000000\n",
       "17    0.000000\n",
       "18    0.000000\n",
       "19    0.000000\n",
       "20   -0.012325\n",
       "21    0.004474\n",
       "22         NaN\n",
       "dtype: float64"
      ]
     },
     "metadata": {},
     "execution_count": 9
    }
   ],
   "source": [
    "##### Change in Net Financial Assets (ChNFA)\n",
    "df2 = df.loc[df['gvkey'] == '001166']\n",
    "df2 = df2[['date','at','ivst','ivao','dltt','dlc','pstk']]\n",
    "\n",
    "df2.loc[max(df2.index)+1, :] = None\n",
    "\n",
    "chnfa = ((df2['ivst'].fillna(0) + df2['ivao'].fillna(0) - df2['dltt'] - df2['dlc'].fillna(0) - df2['pstk'].fillna(0)) - (df2['ivst'].fillna(0) + df2['ivao'].fillna(0) - df2['dltt'] - df2['dlc'].fillna(0) - df2['pstk'].fillna(0)).shift(1))/ df2['at'].shift(1)\n",
    "\n",
    "chnfa\n"
   ]
  },
  {
   "cell_type": "code",
   "execution_count": 16,
   "metadata": {},
   "outputs": [
    {
     "output_type": "execute_result",
     "data": {
      "text/plain": [
       "0          NaN\n",
       "1     0.000000\n",
       "2     0.000000\n",
       "3     0.026785\n",
       "4     0.005512\n",
       "5    -0.035523\n",
       "6     0.000000\n",
       "7     0.000000\n",
       "8     0.000000\n",
       "9     0.000000\n",
       "10    0.000000\n",
       "11    0.000000\n",
       "12    0.016473\n",
       "13    0.000000\n",
       "14   -0.013338\n",
       "15    0.000000\n",
       "16    0.000000\n",
       "17    0.000000\n",
       "18    0.000000\n",
       "19    0.000000\n",
       "20    0.000000\n",
       "21    0.000000\n",
       "22         NaN\n",
       "dtype: float64"
      ]
     },
     "metadata": {},
     "execution_count": 16
    }
   ],
   "source": [
    "##### Change in Long-Term Investments (ChLTI)\n",
    "df2 = df.loc[df['gvkey'] == '001166']\n",
    "df2 = df2[['date','at','ivao']]\n",
    "\n",
    "df2.loc[max(df2.index)+1, :] = None\n",
    "\n",
    "chlti = (df2['ivao'].fillna(0) - df2['ivao'].shift(1))/ df2['at'].shift(1)\n",
    "\n",
    "chlti\n"
   ]
  },
  {
   "cell_type": "code",
   "execution_count": 19,
   "metadata": {},
   "outputs": [
    {
     "output_type": "execute_result",
     "data": {
      "text/plain": [
       "0          NaN\n",
       "1     0.571176\n",
       "2     0.016181\n",
       "3    -0.073135\n",
       "4    -0.077404\n",
       "5     0.062151\n",
       "6    -0.021997\n",
       "7     0.046613\n",
       "8     0.050967\n",
       "9    -0.001423\n",
       "10   -0.099574\n",
       "11    0.199872\n",
       "12    0.204540\n",
       "13    0.051876\n",
       "14    0.470404\n",
       "15    0.156616\n",
       "16    0.141318\n",
       "17    0.032504\n",
       "18   -0.002022\n",
       "19   -0.169925\n",
       "20    0.095835\n",
       "21    0.016584\n",
       "22         NaN\n",
       "dtype: float64"
      ]
     },
     "metadata": {},
     "execution_count": 19
    }
   ],
   "source": [
    "##### Change in Common Equity (ChCE)\n",
    "df2 = df.loc[df['gvkey'] == '001166']\n",
    "df2 = df2[['date','at','ceq']]\n",
    "\n",
    "df2.loc[max(df2.index)+1, :] = None\n",
    "\n",
    "chce = (df2['ceq'] - df2['ceq'].shift(1))/ df2['at'].shift(1)\n",
    "\n",
    "chce\n"
   ]
  },
  {
   "cell_type": "code",
   "execution_count": 21,
   "metadata": {},
   "outputs": [
    {
     "output_type": "execute_result",
     "data": {
      "text/plain": [
       "0          NaN\n",
       "1    -0.102610\n",
       "2     0.108720\n",
       "3    -0.018230\n",
       "4     0.092631\n",
       "5     0.133318\n",
       "6    -0.048375\n",
       "7    -0.035578\n",
       "8    -0.049939\n",
       "9    -0.039311\n",
       "10    0.116368\n",
       "11   -0.060400\n",
       "12    0.002968\n",
       "13   -0.072547\n",
       "14   -0.053766\n",
       "15    0.000000\n",
       "16    0.000000\n",
       "17    0.000000\n",
       "18    0.000000\n",
       "19    0.000000\n",
       "20    0.012325\n",
       "21   -0.004474\n",
       "22         NaN\n",
       "dtype: float64"
      ]
     },
     "metadata": {},
     "execution_count": 21
    }
   ],
   "source": [
    "##### Change in Financial Liabilities (ChFL)\n",
    "df2 = df.loc[df['gvkey'] == '001166']\n",
    "df2 = df2[['date','at','dltt','dlc','pstk']]\n",
    "\n",
    "df2.loc[max(df2.index)+1, :] = None\n",
    "\n",
    "chfl = (df2['dltt']+df2['dlc'].fillna(0)+df2['pstk'].fillna(0) - (df2['dltt']+df2['dlc'].fillna(0)+df2['pstk'].fillna(0)).shift(1)) / df2['at'].shift(1)\n",
    "\n",
    "chfl\n"
   ]
  },
  {
   "cell_type": "code",
   "execution_count": null,
   "metadata": {},
   "outputs": [],
   "source": [
    "\n"
   ]
  }
 ]
}
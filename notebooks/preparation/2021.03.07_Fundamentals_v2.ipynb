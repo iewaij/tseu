{
 "cells": [
  {
   "cell_type": "code",
   "execution_count": 1,
   "metadata": {},
   "outputs": [
    {
     "name": "stdout",
     "output_type": "stream",
     "text": [
      "Enter your WRDS username [ottoh]:ottoriess\n",
      "Enter your password:········\n",
      "WRDS recommends setting up a .pgpass file.\n",
      "You can find more info here:\n",
      "https://www.postgresql.org/docs/9.5/static/libpq-pgpass.html.\n",
      "Loading library list...\n",
      "Done\n"
     ]
    }
   ],
   "source": [
    "import wrds\n",
    "conn = wrds.Connection(wrds_username='ottoriess')"
   ]
  },
  {
   "cell_type": "code",
   "execution_count": 54,
   "metadata": {},
   "outputs": [],
   "source": [
    "import pandas as pd\n",
    "import numpy as np"
   ]
  },
  {
   "cell_type": "code",
   "execution_count": 3,
   "metadata": {},
   "outputs": [
    {
     "ename": "KeyboardInterrupt",
     "evalue": "",
     "output_type": "error",
     "traceback": [
      "\u001b[1;31m---------------------------------------------------------------------------\u001b[0m",
      "\u001b[1;31mKeyboardInterrupt\u001b[0m                         Traceback (most recent call last)",
      "\u001b[1;32m<ipython-input-3-2a76e97fe904>\u001b[0m in \u001b[0;36m<module>\u001b[1;34m\u001b[0m\n\u001b[0;32m      1\u001b[0m \u001b[1;31m######################################## Testing IBES\u001b[0m\u001b[1;33m\u001b[0m\u001b[1;33m\u001b[0m\u001b[1;33m\u001b[0m\u001b[0m\n\u001b[1;32m----> 2\u001b[1;33m x = conn.raw_sql(\n\u001b[0m\u001b[0;32m      3\u001b[0m     \"\"\" SELECT surprise.ticker\n\u001b[0;32m      4\u001b[0m         \u001b[0mFROM\u001b[0m \u001b[0mibes\u001b[0m\u001b[1;33m.\u001b[0m\u001b[0msurpsum\u001b[0m \u001b[0mAS\u001b[0m \u001b[0msurprise\u001b[0m\u001b[1;33m\u001b[0m\u001b[1;33m\u001b[0m\u001b[0m\n\u001b[0;32m      5\u001b[0m         \u001b[0mWHERE\u001b[0m \u001b[0msurprise\u001b[0m\u001b[1;33m.\u001b[0m\u001b[0manndats\u001b[0m \u001b[1;33m>=\u001b[0m \u001b[1;34m'2001-01-01'\u001b[0m\u001b[1;33m:\u001b[0m\u001b[1;33m:\u001b[0m\u001b[0mdate\u001b[0m\u001b[1;33m\u001b[0m\u001b[1;33m\u001b[0m\u001b[0m\n",
      "\u001b[1;32m~\\Anaconda3\\lib\\site-packages\\wrds\\sql.py\u001b[0m in \u001b[0;36mraw_sql\u001b[1;34m(self, sql, coerce_float, date_cols, index_col, params)\u001b[0m\n\u001b[0;32m    493\u001b[0m         \"\"\"\n\u001b[0;32m    494\u001b[0m         \u001b[1;32mtry\u001b[0m\u001b[1;33m:\u001b[0m\u001b[1;33m\u001b[0m\u001b[1;33m\u001b[0m\u001b[0m\n\u001b[1;32m--> 495\u001b[1;33m             return pd.read_sql_query(\n\u001b[0m\u001b[0;32m    496\u001b[0m                 \u001b[0msql\u001b[0m\u001b[1;33m,\u001b[0m\u001b[1;33m\u001b[0m\u001b[1;33m\u001b[0m\u001b[0m\n\u001b[0;32m    497\u001b[0m                 \u001b[0mself\u001b[0m\u001b[1;33m.\u001b[0m\u001b[0mconnection\u001b[0m\u001b[1;33m,\u001b[0m\u001b[1;33m\u001b[0m\u001b[1;33m\u001b[0m\u001b[0m\n",
      "\u001b[1;32m~\\Anaconda3\\lib\\site-packages\\pandas\\io\\sql.py\u001b[0m in \u001b[0;36mread_sql_query\u001b[1;34m(sql, con, index_col, coerce_float, params, parse_dates, chunksize)\u001b[0m\n\u001b[0;32m    324\u001b[0m     \"\"\"\n\u001b[0;32m    325\u001b[0m     \u001b[0mpandas_sql\u001b[0m \u001b[1;33m=\u001b[0m \u001b[0mpandasSQL_builder\u001b[0m\u001b[1;33m(\u001b[0m\u001b[0mcon\u001b[0m\u001b[1;33m)\u001b[0m\u001b[1;33m\u001b[0m\u001b[1;33m\u001b[0m\u001b[0m\n\u001b[1;32m--> 326\u001b[1;33m     return pandas_sql.read_query(\n\u001b[0m\u001b[0;32m    327\u001b[0m         \u001b[0msql\u001b[0m\u001b[1;33m,\u001b[0m\u001b[1;33m\u001b[0m\u001b[1;33m\u001b[0m\u001b[0m\n\u001b[0;32m    328\u001b[0m         \u001b[0mindex_col\u001b[0m\u001b[1;33m=\u001b[0m\u001b[0mindex_col\u001b[0m\u001b[1;33m,\u001b[0m\u001b[1;33m\u001b[0m\u001b[1;33m\u001b[0m\u001b[0m\n",
      "\u001b[1;32m~\\Anaconda3\\lib\\site-packages\\pandas\\io\\sql.py\u001b[0m in \u001b[0;36mread_query\u001b[1;34m(self, sql, index_col, coerce_float, parse_dates, params, chunksize)\u001b[0m\n\u001b[0;32m   1216\u001b[0m         \u001b[0margs\u001b[0m \u001b[1;33m=\u001b[0m \u001b[0m_convert_params\u001b[0m\u001b[1;33m(\u001b[0m\u001b[0msql\u001b[0m\u001b[1;33m,\u001b[0m \u001b[0mparams\u001b[0m\u001b[1;33m)\u001b[0m\u001b[1;33m\u001b[0m\u001b[1;33m\u001b[0m\u001b[0m\n\u001b[0;32m   1217\u001b[0m \u001b[1;33m\u001b[0m\u001b[0m\n\u001b[1;32m-> 1218\u001b[1;33m         \u001b[0mresult\u001b[0m \u001b[1;33m=\u001b[0m \u001b[0mself\u001b[0m\u001b[1;33m.\u001b[0m\u001b[0mexecute\u001b[0m\u001b[1;33m(\u001b[0m\u001b[1;33m*\u001b[0m\u001b[0margs\u001b[0m\u001b[1;33m)\u001b[0m\u001b[1;33m\u001b[0m\u001b[1;33m\u001b[0m\u001b[0m\n\u001b[0m\u001b[0;32m   1219\u001b[0m         \u001b[0mcolumns\u001b[0m \u001b[1;33m=\u001b[0m \u001b[0mresult\u001b[0m\u001b[1;33m.\u001b[0m\u001b[0mkeys\u001b[0m\u001b[1;33m(\u001b[0m\u001b[1;33m)\u001b[0m\u001b[1;33m\u001b[0m\u001b[1;33m\u001b[0m\u001b[0m\n\u001b[0;32m   1220\u001b[0m \u001b[1;33m\u001b[0m\u001b[0m\n",
      "\u001b[1;32m~\\Anaconda3\\lib\\site-packages\\pandas\\io\\sql.py\u001b[0m in \u001b[0;36mexecute\u001b[1;34m(self, *args, **kwargs)\u001b[0m\n\u001b[0;32m   1085\u001b[0m     \u001b[1;32mdef\u001b[0m \u001b[0mexecute\u001b[0m\u001b[1;33m(\u001b[0m\u001b[0mself\u001b[0m\u001b[1;33m,\u001b[0m \u001b[1;33m*\u001b[0m\u001b[0margs\u001b[0m\u001b[1;33m,\u001b[0m \u001b[1;33m**\u001b[0m\u001b[0mkwargs\u001b[0m\u001b[1;33m)\u001b[0m\u001b[1;33m:\u001b[0m\u001b[1;33m\u001b[0m\u001b[1;33m\u001b[0m\u001b[0m\n\u001b[0;32m   1086\u001b[0m         \u001b[1;34m\"\"\"Simple passthrough to SQLAlchemy connectable\"\"\"\u001b[0m\u001b[1;33m\u001b[0m\u001b[1;33m\u001b[0m\u001b[0m\n\u001b[1;32m-> 1087\u001b[1;33m         \u001b[1;32mreturn\u001b[0m \u001b[0mself\u001b[0m\u001b[1;33m.\u001b[0m\u001b[0mconnectable\u001b[0m\u001b[1;33m.\u001b[0m\u001b[0mexecute\u001b[0m\u001b[1;33m(\u001b[0m\u001b[1;33m*\u001b[0m\u001b[0margs\u001b[0m\u001b[1;33m,\u001b[0m \u001b[1;33m**\u001b[0m\u001b[0mkwargs\u001b[0m\u001b[1;33m)\u001b[0m\u001b[1;33m\u001b[0m\u001b[1;33m\u001b[0m\u001b[0m\n\u001b[0m\u001b[0;32m   1088\u001b[0m \u001b[1;33m\u001b[0m\u001b[0m\n\u001b[0;32m   1089\u001b[0m     def read_table(\n",
      "\u001b[1;32m~\\Anaconda3\\lib\\site-packages\\sqlalchemy\\engine\\base.py\u001b[0m in \u001b[0;36mexecute\u001b[1;34m(self, object_, *multiparams, **params)\u001b[0m\n\u001b[0;32m   1004\u001b[0m         \"\"\"\n\u001b[0;32m   1005\u001b[0m         \u001b[1;32mif\u001b[0m \u001b[0misinstance\u001b[0m\u001b[1;33m(\u001b[0m\u001b[0mobject_\u001b[0m\u001b[1;33m,\u001b[0m \u001b[0mutil\u001b[0m\u001b[1;33m.\u001b[0m\u001b[0mstring_types\u001b[0m\u001b[1;33m[\u001b[0m\u001b[1;36m0\u001b[0m\u001b[1;33m]\u001b[0m\u001b[1;33m)\u001b[0m\u001b[1;33m:\u001b[0m\u001b[1;33m\u001b[0m\u001b[1;33m\u001b[0m\u001b[0m\n\u001b[1;32m-> 1006\u001b[1;33m             \u001b[1;32mreturn\u001b[0m \u001b[0mself\u001b[0m\u001b[1;33m.\u001b[0m\u001b[0m_execute_text\u001b[0m\u001b[1;33m(\u001b[0m\u001b[0mobject_\u001b[0m\u001b[1;33m,\u001b[0m \u001b[0mmultiparams\u001b[0m\u001b[1;33m,\u001b[0m \u001b[0mparams\u001b[0m\u001b[1;33m)\u001b[0m\u001b[1;33m\u001b[0m\u001b[1;33m\u001b[0m\u001b[0m\n\u001b[0m\u001b[0;32m   1007\u001b[0m         \u001b[1;32mtry\u001b[0m\u001b[1;33m:\u001b[0m\u001b[1;33m\u001b[0m\u001b[1;33m\u001b[0m\u001b[0m\n\u001b[0;32m   1008\u001b[0m             \u001b[0mmeth\u001b[0m \u001b[1;33m=\u001b[0m \u001b[0mobject_\u001b[0m\u001b[1;33m.\u001b[0m\u001b[0m_execute_on_connection\u001b[0m\u001b[1;33m\u001b[0m\u001b[1;33m\u001b[0m\u001b[0m\n",
      "\u001b[1;32m~\\Anaconda3\\lib\\site-packages\\sqlalchemy\\engine\\base.py\u001b[0m in \u001b[0;36m_execute_text\u001b[1;34m(self, statement, multiparams, params)\u001b[0m\n\u001b[0;32m   1173\u001b[0m         \u001b[0mdialect\u001b[0m \u001b[1;33m=\u001b[0m \u001b[0mself\u001b[0m\u001b[1;33m.\u001b[0m\u001b[0mdialect\u001b[0m\u001b[1;33m\u001b[0m\u001b[1;33m\u001b[0m\u001b[0m\n\u001b[0;32m   1174\u001b[0m         \u001b[0mparameters\u001b[0m \u001b[1;33m=\u001b[0m \u001b[0m_distill_params\u001b[0m\u001b[1;33m(\u001b[0m\u001b[0mmultiparams\u001b[0m\u001b[1;33m,\u001b[0m \u001b[0mparams\u001b[0m\u001b[1;33m)\u001b[0m\u001b[1;33m\u001b[0m\u001b[1;33m\u001b[0m\u001b[0m\n\u001b[1;32m-> 1175\u001b[1;33m         ret = self._execute_context(\n\u001b[0m\u001b[0;32m   1176\u001b[0m             \u001b[0mdialect\u001b[0m\u001b[1;33m,\u001b[0m\u001b[1;33m\u001b[0m\u001b[1;33m\u001b[0m\u001b[0m\n\u001b[0;32m   1177\u001b[0m             \u001b[0mdialect\u001b[0m\u001b[1;33m.\u001b[0m\u001b[0mexecution_ctx_cls\u001b[0m\u001b[1;33m.\u001b[0m\u001b[0m_init_statement\u001b[0m\u001b[1;33m,\u001b[0m\u001b[1;33m\u001b[0m\u001b[1;33m\u001b[0m\u001b[0m\n",
      "\u001b[1;32m~\\Anaconda3\\lib\\site-packages\\sqlalchemy\\engine\\base.py\u001b[0m in \u001b[0;36m_execute_context\u001b[1;34m(self, dialect, constructor, statement, parameters, *args)\u001b[0m\n\u001b[0;32m   1315\u001b[0m \u001b[1;33m\u001b[0m\u001b[0m\n\u001b[0;32m   1316\u001b[0m         \u001b[1;32mexcept\u001b[0m \u001b[0mBaseException\u001b[0m \u001b[1;32mas\u001b[0m \u001b[0me\u001b[0m\u001b[1;33m:\u001b[0m\u001b[1;33m\u001b[0m\u001b[1;33m\u001b[0m\u001b[0m\n\u001b[1;32m-> 1317\u001b[1;33m             self._handle_dbapi_exception(\n\u001b[0m\u001b[0;32m   1318\u001b[0m                 \u001b[0me\u001b[0m\u001b[1;33m,\u001b[0m \u001b[0mstatement\u001b[0m\u001b[1;33m,\u001b[0m \u001b[0mparameters\u001b[0m\u001b[1;33m,\u001b[0m \u001b[0mcursor\u001b[0m\u001b[1;33m,\u001b[0m \u001b[0mcontext\u001b[0m\u001b[1;33m\u001b[0m\u001b[1;33m\u001b[0m\u001b[0m\n\u001b[0;32m   1319\u001b[0m             )\n",
      "\u001b[1;32m~\\Anaconda3\\lib\\site-packages\\sqlalchemy\\engine\\base.py\u001b[0m in \u001b[0;36m_handle_dbapi_exception\u001b[1;34m(self, e, statement, parameters, cursor, context)\u001b[0m\n\u001b[0;32m   1513\u001b[0m                 )\n\u001b[0;32m   1514\u001b[0m             \u001b[1;32melse\u001b[0m\u001b[1;33m:\u001b[0m\u001b[1;33m\u001b[0m\u001b[1;33m\u001b[0m\u001b[0m\n\u001b[1;32m-> 1515\u001b[1;33m                 \u001b[0mutil\u001b[0m\u001b[1;33m.\u001b[0m\u001b[0mraise_\u001b[0m\u001b[1;33m(\u001b[0m\u001b[0mexc_info\u001b[0m\u001b[1;33m[\u001b[0m\u001b[1;36m1\u001b[0m\u001b[1;33m]\u001b[0m\u001b[1;33m,\u001b[0m \u001b[0mwith_traceback\u001b[0m\u001b[1;33m=\u001b[0m\u001b[0mexc_info\u001b[0m\u001b[1;33m[\u001b[0m\u001b[1;36m2\u001b[0m\u001b[1;33m]\u001b[0m\u001b[1;33m)\u001b[0m\u001b[1;33m\u001b[0m\u001b[1;33m\u001b[0m\u001b[0m\n\u001b[0m\u001b[0;32m   1516\u001b[0m \u001b[1;33m\u001b[0m\u001b[0m\n\u001b[0;32m   1517\u001b[0m         \u001b[1;32mfinally\u001b[0m\u001b[1;33m:\u001b[0m\u001b[1;33m\u001b[0m\u001b[1;33m\u001b[0m\u001b[0m\n",
      "\u001b[1;32m~\\Anaconda3\\lib\\site-packages\\sqlalchemy\\util\\compat.py\u001b[0m in \u001b[0;36mraise_\u001b[1;34m(***failed resolving arguments***)\u001b[0m\n\u001b[0;32m    176\u001b[0m \u001b[1;33m\u001b[0m\u001b[0m\n\u001b[0;32m    177\u001b[0m         \u001b[1;32mtry\u001b[0m\u001b[1;33m:\u001b[0m\u001b[1;33m\u001b[0m\u001b[1;33m\u001b[0m\u001b[0m\n\u001b[1;32m--> 178\u001b[1;33m             \u001b[1;32mraise\u001b[0m \u001b[0mexception\u001b[0m\u001b[1;33m\u001b[0m\u001b[1;33m\u001b[0m\u001b[0m\n\u001b[0m\u001b[0;32m    179\u001b[0m         \u001b[1;32mfinally\u001b[0m\u001b[1;33m:\u001b[0m\u001b[1;33m\u001b[0m\u001b[1;33m\u001b[0m\u001b[0m\n\u001b[0;32m    180\u001b[0m             \u001b[1;31m# credit to\u001b[0m\u001b[1;33m\u001b[0m\u001b[1;33m\u001b[0m\u001b[1;33m\u001b[0m\u001b[0m\n",
      "\u001b[1;32m~\\Anaconda3\\lib\\site-packages\\sqlalchemy\\engine\\base.py\u001b[0m in \u001b[0;36m_execute_context\u001b[1;34m(self, dialect, constructor, statement, parameters, *args)\u001b[0m\n\u001b[0;32m   1275\u001b[0m                             \u001b[1;32mbreak\u001b[0m\u001b[1;33m\u001b[0m\u001b[1;33m\u001b[0m\u001b[0m\n\u001b[0;32m   1276\u001b[0m                 \u001b[1;32mif\u001b[0m \u001b[1;32mnot\u001b[0m \u001b[0mevt_handled\u001b[0m\u001b[1;33m:\u001b[0m\u001b[1;33m\u001b[0m\u001b[1;33m\u001b[0m\u001b[0m\n\u001b[1;32m-> 1277\u001b[1;33m                     self.dialect.do_execute(\n\u001b[0m\u001b[0;32m   1278\u001b[0m                         \u001b[0mcursor\u001b[0m\u001b[1;33m,\u001b[0m \u001b[0mstatement\u001b[0m\u001b[1;33m,\u001b[0m \u001b[0mparameters\u001b[0m\u001b[1;33m,\u001b[0m \u001b[0mcontext\u001b[0m\u001b[1;33m\u001b[0m\u001b[1;33m\u001b[0m\u001b[0m\n\u001b[0;32m   1279\u001b[0m                     )\n",
      "\u001b[1;32m~\\Anaconda3\\lib\\site-packages\\sqlalchemy\\engine\\default.py\u001b[0m in \u001b[0;36mdo_execute\u001b[1;34m(self, cursor, statement, parameters, context)\u001b[0m\n\u001b[0;32m    591\u001b[0m \u001b[1;33m\u001b[0m\u001b[0m\n\u001b[0;32m    592\u001b[0m     \u001b[1;32mdef\u001b[0m \u001b[0mdo_execute\u001b[0m\u001b[1;33m(\u001b[0m\u001b[0mself\u001b[0m\u001b[1;33m,\u001b[0m \u001b[0mcursor\u001b[0m\u001b[1;33m,\u001b[0m \u001b[0mstatement\u001b[0m\u001b[1;33m,\u001b[0m \u001b[0mparameters\u001b[0m\u001b[1;33m,\u001b[0m \u001b[0mcontext\u001b[0m\u001b[1;33m=\u001b[0m\u001b[1;32mNone\u001b[0m\u001b[1;33m)\u001b[0m\u001b[1;33m:\u001b[0m\u001b[1;33m\u001b[0m\u001b[1;33m\u001b[0m\u001b[0m\n\u001b[1;32m--> 593\u001b[1;33m         \u001b[0mcursor\u001b[0m\u001b[1;33m.\u001b[0m\u001b[0mexecute\u001b[0m\u001b[1;33m(\u001b[0m\u001b[0mstatement\u001b[0m\u001b[1;33m,\u001b[0m \u001b[0mparameters\u001b[0m\u001b[1;33m)\u001b[0m\u001b[1;33m\u001b[0m\u001b[1;33m\u001b[0m\u001b[0m\n\u001b[0m\u001b[0;32m    594\u001b[0m \u001b[1;33m\u001b[0m\u001b[0m\n\u001b[0;32m    595\u001b[0m     \u001b[1;32mdef\u001b[0m \u001b[0mdo_execute_no_params\u001b[0m\u001b[1;33m(\u001b[0m\u001b[0mself\u001b[0m\u001b[1;33m,\u001b[0m \u001b[0mcursor\u001b[0m\u001b[1;33m,\u001b[0m \u001b[0mstatement\u001b[0m\u001b[1;33m,\u001b[0m \u001b[0mcontext\u001b[0m\u001b[1;33m=\u001b[0m\u001b[1;32mNone\u001b[0m\u001b[1;33m)\u001b[0m\u001b[1;33m:\u001b[0m\u001b[1;33m\u001b[0m\u001b[1;33m\u001b[0m\u001b[0m\n",
      "\u001b[1;32m~\\Anaconda3\\lib\\encodings\\utf_8.py\u001b[0m in \u001b[0;36mdecode\u001b[1;34m(input, errors)\u001b[0m\n\u001b[0;32m     13\u001b[0m \u001b[0mencode\u001b[0m \u001b[1;33m=\u001b[0m \u001b[0mcodecs\u001b[0m\u001b[1;33m.\u001b[0m\u001b[0mutf_8_encode\u001b[0m\u001b[1;33m\u001b[0m\u001b[1;33m\u001b[0m\u001b[0m\n\u001b[0;32m     14\u001b[0m \u001b[1;33m\u001b[0m\u001b[0m\n\u001b[1;32m---> 15\u001b[1;33m \u001b[1;32mdef\u001b[0m \u001b[0mdecode\u001b[0m\u001b[1;33m(\u001b[0m\u001b[0minput\u001b[0m\u001b[1;33m,\u001b[0m \u001b[0merrors\u001b[0m\u001b[1;33m=\u001b[0m\u001b[1;34m'strict'\u001b[0m\u001b[1;33m)\u001b[0m\u001b[1;33m:\u001b[0m\u001b[1;33m\u001b[0m\u001b[1;33m\u001b[0m\u001b[0m\n\u001b[0m\u001b[0;32m     16\u001b[0m     \u001b[1;32mreturn\u001b[0m \u001b[0mcodecs\u001b[0m\u001b[1;33m.\u001b[0m\u001b[0mutf_8_decode\u001b[0m\u001b[1;33m(\u001b[0m\u001b[0minput\u001b[0m\u001b[1;33m,\u001b[0m \u001b[0merrors\u001b[0m\u001b[1;33m,\u001b[0m \u001b[1;32mTrue\u001b[0m\u001b[1;33m)\u001b[0m\u001b[1;33m\u001b[0m\u001b[1;33m\u001b[0m\u001b[0m\n\u001b[0;32m     17\u001b[0m \u001b[1;33m\u001b[0m\u001b[0m\n",
      "\u001b[1;31mKeyboardInterrupt\u001b[0m: "
     ]
    }
   ],
   "source": [
    "######################################## Testing IBES\n",
    "x = conn.raw_sql(\n",
    "    \"\"\" SELECT surprise.ticker\n",
    "        FROM ibes.surpsum AS surprise\n",
    "        WHERE surprise.anndats >= '2001-01-01'::date\n",
    "        ORDER BY surprise.anndats;\n",
    "    \"\"\")\n",
    "x"
   ]
  },
  {
   "cell_type": "code",
   "execution_count": 70,
   "metadata": {},
   "outputs": [],
   "source": [
    "df = conn.raw_sql(\n",
    "    \"\"\" SELECT\n",
    "        datadate AS date,\n",
    "        gvkey,\n",
    "        loc AS country,\n",
    "        indfmt AS industry,\n",
    "        sich AS classification,\n",
    "        at,\n",
    "        ppegt,\n",
    "        invt,\n",
    "        act,\n",
    "        chee,\n",
    "        ivao,\n",
    "        ivst,\n",
    "        intan,\n",
    "        gdwl,\n",
    "        ceq,\n",
    "        lt,\n",
    "        lct,\n",
    "        dlc,\n",
    "        capx,\n",
    "        icapt,\n",
    "        revt,\n",
    "        xrd,\n",
    "        ebit,\n",
    "        ebitda,\n",
    "        pi,\n",
    "        nicon,\n",
    "        oancf,\n",
    "        COALESCE(txp, txpfs) as txp, -- =tp\n",
    "        sstk,\n",
    "        prstkc,\n",
    "        ivaeq,\n",
    "        dvt,\n",
    "        dv,\n",
    "        dp,\n",
    "        dltt,\n",
    "        pstk,\n",
    "        dltis,\n",
    "        dltr,\n",
    "        dlcch,\n",
    "        at - che AS oa,\n",
    "        act - che AS coa,\n",
    "        lct - dlc AS col,\n",
    "        (at - dlc - dltt - mib - pstk - ceq) AS ol,\n",
    "        act - che - lct + dlc AS wc,\n",
    "        at - act - COALESCE(ivao, 0) AS nca,\n",
    "        lt - lct - dltt AS ncl,\n",
    "        at - act - COALESCE(ivaeq, 0) - (lt - lct - dltt) AS ncoa,\n",
    "        ivst + ivao AS fna,\n",
    "        dltt + dlc + pstk AS fnl,\n",
    "        (ivst + ivao) - (dltt + dlc + pstk) AS nfna,\n",
    "        (nicon - oancf) / NULLIF(ABS(nicon), 0) AS poa,\n",
    "        (nicon - (- sstk + prstkc + dv + oancf + ivncf + fincf)) / NULLIF(ABS(nicon), 0) AS pta,\n",
    "        at - act - COALESCE(ivao, 0) + act - che - lct + dlc + ivst + ivao - (dltt + dlc + pstk) AS ta,\n",
    "        act / NULLIF(lct, 0) AS curr_ratio,\n",
    "        (act - invt) / NULLIF(lct, 0) AS quick_ratio,\n",
    "        chee / NULLIF(lct, 0) AS cash_ratio,\n",
    "        oancf / NULLIF(lct, 0) AS opr_cashflow_ratio,\n",
    "        capx / NULLIF(oancf, 0) AS capx_cashflow_ratio,\n",
    "        (dlc + dltt) / NULLIF(ceq, 0) AS debt_equity_ratio,\n",
    "        (dltt + dlc) / NULLIF(at, 0) debt_asset_ratio,\n",
    "        at / NULLIF(ceq, 0) AS fin_leverage,\n",
    "        (dltt + dlc) / NULLIF(ebitda, 0) AS debt_ebitda_ratio,\n",
    "        (dltt + dlc - chee) / NULLIF(ebitda, 0) AS net_debt_ebitda_ratio,\n",
    "        ebit / NULLIF(xint, 0) AS ebit_int_coverage_ratio,\n",
    "        ebitda / NULLIF(xint, 0) AS ebitda_int_coverage_ratio,\n",
    "        ch / NULLIF(xint, 0) AS cash_coverage_ratio,\n",
    "        (dltt + dlc) / NULLIF(dltt + dlc + teq, 0) AS debt_total_cap_ratio,\n",
    "        oancf / NULLIF(dlc + dltt, 0) AS cashflow_debt_ratio,\n",
    "        cogs / NULLIF(invt, 0) AS invt_turnover,\n",
    "        cogs / NULLIF(ap, 0) AS accounts_payable_turnover,\n",
    "        revt / NULLIF(COALESCE(rect, artfs), 0) AS rec_turnover,\n",
    "        365 * invt / NULLIF(cogs, 0) AS days_sales_invt,\n",
    "        365 * ap / NULLIF(cogs, 0) AS days_sales_payable,\n",
    "        365 * NULLIF(COALESCE(rect, artfs), 0) / NULLIF(revt, 0) AS days_sales_receivable,\n",
    "        revt / NULLIF(ppent, 0) AS fixed_asset_turnover,\n",
    "        revt / NULLIF(at, 0) AS total_asset_turnover,\n",
    "        (revt - cogs) / NULLIF(revt, 0) AS gross_profit_margin,\n",
    "        ebitda / NULLIF(revt, 0) AS ebitda_margin,\n",
    "        ebit / NULLIF(revt, 0) AS ebit_margin,\n",
    "        pi / NULLIF(revt, 0) AS pre_tax_margin,\n",
    "        nicon / NULLIF(revt, 0) AS net_profit_margin,\n",
    "        nicon / NULLIF(at, 0) AS roa,\n",
    "        nicon / NULLIF(ceq, 0) AS roe,\n",
    "        COALESCE((ebit * (nicon / NULLIF(pi, 0))) / NULLIF(dlc + dltt + teq, 0), ebit * (1 - txt / NULLIF(pi, 0)) / NULLIF(icapt, 0)) AS roic,\n",
    "        xrd / NULLIF(revt, 0) AS rd_to_sales_ratio\n",
    "        \n",
    "        \n",
    "        \n",
    "        \n",
    "        \n",
    "FROM\n",
    "    comp_global_daily.g_funda\n",
    "WHERE \n",
    "    exchg = ANY (ARRAY [104, 107, 132, 151, 154, 171, 192, 194, 201, 209, 256, 257, 273, 276, 286])\n",
    "    AND curcd = 'EUR';\n",
    "\n",
    "        \"\"\")\n"
   ]
  },
  {
   "cell_type": "code",
   "execution_count": 5,
   "metadata": {},
   "outputs": [
    {
     "data": {
      "text/plain": [
       "0          NaN\n",
       "1     0.030740\n",
       "2    -0.040623\n",
       "3    -0.055401\n",
       "4    -0.123233\n",
       "5    -0.004306\n",
       "6     0.008315\n",
       "7    -0.054317\n",
       "8     0.013350\n",
       "9    -0.056480\n",
       "10   -0.150775\n",
       "11    0.058354\n",
       "12    0.091667\n",
       "13   -0.006740\n",
       "14   -0.279665\n",
       "15   -0.026405\n",
       "16   -0.027095\n",
       "17   -0.008466\n",
       "18   -0.015259\n",
       "19   -0.014258\n",
       "20   -0.054996\n",
       "21    0.001935\n",
       "22         NaN\n",
       "dtype: float64"
      ]
     },
     "execution_count": 5,
     "metadata": {},
     "output_type": "execute_result"
    }
   ],
   "source": [
    "##### Accruals (Acc)\n",
    "df2 = df.loc[df['gvkey'] == '001166']\n",
    "df2 = df2[['date','act','chee','lct','dlc','txp','dp','at']]\n",
    "\n",
    "df2.loc[max(df2.index)+1, :] = None\n",
    "\n",
    "df2['change_act'] = df2['act'] - df2['act'].shift(1)\n",
    "df2['change_chee'] = df2['chee'] - df2['chee'].shift(1)\n",
    "df2['change_lct'] = df2['lct'] - df2['lct'].shift(1)\n",
    "df2['change_dlc'] = df2['dlc'].fillna(0) - df2['dlc'].shift(1).fillna(0)\n",
    "df2['change_txp'] = df2['txp'] - df2['txp'].shift(1)\n",
    "df2['change_chee'] = df2['chee'] - df2['chee'].shift(1)\n",
    "df2['avg_at'] = (df2['at'] + df2['at'].shift(1))/2\n",
    "\n",
    "acc = ((df2['change_act'] - df2['change_chee']) - (df2['change_lct'] - df2['change_dlc'] - df2['change_txp']) - df2['dp'])/df2['avg_at']\n",
    "acc"
   ]
  },
  {
   "cell_type": "code",
   "execution_count": 6,
   "metadata": {},
   "outputs": [
    {
     "data": {
      "text/plain": [
       "0          NaN\n",
       "1     0.419283\n",
       "2    -0.106170\n",
       "3    -0.035421\n",
       "4    -0.043586\n",
       "5     0.066503\n",
       "6     0.083223\n",
       "7    -0.003899\n",
       "8     0.051644\n",
       "9    -0.075220\n",
       "10   -0.062457\n",
       "11    0.281073\n",
       "12    0.174344\n",
       "13    0.007821\n",
       "14   -0.408335\n",
       "15    0.017160\n",
       "16   -0.005014\n",
       "17    0.023852\n",
       "18    0.025017\n",
       "19    0.031414\n",
       "20    0.028522\n",
       "21    0.031416\n",
       "22         NaN\n",
       "dtype: float64"
      ]
     },
     "execution_count": 6,
     "metadata": {},
     "output_type": "execute_result"
    }
   ],
   "source": [
    "##### Change in Current Operating Assets (ChCOA)\n",
    "df2 = df.loc[df['gvkey'] == '001166']\n",
    "df2 = df2[['date','coa','at']]\n",
    "\n",
    "df2.loc[max(df2.index)+1, :] = None\n",
    "\n",
    "chcoa = (df2['coa'] - df2['coa'].shift(1))/df2['at'].shift(1)\n",
    "chcoa"
   ]
  },
  {
   "cell_type": "code",
   "execution_count": 7,
   "metadata": {},
   "outputs": [
    {
     "data": {
      "text/plain": [
       "0          NaN\n",
       "1     0.274328\n",
       "2    -0.145178\n",
       "3    -0.034984\n",
       "4     0.026938\n",
       "5     0.025654\n",
       "6     0.022254\n",
       "7     0.014742\n",
       "8     0.001095\n",
       "9    -0.053762\n",
       "10    0.039647\n",
       "11    0.203251\n",
       "12    0.036174\n",
       "13   -0.038813\n",
       "14   -0.165758\n",
       "15    0.021504\n",
       "16   -0.010844\n",
       "17    0.001337\n",
       "18    0.015626\n",
       "19    0.019663\n",
       "20    0.064571\n",
       "21   -0.144164\n",
       "22         NaN\n",
       "dtype: float64"
      ]
     },
     "execution_count": 7,
     "metadata": {},
     "output_type": "execute_result"
    }
   ],
   "source": [
    "##### Change in Current Operating Liabilities (ChCOL)\n",
    "df2 = df.loc[df['gvkey'] == '001166']\n",
    "df2 = df2[['date','col','at']]\n",
    "\n",
    "df2.loc[max(df2.index)+1, :] = None\n",
    "\n",
    "chcol = (df2['col'].fillna(0) - df2['col'].shift(1))/df2['at'].shift(1)\n",
    "chcol"
   ]
  },
  {
   "cell_type": "code",
   "execution_count": 8,
   "metadata": {},
   "outputs": [
    {
     "data": {
      "text/plain": [
       "0          NaN\n",
       "1     0.144955\n",
       "2     0.039008\n",
       "3    -0.000437\n",
       "4    -0.070523\n",
       "5     0.040849\n",
       "6     0.060969\n",
       "7    -0.018641\n",
       "8     0.050549\n",
       "9    -0.021458\n",
       "10   -0.102104\n",
       "11    0.077822\n",
       "12    0.138170\n",
       "13    0.046634\n",
       "14   -0.242577\n",
       "15   -0.004344\n",
       "16    0.005830\n",
       "17    0.022515\n",
       "18    0.009391\n",
       "19    0.011751\n",
       "20   -0.036049\n",
       "21   -0.061535\n",
       "22         NaN\n",
       "dtype: float64"
      ]
     },
     "execution_count": 8,
     "metadata": {},
     "output_type": "execute_result"
    }
   ],
   "source": [
    "##### Change in Net Non-Cash Working Capital (ChNNCWC)\n",
    "df2 = df.loc[df['gvkey'] == '001166']\n",
    "df2 = df2[['date','wc','at']]\n",
    "\n",
    "df2.loc[max(df2.index)+1, :] = None\n",
    "\n",
    "chnncwc = (df2['wc'].fillna(0) - df2['wc'].shift(1))/df2['at'].shift(1)\n",
    "chnncwc"
   ]
  },
  {
   "cell_type": "code",
   "execution_count": 27,
   "metadata": {},
   "outputs": [
    {
     "data": {
      "text/plain": [
       "0          NaN\n",
       "1     0.212686\n",
       "2     0.076880\n",
       "3    -0.078169\n",
       "4    -0.063012\n",
       "5     0.100815\n",
       "6     0.005018\n",
       "7    -0.048645\n",
       "8    -0.011485\n",
       "9    -0.001234\n",
       "10   -0.033591\n",
       "11    0.114122\n",
       "12    0.062909\n",
       "13    0.002198\n",
       "14    0.452430\n",
       "15    0.113682\n",
       "16    0.102023\n",
       "17    0.043109\n",
       "18   -0.224750\n",
       "19    0.071196\n",
       "20    0.029506\n",
       "21    0.021771\n",
       "22   -0.563720\n",
       "dtype: float64"
      ]
     },
     "execution_count": 27,
     "metadata": {},
     "output_type": "execute_result"
    }
   ],
   "source": [
    "##### Change in Net Non-Current Operating Assets (ChNNCOA)\n",
    "df2 = df.loc[df['gvkey'] == '001166']\n",
    "df2 = df2[['date','ncoa','at']]\n",
    "\n",
    "df2.loc[max(df2.index)+1, :] = None\n",
    "\n",
    "chnncoa = (df2['ncoa'].fillna(0) - df2['ncoa'].shift(1))/df2['at'].shift(1)\n",
    "chnncoa #drop the last row 22th"
   ]
  },
  {
   "cell_type": "code",
   "execution_count": 29,
   "metadata": {},
   "outputs": [
    {
     "data": {
      "text/plain": [
       "0          NaN\n",
       "1     0.206447\n",
       "2     0.078344\n",
       "3    -0.079393\n",
       "4    -0.061957\n",
       "5     0.099586\n",
       "6     0.004286\n",
       "7    -0.043969\n",
       "8    -0.010811\n",
       "9     0.001572\n",
       "10   -0.006211\n",
       "11    0.089979\n",
       "12    0.071224\n",
       "13    0.002961\n",
       "14    0.441533\n",
       "15    0.113279\n",
       "16    0.107868\n",
       "17    0.044089\n",
       "18   -0.224883\n",
       "19    0.070241\n",
       "20    0.033817\n",
       "21    0.022578\n",
       "22         NaN\n",
       "dtype: float64"
      ]
     },
     "execution_count": 29,
     "metadata": {},
     "output_type": "execute_result"
    }
   ],
   "source": [
    "##### Change in Non-Current Operating Assets (ChNCOA)\n",
    "df2 = df.loc[df['gvkey'] == '001166']\n",
    "df2 = df2[['date','nca', \"at\"]]\n",
    "\n",
    "df2.loc[max(df2.index)+1, :] = None\n",
    "\n",
    "chncoa = (df2[\"nca\"]-df2[\"nca\"].shift(1))/df2['at'].shift(1)\n",
    "chncoa"
   ]
  },
  {
   "cell_type": "code",
   "execution_count": 30,
   "metadata": {},
   "outputs": [
    {
     "data": {
      "text/plain": [
       "0          NaN\n",
       "1    -0.006239\n",
       "2     0.001464\n",
       "3    -0.001224\n",
       "4     0.001055\n",
       "5    -0.001229\n",
       "6    -0.000732\n",
       "7     0.004677\n",
       "8     0.000674\n",
       "9     0.002806\n",
       "10    0.027380\n",
       "11   -0.024143\n",
       "12    0.008315\n",
       "13    0.000763\n",
       "14   -0.010897\n",
       "15   -0.000403\n",
       "16    0.005844\n",
       "17    0.000980\n",
       "18   -0.000133\n",
       "19   -0.000955\n",
       "20    0.004311\n",
       "21    0.000807\n",
       "22         NaN\n",
       "dtype: float64"
      ]
     },
     "execution_count": 30,
     "metadata": {},
     "output_type": "execute_result"
    }
   ],
   "source": [
    "##### Change in Non-Current Operating Liabilities (ChNCOL)\n",
    "df2 = df.loc[df['gvkey'] == '001166']\n",
    "df2 = df2[['date','at',\"ncl\"]]\n",
    "\n",
    "df2.loc[max(df2.index)+1, :] = None\n",
    "\n",
    "chncol = (df2[\"ncl\"]-df2[\"ncl\"].shift(1))/df2['at'].shift(1)\n",
    "chncol"
   ]
  },
  {
   "cell_type": "code",
   "execution_count": 35,
   "metadata": {},
   "outputs": [
    {
     "data": {
      "text/plain": [
       "0          NaN\n",
       "1     0.089190\n",
       "2    -0.108720\n",
       "3     0.045023\n",
       "4    -0.087122\n",
       "5    -0.168847\n",
       "6     0.048374\n",
       "7     0.035573\n",
       "8     0.049939\n",
       "9     0.039311\n",
       "10   -0.116368\n",
       "11    0.060400\n",
       "12    0.013505\n",
       "13    0.072547\n",
       "14    0.040429\n",
       "15    0.000000\n",
       "16    0.000000\n",
       "17    0.000000\n",
       "18    0.000000\n",
       "19    0.000000\n",
       "20   -0.012325\n",
       "21    0.010471\n",
       "22         NaN\n",
       "dtype: float64"
      ]
     },
     "execution_count": 35,
     "metadata": {},
     "output_type": "execute_result"
    }
   ],
   "source": [
    "##### Change in Net Financial Assets (ChNFA)\n",
    "df2 = df.loc[df['gvkey'] == '001166']\n",
    "df2 = df2[['date','at','nfna']]\n",
    "\n",
    "df2.loc[max(df2.index)+1, :] = None\n",
    "\n",
    "chnfa = (df2[\"nfna\"].fillna(0) - df2[\"nfna\"].shift(1)) / df2['at'].shift(1)\n",
    "\n",
    "chnfa\n"
   ]
  },
  {
   "cell_type": "code",
   "execution_count": 13,
   "metadata": {},
   "outputs": [
    {
     "data": {
      "text/plain": [
       "0          NaN\n",
       "1     0.000000\n",
       "2     0.000000\n",
       "3     0.026785\n",
       "4     0.005512\n",
       "5    -0.035523\n",
       "6     0.000000\n",
       "7     0.000000\n",
       "8     0.000000\n",
       "9     0.000000\n",
       "10    0.000000\n",
       "11    0.000000\n",
       "12    0.016473\n",
       "13    0.000000\n",
       "14   -0.013338\n",
       "15    0.000000\n",
       "16    0.000000\n",
       "17    0.000000\n",
       "18    0.000000\n",
       "19    0.000000\n",
       "20    0.000000\n",
       "21    0.000000\n",
       "22         NaN\n",
       "dtype: float64"
      ]
     },
     "execution_count": 13,
     "metadata": {},
     "output_type": "execute_result"
    }
   ],
   "source": [
    "##### Change in Long-Term Investments (ChLTI)\n",
    "df2 = df.loc[df['gvkey'] == '001166']\n",
    "df2 = df2[['date','at','ivao']]\n",
    "\n",
    "df2.loc[max(df2.index)+1, :] = None\n",
    "\n",
    "chlti = (df2['ivao'].fillna(0) - df2['ivao'].shift(1))/ df2['at'].shift(1)\n",
    "\n",
    "chlti\n"
   ]
  },
  {
   "cell_type": "code",
   "execution_count": 14,
   "metadata": {},
   "outputs": [
    {
     "data": {
      "text/plain": [
       "0          NaN\n",
       "1     0.571176\n",
       "2     0.016181\n",
       "3    -0.073135\n",
       "4    -0.077404\n",
       "5     0.062151\n",
       "6    -0.021997\n",
       "7     0.046613\n",
       "8     0.050967\n",
       "9    -0.001423\n",
       "10   -0.099574\n",
       "11    0.199872\n",
       "12    0.204540\n",
       "13    0.051876\n",
       "14    0.470404\n",
       "15    0.156616\n",
       "16    0.141318\n",
       "17    0.032504\n",
       "18   -0.002022\n",
       "19   -0.169925\n",
       "20    0.095835\n",
       "21    0.016584\n",
       "22         NaN\n",
       "dtype: float64"
      ]
     },
     "execution_count": 14,
     "metadata": {},
     "output_type": "execute_result"
    }
   ],
   "source": [
    "##### Change in Common Equity (ChCE)\n",
    "df2 = df.loc[df['gvkey'] == '001166']\n",
    "df2 = df2[['date','at','ceq']]\n",
    "\n",
    "df2.loc[max(df2.index)+1, :] = None\n",
    "\n",
    "chce = (df2['ceq'] - df2['ceq'].shift(1))/ df2['at'].shift(1)\n",
    "\n",
    "chce\n"
   ]
  },
  {
   "cell_type": "code",
   "execution_count": 15,
   "metadata": {},
   "outputs": [
    {
     "data": {
      "text/plain": [
       "0          NaN\n",
       "1    -0.102610\n",
       "2     0.108720\n",
       "3    -0.018230\n",
       "4     0.092631\n",
       "5     0.133318\n",
       "6    -0.048375\n",
       "7    -0.035578\n",
       "8    -0.049939\n",
       "9    -0.039311\n",
       "10    0.116368\n",
       "11   -0.060400\n",
       "12    0.002968\n",
       "13   -0.072547\n",
       "14   -0.053766\n",
       "15    0.000000\n",
       "16    0.000000\n",
       "17    0.000000\n",
       "18    0.000000\n",
       "19    0.000000\n",
       "20    0.012325\n",
       "21   -0.004474\n",
       "22         NaN\n",
       "dtype: float64"
      ]
     },
     "execution_count": 15,
     "metadata": {},
     "output_type": "execute_result"
    }
   ],
   "source": [
    "##### Change in Financial Liabilities (ChFL)\n",
    "df2 = df.loc[df['gvkey'] == '001166']\n",
    "df2 = df2[['date','at','dltt','dlc','pstk']]\n",
    "\n",
    "df2.loc[max(df2.index)+1, :] = None\n",
    "\n",
    "chfl = (df2['dltt']+df2['dlc'].fillna(0)+df2['pstk'].fillna(0) - (df2['dltt']+df2['dlc'].fillna(0)+df2['pstk'].fillna(0)).shift(1)) / df2['at'].shift(1)\n",
    "\n",
    "chfl\n"
   ]
  },
  {
   "cell_type": "code",
   "execution_count": 16,
   "metadata": {},
   "outputs": [
    {
     "data": {
      "text/plain": [
       "0          NaN\n",
       "1     0.134202\n",
       "2     0.023487\n",
       "3    -0.028740\n",
       "4    -0.060402\n",
       "5     0.015049\n",
       "6     0.039660\n",
       "7     0.009346\n",
       "8     0.010062\n",
       "9    -0.009706\n",
       "10   -0.058111\n",
       "11    0.100601\n",
       "12    0.087336\n",
       "13    0.017349\n",
       "14   -0.195973\n",
       "15    0.011246\n",
       "16   -0.005104\n",
       "17   -0.000551\n",
       "18    0.014107\n",
       "19    0.014398\n",
       "20    0.000678\n",
       "21   -0.004990\n",
       "22         NaN\n",
       "dtype: float64"
      ]
     },
     "execution_count": 16,
     "metadata": {},
     "output_type": "execute_result"
    }
   ],
   "source": [
    "##### Growth in Inventory (GriI)\n",
    "df2 = df.loc[df['gvkey'] == '001166']\n",
    "df2 = df2[['date','at',\"invt\"]]\n",
    "\n",
    "df2.loc[max(df2.index)+1, :] = None\n",
    "\n",
    "grii = (df2['invt'] - df2['invt'].shift(1)) / ((df2['at']+df2['at'].shift(1))/2)\n",
    "grii\n",
    "\n"
   ]
  },
  {
   "cell_type": "code",
   "execution_count": 18,
   "metadata": {},
   "outputs": [
    {
     "data": {
      "text/plain": [
       "0          NaN\n",
       "1     0.189916\n",
       "2     0.023171\n",
       "3    -0.026781\n",
       "4    -0.061255\n",
       "5     0.016745\n",
       "6     0.039383\n",
       "7     0.009461\n",
       "8     0.010111\n",
       "9    -0.009287\n",
       "10   -0.061286\n",
       "11    0.122005\n",
       "12    0.100575\n",
       "13    0.016896\n",
       "14   -0.199354\n",
       "15    0.012246\n",
       "16   -0.005452\n",
       "17   -0.000560\n",
       "18    0.014202\n",
       "19    0.013309\n",
       "20    0.000738\n",
       "21   -0.005053\n",
       "22         NaN\n",
       "dtype: float64"
      ]
     },
     "execution_count": 18,
     "metadata": {},
     "output_type": "execute_result"
    }
   ],
   "source": [
    "##### Inventory Change (ICh)\n",
    "df2 = df.loc[df['gvkey'] == '001166']\n",
    "df2 = df2[['date','at',\"invt\"]]\n",
    "\n",
    "df2.loc[max(df2.index)+1, :] = None\n",
    "\n",
    "ich = (df2['invt'] - df2['invt'].shift(1)) / df2['at'].shift(1)\n",
    "ich"
   ]
  },
  {
   "cell_type": "code",
   "execution_count": 19,
   "metadata": {},
   "outputs": [
    {
     "data": {
      "text/plain": [
       "0          NaN\n",
       "1     0.752433\n",
       "2     0.095882\n",
       "3    -0.098409\n",
       "4    -0.215615\n",
       "5     0.077268\n",
       "6     0.206710\n",
       "7     0.040575\n",
       "8     0.042696\n",
       "9    -0.037975\n",
       "10   -0.238012\n",
       "11    0.689781\n",
       "12    0.479696\n",
       "13    0.070973\n",
       "14   -0.741034\n",
       "15    0.181837\n",
       "16   -0.080680\n",
       "17   -0.010247\n",
       "18    0.271589\n",
       "19    0.202851\n",
       "20    0.007932\n",
       "21   -0.063457\n",
       "22         NaN\n",
       "Name: invt, dtype: float64"
      ]
     },
     "execution_count": 19,
     "metadata": {},
     "output_type": "execute_result"
    }
   ],
   "source": [
    "##### Inventory Growth (IGr)\n",
    "df2 = df.loc[df['gvkey'] == '001166']\n",
    "df2 = df2[['date',\"invt\"]]\n",
    "\n",
    "df2.loc[max(df2.index)+1, :] = None\n",
    "\n",
    "icr = (df2['invt'] - df2['invt'].shift(1)) / df2['invt'].shift(1)\n",
    "icr"
   ]
  },
  {
   "cell_type": "code",
   "execution_count": null,
   "metadata": {},
   "outputs": [],
   "source": [
    "# M/B and Acruals (MBaAC)\n",
    "# Check Tobek paper, p.57 (IA5)"
   ]
  },
  {
   "cell_type": "code",
   "execution_count": 21,
   "metadata": {},
   "outputs": [
    {
     "data": {
      "text/plain": [
       "0          NaN\n",
       "1     0.144955\n",
       "2     0.039008\n",
       "3    -0.000437\n",
       "4    -0.070523\n",
       "5     0.040849\n",
       "6     0.060969\n",
       "7    -0.018641\n",
       "8     0.050549\n",
       "9    -0.021458\n",
       "10   -0.102104\n",
       "11    0.077822\n",
       "12    0.138170\n",
       "13    0.046634\n",
       "14   -0.242577\n",
       "15   -0.004344\n",
       "16    0.005830\n",
       "17    0.022515\n",
       "18    0.009391\n",
       "19    0.011751\n",
       "20   -0.036049\n",
       "21   -0.061535\n",
       "22         NaN\n",
       "dtype: float64"
      ]
     },
     "execution_count": 21,
     "metadata": {},
     "output_type": "execute_result"
    }
   ],
   "source": [
    "##### Net Working Capital Changes (NWCCh)\n",
    "df2 = df.loc[df['gvkey'] == '001166']\n",
    "df2 = df2[['date',\"wc\",\"at\"]]\n",
    "\n",
    "df2.loc[max(df2.index)+1, :] = None\n",
    "\n",
    "nwcch = (df2['wc'].fillna(0) - df2['wc'].shift(1)) / df2['at'].shift(1)\n",
    "nwcch"
   ]
  },
  {
   "cell_type": "code",
   "execution_count": 23,
   "metadata": {},
   "outputs": [
    {
     "data": {
      "text/plain": [
       "0    -3.225786\n",
       "1    -0.623939\n",
       "2    -4.294359\n",
       "3    -1.548858\n",
       "4    -3.101194\n",
       "5    -2.115313\n",
       "6    -2.261084\n",
       "7    -3.188035\n",
       "8    -0.731883\n",
       "9    -6.467094\n",
       "10   -1.587917\n",
       "11   -1.348937\n",
       "12   -0.159613\n",
       "13   -4.942090\n",
       "14    0.953850\n",
       "15    0.196041\n",
       "16   -0.111523\n",
       "17    0.325228\n",
       "18    0.743458\n",
       "19    0.129336\n",
       "20   -0.485871\n",
       "21    0.073733\n",
       "22         NaN\n",
       "Name: poa, dtype: float64"
      ]
     },
     "execution_count": 23,
     "metadata": {},
     "output_type": "execute_result"
    }
   ],
   "source": [
    "##### Percent Operating Accruals (POA)\n",
    "# POA already calculated on the damaframe directly through SQL query"
   ]
  },
  {
   "cell_type": "code",
   "execution_count": null,
   "metadata": {},
   "outputs": [],
   "source": [
    "##### Percent Total Accruals (PTA)\n",
    "# PTA already calculated in the dataframe through SQL query"
   ]
  },
  {
   "cell_type": "code",
   "execution_count": 39,
   "metadata": {},
   "outputs": [
    {
     "data": {
      "text/plain": [
       "0          NaN\n",
       "1     0.446831\n",
       "2     0.007168\n",
       "3    -0.033584\n",
       "4    -0.220658\n",
       "5    -0.027183\n",
       "6     0.114360\n",
       "7    -0.031713\n",
       "8     0.089003\n",
       "9     0.016618\n",
       "10   -0.252062\n",
       "11    0.252345\n",
       "12    0.214585\n",
       "13    0.121379\n",
       "14    0.250282\n",
       "15    0.109338\n",
       "16    0.107853\n",
       "17    0.065625\n",
       "18   -0.215359\n",
       "19    0.082947\n",
       "20   -0.018868\n",
       "21   -0.607215\n",
       "22         NaN\n",
       "dtype: float64"
      ]
     },
     "execution_count": 39,
     "metadata": {},
     "output_type": "execute_result"
    }
   ],
   "source": [
    "##### Total Accruals (TA)\n",
    "df2 = df.loc[df['gvkey'] == '001166']\n",
    "df2 = df2[['date',\"wc\",\"ncoa\",\"nfna\",\"at\"]]\n",
    "\n",
    "df2.loc[max(df2.index)+1, :] = None\n",
    "\n",
    "ta = ((df2[\"ncoa\"]+df2[\"wc\"]+df2[\"nfna\"]).fillna(0)-(df2[\"ncoa\"]+df2[\"wc\"]+df2[\"nfna\"]).shift(1)) / df2['at'].shift(1)\n",
    "ta"
   ]
  },
  {
   "cell_type": "code",
   "execution_count": null,
   "metadata": {},
   "outputs": [],
   "source": [
    "#### Investment Anomalies:"
   ]
  },
  {
   "cell_type": "code",
   "execution_count": 41,
   "metadata": {},
   "outputs": [
    {
     "data": {
      "text/plain": [
       "0          NaN\n",
       "1     1.830296\n",
       "2     0.973166\n",
       "3     0.863652\n",
       "4     1.028233\n",
       "5     1.225395\n",
       "6     0.986009\n",
       "7     1.024608\n",
       "8     1.009655\n",
       "9     0.913683\n",
       "10    1.109276\n",
       "11    1.425522\n",
       "12    1.303187\n",
       "13    0.947722\n",
       "14    1.034507\n",
       "15    1.177717\n",
       "16    1.136318\n",
       "17    1.034820\n",
       "18    1.013471\n",
       "19    0.848783\n",
       "20    1.177041\n",
       "21    1.025194\n",
       "22         NaN\n",
       "Name: at, dtype: float64"
      ]
     },
     "execution_count": 41,
     "metadata": {},
     "output_type": "execute_result"
    }
   ],
   "source": [
    "##### Asset Growth (AGr)\n",
    "df2 = df.loc[df['gvkey'] == '001166']\n",
    "df2 = df2[[\"at\"]]\n",
    "\n",
    "df2.loc[max(df2.index)+1, :] = None\n",
    "\n",
    "agr = df2[\"at\"] / df2[\"at\"].shift(1)\n",
    "agr"
   ]
  },
  {
   "cell_type": "code",
   "execution_count": 51,
   "metadata": {},
   "outputs": [
    {
     "data": {
      "text/plain": [
       "0          NaN\n",
       "1          NaN\n",
       "2    -0.000383\n",
       "3    -0.000046\n",
       "4    -0.000056\n",
       "5     0.000136\n",
       "6    -0.000061\n",
       "7    -0.000073\n",
       "8     0.000032\n",
       "9    -0.000033\n",
       "10   -0.000112\n",
       "11         NaN\n",
       "12         NaN\n",
       "13         NaN\n",
       "14         NaN\n",
       "15         NaN\n",
       "16         NaN\n",
       "17         NaN\n",
       "18         NaN\n",
       "19         NaN\n",
       "20         NaN\n",
       "21         NaN\n",
       "22         NaN\n",
       "dtype: float64"
      ]
     },
     "execution_count": 51,
     "metadata": {},
     "output_type": "execute_result"
    }
   ],
   "source": [
    "##### Change in Net Operating Assets (ChNOA)\n",
    "df2 = df.loc[df['gvkey'] == '001166']\n",
    "df2 = df2[[\"at\", \"oa\", \"ol\"]]\n",
    "\n",
    "df2.loc[max(df2.index)+1, :] = None\n",
    "\n",
    "chnoa = (((df2[\"oa\"]-df2[\"ol\"]) / df2[\"at\"].shift(1)) - (((df2[\"oa\"]-df2[\"ol\"]) / df2[\"at\"].shift(1)).shift(1))) / df2[\"at\"].shift(1)\n",
    "chnoa\n",
    "\n",
    "### Note: Need here to adjust the NaNs in the original formulas because otherwise \"ol\" has many NaNs which produce NaNs here too"
   ]
  },
  {
   "cell_type": "code",
   "execution_count": 52,
   "metadata": {},
   "outputs": [
    {
     "data": {
      "text/plain": [
       "0          NaN\n",
       "1     0.295246\n",
       "2     0.120153\n",
       "3    -0.071579\n",
       "4    -0.131630\n",
       "5     0.051657\n",
       "6     0.124825\n",
       "7    -0.025348\n",
       "8     0.013400\n",
       "9     0.047731\n",
       "10   -0.086335\n",
       "11    0.272187\n",
       "12    0.167705\n",
       "13    0.042610\n",
       "14   -0.527931\n",
       "15    0.028705\n",
       "16    0.016487\n",
       "17    0.011829\n",
       "18    0.018146\n",
       "19    0.042612\n",
       "20    0.042761\n",
       "21         NaN\n",
       "22         NaN\n",
       "dtype: float64"
      ]
     },
     "execution_count": 52,
     "metadata": {},
     "output_type": "execute_result"
    }
   ],
   "source": [
    "##### Changes in PPE and Inventory-to-Assets (ChPPEIA)\n",
    "df2 = df.loc[df['gvkey'] == '001166']\n",
    "df2 = df2[[\"ppegt\", \"invt\", \"at\"]]\n",
    "\n",
    "df2.loc[max(df2.index)+1, :] = None\n",
    "\n",
    "chppeia = ((df2[\"ppegt\"] - df2[\"ppegt\"].shift(1)) + (df2[\"invt\"] - df2[\"invt\"].shift(1))) / df2[\"at\"].shift(1)\n",
    "chppeia"
   ]
  },
  {
   "cell_type": "code",
   "execution_count": 55,
   "metadata": {},
   "outputs": [
    {
     "name": "stderr",
     "output_type": "stream",
     "text": [
      "C:\\Users\\ottoh\\Anaconda3\\lib\\site-packages\\pandas\\core\\series.py:679: RuntimeWarning: divide by zero encountered in log\n",
      "  result = getattr(ufunc, method)(*inputs, **kwargs)\n"
     ]
    },
    {
     "data": {
      "text/plain": [
       "0          NaN\n",
       "1          NaN\n",
       "2          NaN\n",
       "3          NaN\n",
       "4          NaN\n",
       "5     0.907984\n",
       "6     1.216221\n",
       "7     0.351014\n",
       "8     0.239946\n",
       "9    -0.300838\n",
       "10   -0.200498\n",
       "11   -0.294147\n",
       "12   -0.156441\n",
       "13   -0.840982\n",
       "14        -inf\n",
       "15        -inf\n",
       "16        -inf\n",
       "17        -inf\n",
       "18        -inf\n",
       "19         NaN\n",
       "20         inf\n",
       "21         NaN\n",
       "22         NaN\n",
       "dtype: float64"
      ]
     },
     "execution_count": 55,
     "metadata": {},
     "output_type": "execute_result"
    }
   ],
   "source": [
    "##### Composite Debt Issuance (CDI)\n",
    "df2 = df.loc[df['gvkey'] == '001166']\n",
    "df2 = df2[[\"dltt\", \"dlc\"]]\n",
    "\n",
    "df2.loc[max(df2.index)+1, :] = None\n",
    "\n",
    "cdi = np.log((df2[\"dltt\"]+df2[\"dlc\"])/(df2[\"dltt\"].shift(5)+df2[\"dlc\"].shift(5)))\n",
    "cdi\n"
   ]
  },
  {
   "cell_type": "code",
   "execution_count": 56,
   "metadata": {},
   "outputs": [
    {
     "data": {
      "text/plain": [
       "0          NaN\n",
       "1          NaN\n",
       "2    -0.257306\n",
       "3     0.020518\n",
       "4     0.086681\n",
       "5     0.095542\n",
       "6    -0.058960\n",
       "7    -0.004690\n",
       "8     0.013119\n",
       "9     0.028520\n",
       "10    0.064484\n",
       "11         NaN\n",
       "12         NaN\n",
       "13         NaN\n",
       "14         NaN\n",
       "15         NaN\n",
       "16         NaN\n",
       "17         NaN\n",
       "18         NaN\n",
       "19         NaN\n",
       "20         NaN\n",
       "21         NaN\n",
       "22         NaN\n",
       "dtype: float64"
      ]
     },
     "execution_count": 56,
     "metadata": {},
     "output_type": "execute_result"
    }
   ],
   "source": [
    "##### Growth in LTNOA (GriLTNOA)\n",
    "df2 = df.loc[df['gvkey'] == '001166']\n",
    "df2 = df2[['date','act','chee','lct','dlc','txp','dp','at', \"oa\",\"ol\"]]\n",
    "\n",
    "df2.loc[max(df2.index)+1, :] = None\n",
    "\n",
    "df2['change_act'] = df2['act'] - df2['act'].shift(1)\n",
    "df2['change_chee'] = df2['chee'] - df2['chee'].shift(1)\n",
    "df2['change_lct'] = df2['lct'] - df2['lct'].shift(1)\n",
    "df2['change_dlc'] = df2['dlc'].fillna(0) - df2['dlc'].shift(1).fillna(0)\n",
    "df2['change_txp'] = df2['txp'] - df2['txp'].shift(1)\n",
    "df2['change_chee'] = df2['chee'] - df2['chee'].shift(1)\n",
    "df2['avg_at'] = (df2['at'] + df2['at'].shift(1))/2\n",
    "\n",
    "# Accruals part taken from the acc on top\n",
    "\n",
    "griltnoa = ((df2[\"oa\"]-df2[\"ol\"]) / df2[\"at\"].shift(1)) - (((df2[\"oa\"]-df2[\"ol\"]) / df2[\"at\"].shift(1)).shift(1)) - ((df2['change_act'] - df2['change_chee']) - (df2['change_lct'] - df2['change_dlc'] - df2['change_txp']) - df2['dp'])/df2['avg_at']\n",
    "\n",
    "griltnoa"
   ]
  },
  {
   "cell_type": "code",
   "execution_count": 57,
   "metadata": {},
   "outputs": [
    {
     "data": {
      "text/plain": [
       "0          NaN\n",
       "1          NaN\n",
       "2          NaN\n",
       "3     0.692402\n",
       "4     0.578771\n",
       "5     0.950420\n",
       "6     0.955841\n",
       "7     0.707647\n",
       "8     0.808340\n",
       "9     0.810622\n",
       "10    0.473614\n",
       "11    2.234965\n",
       "12    1.107935\n",
       "13    0.899434\n",
       "14    0.447413\n",
       "15    1.291037\n",
       "16    1.138674\n",
       "17    1.005476\n",
       "18    1.187847\n",
       "19    1.586460\n",
       "20    0.609127\n",
       "21    1.169439\n",
       "22         NaN\n",
       "dtype: float64"
      ]
     },
     "execution_count": 57,
     "metadata": {},
     "output_type": "execute_result"
    }
   ],
   "source": [
    "##### Investment (INV)\n",
    "df2 = df.loc[df['gvkey'] == '001166']\n",
    "df2 = df2[[\"revt\", \"capx\"]]\n",
    "\n",
    "df2.loc[max(df2.index)+1, :] = None\n",
    "\n",
    "inv = (df2[\"capx\"]/df2[\"revt\"]) / (1/3*((df2[\"capx\"].shift(1)/df2[\"revt\"].shift(1)) + (df2[\"capx\"].shift(2)/df2[\"revt\"].shift(2)) + (df2[\"capx\"].shift(3)/df2[\"revt\"].shift(3))))\n",
    "\n",
    "inv"
   ]
  },
  {
   "cell_type": "code",
   "execution_count": 60,
   "metadata": {},
   "outputs": [
    {
     "data": {
      "text/plain": [
       "0    NaN\n",
       "1    NaN\n",
       "2    NaN\n",
       "3    NaN\n",
       "4    NaN\n",
       "5    NaN\n",
       "6    NaN\n",
       "7    NaN\n",
       "8    NaN\n",
       "9    NaN\n",
       "10   NaN\n",
       "11   NaN\n",
       "12   NaN\n",
       "13   NaN\n",
       "14   NaN\n",
       "15   NaN\n",
       "16   NaN\n",
       "17   NaN\n",
       "18   NaN\n",
       "19   NaN\n",
       "20   NaN\n",
       "21   NaN\n",
       "22   NaN\n",
       "dtype: float64"
      ]
     },
     "execution_count": 60,
     "metadata": {},
     "output_type": "execute_result"
    }
   ],
   "source": [
    "##### Net Debt Finance (NDF)\n",
    "df2 = df.loc[df['gvkey'] == '001166']\n",
    "df2 = df2[[\"dltis\", \"dltr\", \"dlcch\", \"at\"]]\n",
    "\n",
    "df2.loc[max(df2.index)+1, :] = None\n",
    "\n",
    "ndf = (df2[\"dltis\"] - df2[\"dltr\"] + df2[\"dlcch\"]) / (1/2*(df2[\"at\"]+df2[\"at\"].shift(1)))\n",
    "ndf\n",
    "\n",
    "# fix NaN issue"
   ]
  },
  {
   "cell_type": "code",
   "execution_count": 61,
   "metadata": {},
   "outputs": [
    {
     "data": {
      "text/plain": [
       "0          NaN\n",
       "1     0.163867\n",
       "2    -0.031017\n",
       "3    -0.031668\n",
       "4    -0.024503\n",
       "5    -0.042276\n",
       "6          NaN\n",
       "7          NaN\n",
       "8          NaN\n",
       "9          NaN\n",
       "10         NaN\n",
       "11         NaN\n",
       "12         NaN\n",
       "13         NaN\n",
       "14         NaN\n",
       "15         NaN\n",
       "16         NaN\n",
       "17         NaN\n",
       "18         NaN\n",
       "19         NaN\n",
       "20         NaN\n",
       "21         NaN\n",
       "22         NaN\n",
       "dtype: float64"
      ]
     },
     "execution_count": 61,
     "metadata": {},
     "output_type": "execute_result"
    }
   ],
   "source": [
    "##### Net Equity Finance (NEF)\n",
    "df2 = df.loc[df['gvkey'] == '001166']\n",
    "df2 = df2[[\"sstk\", \"prstkc\", \"dv\", \"at\"]]\n",
    "\n",
    "df2.loc[max(df2.index)+1, :] = None\n",
    "\n",
    "nef = (df2[\"sstk\"] - df2[\"prstkc\"] - df2[\"dv\"]) / (1/2*(df2[\"at\"] + df2[\"at\"].shift(1)))\n",
    "nef"
   ]
  },
  {
   "cell_type": "code",
   "execution_count": 63,
   "metadata": {},
   "outputs": [
    {
     "data": {
      "text/plain": [
       "0          NaN\n",
       "1     0.912214\n",
       "2     0.614285\n",
       "3     0.579402\n",
       "4     0.542851\n",
       "5     0.634087\n",
       "6     0.583442\n",
       "7     0.524434\n",
       "8     0.550903\n",
       "9     0.522943\n",
       "10    0.436651\n",
       "11         NaN\n",
       "12         NaN\n",
       "13         NaN\n",
       "14         NaN\n",
       "15         NaN\n",
       "16         NaN\n",
       "17         NaN\n",
       "18         NaN\n",
       "19         NaN\n",
       "20         NaN\n",
       "21         NaN\n",
       "22         NaN\n",
       "dtype: float64"
      ]
     },
     "execution_count": 63,
     "metadata": {},
     "output_type": "execute_result"
    }
   ],
   "source": [
    "##### Net Operating Asset (NOA)\n",
    "df2 = df.loc[df['gvkey'] == '001166']\n",
    "df2 = df2[[\"oa\", \"ol\", \"at\"]]\n",
    "\n",
    "df2.loc[max(df2.index)+1, :] = None\n",
    "\n",
    "noa = (df2[\"oa\"] - df2[\"ol\"])/df2[\"at\"].shift(1)\n",
    "noa"
   ]
  },
  {
   "cell_type": "code",
   "execution_count": 66,
   "metadata": {},
   "outputs": [
    {
     "data": {
      "text/plain": [
       "0          NaN\n",
       "1     0.116203\n",
       "2     0.079000\n",
       "3    -0.059496\n",
       "4    -0.055921\n",
       "5     0.053283\n",
       "6     0.005089\n",
       "7    -0.047477\n",
       "8    -0.011375\n",
       "9    -0.001351\n",
       "10   -0.030340\n",
       "11    0.080057\n",
       "12    0.060286\n",
       "13    0.002830\n",
       "14   -0.183887\n",
       "15    0.015439\n",
       "16    0.047037\n",
       "17    0.016104\n",
       "18    0.010272\n",
       "19    0.051934\n",
       "20    0.030273\n",
       "21    0.037180\n",
       "22         NaN\n",
       "dtype: float64"
      ]
     },
     "execution_count": 66,
     "metadata": {},
     "output_type": "execute_result"
    }
   ],
   "source": [
    "##### Noncurrent Operating Assets Changes (NOACh)\n",
    "df2 = df.loc[df['gvkey'] == '001166']\n",
    "df2 = df2[[\"ncoa\", \"at\"]]\n",
    "\n",
    "df2.loc[max(df2.index)+1, :] = None\n",
    "\n",
    "noach = (df2[\"ncoa\"] - df2[\"ncoa\"].shift(1)) / df2[\"at\"]\n",
    "noach"
   ]
  },
  {
   "cell_type": "code",
   "execution_count": 67,
   "metadata": {},
   "outputs": [
    {
     "data": {
      "text/plain": [
       "0    NaN\n",
       "1    NaN\n",
       "2    NaN\n",
       "3    NaN\n",
       "4    NaN\n",
       "5    NaN\n",
       "6    NaN\n",
       "7    NaN\n",
       "8    NaN\n",
       "9    NaN\n",
       "10   NaN\n",
       "11   NaN\n",
       "12   NaN\n",
       "13   NaN\n",
       "14   NaN\n",
       "15   NaN\n",
       "16   NaN\n",
       "17   NaN\n",
       "18   NaN\n",
       "19   NaN\n",
       "20   NaN\n",
       "21   NaN\n",
       "22   NaN\n",
       "dtype: float64"
      ]
     },
     "execution_count": 67,
     "metadata": {},
     "output_type": "execute_result"
    }
   ],
   "source": [
    "##### Total XFIN (TXFIN)\n",
    "df2 = df.loc[df['gvkey'] == '001166']\n",
    "df2 = df2[[\"sstk\", \"dv\", \"prstkc\", \"dltis\", \"dltr\", \"at\"]]\n",
    "\n",
    "df2.loc[max(df2.index)+1, :] = None\n",
    "\n",
    "txfin = (df2[\"sstk\"] - df2[\"dv\"] - df2[\"prstkc\"] + df2[\"dltis\"] - df2[\"dltr\"]) / df2[\"at\"]\n",
    "txfin\n",
    "# Fix NaNs"
   ]
  },
  {
   "cell_type": "code",
   "execution_count": null,
   "metadata": {},
   "outputs": [],
   "source": [
    "# Others from original list:"
   ]
  },
  {
   "cell_type": "code",
   "execution_count": 68,
   "metadata": {},
   "outputs": [
    {
     "data": {
      "text/plain": [
       "0      425.035\n",
       "1      777.940\n",
       "2      757.065\n",
       "3      653.841\n",
       "4      672.301\n",
       "5      823.834\n",
       "6      812.308\n",
       "7      832.297\n",
       "8      840.333\n",
       "9      767.798\n",
       "10     851.700\n",
       "11    1214.117\n",
       "12    1582.221\n",
       "13    1499.506\n",
       "14    1551.249\n",
       "15    1826.933\n",
       "16    2075.977\n",
       "17    2148.263\n",
       "18    2177.202\n",
       "19    1847.972\n",
       "20    2175.139\n",
       "21    2229.939\n",
       "22         NaN\n",
       "Name: at, dtype: float64"
      ]
     },
     "execution_count": 68,
     "metadata": {},
     "output_type": "execute_result"
    }
   ],
   "source": [
    "##### Company Size (cs_ta)\n",
    "df2 = df.loc[df['gvkey'] == '001166']\n",
    "df2 = df2[[\"at\"]]\n",
    "\n",
    "df2.loc[max(df2.index)+1, :] = None\n",
    "\n",
    "cs_ta = (df2[\"at\"])\n",
    "cs_ta"
   ]
  },
  {
   "cell_type": "code",
   "execution_count": 71,
   "metadata": {},
   "outputs": [
    {
     "data": {
      "text/plain": [
       "0           NaN\n",
       "1      3.221391\n",
       "2     18.429507\n",
       "3      7.934481\n",
       "4     -0.002983\n",
       "5      2.178235\n",
       "6     -0.199533\n",
       "7      0.150906\n",
       "8      0.021874\n",
       "9     -1.164551\n",
       "10     0.372743\n",
       "11     1.423758\n",
       "12     2.291261\n",
       "13    -4.763225\n",
       "14   -29.907235\n",
       "15     4.024162\n",
       "16     2.450447\n",
       "17     1.081096\n",
       "18    -0.045955\n",
       "19    -3.583246\n",
       "20     0.606847\n",
       "21     0.120338\n",
       "22          NaN\n",
       "dtype: float64"
      ]
     },
     "execution_count": 71,
     "metadata": {},
     "output_type": "execute_result"
    }
   ],
   "source": [
    "##### Investment Rate (ir)\n",
    "df2 = df.loc[df['gvkey'] == '001166']\n",
    "df2 = df2[[\"icapt\", \"ebit\", \"nicon\", \"pi\"]]\n",
    "\n",
    "df2.loc[max(df2.index)+1, :] = None\n",
    "\n",
    "ir = (df2[\"icapt\"] - df2[\"icapt\"].shift(1)) / (df2[\"ebit\"] * (df2[\"nicon\"]/df2[\"pi\"]))\n",
    "ir"
   ]
  },
  {
   "cell_type": "code",
   "execution_count": 72,
   "metadata": {},
   "outputs": [
    {
     "data": {
      "text/plain": [
       "0          NaN\n",
       "1     0.680652\n",
       "2     0.206571\n",
       "3    -0.180295\n",
       "4     0.001816\n",
       "5     0.110357\n",
       "6     0.079054\n",
       "7     0.009150\n",
       "8     0.002440\n",
       "9    -0.037028\n",
       "10    0.036507\n",
       "11    0.239702\n",
       "12    0.293981\n",
       "13   -0.042810\n",
       "14    0.265766\n",
       "15    0.143741\n",
       "16    0.132510\n",
       "17    0.033473\n",
       "18   -0.002160\n",
       "19   -0.225373\n",
       "20    0.105141\n",
       "21    0.017852\n",
       "22         NaN\n",
       "Name: icapt, dtype: float64"
      ]
     },
     "execution_count": 72,
     "metadata": {},
     "output_type": "execute_result"
    }
   ],
   "source": [
    "##### NOPAT growth (nopat_g)\n",
    "df2 = df.loc[df['gvkey'] == '001166']\n",
    "df2 = df2[[\"icapt\"]]\n",
    "\n",
    "df2.loc[max(df2.index)+1, :] = None\n",
    "\n",
    "nopat_g = (df2[\"icapt\"] - df2[\"icapt\"].shift(1)) / df2[\"icapt\"]\n",
    "nopat_g"
   ]
  },
  {
   "cell_type": "code",
   "execution_count": 74,
   "metadata": {},
   "outputs": [
    {
     "data": {
      "text/plain": [
       "0          NaN\n",
       "1          NaN\n",
       "2          NaN\n",
       "3     0.077691\n",
       "4    -0.146301\n",
       "5     0.103655\n",
       "6     0.118738\n",
       "7     0.146761\n",
       "8     0.081932\n",
       "9     0.009520\n",
       "10   -0.123569\n",
       "11    0.085824\n",
       "12    0.297986\n",
       "13    0.338958\n",
       "14   -0.205942\n",
       "15   -0.306288\n",
       "16   -0.221287\n",
       "17   -0.007873\n",
       "18    0.105627\n",
       "19    0.069028\n",
       "20    0.290097\n",
       "21    0.216685\n",
       "22         NaN\n",
       "Name: revt, dtype: float64"
      ]
     },
     "execution_count": 74,
     "metadata": {},
     "output_type": "execute_result"
    }
   ],
   "source": [
    "##### Revenue 3-Y-CAGR (rev_cagr_3)\n",
    "df2 = df.loc[df['gvkey'] == '001166']\n",
    "df2 = df2[[\"revt\"]]\n",
    "\n",
    "df2.loc[max(df2.index)+1, :] = None\n",
    "\n",
    "rev_cagr_3 = ((df2[\"revt\"] / df2[\"revt\"].shift(3))**(1/3)) - 1\n",
    "rev_cagr_3"
   ]
  },
  {
   "cell_type": "code",
   "execution_count": 75,
   "metadata": {},
   "outputs": [
    {
     "data": {
      "text/plain": [
       "0          NaN\n",
       "1          NaN\n",
       "2          NaN\n",
       "3    -0.188723\n",
       "4    -0.406692\n",
       "5     0.231428\n",
       "6     0.428529\n",
       "7     0.476705\n",
       "8     0.133032\n",
       "9     0.011503\n",
       "10   -0.254740\n",
       "11    0.273211\n",
       "12    0.453147\n",
       "13    0.283258\n",
       "14   -0.558429\n",
       "15   -0.292366\n",
       "16    0.022594\n",
       "17    0.563882\n",
       "18    0.109619\n",
       "19    0.024100\n",
       "20    0.528268\n",
       "21    0.372467\n",
       "22         NaN\n",
       "Name: ebitda, dtype: float64"
      ]
     },
     "execution_count": 75,
     "metadata": {},
     "output_type": "execute_result"
    }
   ],
   "source": [
    "##### EBITDA 3-Y-CAGR (ebitda_cagr_3)\n",
    "df2 = df.loc[df['gvkey'] == '001166']\n",
    "df2 = df2[[\"ebitda\"]]\n",
    "\n",
    "df2.loc[max(df2.index)+1, :] = None\n",
    "\n",
    "ebitda_cagr_3 = ((df2[\"ebitda\"] / df2[\"ebitda\"].shift(3))**(1/3)) - 1\n",
    "ebitda_cagr_3"
   ]
  },
  {
   "cell_type": "code",
   "execution_count": null,
   "metadata": {},
   "outputs": [],
   "source": []
  }
 ],
 "metadata": {
  "kernelspec": {
   "display_name": "Python 3",
   "language": "python",
   "name": "python3"
  },
  "language_info": {
   "codemirror_mode": {
    "name": "ipython",
    "version": 3
   },
   "file_extension": ".py",
   "mimetype": "text/x-python",
   "name": "python",
   "nbconvert_exporter": "python",
   "pygments_lexer": "ipython3",
   "version": "3.8.3"
  }
 },
 "nbformat": 4,
 "nbformat_minor": 2
}

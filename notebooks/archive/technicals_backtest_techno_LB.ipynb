{
 "cells": [
  {
   "cell_type": "markdown",
   "metadata": {},
   "source": [
    "# Techno\n",
    "Techno is a strategy based purely on technical indicators. The work is originated by Leon and reproduced by Jiawei."
   ]
  },
  {
   "cell_type": "code",
   "execution_count": 8,
   "metadata": {},
   "outputs": [],
   "source": [
    "from functools import reduce\n",
    "import numpy as np\n",
    "import pandas as pd\n",
    "from sklearn.metrics import plot_confusion_matrix\n",
    "from sklearn.metrics import plot_roc_curve\n",
    "from sklearn.metrics import make_scorer\n",
    "from sklearn.metrics import accuracy_score\n",
    "from sklearn.metrics import confusion_matrix\n",
    "from sklearn.metrics import classification_report\n",
    "from xgboost import XGBClassifier\n",
    "from xgboost import XGBRegressor\n",
    "import matplotlib.pyplot as plt\n",
    "import seaborn as sns\n",
    "pd.set_option(\"display.max_rows\", None)\n",
    "pd.set_option(\"display.max_columns\", None)\n",
    "pd.options.mode.chained_assignment = None\n",
    "np.seterr(divide=\"ignore\", invalid=\"ignore\")\n",
    "import warnings\n",
    "warnings.filterwarnings(\"ignore\")"
   ]
  },
  {
   "cell_type": "code",
   "execution_count": 9,
   "metadata": {},
   "outputs": [],
   "source": [
    "def compute_rsi(data, window):\n",
    "    diff = data.diff(1)\n",
    "    up_chg = 0 * diff\n",
    "    down_chg = 0 * diff\n",
    "    up_chg[diff > 0] = diff[diff > 0]\n",
    "    down_chg[diff < 0] = diff[diff < 0]\n",
    "    up_chg_avg = up_chg.ewm(com=window - 1, min_periods=window).mean()\n",
    "    down_chg_avg = down_chg.ewm(com=window - 1, min_periods=window).mean()\n",
    "    rs = abs(up_chg_avg / down_chg_avg)\n",
    "    rsi = 1 - 1 / (1 + rs)\n",
    "    return rsi"
   ]
  },
  {
   "cell_type": "code",
   "execution_count": 62,
   "metadata": {},
   "outputs": [],
   "source": [
    "def build_techno(df):\n",
    "    windows = [3, 4, 5, 10, 20, 40]\n",
    "    df[\"pct_1m\"] = df.close.groupby(\"gvkey\").transform(lambda x: x.pct_change(1))\n",
    "    for window in windows:\n",
    "        df[f\"std_{window}m\"] = df.pct_1m.groupby(\"gvkey\").transform(lambda x: x.rolling(window).std())\n",
    "        df[f\"sh_{window}m\"] = df.pct_1m.groupby(\"gvkey\").transform(lambda x: x.rolling(window).mean() / x.rolling(window).std())\n",
    "        df[f\"pct_{window}m\"] = df.close.groupby(\"gvkey\").transform(lambda x: x.pct_change(window - 1))\n",
    "        df[f\"ema_{window}m\"] = df.close.groupby(\"gvkey\").transform(lambda x: x / x.ewm(span=window, adjust=False).mean() -1 )\n",
    "        df[f\"qt_{window}m\"] = df.close.groupby(\"gvkey\").transform(lambda x: x.rolling(window).quantile(0.75) / x)\n",
    "        df[f\"scosc_{window}m\"] = df.close.groupby(\"gvkey\").transform(lambda x: (x - x.rolling(window).min()) / (x.rolling(window).max() - x.rolling(window).min()))\n",
    "        df[f\"rsi_{window}m\"] = df.close.groupby(\"gvkey\").transform(lambda x: compute_rsi(x, window))\n",
    "    df['high'] = df['high'] / df['close'] - 1\n",
    "    df['low'] = df['low'] / df['close'] - 1\n",
    "    \n",
    "    df_mom = df\n",
    "    df_mom[\"targ_return\"] = df_mom.close.groupby(\"gvkey\").transform(lambda x: x.pct_change(3).shift(-3))\n",
    "\n",
    "    df_mom[\"y1\"] = np.where(df_mom['targ_return'] > 0.05, 1, 0)\n",
    "    df_mom[\"y2\"] = np.where(df_mom['targ_return'] < -0.03, -1, 0)\n",
    "    df_mom[\"y\"] = df_mom[\"y2\"] + df_mom[\"y1\"]\n",
    "    \n",
    "    df_mom = df_mom.drop('y2',axis=1)\n",
    "    df_mom = df_mom.drop('y1',axis=1)\n",
    "    df_mom = df_mom.drop('targ_return',axis=1)\n",
    "\n",
    "    df = df_mom\n",
    "    \n",
    "    return df.loc[df.prccd>5, \"high\":].drop(columns=[\"volume\", \"close\"]).dropna()"
   ]
  },
  {
   "cell_type": "code",
   "execution_count": 63,
   "metadata": {},
   "outputs": [],
   "source": [
    "# select stocks with market cap > 100 million, trading price > 5 as stock universe\n",
    "raw = pd.read_parquet(\"compustat_raw_alpha.1.parquet\")\n",
    "gvkeys = raw[(raw.mcap > 1e8) & (raw.prccd > 5)].index.get_level_values(\"gvkey\").unique()\n",
    "universe = raw.loc[gvkeys]"
   ]
  },
  {
   "cell_type": "code",
   "execution_count": 64,
   "metadata": {},
   "outputs": [],
   "source": [
    "techno_features = build_techno(universe)"
   ]
  },
  {
   "cell_type": "code",
   "execution_count": 65,
   "metadata": {},
   "outputs": [],
   "source": [
    "techno_features.head()\n",
    "from pandas.tseries.offsets import DateOffset"
   ]
  },
  {
   "cell_type": "code",
   "execution_count": 66,
   "metadata": {},
   "outputs": [],
   "source": [
    "# techno_features = build_techno(universe)\n",
    "# features = discipline_features(techno_features)\n",
    "X = techno_features.drop('y',axis=1)\n",
    "y = techno_features.y"
   ]
  },
  {
   "cell_type": "code",
   "execution_count": 72,
   "metadata": {},
   "outputs": [
    {
     "data": {
      "text/plain": [
       " 1    49216\n",
       "-1    43996\n",
       " 0    38970\n",
       "Name: y, dtype: int64"
      ]
     },
     "execution_count": 72,
     "metadata": {},
     "output_type": "execute_result"
    }
   ],
   "source": [
    "y.value_counts()"
   ]
  },
  {
   "cell_type": "code",
   "execution_count": 74,
   "metadata": {},
   "outputs": [],
   "source": [
    "train_start=\"2002-01-01\"\n",
    "train_end=\"2010-01-01\"\n",
    "test_start=train_end\n",
    "test_end=\"2016-01-01\"\n",
    "X_train = X.xs(slice(train_start, train_end), level=\"date\", drop_level=False)\n",
    "y_train = y.xs(slice(train_start, train_end), level=\"date\", drop_level=False)\n",
    "X_test = X.xs(slice(test_start, test_end), level=\"date\", drop_level=False)\n",
    "y_test = y.xs(slice(test_start, test_end), level=\"date\", drop_level=False)"
   ]
  },
  {
   "cell_type": "code",
   "execution_count": 77,
   "metadata": {},
   "outputs": [
    {
     "data": {
      "text/plain": [
       " 1    24705\n",
       "-1    22852\n",
       " 0    17009\n",
       "Name: y, dtype: int64"
      ]
     },
     "execution_count": 77,
     "metadata": {},
     "output_type": "execute_result"
    }
   ],
   "source": [
    "y_train.value_counts()"
   ]
  },
  {
   "cell_type": "code",
   "execution_count": 81,
   "metadata": {},
   "outputs": [
    {
     "data": {
      "text/plain": [
       " 1    24511\n",
       "-1    21144\n",
       " 0    21048\n",
       "Name: y, dtype: int64"
      ]
     },
     "execution_count": 81,
     "metadata": {},
     "output_type": "execute_result"
    }
   ],
   "source": [
    "y_test.value_counts()"
   ]
  },
  {
   "cell_type": "code",
   "execution_count": 95,
   "metadata": {},
   "outputs": [
    {
     "name": "stdout",
     "output_type": "stream",
     "text": [
      "[17:37:21] WARNING: ../src/learner.cc:516: \n",
      "Parameters: { class_weight } might not be used.\n",
      "\n",
      "  This may not be accurate due to some parameters are only used in language bindings but\n",
      "  passed down to XGBoost core.  Or some parameters are not used but slip through this\n",
      "  verification. Please open an issue if you find above cases.\n",
      "\n",
      "\n"
     ]
    }
   ],
   "source": [
    "xgb_clf = XGBClassifier(max_depth=6, n_jobs=-1,class_weight='balanced')\n",
    "xgb_fit = xgb_clf.fit(X_train, y_train)\n",
    "y_pred= xgb_clf.predict(X_test)\n",
    "# train_score = accuracy_score(y_train, xgb_clf.predict(X_train))\n",
    "# test_score = accuracy_score(y_test, y_pred)\n",
    "# feature_important = xgb_clf.get_booster().get_score(importance_type=\"gain\")\n",
    "# keys = list(feature_important.keys())\n",
    "# values = list(feature_important.values())\n",
    "# data = pd.DataFrame(data=values, index=keys, columns=[\"score\"]).sort_values(by=\"score\", ascending=False)\n",
    "# data.plot(kind='barh')\n",
    "# print(f\"Accuracy on training set: {train_score}\\nAccuracy on test set: {test_score}\")\n",
    "# print(classification_report(y_test, y_pred))"
   ]
  },
  {
   "cell_type": "code",
   "execution_count": 96,
   "metadata": {},
   "outputs": [],
   "source": [
    "def frame_to_signals(X, estimator):\n",
    "    short_array = -1 * estimator.predict_proba(X)[:, 0]\n",
    "    long_array = estimator.predict_proba(X)[:, -1]\n",
    "    short_signal = pd.Series(short_array, X.index)\n",
    "    long_signal = pd.Series(long_array, X.index)\n",
    "    return short_signal, long_signal\n",
    "\n",
    "\n",
    "def noise_to_belief(signal, n):\n",
    "    return signal.groupby(\"date\", group_keys=False).apply(\n",
    "        lambda x: x.sort_values(ascending=False).head(n)\n",
    "    )\n",
    "\n",
    "\n",
    "def monthly_to_daily(signal, months, weight):\n",
    "    daily_signals = []\n",
    "    for index, value in signal.iteritems():\n",
    "        gvkey = index[0]\n",
    "        predict_date = pd.to_datetime(index[1])\n",
    "        start = predict_date + DateOffset(days=1)\n",
    "        end = predict_date + DateOffset(months=months)\n",
    "        date_range = pd.date_range(start, end, freq=\"D\", name=\"date\")\n",
    "        daily_idx = pd.MultiIndex.from_tuples(\n",
    "            [(gvkey, date) for date in date_range], names=[\"gvkey\", \"date\"]\n",
    "        )\n",
    "        if weight == \"equal\":\n",
    "            daily_signal = pd.Series(np.sign(value), daily_idx)\n",
    "        elif weight == \"value\":\n",
    "            daily_signal = pd.Series(value, daily_idx)\n",
    "        daily_signals.append(daily_signal)\n",
    "    return pd.concat(daily_signals)\n",
    "\n",
    "\n",
    "def signals_to_positions(short_signal, long_signal, n=30, months=3, weight=\"equal\"):\n",
    "    short_belief = noise_to_belief(short_signal, n)\n",
    "    long_belief = noise_to_belief(long_signal, n)\n",
    "    short_daily = monthly_to_daily(short_belief, months, weight)\n",
    "    long_daily = monthly_to_daily(long_belief, months, weight)\n",
    "    short_position = short_daily.groupby([\"gvkey\", \"date\"]).agg(\"sum\")\n",
    "    long_position = long_daily.groupby([\"gvkey\", \"date\"]).agg(\"sum\")\n",
    "    neutral_position = (\n",
    "        pd.concat([short_position, long_position]).groupby([\"gvkey\", \"date\"]).agg(\"sum\")\n",
    "    )\n",
    "    return short_position, long_position, neutral_position\n",
    "\n",
    "\n",
    "def position_to_margin(data, position, tx=-0.001, method=\"log\"):\n",
    "    merged = pd.merge(\n",
    "        position.rename(\"position\"),\n",
    "        data.close,\n",
    "        how=\"left\",\n",
    "        left_index=True,\n",
    "        right_index=True,\n",
    "    )\n",
    "    merged[\"close\"] = merged.close.groupby(\"gvkey\").fillna(method=\"ffill\")\n",
    "    merged[\"tx\"] = np.where(position.shift(1) != position, tx, 0)\n",
    "    if method == \"log\":\n",
    "        merged[\"margin\"] = (\n",
    "            merged.close.groupby(\"gvkey\")\n",
    "            .transform(lambda x: np.log(x / x.shift(1)))\n",
    "            .fillna(0)\n",
    "        )\n",
    "        margin = merged.position * merged.margin + merged.tx\n",
    "        margin = margin.droplevel(\"gvkey\").resample(\"D\").mean().cumsum()\n",
    "    elif method == \"percent\":\n",
    "        merged[\"margin\"] = (\n",
    "            merged.close.groupby(\"gvkey\").transform(lambda x: x.pct_change(1)).fillna(0)\n",
    "        )\n",
    "        margin = merged.position * merged.margin + merged.tx\n",
    "        margin = 1 + margin.droplevel(\"gvkey\").resample(\"D\").mean().cumsum()\n",
    "    return margin\n",
    "\n",
    "\n",
    "def sharpe_ratio(data, position):\n",
    "    merged = pd.merge(\n",
    "        position.rename(\"position\"),\n",
    "        data.close,\n",
    "        how=\"left\",\n",
    "        left_index=True,\n",
    "        right_index=True,\n",
    "    )\n",
    "    merged[\"close\"] = merged.close.groupby(\"gvkey\").fillna(method=\"ffill\")\n",
    "    merged[\"tx\"] = np.where(position.shift(1) != position, -0.001, 0)\n",
    "    merged[\"margin\"] = (\n",
    "        merged.close.groupby(\"gvkey\").transform(lambda x: x.pct_change(1)).fillna(0)\n",
    "    )\n",
    "    margin = merged.position * merged.margin + merged.tx\n",
    "    margin = margin.droplevel(\"gvkey\").resample(\"D\").mean()\n",
    "    return margin.mean() / margin.std() * np.sqrt(252)"
   ]
  },
  {
   "cell_type": "code",
   "execution_count": 97,
   "metadata": {},
   "outputs": [],
   "source": [
    "short_signal, long_signal = frame_to_signals(X_test, xgb_clf)\n",
    "short_position, long_position, neutral_position = signals_to_positions(short_signal, long_signal, n=30, months=3, weight=\"equal\")"
   ]
  },
  {
   "cell_type": "code",
   "execution_count": 98,
   "metadata": {
    "scrolled": false
   },
   "outputs": [
    {
     "name": "stdout",
     "output_type": "stream",
     "text": [
      "Sharpe ratio: 0.8372768670091016\n"
     ]
    },
    {
     "data": {
      "image/png": "[encoded data removed]",
      "text/plain": [
       "<Figure size 432x288 with 1 Axes>"
      ]
     },
     "metadata": {
      "needs_background": "light"
     },
     "output_type": "display_data"
    }
   ],
   "source": [
    "data = pd.read_parquet(\"daily_price_backtest.parquet\")\n",
    "data = data[data.index.get_level_values(\"gvkey\") != '249103']\n",
    "margin = position_to_margin(data, neutral_position, method=\"percent\")\n",
    "margin.plot()\n",
    "sharpe = sharpe_ratio(data, neutral_position)\n",
    "print(f\"Sharpe ratio: {sharpe}\")"
   ]
  },
  {
   "cell_type": "code",
   "execution_count": 99,
   "metadata": {},
   "outputs": [
    {
     "name": "stdout",
     "output_type": "stream",
     "text": [
      "Sharpe ratio: 1.6331827031592279\n"
     ]
    },
    {
     "data": {
      "image/png": "[encoded data removed]",
      "text/plain": [
       "<Figure size 432x288 with 1 Axes>"
      ]
     },
     "metadata": {
      "needs_background": "light"
     },
     "output_type": "display_data"
    }
   ],
   "source": [
    "margin = position_to_margin(data, long_position, method=\"percent\")\n",
    "margin.plot()\n",
    "sharpe = sharpe_ratio(data, long_position)\n",
    "print(f\"Sharpe ratio: {sharpe}\")"
   ]
  },
  {
   "cell_type": "code",
   "execution_count": 100,
   "metadata": {},
   "outputs": [
    {
     "name": "stdout",
     "output_type": "stream",
     "text": [
      "Sharpe ratio: -2.012823387683273\n"
     ]
    },
    {
     "data": {
      "image/png": "[encoded data removed]",
      "text/plain": [
       "<Figure size 432x288 with 1 Axes>"
      ]
     },
     "metadata": {
      "needs_background": "light"
     },
     "output_type": "display_data"
    }
   ],
   "source": [
    "margin = position_to_margin(data, short_position, method=\"percent\")\n",
    "margin.plot()\n",
    "sharpe = sharpe_ratio(data, short_position)\n",
    "print(f\"Sharpe ratio: {sharpe}\")"
   ]
  },
  {
   "cell_type": "code",
   "execution_count": null,
   "metadata": {},
   "outputs": [],
   "source": []
  },
  {
   "cell_type": "code",
   "execution_count": null,
   "metadata": {},
   "outputs": [],
   "source": []
  }
 ],
 "metadata": {
  "kernelspec": {
   "display_name": "Python 3",
   "language": "python",
   "name": "python3"
  },
  "language_info": {
   "codemirror_mode": {
    "name": "ipython",
    "version": 3
   },
   "file_extension": ".py",
   "mimetype": "text/x-python",
   "name": "python",
   "nbconvert_exporter": "python",
   "pygments_lexer": "ipython3",
   "version": "3.8.3"
  }
 },
 "nbformat": 4,
 "nbformat_minor": 2
}

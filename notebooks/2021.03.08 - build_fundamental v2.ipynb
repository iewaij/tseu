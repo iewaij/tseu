{
 "cells": [
  {
   "cell_type": "markdown",
   "metadata": {},
   "source": [
    "# Build Fundamentals"
   ]
  },
  {
   "cell_type": "code",
   "execution_count": 15,
   "metadata": {},
   "outputs": [],
   "source": [
    "import wrds\n",
    "import numpy as np\n",
    "import pandas as pd\n",
    "from pandas.tseries.offsets import DateOffset\n",
    "pd.set_option(\"display.max_columns\", None)"
   ]
  },
  {
   "cell_type": "code",
   "execution_count": 2,
   "metadata": {},
   "outputs": [],
   "source": [
    "prc_stmt = \"\"\"\n",
    "SELECT\n",
    "    prc.gvkey,\n",
    "    prc.datadate AS date,\n",
    "    cshoc,\n",
    "    prccd\n",
    "FROM ( SELECT DISTINCT\n",
    "        gvkey,\n",
    "        iid\n",
    "    FROM\n",
    "        comp_global_daily.g_funda\n",
    "    WHERE\n",
    "        exchg = ANY (ARRAY [104, 132, 151, 154, 171, 172, 192, 194, 201, 209, 228, 256, 257, 273, 286])\n",
    "        AND curcd = 'EUR') AS fund\n",
    "    JOIN comp_global_daily.g_sec_dprc AS prc ON fund.gvkey = prc.gvkey\n",
    "        AND fund.iid = prc.iid\n",
    "WHERE\n",
    "    curcdd = 'EUR'\n",
    "    AND cshtrd IS NOT NULL\n",
    "    AND datadate >= '1999-01-01'\n",
    "    AND prc.gvkey = '100022'\n",
    "\"\"\""
   ]
  },
  {
   "cell_type": "code",
   "execution_count": 90,
   "metadata": {},
   "outputs": [],
   "source": [
    "fund_stmt = \"\"\"\n",
    "SELECT\n",
    "    gvkey,\n",
    "    datadate AS date,\n",
    "    loc AS country,\n",
    "    indfmt AS industry,\n",
    "    sicdesc AS classification,\n",
    "    act,\n",
    "    at AS att,\n",
    "    ap,\n",
    "    capx,\n",
    "    ceq,\n",
    "    ch,\n",
    "    che,\n",
    "    chee, \n",
    "    cogs,\n",
    "    dlc,\n",
    "    dltis,\n",
    "    dltr,\n",
    "    dltt,\n",
    "    dp,\n",
    "    dv,\n",
    "    dvc,\n",
    "    dvt,\n",
    "    dlcch,\n",
    "    ebit,\n",
    "    ebitda,\n",
    "    -- COALESCE(epsexcon, nicon / cshpria) AS eps,\n",
    "    -- COALESCE(epsincon, (nicon + xido) / cshpria) AS epsin,\n",
    "    fincf,\n",
    "    gdwl,\n",
    "    icapt,\n",
    "    intan,\n",
    "    invt,\n",
    "    ivaeq,\n",
    "    ivao,\n",
    "    ivncf,\n",
    "    ivst,\n",
    "    lct,\n",
    "    lt AS ltt,\n",
    "    mib,\n",
    "    nicon,\n",
    "    oancf,\n",
    "    pi,\n",
    "    ppegt,\n",
    "    ppent,\n",
    "    pstk,\n",
    "    prstkc,\n",
    "    COALESCE(rect, artfs) AS rect,\n",
    "    revt,\n",
    "    COALESCE(seq, ceq + pstk, at - lt) AS seq,\n",
    "    sstk,\n",
    "    teq,\n",
    "    COALESCE(txp, txpfs) AS txp,\n",
    "    xint,\n",
    "    xrd,\n",
    "    xsga\n",
    "FROM\n",
    "    comp.g_funda AS fund\n",
    "    JOIN comp.r_siccd AS sic ON fund.sich::VARCHAR = sic.siccd\n",
    "WHERE\n",
    "    exchg = ANY (ARRAY [104, 107, 132, 151, 154, 171, 192, 194, 201, 209, 256, 257, 273, 276, 286])\n",
    "    AND curcd = 'EUR'\n",
    "    AND gvkey = '100022'\n",
    "ORDER BY\n",
    "    gvkey, datadate;\n",
    "\"\"\""
   ]
  },
  {
   "cell_type": "code",
   "execution_count": 83,
   "metadata": {},
   "outputs": [],
   "source": [
    "def query_wrds(sql_stmt):\n",
    "    with wrds.Connection(wrds_username=\"iewaij\") as db:\n",
    "        data = db.raw_sql(\n",
    "            sql_stmt,\n",
    "            date_cols=[\"date\", \"datadate\"],\n",
    "        )\n",
    "    return data"
   ]
  },
  {
   "cell_type": "code",
   "execution_count": 84,
   "metadata": {},
   "outputs": [],
   "source": [
    "def query_fundamental():\n",
    "    fund = (\n",
    "        query_wrds(fund_stmt)\n",
    "        .fillna(0)\n",
    "        .astype(\n",
    "            {\n",
    "                \"gvkey\": \"object\",\n",
    "                \"country\": \"category\",\n",
    "                \"industry\": \"category\",\n",
    "                \"classification\": \"category\",\n",
    "            }\n",
    "        )\n",
    "    )\n",
    "    return fund"
   ]
  },
  {
   "cell_type": "code",
   "execution_count": 85,
   "metadata": {},
   "outputs": [],
   "source": [
    "def query_price():\n",
    "    prc = query_wrds(prc_stmt)\n",
    "    return prc"
   ]
  },
  {
   "cell_type": "code",
   "execution_count": 86,
   "metadata": {},
   "outputs": [],
   "source": [
    "def fill_year(df):\n",
    "    first_date = df[\"date\"].iloc[0]\n",
    "    last_date = df[\"date\"].iloc[-1]\n",
    "    date_index = pd.date_range(\n",
    "        pd.to_datetime(first_date), pd.to_datetime(last_date) + DateOffset(years=1), name=\"date\"\n",
    "    )\n",
    "    return (\n",
    "        df.drop(\"gvkey\", axis=1)\n",
    "        .set_index(\"date\")\n",
    "        .sort_index()\n",
    "        .reindex(date_index, method=\"ffill\")\n",
    "    )"
   ]
  },
  {
   "cell_type": "code",
   "execution_count": 91,
   "metadata": {},
   "outputs": [
    {
     "name": "stdout",
     "output_type": "stream",
     "text": [
      "Loading library list...\n",
      "Done\n"
     ]
    }
   ],
   "source": [
    "fund = query_fundamental()"
   ]
  },
  {
   "cell_type": "code",
   "execution_count": 92,
   "metadata": {},
   "outputs": [],
   "source": [
    "def build_fundamental(df):\n",
    "    oa = df.att - df.che\n",
    "    ol = df.att - df.dlc - df.dltt - df.mib - df.pstk - df.ceq\n",
    "    chact = df.act - df.act.shift(1)\n",
    "    chchee = df.chee - df.chee.shift(1)\n",
    "    chlct = df.lct - df.lct.shift(1)\n",
    "    chdlc = df.dlc - df.dlc.shift(1)\n",
    "    chtxp = df.txp - df.txp.shift(1)\n",
    "    chchee = df.chee - df.chee.shift(1)\n",
    "    avg_at = (df.att + df.att.shift(1)) / 2\n",
    "    nca = df.att - df.act - df.ivaeq\n",
    "    ncl = df.ltt - df.lct - df.dltt\n",
    "    ncoa = nca - ncl\n",
    "    coa = df.act - df.che\n",
    "    col = df.lct - df.dlc\n",
    "    wc = df.act - df.che - df.lct + df.dlc\n",
    "    fna = df.ivst + df.ivao\n",
    "    fnl = df.dltt + df.dlc + df.pstk\n",
    "    nfna = fna - fnl\n",
    "    be = df.seq - df.pstk\n",
    "    df = df.assign(\n",
    "        # Accruals\n",
    "        accruals_acc=((chact - chchee) - (chlct - chdlc - chtxp) - df.dp) / avg_at,\n",
    "        accruals_chcoa=(coa - coa.shift(1)) / df.att.shift(1),\n",
    "        accruals_chcol=(col - col.shift(1)) / df.att.shift(1),\n",
    "        accruals_chnncwc=(wc - wc.shift(1)) / df.att.shift(1),\n",
    "        accruals_chnncoa=(ncoa - ncoa.shift(1)) / df.att.shift(1),\n",
    "        accruals_chncoa=(nca - nca.shift(1)) / df.att.shift(1),\n",
    "        accruals_chncol=(ncl - ncl.shift(1)) / df.att.shift(1),\n",
    "        accruals_chnfa=nfna - nfna.shift(1) / df.att.shift(1),\n",
    "        accruals_chlti=(df.ivao - df.ivao.shift(1)) / df.att.shift(1),\n",
    "        accruals_chce=(df.ceq - df.ceq.shift(1)) / df.att.shift(1),\n",
    "        accruals_chfl=(df.dltt + df.dlc + df.pstk - (df.dltt + df.dlc + df.pstk).shift(1)) / df.att.shift(1),\n",
    "        accruals_grii=(df.invt - df.invt.shift(1)) / ((df.att + df.att.shift(1)) / 2),\n",
    "        accruals_ich=(df.invt - df.invt.shift(1)) / df.att.shift(1),\n",
    "        accruals_igr=(df.invt - df.invt.shift(1)) / df.invt.shift(1),\n",
    "        accruals_nwcch=(wc - wc.shift(1)) / df.att.shift(1),\n",
    "        accruals_poa = (df.nicon - df.oancf) / abs(df.nicon),\n",
    "        accruals_pta =(df.nicon - (- df.sstk + df.prstkc + df.dv + df.oancf + df.ivncf + df.fincf)) / abs(df.nicon),\n",
    "        accruals_ta=((ncoa + wc + nfna) - (ncoa + wc + nfna).shift(1)) / df.att.shift(1),\n",
    "        # Efficiency\n",
    "        efficiency_itr = df.cogs / df.invt,\n",
    "        efficiency_rtr = df.revt / df.rect,\n",
    "        efficiency_apr = df.cogs / df.ap,\n",
    "        efficiency_dsi = 365 * df.invt / df.cogs,\n",
    "        efficiency_dso = 365 * df.rect / df.revt,\n",
    "        efficiency_dpo = 365 * df.ap / df.cogs,\n",
    "        # Profitablity\n",
    "        profitability_at = df.revt / ((oa - ol) + (oa - ol).shift(1))/2,\n",
    "        profitability_fat = df.revt / df.ppent,\n",
    "        profitability_ct = df.revt / df.att.shift(1),\n",
    "        profitability_gp = (df.revt - df.cogs) / df.att.shift(1),\n",
    "        profitability_opta = (df.revt - df.cogs - df.xsga + df.xrd) / df.att,\n",
    "        profitability_opte = (df.revt - df.cogs - df.xsga + df.xrd) / be,\n",
    "        profitability_gpm = (df.revt - df.cogs) / df.revt,\n",
    "        profitability_ebitdam = df.ebitda / df.revt,\n",
    "        profitability_ebitm = df.ebit / df.revt,\n",
    "        profitability_ptm = df.pi / df.revt,\n",
    "        profitability_npm = df.nicon / df.revt,\n",
    "        profitability_roa = df.nicon / df.att,\n",
    "        profitability_roe = df.nicon / be,\n",
    "        profitability_roic = (df.ebit * (df.nicon / df.pi)) / (df.dlc + df.dltt + df.teq),\n",
    "        # Investment\n",
    "        investment_agr=df.att / df.att.shift(1),\n",
    "        investment_cdi=np.log((df.dltt + df.dlc) / (df.dltt.shift(5) + df.dlc.shift(5))),\n",
    "        investment_chnoa=(((oa - ol) / df.att.shift(1)) - (((oa - ol) / df.att.shift(1)).shift(1)))\n",
    "        / df.att.shift(1),\n",
    "        investment_chppeia=((df.ppegt - df.ppegt.shift(1)) + (df.invt - df.invt.shift(1)))\n",
    "        / df.att.shift(1),\n",
    "        investment_griltnoa=(\n",
    "            ((oa - ol) / df.att.shift(1))\n",
    "            - (((oa - ol) / df.att.shift(1)).shift(1))\n",
    "            - ((chact - chchee) - (chlct - chdlc - chtxp) - df.dp) / avg_at\n",
    "        ),\n",
    "        investment_inv=(df.capx / df.revt)\n",
    "        / (\n",
    "            (\n",
    "                (df.capx.shift(1) / df.revt.shift(1))\n",
    "                + (df.capx.shift(2) / df.revt.shift(2))\n",
    "                + (df.capx.shift(3) / df.revt.shift(3))\n",
    "            )\n",
    "            / 3\n",
    "        ),\n",
    "        investment_ndf=(df.dltis - df.dltr + df.dlcch) / ((df.att + df.att.shift(1)) / 2),\n",
    "        investment_nef=(df.sstk - df.prstkc - df.dv) / ((df.att + df.att.shift(1)) / 2),\n",
    "        investment_noa=(oa - ol) / df.att.shift(1),\n",
    "        investment_noach=(ncoa - ncoa.shift(1)) / df.att,\n",
    "        investment_txfin=(df.sstk - df.dv - df.prstkc + df.dltis - df.dltr) / df.att,\n",
    "        # Leverage\n",
    "        leverage_de = (df.dlc + df.dltt) / be,\n",
    "        leverage_da = (df.dltt + df.dlc) / df.att,\n",
    "        leverage_fl = df.att / be,\n",
    "        leverage_deda = (df.dltt + df.dlc) / df.ebitda,\n",
    "        leverage_ndeda = (df.dltt + df.dlc - df.chee) / df.ebitda,\n",
    "        leverage_eic = df.ebit / df.xint,\n",
    "        leverage_edaic = df.ebitda / df.xint,\n",
    "        leverage_cac = df.ch / df.xint,\n",
    "        leverage_dcap = (df.dltt + df.dlc) / (df.dltt + df.dlc + df.teq),\n",
    "        leverage_cad = df.oancf / (df.dlc + df.dltt),\n",
    "        # Liquidity\n",
    "        liquid_cur = df.act / df.lct,\n",
    "        liquid_qur = (df.act - df.invt) / df.lct,\n",
    "        liquid_car = df.chee / df.lct,\n",
    "        liquid_opr = df.oancf / df.lct,\n",
    "        liquid_capxr = df.capx / df.oancf,\n",
    "        # Other\n",
    "        other_ir=(df.icapt - df.icapt.shift(1)) / (df.ebit * (df.nicon / df.pi)),\n",
    "        other_nopat_g=(df.icapt - df.icapt.shift(1)) / df.icapt,\n",
    "        other_rev_cagr_3=((df.revt / df.revt.shift(3)) ** (1 / 3)) - 1,\n",
    "        other_ebitda_cagr_3=((df.ebitda / df.ebitda.shift(3)) ** (1 / 3)) - 1,\n",
    "    )\n",
    "    return df"
   ]
  },
  {
   "cell_type": "code",
   "execution_count": 93,
   "metadata": {},
   "outputs": [
    {
     "data": {
      "text/html": "<div>\n<style scoped>\n    .dataframe tbody tr th:only-of-type {\n        vertical-align: middle;\n    }\n\n    .dataframe tbody tr th {\n        vertical-align: top;\n    }\n\n    .dataframe thead th {\n        text-align: right;\n    }\n</style>\n<table border=\"1\" class=\"dataframe\">\n  <thead>\n    <tr style=\"text-align: right;\">\n      <th></th>\n      <th>gvkey</th>\n      <th>date</th>\n      <th>country</th>\n      <th>industry</th>\n      <th>classification</th>\n      <th>act</th>\n      <th>att</th>\n      <th>ap</th>\n      <th>capx</th>\n      <th>ceq</th>\n      <th>ch</th>\n      <th>che</th>\n      <th>chee</th>\n      <th>cogs</th>\n      <th>dlc</th>\n      <th>dltis</th>\n      <th>dltr</th>\n      <th>dltt</th>\n      <th>dp</th>\n      <th>dv</th>\n      <th>dvc</th>\n      <th>dvt</th>\n      <th>dlcch</th>\n      <th>ebit</th>\n      <th>ebitda</th>\n      <th>fincf</th>\n      <th>gdwl</th>\n      <th>icapt</th>\n      <th>intan</th>\n      <th>invt</th>\n      <th>ivaeq</th>\n      <th>ivao</th>\n      <th>ivncf</th>\n      <th>ivst</th>\n      <th>lct</th>\n      <th>ltt</th>\n      <th>mib</th>\n      <th>nicon</th>\n      <th>oancf</th>\n      <th>pi</th>\n      <th>ppegt</th>\n      <th>ppent</th>\n      <th>pstk</th>\n      <th>prstkc</th>\n      <th>rect</th>\n      <th>revt</th>\n      <th>seq</th>\n      <th>sstk</th>\n      <th>teq</th>\n      <th>txp</th>\n      <th>xint</th>\n      <th>xrd</th>\n      <th>xsga</th>\n      <th>accruals_acc</th>\n      <th>accruals_chcoa</th>\n      <th>accruals_chcol</th>\n      <th>accruals_chnncwc</th>\n      <th>accruals_chnncoa</th>\n      <th>accruals_chncoa</th>\n      <th>accruals_chncol</th>\n      <th>accruals_chnfa</th>\n      <th>accruals_chlti</th>\n      <th>accruals_chce</th>\n      <th>accruals_chfl</th>\n      <th>accruals_grii</th>\n      <th>accruals_ich</th>\n      <th>accruals_igr</th>\n      <th>accruals_nwcch</th>\n      <th>accruals_poa</th>\n      <th>accruals_pta</th>\n      <th>accruals_ta</th>\n      <th>efficiency_itr</th>\n      <th>efficiency_rtr</th>\n      <th>efficiency_apr</th>\n      <th>efficiency_dsi</th>\n      <th>efficiency_dso</th>\n      <th>efficiency_dpo</th>\n      <th>profitability_at</th>\n      <th>profitability_fat</th>\n      <th>profitability_ct</th>\n      <th>profitability_gp</th>\n      <th>profitability_opta</th>\n      <th>profitability_opte</th>\n      <th>profitability_gpm</th>\n      <th>profitability_ebitdam</th>\n      <th>profitability_ebitm</th>\n      <th>profitability_ptm</th>\n      <th>profitability_npm</th>\n      <th>profitability_roa</th>\n      <th>profitability_roe</th>\n      <th>profitability_roic</th>\n      <th>investment_agr</th>\n      <th>investment_cdi</th>\n      <th>investment_chnoa</th>\n      <th>investment_chppeia</th>\n      <th>investment_griltnoa</th>\n      <th>investment_inv</th>\n      <th>investment_ndf</th>\n      <th>investment_nef</th>\n      <th>investment_noa</th>\n      <th>investment_noach</th>\n      <th>investment_txfin</th>\n      <th>leverage_de</th>\n      <th>leverage_da</th>\n      <th>leverage_fl</th>\n      <th>leverage_deda</th>\n      <th>leverage_ndeda</th>\n      <th>leverage_eic</th>\n      <th>leverage_edaic</th>\n      <th>leverage_cac</th>\n      <th>leverage_dcap</th>\n      <th>leverage_cad</th>\n      <th>liquid_cur</th>\n      <th>liquid_qur</th>\n      <th>liquid_car</th>\n      <th>liquid_opr</th>\n      <th>liquid_capxr</th>\n      <th>other_ir</th>\n      <th>other_nopat_g</th>\n      <th>other_rev_cagr_3</th>\n      <th>other_ebitda_cagr_3</th>\n    </tr>\n  </thead>\n  <tbody>\n    <tr>\n      <th>0</th>\n      <td>100022</td>\n      <td>1999-12-31</td>\n      <td>DEU</td>\n      <td>INDL</td>\n      <td>MOTOR VEHICLES AND PASSENGER CAR BODIES</td>\n      <td>28736.0</td>\n      <td>37507.0</td>\n      <td>3679.0</td>\n      <td>2125.0</td>\n      <td>3883.0</td>\n      <td>2055.0</td>\n      <td>2939.0</td>\n      <td>2055.0</td>\n      <td>26715.0</td>\n      <td>7379.0</td>\n      <td>0</td>\n      <td>0</td>\n      <td>8083.0</td>\n      <td>2042.0</td>\n      <td>234.0</td>\n      <td>0.0</td>\n      <td>0.0</td>\n      <td>0.0</td>\n      <td>931.0</td>\n      <td>2973.0</td>\n      <td>2301.0</td>\n      <td>0.0</td>\n      <td>12015.0</td>\n      <td>75.0</td>\n      <td>3621.0</td>\n      <td>185.0</td>\n      <td>710.0</td>\n      <td>-7594.0</td>\n      <td>884.0</td>\n      <td>13211.0</td>\n      <td>33575.0</td>\n      <td>0.0</td>\n      <td>0.0</td>\n      <td>5300.0</td>\n      <td>1111.0</td>\n      <td>23489.0</td>\n      <td>7801.0</td>\n      <td>49.0</td>\n      <td>0.0</td>\n      <td>13206.0</td>\n      <td>34402.0</td>\n      <td>3932.0</td>\n      <td>19.0</td>\n      <td>0.0</td>\n      <td>297.0</td>\n      <td>1483.0</td>\n      <td>0.0</td>\n      <td>4700.0</td>\n      <td>NaN</td>\n      <td>NaN</td>\n      <td>NaN</td>\n      <td>NaN</td>\n      <td>NaN</td>\n      <td>NaN</td>\n      <td>NaN</td>\n      <td>NaN</td>\n      <td>NaN</td>\n      <td>NaN</td>\n      <td>NaN</td>\n      <td>NaN</td>\n      <td>NaN</td>\n      <td>NaN</td>\n      <td>NaN</td>\n      <td>-inf</td>\n      <td>-inf</td>\n      <td>NaN</td>\n      <td>7.377796</td>\n      <td>2.605028</td>\n      <td>7.261484</td>\n      <td>49.472768</td>\n      <td>140.113656</td>\n      <td>50.265207</td>\n      <td>NaN</td>\n      <td>4.409947</td>\n      <td>NaN</td>\n      <td>NaN</td>\n      <td>0.079638</td>\n      <td>0.769251</td>\n      <td>0.223446</td>\n      <td>0.086419</td>\n      <td>0.027062</td>\n      <td>0.032295</td>\n      <td>0.000000</td>\n      <td>0.000000</td>\n      <td>0.000000</td>\n      <td>0.000000</td>\n      <td>NaN</td>\n      <td>NaN</td>\n      <td>NaN</td>\n      <td>NaN</td>\n      <td>NaN</td>\n      <td>NaN</td>\n      <td>NaN</td>\n      <td>NaN</td>\n      <td>NaN</td>\n      <td>NaN</td>\n      <td>-0.005732</td>\n      <td>3.981973</td>\n      <td>0.412243</td>\n      <td>9.659284</td>\n      <td>5.200807</td>\n      <td>4.509586</td>\n      <td>0.627782</td>\n      <td>2.004720</td>\n      <td>1.385705</td>\n      <td>1.000000</td>\n      <td>0.342776</td>\n      <td>2.175157</td>\n      <td>1.901067</td>\n      <td>0.155552</td>\n      <td>0.401181</td>\n      <td>0.400943</td>\n      <td>NaN</td>\n      <td>NaN</td>\n      <td>NaN</td>\n      <td>NaN</td>\n    </tr>\n    <tr>\n      <th>1</th>\n      <td>100022</td>\n      <td>2000-12-31</td>\n      <td>DEU</td>\n      <td>INDL</td>\n      <td>MOTOR VEHICLES AND PASSENGER CAR BODIES</td>\n      <td>29112.0</td>\n      <td>35875.0</td>\n      <td>3998.0</td>\n      <td>2313.0</td>\n      <td>4846.0</td>\n      <td>2879.0</td>\n      <td>3630.0</td>\n      <td>2879.0</td>\n      <td>26837.0</td>\n      <td>6803.0</td>\n      <td>0</td>\n      <td>0</td>\n      <td>7485.0</td>\n      <td>2137.0</td>\n      <td>269.0</td>\n      <td>286.0</td>\n      <td>309.0</td>\n      <td>0.0</td>\n      <td>1578.0</td>\n      <td>3715.0</td>\n      <td>-942.0</td>\n      <td>0.0</td>\n      <td>12381.0</td>\n      <td>103.0</td>\n      <td>2809.0</td>\n      <td>192.0</td>\n      <td>758.0</td>\n      <td>-3045.0</td>\n      <td>751.0</td>\n      <td>14017.0</td>\n      <td>30979.0</td>\n      <td>0.0</td>\n      <td>0.0</td>\n      <td>4778.0</td>\n      <td>1663.0</td>\n      <td>19477.0</td>\n      <td>5710.0</td>\n      <td>50.0</td>\n      <td>0.0</td>\n      <td>12392.0</td>\n      <td>35356.0</td>\n      <td>4896.0</td>\n      <td>22.0</td>\n      <td>0.0</td>\n      <td>373.0</td>\n      <td>1861.0</td>\n      <td>0.0</td>\n      <td>4714.0</td>\n      <td>-0.106048</td>\n      <td>-0.008398</td>\n      <td>0.036846</td>\n      <td>-0.045245</td>\n      <td>0.021036</td>\n      <td>-0.053723</td>\n      <td>-0.074759</td>\n      <td>-12828.628949</td>\n      <td>0.001280</td>\n      <td>0.025675</td>\n      <td>-0.031274</td>\n      <td>-0.022131</td>\n      <td>-0.021649</td>\n      <td>-0.224247</td>\n      <td>-0.045245</td>\n      <td>-inf</td>\n      <td>-inf</td>\n      <td>0.004799</td>\n      <td>9.553934</td>\n      <td>2.853131</td>\n      <td>6.712606</td>\n      <td>38.204158</td>\n      <td>127.929630</td>\n      <td>54.375303</td>\n      <td>0.552282</td>\n      <td>6.191944</td>\n      <td>0.942651</td>\n      <td>0.227131</td>\n      <td>0.106063</td>\n      <td>0.785184</td>\n      <td>0.240949</td>\n      <td>0.105074</td>\n      <td>0.044632</td>\n      <td>0.047036</td>\n      <td>0.000000</td>\n      <td>0.000000</td>\n      <td>0.000000</td>\n      <td>0.000000</td>\n      <td>0.956488</td>\n      <td>NaN</td>\n      <td>NaN</td>\n      <td>-0.128616</td>\n      <td>NaN</td>\n      <td>NaN</td>\n      <td>0.000000</td>\n      <td>-0.006732</td>\n      <td>0.414696</td>\n      <td>0.021993</td>\n      <td>-0.006885</td>\n      <td>2.948411</td>\n      <td>0.398272</td>\n      <td>7.403013</td>\n      <td>3.846030</td>\n      <td>3.071063</td>\n      <td>0.847931</td>\n      <td>1.996239</td>\n      <td>1.547018</td>\n      <td>1.000000</td>\n      <td>0.334406</td>\n      <td>2.076907</td>\n      <td>1.876507</td>\n      <td>0.205393</td>\n      <td>0.340872</td>\n      <td>0.484094</td>\n      <td>inf</td>\n      <td>0.029561</td>\n      <td>NaN</td>\n      <td>NaN</td>\n    </tr>\n    <tr>\n      <th>2</th>\n      <td>100022</td>\n      <td>2001-12-31</td>\n      <td>DEU</td>\n      <td>INDL</td>\n      <td>MOTOR VEHICLES AND PASSENGER CAR BODIES</td>\n      <td>32791.0</td>\n      <td>51259.0</td>\n      <td>2990.0</td>\n      <td>8047.0</td>\n      <td>10719.0</td>\n      <td>2437.0</td>\n      <td>3344.0</td>\n      <td>2437.0</td>\n      <td>25892.0</td>\n      <td>11720.0</td>\n      <td>0</td>\n      <td>0</td>\n      <td>13945.0</td>\n      <td>2835.0</td>\n      <td>310.0</td>\n      <td>0.0</td>\n      <td>0.0</td>\n      <td>0.0</td>\n      <td>3356.0</td>\n      <td>6191.0</td>\n      <td>-258.0</td>\n      <td>0.0</td>\n      <td>24715.0</td>\n      <td>143.0</td>\n      <td>4501.0</td>\n      <td>134.0</td>\n      <td>652.0</td>\n      <td>-6079.0</td>\n      <td>907.0</td>\n      <td>18286.0</td>\n      <td>40489.0</td>\n      <td>0.0</td>\n      <td>1728.0</td>\n      <td>5892.0</td>\n      <td>3242.0</td>\n      <td>30423.0</td>\n      <td>15263.0</td>\n      <td>51.0</td>\n      <td>0.0</td>\n      <td>23741.0</td>\n      <td>38463.0</td>\n      <td>10770.0</td>\n      <td>24.0</td>\n      <td>0.0</td>\n      <td>194.0</td>\n      <td>781.0</td>\n      <td>1663.0</td>\n      <td>4647.0</td>\n      <td>0.040283</td>\n      <td>0.110523</td>\n      <td>-0.018063</td>\n      <td>0.128585</td>\n      <td>0.361868</td>\n      <td>0.327889</td>\n      <td>-0.033979</td>\n      <td>-24156.642397</td>\n      <td>-0.002955</td>\n      <td>0.163707</td>\n      <td>0.317157</td>\n      <td>0.038837</td>\n      <td>0.047164</td>\n      <td>0.602350</td>\n      <td>0.128585</td>\n      <td>-2.409722</td>\n      <td>1.092014</td>\n      <td>0.174690</td>\n      <td>5.752499</td>\n      <td>1.620109</td>\n      <td>8.659532</td>\n      <td>63.450680</td>\n      <td>225.293529</td>\n      <td>42.150085</td>\n      <td>0.395344</td>\n      <td>2.520016</td>\n      <td>1.072139</td>\n      <td>0.350411</td>\n      <td>0.187031</td>\n      <td>0.894393</td>\n      <td>0.326834</td>\n      <td>0.160960</td>\n      <td>0.087253</td>\n      <td>0.084289</td>\n      <td>0.044926</td>\n      <td>0.033711</td>\n      <td>0.161209</td>\n      <td>0.069697</td>\n      <td>1.428822</td>\n      <td>NaN</td>\n      <td>1.415195e-05</td>\n      <td>0.352279</td>\n      <td>0.467419</td>\n      <td>NaN</td>\n      <td>0.000000</td>\n      <td>-0.006565</td>\n      <td>0.922397</td>\n      <td>0.253263</td>\n      <td>-0.005580</td>\n      <td>2.394346</td>\n      <td>0.500693</td>\n      <td>4.782069</td>\n      <td>4.145534</td>\n      <td>3.751898</td>\n      <td>4.297055</td>\n      <td>7.927017</td>\n      <td>3.120359</td>\n      <td>1.000000</td>\n      <td>0.229573</td>\n      <td>1.793230</td>\n      <td>1.547085</td>\n      <td>0.133271</td>\n      <td>0.322214</td>\n      <td>1.365750</td>\n      <td>6.895270</td>\n      <td>0.499049</td>\n      <td>NaN</td>\n      <td>NaN</td>\n    </tr>\n    <tr>\n      <th>3</th>\n      <td>100022</td>\n      <td>2002-12-31</td>\n      <td>DEU</td>\n      <td>INDL</td>\n      <td>MOTOR VEHICLES AND PASSENGER CAR BODIES</td>\n      <td>36682.0</td>\n      <td>55511.0</td>\n      <td>3026.0</td>\n      <td>3951.0</td>\n      <td>13820.0</td>\n      <td>2333.0</td>\n      <td>3438.0</td>\n      <td>2333.0</td>\n      <td>29393.0</td>\n      <td>13506.0</td>\n      <td>0</td>\n      <td>0</td>\n      <td>12756.0</td>\n      <td>2149.0</td>\n      <td>350.0</td>\n      <td>0.0</td>\n      <td>0.0</td>\n      <td>0.0</td>\n      <td>3357.0</td>\n      <td>5506.0</td>\n      <td>2460.0</td>\n      <td>0.0</td>\n      <td>26627.0</td>\n      <td>143.0</td>\n      <td>5197.0</td>\n      <td>42.0</td>\n      <td>456.0</td>\n      <td>-9715.0</td>\n      <td>1105.0</td>\n      <td>18821.0</td>\n      <td>41640.0</td>\n      <td>0.0</td>\n      <td>1867.0</td>\n      <td>7250.0</td>\n      <td>3297.0</td>\n      <td>31186.0</td>\n      <td>15590.0</td>\n      <td>51.0</td>\n      <td>0.0</td>\n      <td>27367.0</td>\n      <td>42282.0</td>\n      <td>13871.0</td>\n      <td>18.0</td>\n      <td>0.0</td>\n      <td>279.0</td>\n      <td>617.0</td>\n      <td>2011.0</td>\n      <td>4903.0</td>\n      <td>0.059605</td>\n      <td>0.074075</td>\n      <td>-0.024405</td>\n      <td>0.098480</td>\n      <td>-0.026376</td>\n      <td>0.008837</td>\n      <td>0.035213</td>\n      <td>-24751.528727</td>\n      <td>-0.003824</td>\n      <td>0.060497</td>\n      <td>0.011647</td>\n      <td>0.013037</td>\n      <td>0.013578</td>\n      <td>0.154632</td>\n      <td>0.098480</td>\n      <td>-2.883235</td>\n      <td>0.824853</td>\n      <td>0.060497</td>\n      <td>5.655763</td>\n      <td>1.544999</td>\n      <td>9.713483</td>\n      <td>64.535944</td>\n      <td>236.246039</td>\n      <td>37.576634</td>\n      <td>0.302940</td>\n      <td>2.712123</td>\n      <td>0.824870</td>\n      <td>0.251449</td>\n      <td>0.180090</td>\n      <td>0.723372</td>\n      <td>0.304834</td>\n      <td>0.130221</td>\n      <td>0.079395</td>\n      <td>0.077976</td>\n      <td>0.044156</td>\n      <td>0.033633</td>\n      <td>0.135094</td>\n      <td>0.072385</td>\n      <td>1.082951</td>\n      <td>NaN</td>\n      <td>-4.029008e-06</td>\n      <td>0.028463</td>\n      <td>-0.266128</td>\n      <td>0.833320</td>\n      <td>0.000000</td>\n      <td>-0.006219</td>\n      <td>0.715874</td>\n      <td>-0.024356</td>\n      <td>-0.005981</td>\n      <td>1.900289</td>\n      <td>0.473095</td>\n      <td>4.016715</td>\n      <td>4.769706</td>\n      <td>4.345986</td>\n      <td>5.440843</td>\n      <td>8.923825</td>\n      <td>3.781199</td>\n      <td>1.000000</td>\n      <td>0.276064</td>\n      <td>1.948993</td>\n      <td>1.672865</td>\n      <td>0.123957</td>\n      <td>0.385208</td>\n      <td>0.544966</td>\n      <td>1.005799</td>\n      <td>0.071807</td>\n      <td>0.071167</td>\n      <td>0.228044</td>\n    </tr>\n    <tr>\n      <th>4</th>\n      <td>100022</td>\n      <td>2003-12-31</td>\n      <td>DEU</td>\n      <td>INDL</td>\n      <td>MOTOR VEHICLES AND PASSENGER CAR BODIES</td>\n      <td>41263.0</td>\n      <td>61475.0</td>\n      <td>3110.0</td>\n      <td>9900.0</td>\n      <td>16099.0</td>\n      <td>1659.0</td>\n      <td>3516.0</td>\n      <td>1659.0</td>\n      <td>29720.0</td>\n      <td>14019.0</td>\n      <td>0</td>\n      <td>0</td>\n      <td>13430.0</td>\n      <td>2370.0</td>\n      <td>351.0</td>\n      <td>0.0</td>\n      <td>0.0</td>\n      <td>0.0</td>\n      <td>3328.0</td>\n      <td>5698.0</td>\n      <td>2768.0</td>\n      <td>0.0</td>\n      <td>29580.0</td>\n      <td>189.0</td>\n      <td>5693.0</td>\n      <td>61.0</td>\n      <td>546.0</td>\n      <td>-11231.0</td>\n      <td>1857.0</td>\n      <td>23643.0</td>\n      <td>45325.0</td>\n      <td>0.0</td>\n      <td>1798.0</td>\n      <td>7871.0</td>\n      <td>3205.0</td>\n      <td>32969.0</td>\n      <td>16405.0</td>\n      <td>51.0</td>\n      <td>0.0</td>\n      <td>31391.0</td>\n      <td>41525.0</td>\n      <td>16150.0</td>\n      <td>17.0</td>\n      <td>0.0</td>\n      <td>354.0</td>\n      <td>810.0</td>\n      <td>2146.0</td>\n      <td>4446.0</td>\n      <td>-0.023063</td>\n      <td>0.081119</td>\n      <td>0.077624</td>\n      <td>0.003495</td>\n      <td>0.057196</td>\n      <td>0.024572</td>\n      <td>-0.032624</td>\n      <td>-25096.554106</td>\n      <td>0.001621</td>\n      <td>0.041055</td>\n      <td>0.021383</td>\n      <td>0.008480</td>\n      <td>0.008935</td>\n      <td>0.095440</td>\n      <td>0.003495</td>\n      <td>-3.377642</td>\n      <td>1.143493</td>\n      <td>0.054476</td>\n      <td>5.220446</td>\n      <td>1.322831</td>\n      <td>9.556270</td>\n      <td>69.917396</td>\n      <td>275.923299</td>\n      <td>38.194818</td>\n      <td>0.270423</td>\n      <td>2.531240</td>\n      <td>0.748050</td>\n      <td>0.212661</td>\n      <td>0.154616</td>\n      <td>0.590409</td>\n      <td>0.284287</td>\n      <td>0.137219</td>\n      <td>0.080144</td>\n      <td>0.077182</td>\n      <td>0.043299</td>\n      <td>0.029248</td>\n      <td>0.111684</td>\n      <td>0.068017</td>\n      <td>1.107438</td>\n      <td>NaN</td>\n      <td>1.116683e-07</td>\n      <td>0.041055</td>\n      <td>0.029261</td>\n      <td>1.943151</td>\n      <td>0.000000</td>\n      <td>-0.005710</td>\n      <td>0.722073</td>\n      <td>0.051647</td>\n      <td>-0.005433</td>\n      <td>1.705013</td>\n      <td>0.446507</td>\n      <td>3.818560</td>\n      <td>4.817304</td>\n      <td>4.526150</td>\n      <td>4.108642</td>\n      <td>7.034568</td>\n      <td>2.048148</td>\n      <td>1.000000</td>\n      <td>0.286750</td>\n      <td>1.745252</td>\n      <td>1.504462</td>\n      <td>0.070169</td>\n      <td>0.332910</td>\n      <td>1.257782</td>\n      <td>1.581679</td>\n      <td>0.099831</td>\n      <td>0.055072</td>\n      <td>0.153244</td>\n    </tr>\n    <tr>\n      <th>5</th>\n      <td>100022</td>\n      <td>2004-12-31</td>\n      <td>DEU</td>\n      <td>INDL</td>\n      <td>MOTOR VEHICLES AND PASSENGER CAR BODIES</td>\n      <td>44662.0</td>\n      <td>67415.0</td>\n      <td>3322.0</td>\n      <td>11570.0</td>\n      <td>17466.0</td>\n      <td>2128.0</td>\n      <td>3960.0</td>\n      <td>2128.0</td>\n      <td>31392.0</td>\n      <td>14962.0</td>\n      <td>0</td>\n      <td>0</td>\n      <td>15521.0</td>\n      <td>2672.0</td>\n      <td>392.0</td>\n      <td>0.0</td>\n      <td>0.0</td>\n      <td>0.0</td>\n      <td>3739.0</td>\n      <td>6411.0</td>\n      <td>3137.0</td>\n      <td>0.0</td>\n      <td>33038.0</td>\n      <td>263.0</td>\n      <td>6467.0</td>\n      <td>65.0</td>\n      <td>704.0</td>\n      <td>-11957.0</td>\n      <td>1832.0</td>\n      <td>25572.0</td>\n      <td>49898.0</td>\n      <td>0.0</td>\n      <td>2051.7</td>\n      <td>9311.0</td>\n      <td>3554.0</td>\n      <td>36011.0</td>\n      <td>18226.0</td>\n      <td>51.0</td>\n      <td>0.0</td>\n      <td>33396.0</td>\n      <td>44335.0</td>\n      <td>17517.0</td>\n      <td>0.0</td>\n      <td>0.0</td>\n      <td>390.0</td>\n      <td>782.0</td>\n      <td>2334.0</td>\n      <td>4653.0</td>\n      <td>-0.010738</td>\n      <td>0.048068</td>\n      <td>0.016039</td>\n      <td>0.032029</td>\n      <td>0.032273</td>\n      <td>0.041269</td>\n      <td>0.008996</td>\n      <td>-27997.591753</td>\n      <td>0.002570</td>\n      <td>0.022237</td>\n      <td>0.049353</td>\n      <td>0.012010</td>\n      <td>0.012590</td>\n      <td>0.135956</td>\n      <td>0.032029</td>\n      <td>-3.538188</td>\n      <td>0.569625</td>\n      <td>0.017113</td>\n      <td>4.854183</td>\n      <td>1.327554</td>\n      <td>9.449729</td>\n      <td>75.192884</td>\n      <td>274.941694</td>\n      <td>38.625446</td>\n      <td>0.263513</td>\n      <td>2.432514</td>\n      <td>0.721187</td>\n      <td>0.210541</td>\n      <td>0.157591</td>\n      <td>0.608267</td>\n      <td>0.291936</td>\n      <td>0.144604</td>\n      <td>0.084335</td>\n      <td>0.080162</td>\n      <td>0.046277</td>\n      <td>0.030434</td>\n      <td>0.117468</td>\n      <td>0.070810</td>\n      <td>1.096625</td>\n      <td>0.678784</td>\n      <td>-9.246566e-08</td>\n      <td>0.062074</td>\n      <td>0.005054</td>\n      <td>1.446957</td>\n      <td>0.000000</td>\n      <td>-0.006083</td>\n      <td>0.716389</td>\n      <td>0.029430</td>\n      <td>-0.005815</td>\n      <td>1.745277</td>\n      <td>0.452169</td>\n      <td>3.859785</td>\n      <td>4.754796</td>\n      <td>4.422867</td>\n      <td>4.781330</td>\n      <td>8.198210</td>\n      <td>2.721228</td>\n      <td>1.000000</td>\n      <td>0.305449</td>\n      <td>1.746520</td>\n      <td>1.493626</td>\n      <td>0.083216</td>\n      <td>0.364109</td>\n      <td>1.242616</td>\n      <td>1.602039</td>\n      <td>0.104667</td>\n      <td>0.048499</td>\n      <td>0.011708</td>\n    </tr>\n    <tr>\n      <th>6</th>\n      <td>100022</td>\n      <td>2005-12-31</td>\n      <td>DEU</td>\n      <td>INDL</td>\n      <td>MOTOR VEHICLES AND PASSENGER CAR BODIES</td>\n      <td>27010.0</td>\n      <td>74566.0</td>\n      <td>3389.0</td>\n      <td>13336.0</td>\n      <td>16922.0</td>\n      <td>1621.0</td>\n      <td>3695.0</td>\n      <td>1621.0</td>\n      <td>32967.0</td>\n      <td>17838.0</td>\n      <td>0</td>\n      <td>0</td>\n      <td>16830.0</td>\n      <td>2280.0</td>\n      <td>419.0</td>\n      <td>424.0</td>\n      <td>424.0</td>\n      <td>0.0</td>\n      <td>3677.0</td>\n      <td>5957.0</td>\n      <td>699.0</td>\n      <td>0.0</td>\n      <td>33803.0</td>\n      <td>447.0</td>\n      <td>6527.0</td>\n      <td>94.0</td>\n      <td>1178.0</td>\n      <td>-11963.0</td>\n      <td>2074.0</td>\n      <td>27929.0</td>\n      <td>57593.0</td>\n      <td>0.0</td>\n      <td>2066.7</td>\n      <td>10691.0</td>\n      <td>3287.0</td>\n      <td>42055.0</td>\n      <td>22462.0</td>\n      <td>51.0</td>\n      <td>0.0</td>\n      <td>15419.0</td>\n      <td>46656.0</td>\n      <td>16973.0</td>\n      <td>0.0</td>\n      <td>0.0</td>\n      <td>0.0</td>\n      <td>878.0</td>\n      <td>2464.0</td>\n      <td>4762.0</td>\n      <td>-0.271811</td>\n      <td>-0.257910</td>\n      <td>-0.007699</td>\n      <td>-0.250211</td>\n      <td>0.307721</td>\n      <td>0.367485</td>\n      <td>0.059764</td>\n      <td>-31466.584692</td>\n      <td>0.007031</td>\n      <td>-0.008069</td>\n      <td>0.062078</td>\n      <td>0.000845</td>\n      <td>0.000890</td>\n      <td>0.009278</td>\n      <td>-0.250211</td>\n      <td>-4.172981</td>\n      <td>1.074515</td>\n      <td>0.006052</td>\n      <td>5.050866</td>\n      <td>3.025877</td>\n      <td>9.727648</td>\n      <td>72.264841</td>\n      <td>120.626179</td>\n      <td>37.521916</td>\n      <td>0.253604</td>\n      <td>2.077108</td>\n      <td>0.692071</td>\n      <td>0.203056</td>\n      <td>0.152764</td>\n      <td>0.673147</td>\n      <td>0.293403</td>\n      <td>0.127679</td>\n      <td>0.078811</td>\n      <td>0.070452</td>\n      <td>0.044297</td>\n      <td>0.027716</td>\n      <td>0.122131</td>\n      <td>0.066687</td>\n      <td>1.106074</td>\n      <td>0.886397</td>\n      <td>-7.686822e-08</td>\n      <td>0.090544</td>\n      <td>0.266629</td>\n      <td>1.446488</td>\n      <td>0.000000</td>\n      <td>-0.005902</td>\n      <td>0.711207</td>\n      <td>0.278210</td>\n      <td>-0.005619</td>\n      <td>2.048694</td>\n      <td>0.464930</td>\n      <td>4.406453</td>\n      <td>5.819708</td>\n      <td>5.547591</td>\n      <td>4.187927</td>\n      <td>6.784738</td>\n      <td>1.846241</td>\n      <td>1.000000</td>\n      <td>0.308382</td>\n      <td>0.967095</td>\n      <td>0.733395</td>\n      <td>0.058040</td>\n      <td>0.382792</td>\n      <td>1.247404</td>\n      <td>0.330895</td>\n      <td>0.022631</td>\n      <td>0.033358</td>\n      <td>0.026590</td>\n    </tr>\n    <tr>\n      <th>7</th>\n      <td>100022</td>\n      <td>2006-12-31</td>\n      <td>DEU</td>\n      <td>INDL</td>\n      <td>MOTOR VEHICLES AND PASSENGER CAR BODIES</td>\n      <td>29737.0</td>\n      <td>79057.0</td>\n      <td>3624.0</td>\n      <td>15067.0</td>\n      <td>19075.0</td>\n      <td>1336.0</td>\n      <td>3370.0</td>\n      <td>1336.0</td>\n      <td>34388.0</td>\n      <td>17500.0</td>\n      <td>0</td>\n      <td>0</td>\n      <td>18106.0</td>\n      <td>2385.0</td>\n      <td>419.0</td>\n      <td>458.0</td>\n      <td>458.0</td>\n      <td>0.0</td>\n      <td>3937.0</td>\n      <td>6322.0</td>\n      <td>3323.0</td>\n      <td>0.0</td>\n      <td>37236.0</td>\n      <td>502.0</td>\n      <td>6794.0</td>\n      <td>60.0</td>\n      <td>401.0</td>\n      <td>-13670.0</td>\n      <td>2034.0</td>\n      <td>28442.0</td>\n      <td>59927.0</td>\n      <td>4.0</td>\n      <td>2641.0</td>\n      <td>9980.0</td>\n      <td>4124.0</td>\n      <td>45593.0</td>\n      <td>24927.0</td>\n      <td>51.0</td>\n      <td>0.0</td>\n      <td>17201.0</td>\n      <td>48999.0</td>\n      <td>19126.0</td>\n      <td>0.0</td>\n      <td>0.0</td>\n      <td>567.0</td>\n      <td>855.0</td>\n      <td>2544.0</td>\n      <td>4972.0</td>\n      <td>0.004465</td>\n      <td>0.040930</td>\n      <td>0.011413</td>\n      <td>0.029517</td>\n      <td>0.016804</td>\n      <td>0.024113</td>\n      <td>0.007309</td>\n      <td>-33221.577998</td>\n      <td>-0.010420</td>\n      <td>0.028874</td>\n      <td>0.012579</td>\n      <td>0.003476</td>\n      <td>0.003581</td>\n      <td>0.040907</td>\n      <td>0.029517</td>\n      <td>-2.778872</td>\n      <td>0.980310</td>\n      <td>0.022785</td>\n      <td>5.061525</td>\n      <td>2.848613</td>\n      <td>9.488962</td>\n      <td>72.112656</td>\n      <td>128.132513</td>\n      <td>38.465744</td>\n      <td>0.246692</td>\n      <td>1.965700</td>\n      <td>0.657123</td>\n      <td>0.195947</td>\n      <td>0.154104</td>\n      <td>0.638689</td>\n      <td>0.298190</td>\n      <td>0.129023</td>\n      <td>0.080349</td>\n      <td>0.084165</td>\n      <td>0.053899</td>\n      <td>0.033406</td>\n      <td>0.138453</td>\n      <td>0.070810</td>\n      <td>1.060229</td>\n      <td>0.327386</td>\n      <td>-2.996066e-07</td>\n      <td>0.051029</td>\n      <td>-0.026806</td>\n      <td>1.174822</td>\n      <td>0.000000</td>\n      <td>-0.005455</td>\n      <td>0.688866</td>\n      <td>0.015849</td>\n      <td>-0.005300</td>\n      <td>1.866632</td>\n      <td>0.450384</td>\n      <td>4.144535</td>\n      <td>5.632078</td>\n      <td>5.420753</td>\n      <td>4.604678</td>\n      <td>7.394152</td>\n      <td>1.562573</td>\n      <td>1.000000</td>\n      <td>0.280290</td>\n      <td>1.045531</td>\n      <td>0.806659</td>\n      <td>0.046973</td>\n      <td>0.350890</td>\n      <td>1.509719</td>\n      <td>1.361629</td>\n      <td>0.092196</td>\n      <td>0.056718</td>\n      <td>0.035247</td>\n    </tr>\n    <tr>\n      <th>8</th>\n      <td>100022</td>\n      <td>2007-12-31</td>\n      <td>DEU</td>\n      <td>INDL</td>\n      <td>MOTOR VEHICLES AND PASSENGER CAR BODIES</td>\n      <td>32378.0</td>\n      <td>88997.0</td>\n      <td>3551.0</td>\n      <td>17528.0</td>\n      <td>21733.0</td>\n      <td>2393.0</td>\n      <td>6015.0</td>\n      <td>2393.0</td>\n      <td>24387.0</td>\n      <td>22493.0</td>\n      <td>0</td>\n      <td>0</td>\n      <td>21428.0</td>\n      <td>8364.0</td>\n      <td>458.0</td>\n      <td>694.0</td>\n      <td>694.0</td>\n      <td>1526.0</td>\n      <td>6112.0</td>\n      <td>14476.0</td>\n      <td>6557.0</td>\n      <td>0.0</td>\n      <td>43172.0</td>\n      <td>636.0</td>\n      <td>7349.0</td>\n      <td>248.0</td>\n      <td>1197.0</td>\n      <td>-17248.0</td>\n      <td>3622.0</td>\n      <td>33784.0</td>\n      <td>67253.0</td>\n      <td>11.0</td>\n      <td>3126.0</td>\n      <td>11794.0</td>\n      <td>3873.0</td>\n      <td>49895.0</td>\n      <td>27103.0</td>\n      <td>0.0</td>\n      <td>0.0</td>\n      <td>16893.0</td>\n      <td>56018.0</td>\n      <td>21733.0</td>\n      <td>0.0</td>\n      <td>0.0</td>\n      <td>808.0</td>\n      <td>2270.0</td>\n      <td>2920.0</td>\n      <td>5254.0</td>\n      <td>-0.081974</td>\n      <td>-0.000051</td>\n      <td>0.004415</td>\n      <td>-0.004465</td>\n      <td>0.106872</td>\n      <td>0.089948</td>\n      <td>-0.016924</td>\n      <td>-39101.579772</td>\n      <td>0.010069</td>\n      <td>0.033621</td>\n      <td>0.104532</td>\n      <td>0.006605</td>\n      <td>0.007020</td>\n      <td>0.081690</td>\n      <td>-0.004465</td>\n      <td>-2.772873</td>\n      <td>0.500640</td>\n      <td>0.028030</td>\n      <td>3.318411</td>\n      <td>3.316048</td>\n      <td>6.867643</td>\n      <td>109.992414</td>\n      <td>110.070781</td>\n      <td>53.147784</td>\n      <td>0.252297</td>\n      <td>2.066856</td>\n      <td>0.708577</td>\n      <td>0.400104</td>\n      <td>0.329191</td>\n      <td>1.348042</td>\n      <td>0.564658</td>\n      <td>0.258417</td>\n      <td>0.109108</td>\n      <td>0.069138</td>\n      <td>0.055803</td>\n      <td>0.035125</td>\n      <td>0.143837</td>\n      <td>0.112319</td>\n      <td>1.125732</td>\n      <td>0.514270</td>\n      <td>8.304470e-07</td>\n      <td>0.061437</td>\n      <td>0.147626</td>\n      <td>1.098792</td>\n      <td>0.018161</td>\n      <td>-0.005451</td>\n      <td>0.754519</td>\n      <td>0.094936</td>\n      <td>-0.005146</td>\n      <td>2.020936</td>\n      <td>0.493511</td>\n      <td>4.095017</td>\n      <td>3.034056</td>\n      <td>2.868748</td>\n      <td>2.692511</td>\n      <td>6.377093</td>\n      <td>1.054185</td>\n      <td>1.000000</td>\n      <td>0.268528</td>\n      <td>0.958383</td>\n      <td>0.740854</td>\n      <td>0.070832</td>\n      <td>0.349100</td>\n      <td>1.486179</td>\n      <td>1.203287</td>\n      <td>0.137497</td>\n      <td>0.081086</td>\n      <td>0.311921</td>\n    </tr>\n    <tr>\n      <th>9</th>\n      <td>100022</td>\n      <td>2008-12-31</td>\n      <td>DEU</td>\n      <td>INDL</td>\n      <td>MOTOR VEHICLES AND PASSENGER CAR BODIES</td>\n      <td>38670.0</td>\n      <td>101086.0</td>\n      <td>2562.0</td>\n      <td>19368.0</td>\n      <td>20265.0</td>\n      <td>7454.0</td>\n      <td>10760.0</td>\n      <td>7454.0</td>\n      <td>27984.0</td>\n      <td>29887.0</td>\n      <td>0</td>\n      <td>0</td>\n      <td>30497.0</td>\n      <td>2482.0</td>\n      <td>694.0</td>\n      <td>197.0</td>\n      <td>197.0</td>\n      <td>-9.0</td>\n      <td>3726.0</td>\n      <td>6208.0</td>\n      <td>12904.0</td>\n      <td>0.0</td>\n      <td>50770.0</td>\n      <td>568.0</td>\n      <td>7290.0</td>\n      <td>407.0</td>\n      <td>1834.0</td>\n      <td>-18652.0</td>\n      <td>3306.0</td>\n      <td>39287.0</td>\n      <td>80813.0</td>\n      <td>8.0</td>\n      <td>324.0</td>\n      <td>10872.0</td>\n      <td>351.0</td>\n      <td>56017.0</td>\n      <td>29696.0</td>\n      <td>0.0</td>\n      <td>0.0</td>\n      <td>18739.0</td>\n      <td>53197.0</td>\n      <td>20265.0</td>\n      <td>0.0</td>\n      <td>0.0</td>\n      <td>633.0</td>\n      <td>2827.0</td>\n      <td>2825.0</td>\n      <td>4914.0</td>\n      <td>0.004893</td>\n      <td>0.017383</td>\n      <td>-0.021248</td>\n      <td>0.038631</td>\n      <td>0.074722</td>\n      <td>0.063350</td>\n      <td>-0.011371</td>\n      <td>-55243.560637</td>\n      <td>0.007158</td>\n      <td>-0.016495</td>\n      <td>0.184984</td>\n      <td>-0.000621</td>\n      <td>-0.000663</td>\n      <td>-0.008028</td>\n      <td>0.038631</td>\n      <td>-32.555556</td>\n      <td>-16.956790</td>\n      <td>-0.068025</td>\n      <td>3.838683</td>\n      <td>2.838839</td>\n      <td>10.922717</td>\n      <td>95.084691</td>\n      <td>128.573698</td>\n      <td>33.416595</td>\n      <td>0.205319</td>\n      <td>1.791386</td>\n      <td>0.597739</td>\n      <td>0.283302</td>\n      <td>0.228756</td>\n      <td>1.141081</td>\n      <td>0.473955</td>\n      <td>0.116698</td>\n      <td>0.070042</td>\n      <td>0.006598</td>\n      <td>0.006091</td>\n      <td>0.003205</td>\n      <td>0.015988</td>\n      <td>0.056959</td>\n      <td>1.135836</td>\n      <td>0.788394</td>\n      <td>3.468334e-07</td>\n      <td>0.068126</td>\n      <td>0.025975</td>\n      <td>1.205256</td>\n      <td>-0.000095</td>\n      <td>-0.007302</td>\n      <td>0.785386</td>\n      <td>0.065786</td>\n      <td>-0.006865</td>\n      <td>2.979719</td>\n      <td>0.597353</td>\n      <td>4.988206</td>\n      <td>9.726804</td>\n      <td>8.526095</td>\n      <td>1.318005</td>\n      <td>2.195967</td>\n      <td>2.636717</td>\n      <td>1.000000</td>\n      <td>0.180048</td>\n      <td>0.984295</td>\n      <td>0.798737</td>\n      <td>0.189732</td>\n      <td>0.276733</td>\n      <td>1.781457</td>\n      <td>2.209116</td>\n      <td>0.149655</td>\n      <td>0.044704</td>\n      <td>0.013852</td>\n    </tr>\n    <tr>\n      <th>10</th>\n      <td>100022</td>\n      <td>2009-12-31</td>\n      <td>DEU</td>\n      <td>INDL</td>\n      <td>MOTOR VEHICLES AND PASSENGER CAR BODIES</td>\n      <td>39944.0</td>\n      <td>101953.0</td>\n      <td>3122.0</td>\n      <td>13904.0</td>\n      <td>19902.0</td>\n      <td>7767.0</td>\n      <td>10982.0</td>\n      <td>7767.0</td>\n      <td>28701.0</td>\n      <td>26453.0</td>\n      <td>0</td>\n      <td>0</td>\n      <td>33847.0</td>\n      <td>2374.0</td>\n      <td>197.0</td>\n      <td>197.0</td>\n      <td>197.0</td>\n      <td>-255.0</td>\n      <td>3127.0</td>\n      <td>5501.0</td>\n      <td>1352.0</td>\n      <td>0.0</td>\n      <td>53762.0</td>\n      <td>5379.0</td>\n      <td>6555.0</td>\n      <td>362.0</td>\n      <td>1526.0</td>\n      <td>-11328.0</td>\n      <td>3215.0</td>\n      <td>36919.0</td>\n      <td>82038.0</td>\n      <td>13.0</td>\n      <td>204.0</td>\n      <td>10271.0</td>\n      <td>413.0</td>\n      <td>35802.0</td>\n      <td>29358.0</td>\n      <td>0.0</td>\n      <td>0.0</td>\n      <td>19895.0</td>\n      <td>50681.0</td>\n      <td>19902.0</td>\n      <td>13.0</td>\n      <td>0.0</td>\n      <td>836.0</td>\n      <td>3243.0</td>\n      <td>2587.0</td>\n      <td>5022.0</td>\n      <td>-0.022419</td>\n      <td>0.010407</td>\n      <td>0.010545</td>\n      <td>-0.000138</td>\n      <td>-0.005985</td>\n      <td>-0.003581</td>\n      <td>0.002404</td>\n      <td>-55558.453495</td>\n      <td>-0.003047</td>\n      <td>-0.003591</td>\n      <td>-0.000831</td>\n      <td>-0.007240</td>\n      <td>-0.007271</td>\n      <td>-0.100823</td>\n      <td>-0.000138</td>\n      <td>-49.348039</td>\n      <td>-1.348039</td>\n      <td>-0.009240</td>\n      <td>4.378490</td>\n      <td>2.547424</td>\n      <td>9.193145</td>\n      <td>83.362078</td>\n      <td>143.281999</td>\n      <td>39.703495</td>\n      <td>0.182135</td>\n      <td>1.726310</td>\n      <td>0.501365</td>\n      <td>0.217439</td>\n      <td>0.191706</td>\n      <td>0.982062</td>\n      <td>0.433693</td>\n      <td>0.108542</td>\n      <td>0.061700</td>\n      <td>0.008149</td>\n      <td>0.004025</td>\n      <td>0.002001</td>\n      <td>0.010250</td>\n      <td>0.025615</td>\n      <td>1.008577</td>\n      <td>0.682163</td>\n      <td>-9.941431e-07</td>\n      <td>-0.207249</td>\n      <td>-0.078075</td>\n      <td>0.836008</td>\n      <td>-0.002512</td>\n      <td>-0.001812</td>\n      <td>0.684892</td>\n      <td>-0.005934</td>\n      <td>-0.001805</td>\n      <td>3.029846</td>\n      <td>0.591449</td>\n      <td>5.122751</td>\n      <td>10.961643</td>\n      <td>9.549718</td>\n      <td>0.964231</td>\n      <td>1.696269</td>\n      <td>2.395005</td>\n      <td>1.000000</td>\n      <td>0.170332</td>\n      <td>1.081936</td>\n      <td>0.904385</td>\n      <td>0.210379</td>\n      <td>0.278204</td>\n      <td>1.353714</td>\n      <td>1.937107</td>\n      <td>0.055653</td>\n      <td>0.011314</td>\n      <td>-0.045310</td>\n    </tr>\n    <tr>\n      <th>11</th>\n      <td>100022</td>\n      <td>2010-12-31</td>\n      <td>DEU</td>\n      <td>INDL</td>\n      <td>MOTOR VEHICLES AND PASSENGER CAR BODIES</td>\n      <td>43151.0</td>\n      <td>108867.0</td>\n      <td>4351.0</td>\n      <td>15161.0</td>\n      <td>23074.0</td>\n      <td>7432.0</td>\n      <td>10694.0</td>\n      <td>7432.0</td>\n      <td>33025.0</td>\n      <td>25576.0</td>\n      <td>0</td>\n      <td>0</td>\n      <td>34767.0</td>\n      <td>2422.0</td>\n      <td>197.0</td>\n      <td>852.0</td>\n      <td>852.0</td>\n      <td>32.0</td>\n      <td>7325.0</td>\n      <td>9747.0</td>\n      <td>510.0</td>\n      <td>0.0</td>\n      <td>57867.0</td>\n      <td>5031.0</td>\n      <td>7766.0</td>\n      <td>381.0</td>\n      <td>1875.0</td>\n      <td>-14522.0</td>\n      <td>3262.0</td>\n      <td>40134.0</td>\n      <td>85767.0</td>\n      <td>0.0</td>\n      <td>3218.0</td>\n      <td>13651.0</td>\n      <td>4836.0</td>\n      <td>35384.0</td>\n      <td>29218.0</td>\n      <td>0.0</td>\n      <td>0.0</td>\n      <td>21703.0</td>\n      <td>60477.0</td>\n      <td>23074.0</td>\n      <td>18.0</td>\n      <td>23100.0</td>\n      <td>1198.0</td>\n      <td>2363.0</td>\n      <td>3082.0</td>\n      <td>5525.0</td>\n      <td>-0.024760</td>\n      <td>0.034281</td>\n      <td>0.040136</td>\n      <td>-0.005856</td>\n      <td>0.040156</td>\n      <td>0.036174</td>\n      <td>-0.003982</td>\n      <td>-55205.455053</td>\n      <td>0.003423</td>\n      <td>0.031112</td>\n      <td>0.000422</td>\n      <td>0.011488</td>\n      <td>0.011878</td>\n      <td>0.184744</td>\n      <td>-0.005856</td>\n      <td>-3.242076</td>\n      <td>1.056557</td>\n      <td>0.037762</td>\n      <td>4.252511</td>\n      <td>2.786573</td>\n      <td>7.590209</td>\n      <td>85.831643</td>\n      <td>130.985251</td>\n      <td>48.088266</td>\n      <td>0.213013</td>\n      <td>2.069854</td>\n      <td>0.593185</td>\n      <td>0.269261</td>\n      <td>0.229721</td>\n      <td>1.083861</td>\n      <td>0.453925</td>\n      <td>0.161169</td>\n      <td>0.121120</td>\n      <td>0.079964</td>\n      <td>0.053210</td>\n      <td>0.029559</td>\n      <td>0.139464</td>\n      <td>0.058414</td>\n      <td>1.067816</td>\n      <td>0.554228</td>\n      <td>2.786303e-07</td>\n      <td>0.007778</td>\n      <td>0.053168</td>\n      <td>0.790552</td>\n      <td>0.000304</td>\n      <td>-0.001698</td>\n      <td>0.713299</td>\n      <td>0.037606</td>\n      <td>-0.001644</td>\n      <td>2.615195</td>\n      <td>0.554282</td>\n      <td>4.718168</td>\n      <td>6.190931</td>\n      <td>5.428440</td>\n      <td>3.099873</td>\n      <td>4.124841</td>\n      <td>3.145154</td>\n      <td>0.723164</td>\n      <td>0.226223</td>\n      <td>1.075173</td>\n      <td>0.881671</td>\n      <td>0.185180</td>\n      <td>0.340136</td>\n      <td>1.110615</td>\n      <td>0.842182</td>\n      <td>0.070939</td>\n      <td>0.025859</td>\n      <td>-0.123522</td>\n    </tr>\n    <tr>\n      <th>12</th>\n      <td>100022</td>\n      <td>2011-12-31</td>\n      <td>DEU</td>\n      <td>INDL</td>\n      <td>MOTOR VEHICLES AND PASSENGER CAR BODIES</td>\n      <td>49004.0</td>\n      <td>123429.0</td>\n      <td>5340.0</td>\n      <td>3679.0</td>\n      <td>27038.0</td>\n      <td>7776.0</td>\n      <td>11527.0</td>\n      <td>7776.0</td>\n      <td>37771.0</td>\n      <td>29381.0</td>\n      <td>0</td>\n      <td>0</td>\n      <td>36117.0</td>\n      <td>2437.0</td>\n      <td>852.0</td>\n      <td>1508.0</td>\n      <td>1508.0</td>\n      <td>248.0</td>\n      <td>9911.0</td>\n      <td>12348.0</td>\n      <td>87.0</td>\n      <td>0.0</td>\n      <td>63220.0</td>\n      <td>5238.0</td>\n      <td>9638.0</td>\n      <td>434.0</td>\n      <td>2131.0</td>\n      <td>-5499.0</td>\n      <td>3751.0</td>\n      <td>47213.0</td>\n      <td>96326.0</td>\n      <td>0.0</td>\n      <td>4881.0</td>\n      <td>5713.0</td>\n      <td>7383.0</td>\n      <td>43641.0</td>\n      <td>34797.0</td>\n      <td>0.0</td>\n      <td>0.0</td>\n      <td>24416.0</td>\n      <td>68821.0</td>\n      <td>27038.0</td>\n      <td>16.0</td>\n      <td>27103.0</td>\n      <td>1363.0</td>\n      <td>2149.0</td>\n      <td>3610.0</td>\n      <td>5521.0</td>\n      <td>-0.000319</td>\n      <td>0.046111</td>\n      <td>0.030073</td>\n      <td>0.016038</td>\n      <td>0.059945</td>\n      <td>0.079510</td>\n      <td>0.019565</td>\n      <td>-59615.492904</td>\n      <td>0.002351</td>\n      <td>0.036411</td>\n      <td>0.047351</td>\n      <td>0.016117</td>\n      <td>0.017195</td>\n      <td>0.241051</td>\n      <td>0.016038</td>\n      <td>-0.170457</td>\n      <td>0.767056</td>\n      <td>0.035474</td>\n      <td>3.918967</td>\n      <td>2.818684</td>\n      <td>7.073221</td>\n      <td>93.136798</td>\n      <td>129.493033</td>\n      <td>51.603082</td>\n      <td>0.223834</td>\n      <td>1.977785</td>\n      <td>0.632157</td>\n      <td>0.285210</td>\n      <td>0.236079</td>\n      <td>1.077705</td>\n      <td>0.451170</td>\n      <td>0.179422</td>\n      <td>0.144011</td>\n      <td>0.107278</td>\n      <td>0.070923</td>\n      <td>0.039545</td>\n      <td>0.180524</td>\n      <td>0.070758</td>\n      <td>1.133760</td>\n      <td>0.609505</td>\n      <td>2.830106e-07</td>\n      <td>0.093040</td>\n      <td>0.031129</td>\n      <td>0.180373</td>\n      <td>0.002135</td>\n      <td>-0.007198</td>\n      <td>0.744110</td>\n      <td>0.052873</td>\n      <td>-0.006773</td>\n      <td>2.422442</td>\n      <td>0.530653</td>\n      <td>4.565020</td>\n      <td>5.304341</td>\n      <td>4.674603</td>\n      <td>4.611913</td>\n      <td>5.745928</td>\n      <td>3.618427</td>\n      <td>0.707314</td>\n      <td>0.087224</td>\n      <td>1.037934</td>\n      <td>0.833796</td>\n      <td>0.164700</td>\n      <td>0.121005</td>\n      <td>0.643970</td>\n      <td>0.816966</td>\n      <td>0.084673</td>\n      <td>0.089627</td>\n      <td>0.257617</td>\n    </tr>\n    <tr>\n      <th>13</th>\n      <td>100022</td>\n      <td>2012-12-31</td>\n      <td>DEU</td>\n      <td>INDL</td>\n      <td>MOTOR VEHICLES AND PASSENGER CAR BODIES</td>\n      <td>50514.0</td>\n      <td>131850.0</td>\n      <td>6433.0</td>\n      <td>5236.0</td>\n      <td>30295.0</td>\n      <td>8370.0</td>\n      <td>12982.0</td>\n      <td>8370.0</td>\n      <td>42956.0</td>\n      <td>29547.0</td>\n      <td>0</td>\n      <td>0</td>\n      <td>38170.0</td>\n      <td>2411.0</td>\n      <td>1516.0</td>\n      <td>1640.0</td>\n      <td>1640.0</td>\n      <td>-858.0</td>\n      <td>10028.0</td>\n      <td>12439.0</td>\n      <td>952.0</td>\n      <td>0.0</td>\n      <td>68572.0</td>\n      <td>5207.0</td>\n      <td>9725.0</td>\n      <td>661.0</td>\n      <td>2549.0</td>\n      <td>-5433.0</td>\n      <td>4612.0</td>\n      <td>48431.0</td>\n      <td>101448.0</td>\n      <td>0.0</td>\n      <td>5096.0</td>\n      <td>5076.0</td>\n      <td>7819.0</td>\n      <td>46636.0</td>\n      <td>37809.0</td>\n      <td>0.0</td>\n      <td>0.0</td>\n      <td>23982.0</td>\n      <td>76848.0</td>\n      <td>30295.0</td>\n      <td>19.0</td>\n      <td>30402.0</td>\n      <td>1482.0</td>\n      <td>2030.0</td>\n      <td>3993.0</td>\n      <td>6116.0</td>\n      <td>-0.019022</td>\n      <td>0.000446</td>\n      <td>0.008523</td>\n      <td>-0.008078</td>\n      <td>0.039156</td>\n      <td>0.054153</td>\n      <td>0.014996</td>\n      <td>-60555.517002</td>\n      <td>0.003387</td>\n      <td>0.026388</td>\n      <td>0.017978</td>\n      <td>0.000682</td>\n      <td>0.000705</td>\n      <td>0.009027</td>\n      <td>-0.008078</td>\n      <td>0.003925</td>\n      <td>0.589482</td>\n      <td>0.023463</td>\n      <td>4.417069</td>\n      <td>3.204403</td>\n      <td>6.677444</td>\n      <td>82.633974</td>\n      <td>113.905762</td>\n      <td>54.661631</td>\n      <td>0.231416</td>\n      <td>2.032532</td>\n      <td>0.622609</td>\n      <td>0.274587</td>\n      <td>0.240948</td>\n      <td>1.048655</td>\n      <td>0.441026</td>\n      <td>0.161865</td>\n      <td>0.130491</td>\n      <td>0.101746</td>\n      <td>0.066313</td>\n      <td>0.038650</td>\n      <td>0.168213</td>\n      <td>0.066610</td>\n      <td>1.068225</td>\n      <td>0.432945</td>\n      <td>-4.473156e-07</td>\n      <td>0.024970</td>\n      <td>-0.036189</td>\n      <td>0.353339</td>\n      <td>-0.006722</td>\n      <td>-0.011728</td>\n      <td>0.688898</td>\n      <td>0.036655</td>\n      <td>-0.011354</td>\n      <td>2.235253</td>\n      <td>0.513591</td>\n      <td>4.352203</td>\n      <td>5.443926</td>\n      <td>4.771043</td>\n      <td>4.939901</td>\n      <td>6.127586</td>\n      <td>4.123153</td>\n      <td>0.690152</td>\n      <td>0.074959</td>\n      <td>1.043010</td>\n      <td>0.842209</td>\n      <td>0.172823</td>\n      <td>0.104809</td>\n      <td>1.031521</td>\n      <td>0.818886</td>\n      <td>0.078049</td>\n      <td>0.148848</td>\n      <td>0.312546</td>\n    </tr>\n    <tr>\n      <th>14</th>\n      <td>100022</td>\n      <td>2013-12-31</td>\n      <td>DEU</td>\n      <td>INDL</td>\n      <td>MOTOR VEHICLES AND PASSENGER CAR BODIES</td>\n      <td>52174.0</td>\n      <td>138368.0</td>\n      <td>7475.0</td>\n      <td>6669.0</td>\n      <td>35455.0</td>\n      <td>7664.0</td>\n      <td>13223.0</td>\n      <td>7664.0</td>\n      <td>42152.0</td>\n      <td>30428.0</td>\n      <td>0</td>\n      <td>0</td>\n      <td>38773.0</td>\n      <td>2670.0</td>\n      <td>1653.0</td>\n      <td>1707.0</td>\n      <td>1707.0</td>\n      <td>1091.0</td>\n      <td>9340.2</td>\n      <td>12010.2</td>\n      <td>2703.0</td>\n      <td>0.0</td>\n      <td>74416.0</td>\n      <td>6179.0</td>\n      <td>9585.0</td>\n      <td>818.0</td>\n      <td>2980.0</td>\n      <td>-6981.0</td>\n      <td>5559.0</td>\n      <td>50043.0</td>\n      <td>102725.0</td>\n      <td>0.0</td>\n      <td>5314.0</td>\n      <td>3614.0</td>\n      <td>7913.0</td>\n      <td>47599.0</td>\n      <td>41027.0</td>\n      <td>0.0</td>\n      <td>0.0</td>\n      <td>25012.0</td>\n      <td>76058.0</td>\n      <td>35455.0</td>\n      <td>17.0</td>\n      <td>35643.0</td>\n      <td>1237.0</td>\n      <td>1805.0</td>\n      <td>4117.0</td>\n      <td>6429.0</td>\n      <td>-0.009474</td>\n      <td>0.010762</td>\n      <td>0.005544</td>\n      <td>0.005218</td>\n      <td>0.042768</td>\n      <td>0.035654</td>\n      <td>-0.007114</td>\n      <td>-60661.540721</td>\n      <td>0.003269</td>\n      <td>0.039135</td>\n      <td>0.011255</td>\n      <td>-0.001036</td>\n      <td>-0.001062</td>\n      <td>-0.014396</td>\n      <td>0.005218</td>\n      <td>0.319910</td>\n      <td>0.817087</td>\n      <td>0.047182</td>\n      <td>4.397705</td>\n      <td>3.040860</td>\n      <td>5.639064</td>\n      <td>82.997841</td>\n      <td>120.031818</td>\n      <td>64.727059</td>\n      <td>0.215507</td>\n      <td>1.853852</td>\n      <td>0.576852</td>\n      <td>0.257156</td>\n      <td>0.228333</td>\n      <td>0.891101</td>\n      <td>0.445791</td>\n      <td>0.157908</td>\n      <td>0.122804</td>\n      <td>0.104039</td>\n      <td>0.069868</td>\n      <td>0.038405</td>\n      <td>0.149880</td>\n      <td>0.059826</td>\n      <td>1.049435</td>\n      <td>0.136291</td>\n      <td>3.461659e-08</td>\n      <td>0.006242</td>\n      <td>0.014038</td>\n      <td>0.706585</td>\n      <td>0.008075</td>\n      <td>-0.012109</td>\n      <td>0.693462</td>\n      <td>0.040754</td>\n      <td>-0.011824</td>\n      <td>1.951798</td>\n      <td>0.500123</td>\n      <td>3.902637</td>\n      <td>5.761852</td>\n      <td>5.123728</td>\n      <td>5.174626</td>\n      <td>6.653850</td>\n      <td>4.245983</td>\n      <td>0.660038</td>\n      <td>0.052225</td>\n      <td>1.042583</td>\n      <td>0.851048</td>\n      <td>0.153148</td>\n      <td>0.072218</td>\n      <td>1.845324</td>\n      <td>0.931695</td>\n      <td>0.078531</td>\n      <td>0.079406</td>\n      <td>0.072078</td>\n    </tr>\n    <tr>\n      <th>15</th>\n      <td>100022</td>\n      <td>2014-12-31</td>\n      <td>DEU</td>\n      <td>INDL</td>\n      <td>MOTOR VEHICLES AND PASSENGER CAR BODIES</td>\n      <td>56844.0</td>\n      <td>154803.0</td>\n      <td>7709.0</td>\n      <td>6099.0</td>\n      <td>37220.0</td>\n      <td>7688.0</td>\n      <td>13072.0</td>\n      <td>7688.0</td>\n      <td>42511.0</td>\n      <td>35552.0</td>\n      <td>0</td>\n      <td>0</td>\n      <td>41954.0</td>\n      <td>3102.0</td>\n      <td>1715.0</td>\n      <td>1904.0</td>\n      <td>1904.0</td>\n      <td>1120.0</td>\n      <td>10425.6</td>\n      <td>13527.6</td>\n      <td>3133.0</td>\n      <td>0.0</td>\n      <td>79391.0</td>\n      <td>6499.0</td>\n      <td>11089.0</td>\n      <td>1252.0</td>\n      <td>2268.0</td>\n      <td>-6116.0</td>\n      <td>5384.0</td>\n      <td>59078.0</td>\n      <td>117366.0</td>\n      <td>0.0</td>\n      <td>5798.0</td>\n      <td>2912.0</td>\n      <td>8707.0</td>\n      <td>54151.0</td>\n      <td>47347.0</td>\n      <td>0.0</td>\n      <td>0.0</td>\n      <td>27543.0</td>\n      <td>80401.0</td>\n      <td>37220.0</td>\n      <td>15.0</td>\n      <td>37437.0</td>\n      <td>1590.0</td>\n      <td>1838.0</td>\n      <td>4135.0</td>\n      <td>6945.0</td>\n      <td>-0.013739</td>\n      <td>0.034842</td>\n      <td>0.028265</td>\n      <td>0.006577</td>\n      <td>0.064365</td>\n      <td>0.081890</td>\n      <td>0.017526</td>\n      <td>-69853.561589</td>\n      <td>-0.005146</td>\n      <td>0.012756</td>\n      <td>0.060021</td>\n      <td>0.010260</td>\n      <td>0.010870</td>\n      <td>0.156912</td>\n      <td>0.006577</td>\n      <td>0.497758</td>\n      <td>0.719041</td>\n      <td>0.004510</td>\n      <td>3.833619</td>\n      <td>2.919108</td>\n      <td>5.514464</td>\n      <td>95.210299</td>\n      <td>125.038184</td>\n      <td>66.189574</td>\n      <td>0.208199</td>\n      <td>1.698122</td>\n      <td>0.581066</td>\n      <td>0.273835</td>\n      <td>0.226611</td>\n      <td>0.942504</td>\n      <td>0.471263</td>\n      <td>0.168252</td>\n      <td>0.129670</td>\n      <td>0.108295</td>\n      <td>0.072114</td>\n      <td>0.037454</td>\n      <td>0.155776</td>\n      <td>0.060399</td>\n      <td>1.118777</td>\n      <td>0.251023</td>\n      <td>2.977698e-07</td>\n      <td>0.058222</td>\n      <td>0.054941</td>\n      <td>1.087429</td>\n      <td>0.007641</td>\n      <td>-0.011597</td>\n      <td>0.734664</td>\n      <td>0.057531</td>\n      <td>-0.010982</td>\n      <td>2.082375</td>\n      <td>0.500675</td>\n      <td>4.159135</td>\n      <td>5.729472</td>\n      <td>5.161152</td>\n      <td>5.672252</td>\n      <td>7.359956</td>\n      <td>4.182807</td>\n      <td>0.674299</td>\n      <td>0.037571</td>\n      <td>0.962186</td>\n      <td>0.774485</td>\n      <td>0.130133</td>\n      <td>0.049291</td>\n      <td>2.094437</td>\n      <td>0.716609</td>\n      <td>0.062665</td>\n      <td>0.053206</td>\n      <td>0.030880</td>\n    </tr>\n    <tr>\n      <th>16</th>\n      <td>100022</td>\n      <td>2015-12-31</td>\n      <td>DEU</td>\n      <td>INDL</td>\n      <td>MOTOR VEHICLES AND PASSENGER CAR BODIES</td>\n      <td>61831.0</td>\n      <td>172174.0</td>\n      <td>7773.0</td>\n      <td>5889.0</td>\n      <td>42530.0</td>\n      <td>6122.0</td>\n      <td>12757.0</td>\n      <td>6122.0</td>\n      <td>48466.0</td>\n      <td>39962.0</td>\n      <td>0</td>\n      <td>0</td>\n      <td>47171.0</td>\n      <td>3493.0</td>\n      <td>1917.0</td>\n      <td>2102.0</td>\n      <td>2102.0</td>\n      <td>2150.0</td>\n      <td>10810.0</td>\n      <td>14303.0</td>\n      <td>5004.0</td>\n      <td>0.0</td>\n      <td>89935.0</td>\n      <td>7372.0</td>\n      <td>11071.0</td>\n      <td>2390.0</td>\n      <td>2479.0</td>\n      <td>-7603.0</td>\n      <td>6635.0</td>\n      <td>65591.0</td>\n      <td>129410.0</td>\n      <td>0.0</td>\n      <td>6369.0</td>\n      <td>960.0</td>\n      <td>9224.0</td>\n      <td>60025.0</td>\n      <td>52724.0</td>\n      <td>0.0</td>\n      <td>0.0</td>\n      <td>33273.0</td>\n      <td>92175.0</td>\n      <td>42530.0</td>\n      <td>23.0</td>\n      <td>42764.0</td>\n      <td>1441.0</td>\n      <td>1990.0</td>\n      <td>4271.0</td>\n      <td>7592.0</td>\n      <td>0.004942</td>\n      <td>0.034250</td>\n      <td>0.013585</td>\n      <td>0.020665</td>\n      <td>0.070619</td>\n      <td>0.072647</td>\n      <td>0.002028</td>\n      <td>-78018.548756</td>\n      <td>0.001363</td>\n      <td>0.034302</td>\n      <td>0.062189</td>\n      <td>-0.000110</td>\n      <td>-0.000116</td>\n      <td>-0.001623</td>\n      <td>0.020665</td>\n      <td>0.849270</td>\n      <td>0.959962</td>\n      <td>0.038539</td>\n      <td>4.377744</td>\n      <td>2.770264</td>\n      <td>6.235173</td>\n      <td>83.376284</td>\n      <td>131.756387</td>\n      <td>58.538873</td>\n      <td>0.210869</td>\n      <td>1.748255</td>\n      <td>0.595434</td>\n      <td>0.282352</td>\n      <td>0.234577</td>\n      <td>0.949636</td>\n      <td>0.474196</td>\n      <td>0.155172</td>\n      <td>0.117277</td>\n      <td>0.100071</td>\n      <td>0.069097</td>\n      <td>0.036992</td>\n      <td>0.149753</td>\n      <td>0.057462</td>\n      <td>1.112214</td>\n      <td>0.367391</td>\n      <td>1.326072e-07</td>\n      <td>0.037829</td>\n      <td>0.015586</td>\n      <td>0.827315</td>\n      <td>0.013151</td>\n      <td>-0.011585</td>\n      <td>0.755192</td>\n      <td>0.063494</td>\n      <td>-0.011000</td>\n      <td>2.048742</td>\n      <td>0.506075</td>\n      <td>4.048295</td>\n      <td>6.091939</td>\n      <td>5.663917</td>\n      <td>5.432161</td>\n      <td>7.187437</td>\n      <td>3.076382</td>\n      <td>0.670785</td>\n      <td>0.011018</td>\n      <td>0.942675</td>\n      <td>0.773887</td>\n      <td>0.093336</td>\n      <td>0.014636</td>\n      <td>6.134375</td>\n      <td>1.412628</td>\n      <td>0.117240</td>\n      <td>0.062495</td>\n      <td>0.047644</td>\n    </tr>\n    <tr>\n      <th>17</th>\n      <td>100022</td>\n      <td>2016-12-31</td>\n      <td>DEU</td>\n      <td>INDL</td>\n      <td>MOTOR VEHICLES AND PASSENGER CAR BODIES</td>\n      <td>66864.0</td>\n      <td>188535.0</td>\n      <td>8512.0</td>\n      <td>5823.0</td>\n      <td>47108.0</td>\n      <td>7880.0</td>\n      <td>14945.0</td>\n      <td>7880.0</td>\n      <td>51135.0</td>\n      <td>40670.0</td>\n      <td>0</td>\n      <td>0</td>\n      <td>53730.0</td>\n      <td>3584.0</td>\n      <td>2121.0</td>\n      <td>2300.0</td>\n      <td>2300.0</td>\n      <td>2503.0</td>\n      <td>10893.0</td>\n      <td>14477.0</td>\n      <td>4393.0</td>\n      <td>0.0</td>\n      <td>101093.0</td>\n      <td>8157.0</td>\n      <td>11841.0</td>\n      <td>2854.0</td>\n      <td>2957.0</td>\n      <td>-5863.0</td>\n      <td>7065.0</td>\n      <td>67989.0</td>\n      <td>141172.0</td>\n      <td>0.0</td>\n      <td>6863.0</td>\n      <td>3173.0</td>\n      <td>9665.0</td>\n      <td>63548.0</td>\n      <td>55749.0</td>\n      <td>0.0</td>\n      <td>0.0</td>\n      <td>34947.0</td>\n      <td>94163.0</td>\n      <td>47108.0</td>\n      <td>20.0</td>\n      <td>47363.0</td>\n      <td>1074.0</td>\n      <td>2049.0</td>\n      <td>3072.0</td>\n      <td>7942.0</td>\n      <td>-0.013119</td>\n      <td>0.016524</td>\n      <td>0.009816</td>\n      <td>0.006708</td>\n      <td>0.046807</td>\n      <td>0.063099</td>\n      <td>0.016292</td>\n      <td>-84377.546860</td>\n      <td>0.002776</td>\n      <td>0.026589</td>\n      <td>0.042207</td>\n      <td>0.004269</td>\n      <td>0.004472</td>\n      <td>0.069551</td>\n      <td>0.006708</td>\n      <td>0.537666</td>\n      <td>0.445723</td>\n      <td>0.016582</td>\n      <td>4.318470</td>\n      <td>2.694452</td>\n      <td>6.007401</td>\n      <td>84.520681</td>\n      <td>135.463558</td>\n      <td>60.758385</td>\n      <td>0.193378</td>\n      <td>1.689053</td>\n      <td>0.546906</td>\n      <td>0.249910</td>\n      <td>0.202392</td>\n      <td>0.810011</td>\n      <td>0.456952</td>\n      <td>0.153744</td>\n      <td>0.115682</td>\n      <td>0.102641</td>\n      <td>0.072884</td>\n      <td>0.036402</td>\n      <td>0.145687</td>\n      <td>0.054563</td>\n      <td>1.095026</td>\n      <td>0.365521</td>\n      <td>-1.167675e-07</td>\n      <td>0.024934</td>\n      <td>-0.006986</td>\n      <td>0.815719</td>\n      <td>0.013878</td>\n      <td>-0.011649</td>\n      <td>0.735088</td>\n      <td>0.042745</td>\n      <td>-0.011144</td>\n      <td>2.003906</td>\n      <td>0.500703</td>\n      <td>4.002186</td>\n      <td>6.520688</td>\n      <td>5.976376</td>\n      <td>5.316252</td>\n      <td>7.065398</td>\n      <td>3.845778</td>\n      <td>0.665900</td>\n      <td>0.033612</td>\n      <td>0.983453</td>\n      <td>0.809293</td>\n      <td>0.115901</td>\n      <td>0.046669</td>\n      <td>1.835172</td>\n      <td>1.442536</td>\n      <td>0.110374</td>\n      <td>0.073771</td>\n      <td>0.064248</td>\n    </tr>\n    <tr>\n      <th>18</th>\n      <td>100022</td>\n      <td>2017-12-31</td>\n      <td>DEU</td>\n      <td>INDL</td>\n      <td>MOTOR VEHICLES AND PASSENGER CAR BODIES</td>\n      <td>71582.0</td>\n      <td>193483.0</td>\n      <td>9731.0</td>\n      <td>7112.0</td>\n      <td>54112.0</td>\n      <td>9039.0</td>\n      <td>17004.0</td>\n      <td>9039.0</td>\n      <td>52226.0</td>\n      <td>40727.0</td>\n      <td>0</td>\n      <td>0</td>\n      <td>52831.0</td>\n      <td>3586.0</td>\n      <td>2324.0</td>\n      <td>2630.0</td>\n      <td>2630.0</td>\n      <td>-3131.0</td>\n      <td>11507.0</td>\n      <td>15093.0</td>\n      <td>1572.0</td>\n      <td>0.0</td>\n      <td>107379.0</td>\n      <td>9464.0</td>\n      <td>12707.0</td>\n      <td>3016.0</td>\n      <td>2810.0</td>\n      <td>-6163.0</td>\n      <td>7965.0</td>\n      <td>69047.0</td>\n      <td>138935.0</td>\n      <td>0.0</td>\n      <td>8620.0</td>\n      <td>5909.0</td>\n      <td>10655.0</td>\n      <td>62614.0</td>\n      <td>54728.0</td>\n      <td>0.0</td>\n      <td>0.0</td>\n      <td>36291.0</td>\n      <td>98690.0</td>\n      <td>54112.0</td>\n      <td>38.0</td>\n      <td>54548.0</td>\n      <td>1124.0</td>\n      <td>2132.0</td>\n      <td>3684.0</td>\n      <td>8271.0</td>\n      <td>-0.005120</td>\n      <td>0.014103</td>\n      <td>0.005309</td>\n      <td>0.008794</td>\n      <td>0.013069</td>\n      <td>0.000361</td>\n      <td>-0.012709</td>\n      <td>-82782.552454</td>\n      <td>-0.000780</td>\n      <td>0.037150</td>\n      <td>-0.004466</td>\n      <td>0.004534</td>\n      <td>0.004593</td>\n      <td>0.073136</td>\n      <td>0.008794</td>\n      <td>0.314501</td>\n      <td>0.581903</td>\n      <td>0.030323</td>\n      <td>4.110018</td>\n      <td>2.719407</td>\n      <td>5.366972</td>\n      <td>88.807395</td>\n      <td>134.220438</td>\n      <td>68.008559</td>\n      <td>0.191833</td>\n      <td>1.803282</td>\n      <td>0.523457</td>\n      <td>0.246448</td>\n      <td>0.216438</td>\n      <td>0.773895</td>\n      <td>0.470808</td>\n      <td>0.152933</td>\n      <td>0.116597</td>\n      <td>0.107964</td>\n      <td>0.087344</td>\n      <td>0.044552</td>\n      <td>0.159299</td>\n      <td>0.062855</td>\n      <td>1.026244</td>\n      <td>0.323244</td>\n      <td>-2.229194e-07</td>\n      <td>-0.000361</td>\n      <td>-0.036908</td>\n      <td>1.072455</td>\n      <td>-0.016392</td>\n      <td>-0.011968</td>\n      <td>0.693060</td>\n      <td>0.012735</td>\n      <td>-0.011815</td>\n      <td>1.728970</td>\n      <td>0.483546</td>\n      <td>3.575602</td>\n      <td>6.198768</td>\n      <td>5.599881</td>\n      <td>5.397280</td>\n      <td>7.079268</td>\n      <td>4.239681</td>\n      <td>0.631696</td>\n      <td>0.063159</td>\n      <td>1.036714</td>\n      <td>0.852680</td>\n      <td>0.130911</td>\n      <td>0.085579</td>\n      <td>1.203588</td>\n      <td>0.675240</td>\n      <td>0.058540</td>\n      <td>0.070707</td>\n      <td>0.037174</td>\n    </tr>\n    <tr>\n      <th>19</th>\n      <td>100022</td>\n      <td>2018-12-31</td>\n      <td>DEU</td>\n      <td>INDL</td>\n      <td>MOTOR VEHICLES AND PASSENGER CAR BODIES</td>\n      <td>83538.0</td>\n      <td>208980.0</td>\n      <td>9669.0</td>\n      <td>7777.0</td>\n      <td>57559.0</td>\n      <td>10979.0</td>\n      <td>17654.0</td>\n      <td>10979.0</td>\n      <td>51842.0</td>\n      <td>38179.0</td>\n      <td>0</td>\n      <td>0</td>\n      <td>63743.0</td>\n      <td>3699.0</td>\n      <td>2630.0</td>\n      <td>2303.0</td>\n      <td>2303.0</td>\n      <td>-1161.0</td>\n      <td>10949.0</td>\n      <td>14648.0</td>\n      <td>4296.0</td>\n      <td>0.0</td>\n      <td>121831.0</td>\n      <td>10971.0</td>\n      <td>13047.0</td>\n      <td>2877.0</td>\n      <td>1496.0</td>\n      <td>-7363.0</td>\n      <td>6675.0</td>\n      <td>70909.0</td>\n      <td>150892.0</td>\n      <td>0.0</td>\n      <td>7150.0</td>\n      <td>5051.0</td>\n      <td>9815.0</td>\n      <td>27572.0</td>\n      <td>19801.0</td>\n      <td>0.0</td>\n      <td>0.0</td>\n      <td>42507.0</td>\n      <td>97480.0</td>\n      <td>57559.0</td>\n      <td>25.0</td>\n      <td>58088.0</td>\n      <td>1158.0</td>\n      <td>2375.0</td>\n      <td>5320.0</td>\n      <td>8268.0</td>\n      <td>0.009646</td>\n      <td>0.058434</td>\n      <td>0.022793</td>\n      <td>0.035641</td>\n      <td>0.023242</td>\n      <td>0.019020</td>\n      <td>-0.004223</td>\n      <td>-93750.572143</td>\n      <td>-0.006791</td>\n      <td>0.017816</td>\n      <td>0.043229</td>\n      <td>0.001690</td>\n      <td>0.001757</td>\n      <td>0.026757</td>\n      <td>0.035641</td>\n      <td>0.293566</td>\n      <td>0.358182</td>\n      <td>0.002197</td>\n      <td>3.973480</td>\n      <td>2.293269</td>\n      <td>5.361671</td>\n      <td>91.859014</td>\n      <td>159.161418</td>\n      <td>68.075788</td>\n      <td>0.178867</td>\n      <td>4.922984</td>\n      <td>0.503817</td>\n      <td>0.235876</td>\n      <td>0.204278</td>\n      <td>0.741674</td>\n      <td>0.468178</td>\n      <td>0.150267</td>\n      <td>0.112320</td>\n      <td>0.100687</td>\n      <td>0.073348</td>\n      <td>0.034214</td>\n      <td>0.124220</td>\n      <td>0.049847</td>\n      <td>1.080095</td>\n      <td>0.387193</td>\n      <td>2.065341e-07</td>\n      <td>-0.179354</td>\n      <td>0.030315</td>\n      <td>1.210060</td>\n      <td>-0.005769</td>\n      <td>-0.012945</td>\n      <td>0.733020</td>\n      <td>0.021519</td>\n      <td>-0.012465</td>\n      <td>1.770740</td>\n      <td>0.487712</td>\n      <td>3.630709</td>\n      <td>6.958083</td>\n      <td>6.208561</td>\n      <td>4.610105</td>\n      <td>6.167579</td>\n      <td>4.622737</td>\n      <td>0.636973</td>\n      <td>0.049558</td>\n      <td>1.178102</td>\n      <td>0.994105</td>\n      <td>0.154832</td>\n      <td>0.071232</td>\n      <td>1.539695</td>\n      <td>1.811915</td>\n      <td>0.118623</td>\n      <td>0.018828</td>\n      <td>0.007976</td>\n    </tr>\n    <tr>\n      <th>20</th>\n      <td>100022</td>\n      <td>2019-12-31</td>\n      <td>DEU</td>\n      <td>INDL</td>\n      <td>MOTOR VEHICLES AND PASSENGER CAR BODIES</td>\n      <td>90630.0</td>\n      <td>228034.0</td>\n      <td>10182.0</td>\n      <td>6902.0</td>\n      <td>59324.0</td>\n      <td>12036.0</td>\n      <td>12036.0</td>\n      <td>12036.0</td>\n      <td>58174.0</td>\n      <td>44944.0</td>\n      <td>0</td>\n      <td>0</td>\n      <td>69700.0</td>\n      <td>4350.0</td>\n      <td>2303.0</td>\n      <td>1646.0</td>\n      <td>1646.0</td>\n      <td>0.0</td>\n      <td>11017.0</td>\n      <td>15367.0</td>\n      <td>4790.0</td>\n      <td>0.0</td>\n      <td>129607.0</td>\n      <td>11729.0</td>\n      <td>15891.0</td>\n      <td>3403.0</td>\n      <td>499.0</td>\n      <td>-7284.0</td>\n      <td>0.0</td>\n      <td>82625.0</td>\n      <td>168127.0</td>\n      <td>0.0</td>\n      <td>4871.0</td>\n      <td>3662.0</td>\n      <td>7118.0</td>\n      <td>0.0</td>\n      <td>23245.0</td>\n      <td>0.0</td>\n      <td>0.0</td>\n      <td>51005.0</td>\n      <td>104210.0</td>\n      <td>59324.0</td>\n      <td>33.0</td>\n      <td>59907.0</td>\n      <td>963.0</td>\n      <td>2746.0</td>\n      <td>5952.0</td>\n      <td>8067.0</td>\n      <td>-0.015839</td>\n      <td>0.060819</td>\n      <td>0.023691</td>\n      <td>0.037128</td>\n      <td>0.056819</td>\n      <td>0.054723</td>\n      <td>-0.002096</td>\n      <td>-114144.551388</td>\n      <td>-0.004771</td>\n      <td>0.008446</td>\n      <td>0.060877</td>\n      <td>0.013016</td>\n      <td>0.013609</td>\n      <td>0.217981</td>\n      <td>0.037128</td>\n      <td>0.248204</td>\n      <td>0.294190</td>\n      <td>-0.003641</td>\n      <td>3.660814</td>\n      <td>2.043133</td>\n      <td>5.713416</td>\n      <td>99.704593</td>\n      <td>178.647203</td>\n      <td>63.884725</td>\n      <td>0.171534</td>\n      <td>4.483115</td>\n      <td>0.498660</td>\n      <td>0.220289</td>\n      <td>0.192607</td>\n      <td>0.740358</td>\n      <td>0.441762</td>\n      <td>0.147462</td>\n      <td>0.105719</td>\n      <td>0.068304</td>\n      <td>0.046742</td>\n      <td>0.021361</td>\n      <td>0.082108</td>\n      <td>0.043192</td>\n      <td>1.091176</td>\n      <td>0.391476</td>\n      <td>2.002485e-07</td>\n      <td>-0.118327</td>\n      <td>0.057687</td>\n      <td>0.929854</td>\n      <td>0.000000</td>\n      <td>-0.010389</td>\n      <td>0.774868</td>\n      <td>0.052071</td>\n      <td>-0.009955</td>\n      <td>1.932506</td>\n      <td>0.502750</td>\n      <td>3.843874</td>\n      <td>7.460402</td>\n      <td>6.677165</td>\n      <td>4.012017</td>\n      <td>5.596140</td>\n      <td>4.383103</td>\n      <td>0.656794</td>\n      <td>0.031942</td>\n      <td>1.096884</td>\n      <td>0.904557</td>\n      <td>0.145670</td>\n      <td>0.044321</td>\n      <td>1.884762</td>\n      <td>1.031413</td>\n      <td>0.059997</td>\n      <td>0.034371</td>\n      <td>0.020086</td>\n    </tr>\n  </tbody>\n</table>\n</div>",
      "text/plain": "     gvkey       date country industry  \\\n0   100022 1999-12-31     DEU     INDL   \n1   100022 2000-12-31     DEU     INDL   \n2   100022 2001-12-31     DEU     INDL   \n3   100022 2002-12-31     DEU     INDL   \n4   100022 2003-12-31     DEU     INDL   \n5   100022 2004-12-31     DEU     INDL   \n6   100022 2005-12-31     DEU     INDL   \n7   100022 2006-12-31     DEU     INDL   \n8   100022 2007-12-31     DEU     INDL   \n9   100022 2008-12-31     DEU     INDL   \n10  100022 2009-12-31     DEU     INDL   \n11  100022 2010-12-31     DEU     INDL   \n12  100022 2011-12-31     DEU     INDL   \n13  100022 2012-12-31     DEU     INDL   \n14  100022 2013-12-31     DEU     INDL   \n15  100022 2014-12-31     DEU     INDL   \n16  100022 2015-12-31     DEU     INDL   \n17  100022 2016-12-31     DEU     INDL   \n18  100022 2017-12-31     DEU     INDL   \n19  100022 2018-12-31     DEU     INDL   \n20  100022 2019-12-31     DEU     INDL   \n\n                             classification      act       att       ap  \\\n0   MOTOR VEHICLES AND PASSENGER CAR BODIES  28736.0   37507.0   3679.0   \n1   MOTOR VEHICLES AND PASSENGER CAR BODIES  29112.0   35875.0   3998.0   \n2   MOTOR VEHICLES AND PASSENGER CAR BODIES  32791.0   51259.0   2990.0   \n3   MOTOR VEHICLES AND PASSENGER CAR BODIES  36682.0   55511.0   3026.0   \n4   MOTOR VEHICLES AND PASSENGER CAR BODIES  41263.0   61475.0   3110.0   \n5   MOTOR VEHICLES AND PASSENGER CAR BODIES  44662.0   67415.0   3322.0   \n6   MOTOR VEHICLES AND PASSENGER CAR BODIES  27010.0   74566.0   3389.0   \n7   MOTOR VEHICLES AND PASSENGER CAR BODIES  29737.0   79057.0   3624.0   \n8   MOTOR VEHICLES AND PASSENGER CAR BODIES  32378.0   88997.0   3551.0   \n9   MOTOR VEHICLES AND PASSENGER CAR BODIES  38670.0  101086.0   2562.0   \n10  MOTOR VEHICLES AND PASSENGER CAR BODIES  39944.0  101953.0   3122.0   \n11  MOTOR VEHICLES AND PASSENGER CAR BODIES  43151.0  108867.0   4351.0   \n12  MOTOR VEHICLES AND PASSENGER CAR BODIES  49004.0  123429.0   5340.0   \n13  MOTOR VEHICLES AND PASSENGER CAR BODIES  50514.0  131850.0   6433.0   \n14  MOTOR VEHICLES AND PASSENGER CAR BODIES  52174.0  138368.0   7475.0   \n15  MOTOR VEHICLES AND PASSENGER CAR BODIES  56844.0  154803.0   7709.0   \n16  MOTOR VEHICLES AND PASSENGER CAR BODIES  61831.0  172174.0   7773.0   \n17  MOTOR VEHICLES AND PASSENGER CAR BODIES  66864.0  188535.0   8512.0   \n18  MOTOR VEHICLES AND PASSENGER CAR BODIES  71582.0  193483.0   9731.0   \n19  MOTOR VEHICLES AND PASSENGER CAR BODIES  83538.0  208980.0   9669.0   \n20  MOTOR VEHICLES AND PASSENGER CAR BODIES  90630.0  228034.0  10182.0   \n\n       capx      ceq       ch      che     chee     cogs      dlc  dltis  \\\n0    2125.0   3883.0   2055.0   2939.0   2055.0  26715.0   7379.0      0   \n1    2313.0   4846.0   2879.0   3630.0   2879.0  26837.0   6803.0      0   \n2    8047.0  10719.0   2437.0   3344.0   2437.0  25892.0  11720.0      0   \n3    3951.0  13820.0   2333.0   3438.0   2333.0  29393.0  13506.0      0   \n4    9900.0  16099.0   1659.0   3516.0   1659.0  29720.0  14019.0      0   \n5   11570.0  17466.0   2128.0   3960.0   2128.0  31392.0  14962.0      0   \n6   13336.0  16922.0   1621.0   3695.0   1621.0  32967.0  17838.0      0   \n7   15067.0  19075.0   1336.0   3370.0   1336.0  34388.0  17500.0      0   \n8   17528.0  21733.0   2393.0   6015.0   2393.0  24387.0  22493.0      0   \n9   19368.0  20265.0   7454.0  10760.0   7454.0  27984.0  29887.0      0   \n10  13904.0  19902.0   7767.0  10982.0   7767.0  28701.0  26453.0      0   \n11  15161.0  23074.0   7432.0  10694.0   7432.0  33025.0  25576.0      0   \n12   3679.0  27038.0   7776.0  11527.0   7776.0  37771.0  29381.0      0   \n13   5236.0  30295.0   8370.0  12982.0   8370.0  42956.0  29547.0      0   \n14   6669.0  35455.0   7664.0  13223.0   7664.0  42152.0  30428.0      0   \n15   6099.0  37220.0   7688.0  13072.0   7688.0  42511.0  35552.0      0   \n16   5889.0  42530.0   6122.0  12757.0   6122.0  48466.0  39962.0      0   \n17   5823.0  47108.0   7880.0  14945.0   7880.0  51135.0  40670.0      0   \n18   7112.0  54112.0   9039.0  17004.0   9039.0  52226.0  40727.0      0   \n19   7777.0  57559.0  10979.0  17654.0  10979.0  51842.0  38179.0      0   \n20   6902.0  59324.0  12036.0  12036.0  12036.0  58174.0  44944.0      0   \n\n    dltr     dltt      dp      dv     dvc     dvt   dlcch     ebit   ebitda  \\\n0      0   8083.0  2042.0   234.0     0.0     0.0     0.0    931.0   2973.0   \n1      0   7485.0  2137.0   269.0   286.0   309.0     0.0   1578.0   3715.0   \n2      0  13945.0  2835.0   310.0     0.0     0.0     0.0   3356.0   6191.0   \n3      0  12756.0  2149.0   350.0     0.0     0.0     0.0   3357.0   5506.0   \n4      0  13430.0  2370.0   351.0     0.0     0.0     0.0   3328.0   5698.0   \n5      0  15521.0  2672.0   392.0     0.0     0.0     0.0   3739.0   6411.0   \n6      0  16830.0  2280.0   419.0   424.0   424.0     0.0   3677.0   5957.0   \n7      0  18106.0  2385.0   419.0   458.0   458.0     0.0   3937.0   6322.0   \n8      0  21428.0  8364.0   458.0   694.0   694.0  1526.0   6112.0  14476.0   \n9      0  30497.0  2482.0   694.0   197.0   197.0    -9.0   3726.0   6208.0   \n10     0  33847.0  2374.0   197.0   197.0   197.0  -255.0   3127.0   5501.0   \n11     0  34767.0  2422.0   197.0   852.0   852.0    32.0   7325.0   9747.0   \n12     0  36117.0  2437.0   852.0  1508.0  1508.0   248.0   9911.0  12348.0   \n13     0  38170.0  2411.0  1516.0  1640.0  1640.0  -858.0  10028.0  12439.0   \n14     0  38773.0  2670.0  1653.0  1707.0  1707.0  1091.0   9340.2  12010.2   \n15     0  41954.0  3102.0  1715.0  1904.0  1904.0  1120.0  10425.6  13527.6   \n16     0  47171.0  3493.0  1917.0  2102.0  2102.0  2150.0  10810.0  14303.0   \n17     0  53730.0  3584.0  2121.0  2300.0  2300.0  2503.0  10893.0  14477.0   \n18     0  52831.0  3586.0  2324.0  2630.0  2630.0 -3131.0  11507.0  15093.0   \n19     0  63743.0  3699.0  2630.0  2303.0  2303.0 -1161.0  10949.0  14648.0   \n20     0  69700.0  4350.0  2303.0  1646.0  1646.0     0.0  11017.0  15367.0   \n\n      fincf  gdwl     icapt    intan     invt   ivaeq    ivao    ivncf  \\\n0    2301.0   0.0   12015.0     75.0   3621.0   185.0   710.0  -7594.0   \n1    -942.0   0.0   12381.0    103.0   2809.0   192.0   758.0  -3045.0   \n2    -258.0   0.0   24715.0    143.0   4501.0   134.0   652.0  -6079.0   \n3    2460.0   0.0   26627.0    143.0   5197.0    42.0   456.0  -9715.0   \n4    2768.0   0.0   29580.0    189.0   5693.0    61.0   546.0 -11231.0   \n5    3137.0   0.0   33038.0    263.0   6467.0    65.0   704.0 -11957.0   \n6     699.0   0.0   33803.0    447.0   6527.0    94.0  1178.0 -11963.0   \n7    3323.0   0.0   37236.0    502.0   6794.0    60.0   401.0 -13670.0   \n8    6557.0   0.0   43172.0    636.0   7349.0   248.0  1197.0 -17248.0   \n9   12904.0   0.0   50770.0    568.0   7290.0   407.0  1834.0 -18652.0   \n10   1352.0   0.0   53762.0   5379.0   6555.0   362.0  1526.0 -11328.0   \n11    510.0   0.0   57867.0   5031.0   7766.0   381.0  1875.0 -14522.0   \n12     87.0   0.0   63220.0   5238.0   9638.0   434.0  2131.0  -5499.0   \n13    952.0   0.0   68572.0   5207.0   9725.0   661.0  2549.0  -5433.0   \n14   2703.0   0.0   74416.0   6179.0   9585.0   818.0  2980.0  -6981.0   \n15   3133.0   0.0   79391.0   6499.0  11089.0  1252.0  2268.0  -6116.0   \n16   5004.0   0.0   89935.0   7372.0  11071.0  2390.0  2479.0  -7603.0   \n17   4393.0   0.0  101093.0   8157.0  11841.0  2854.0  2957.0  -5863.0   \n18   1572.0   0.0  107379.0   9464.0  12707.0  3016.0  2810.0  -6163.0   \n19   4296.0   0.0  121831.0  10971.0  13047.0  2877.0  1496.0  -7363.0   \n20   4790.0   0.0  129607.0  11729.0  15891.0  3403.0   499.0  -7284.0   \n\n      ivst      lct       ltt   mib   nicon    oancf       pi    ppegt  \\\n0    884.0  13211.0   33575.0   0.0     0.0   5300.0   1111.0  23489.0   \n1    751.0  14017.0   30979.0   0.0     0.0   4778.0   1663.0  19477.0   \n2    907.0  18286.0   40489.0   0.0  1728.0   5892.0   3242.0  30423.0   \n3   1105.0  18821.0   41640.0   0.0  1867.0   7250.0   3297.0  31186.0   \n4   1857.0  23643.0   45325.0   0.0  1798.0   7871.0   3205.0  32969.0   \n5   1832.0  25572.0   49898.0   0.0  2051.7   9311.0   3554.0  36011.0   \n6   2074.0  27929.0   57593.0   0.0  2066.7  10691.0   3287.0  42055.0   \n7   2034.0  28442.0   59927.0   4.0  2641.0   9980.0   4124.0  45593.0   \n8   3622.0  33784.0   67253.0  11.0  3126.0  11794.0   3873.0  49895.0   \n9   3306.0  39287.0   80813.0   8.0   324.0  10872.0    351.0  56017.0   \n10  3215.0  36919.0   82038.0  13.0   204.0  10271.0    413.0  35802.0   \n11  3262.0  40134.0   85767.0   0.0  3218.0  13651.0   4836.0  35384.0   \n12  3751.0  47213.0   96326.0   0.0  4881.0   5713.0   7383.0  43641.0   \n13  4612.0  48431.0  101448.0   0.0  5096.0   5076.0   7819.0  46636.0   \n14  5559.0  50043.0  102725.0   0.0  5314.0   3614.0   7913.0  47599.0   \n15  5384.0  59078.0  117366.0   0.0  5798.0   2912.0   8707.0  54151.0   \n16  6635.0  65591.0  129410.0   0.0  6369.0    960.0   9224.0  60025.0   \n17  7065.0  67989.0  141172.0   0.0  6863.0   3173.0   9665.0  63548.0   \n18  7965.0  69047.0  138935.0   0.0  8620.0   5909.0  10655.0  62614.0   \n19  6675.0  70909.0  150892.0   0.0  7150.0   5051.0   9815.0  27572.0   \n20     0.0  82625.0  168127.0   0.0  4871.0   3662.0   7118.0      0.0   \n\n      ppent  pstk  prstkc     rect      revt      seq  sstk      teq     txp  \\\n0    7801.0  49.0     0.0  13206.0   34402.0   3932.0  19.0      0.0   297.0   \n1    5710.0  50.0     0.0  12392.0   35356.0   4896.0  22.0      0.0   373.0   \n2   15263.0  51.0     0.0  23741.0   38463.0  10770.0  24.0      0.0   194.0   \n3   15590.0  51.0     0.0  27367.0   42282.0  13871.0  18.0      0.0   279.0   \n4   16405.0  51.0     0.0  31391.0   41525.0  16150.0  17.0      0.0   354.0   \n5   18226.0  51.0     0.0  33396.0   44335.0  17517.0   0.0      0.0   390.0   \n6   22462.0  51.0     0.0  15419.0   46656.0  16973.0   0.0      0.0     0.0   \n7   24927.0  51.0     0.0  17201.0   48999.0  19126.0   0.0      0.0   567.0   \n8   27103.0   0.0     0.0  16893.0   56018.0  21733.0   0.0      0.0   808.0   \n9   29696.0   0.0     0.0  18739.0   53197.0  20265.0   0.0      0.0   633.0   \n10  29358.0   0.0     0.0  19895.0   50681.0  19902.0  13.0      0.0   836.0   \n11  29218.0   0.0     0.0  21703.0   60477.0  23074.0  18.0  23100.0  1198.0   \n12  34797.0   0.0     0.0  24416.0   68821.0  27038.0  16.0  27103.0  1363.0   \n13  37809.0   0.0     0.0  23982.0   76848.0  30295.0  19.0  30402.0  1482.0   \n14  41027.0   0.0     0.0  25012.0   76058.0  35455.0  17.0  35643.0  1237.0   \n15  47347.0   0.0     0.0  27543.0   80401.0  37220.0  15.0  37437.0  1590.0   \n16  52724.0   0.0     0.0  33273.0   92175.0  42530.0  23.0  42764.0  1441.0   \n17  55749.0   0.0     0.0  34947.0   94163.0  47108.0  20.0  47363.0  1074.0   \n18  54728.0   0.0     0.0  36291.0   98690.0  54112.0  38.0  54548.0  1124.0   \n19  19801.0   0.0     0.0  42507.0   97480.0  57559.0  25.0  58088.0  1158.0   \n20  23245.0   0.0     0.0  51005.0  104210.0  59324.0  33.0  59907.0   963.0   \n\n      xint     xrd    xsga  accruals_acc  accruals_chcoa  accruals_chcol  \\\n0   1483.0     0.0  4700.0           NaN             NaN             NaN   \n1   1861.0     0.0  4714.0     -0.106048       -0.008398        0.036846   \n2    781.0  1663.0  4647.0      0.040283        0.110523       -0.018063   \n3    617.0  2011.0  4903.0      0.059605        0.074075       -0.024405   \n4    810.0  2146.0  4446.0     -0.023063        0.081119        0.077624   \n5    782.0  2334.0  4653.0     -0.010738        0.048068        0.016039   \n6    878.0  2464.0  4762.0     -0.271811       -0.257910       -0.007699   \n7    855.0  2544.0  4972.0      0.004465        0.040930        0.011413   \n8   2270.0  2920.0  5254.0     -0.081974       -0.000051        0.004415   \n9   2827.0  2825.0  4914.0      0.004893        0.017383       -0.021248   \n10  3243.0  2587.0  5022.0     -0.022419        0.010407        0.010545   \n11  2363.0  3082.0  5525.0     -0.024760        0.034281        0.040136   \n12  2149.0  3610.0  5521.0     -0.000319        0.046111        0.030073   \n13  2030.0  3993.0  6116.0     -0.019022        0.000446        0.008523   \n14  1805.0  4117.0  6429.0     -0.009474        0.010762        0.005544   \n15  1838.0  4135.0  6945.0     -0.013739        0.034842        0.028265   \n16  1990.0  4271.0  7592.0      0.004942        0.034250        0.013585   \n17  2049.0  3072.0  7942.0     -0.013119        0.016524        0.009816   \n18  2132.0  3684.0  8271.0     -0.005120        0.014103        0.005309   \n19  2375.0  5320.0  8268.0      0.009646        0.058434        0.022793   \n20  2746.0  5952.0  8067.0     -0.015839        0.060819        0.023691   \n\n    accruals_chnncwc  accruals_chnncoa  accruals_chncoa  accruals_chncol  \\\n0                NaN               NaN              NaN              NaN   \n1          -0.045245          0.021036        -0.053723        -0.074759   \n2           0.128585          0.361868         0.327889        -0.033979   \n3           0.098480         -0.026376         0.008837         0.035213   \n4           0.003495          0.057196         0.024572        -0.032624   \n5           0.032029          0.032273         0.041269         0.008996   \n6          -0.250211          0.307721         0.367485         0.059764   \n7           0.029517          0.016804         0.024113         0.007309   \n8          -0.004465          0.106872         0.089948        -0.016924   \n9           0.038631          0.074722         0.063350        -0.011371   \n10         -0.000138         -0.005985        -0.003581         0.002404   \n11         -0.005856          0.040156         0.036174        -0.003982   \n12          0.016038          0.059945         0.079510         0.019565   \n13         -0.008078          0.039156         0.054153         0.014996   \n14          0.005218          0.042768         0.035654        -0.007114   \n15          0.006577          0.064365         0.081890         0.017526   \n16          0.020665          0.070619         0.072647         0.002028   \n17          0.006708          0.046807         0.063099         0.016292   \n18          0.008794          0.013069         0.000361        -0.012709   \n19          0.035641          0.023242         0.019020        -0.004223   \n20          0.037128          0.056819         0.054723        -0.002096   \n\n    accruals_chnfa  accruals_chlti  accruals_chce  accruals_chfl  \\\n0              NaN             NaN            NaN            NaN   \n1    -12828.628949        0.001280       0.025675      -0.031274   \n2    -24156.642397       -0.002955       0.163707       0.317157   \n3    -24751.528727       -0.003824       0.060497       0.011647   \n4    -25096.554106        0.001621       0.041055       0.021383   \n5    -27997.591753        0.002570       0.022237       0.049353   \n6    -31466.584692        0.007031      -0.008069       0.062078   \n7    -33221.577998       -0.010420       0.028874       0.012579   \n8    -39101.579772        0.010069       0.033621       0.104532   \n9    -55243.560637        0.007158      -0.016495       0.184984   \n10   -55558.453495       -0.003047      -0.003591      -0.000831   \n11   -55205.455053        0.003423       0.031112       0.000422   \n12   -59615.492904        0.002351       0.036411       0.047351   \n13   -60555.517002        0.003387       0.026388       0.017978   \n14   -60661.540721        0.003269       0.039135       0.011255   \n15   -69853.561589       -0.005146       0.012756       0.060021   \n16   -78018.548756        0.001363       0.034302       0.062189   \n17   -84377.546860        0.002776       0.026589       0.042207   \n18   -82782.552454       -0.000780       0.037150      -0.004466   \n19   -93750.572143       -0.006791       0.017816       0.043229   \n20  -114144.551388       -0.004771       0.008446       0.060877   \n\n    accruals_grii  accruals_ich  accruals_igr  accruals_nwcch  accruals_poa  \\\n0             NaN           NaN           NaN             NaN          -inf   \n1       -0.022131     -0.021649     -0.224247       -0.045245          -inf   \n2        0.038837      0.047164      0.602350        0.128585     -2.409722   \n3        0.013037      0.013578      0.154632        0.098480     -2.883235   \n4        0.008480      0.008935      0.095440        0.003495     -3.377642   \n5        0.012010      0.012590      0.135956        0.032029     -3.538188   \n6        0.000845      0.000890      0.009278       -0.250211     -4.172981   \n7        0.003476      0.003581      0.040907        0.029517     -2.778872   \n8        0.006605      0.007020      0.081690       -0.004465     -2.772873   \n9       -0.000621     -0.000663     -0.008028        0.038631    -32.555556   \n10      -0.007240     -0.007271     -0.100823       -0.000138    -49.348039   \n11       0.011488      0.011878      0.184744       -0.005856     -3.242076   \n12       0.016117      0.017195      0.241051        0.016038     -0.170457   \n13       0.000682      0.000705      0.009027       -0.008078      0.003925   \n14      -0.001036     -0.001062     -0.014396        0.005218      0.319910   \n15       0.010260      0.010870      0.156912        0.006577      0.497758   \n16      -0.000110     -0.000116     -0.001623        0.020665      0.849270   \n17       0.004269      0.004472      0.069551        0.006708      0.537666   \n18       0.004534      0.004593      0.073136        0.008794      0.314501   \n19       0.001690      0.001757      0.026757        0.035641      0.293566   \n20       0.013016      0.013609      0.217981        0.037128      0.248204   \n\n    accruals_pta  accruals_ta  efficiency_itr  efficiency_rtr  efficiency_apr  \\\n0           -inf          NaN        7.377796        2.605028        7.261484   \n1           -inf     0.004799        9.553934        2.853131        6.712606   \n2       1.092014     0.174690        5.752499        1.620109        8.659532   \n3       0.824853     0.060497        5.655763        1.544999        9.713483   \n4       1.143493     0.054476        5.220446        1.322831        9.556270   \n5       0.569625     0.017113        4.854183        1.327554        9.449729   \n6       1.074515     0.006052        5.050866        3.025877        9.727648   \n7       0.980310     0.022785        5.061525        2.848613        9.488962   \n8       0.500640     0.028030        3.318411        3.316048        6.867643   \n9     -16.956790    -0.068025        3.838683        2.838839       10.922717   \n10     -1.348039    -0.009240        4.378490        2.547424        9.193145   \n11      1.056557     0.037762        4.252511        2.786573        7.590209   \n12      0.767056     0.035474        3.918967        2.818684        7.073221   \n13      0.589482     0.023463        4.417069        3.204403        6.677444   \n14      0.817087     0.047182        4.397705        3.040860        5.639064   \n15      0.719041     0.004510        3.833619        2.919108        5.514464   \n16      0.959962     0.038539        4.377744        2.770264        6.235173   \n17      0.445723     0.016582        4.318470        2.694452        6.007401   \n18      0.581903     0.030323        4.110018        2.719407        5.366972   \n19      0.358182     0.002197        3.973480        2.293269        5.361671   \n20      0.294190    -0.003641        3.660814        2.043133        5.713416   \n\n    efficiency_dsi  efficiency_dso  efficiency_dpo  profitability_at  \\\n0        49.472768      140.113656       50.265207               NaN   \n1        38.204158      127.929630       54.375303          0.552282   \n2        63.450680      225.293529       42.150085          0.395344   \n3        64.535944      236.246039       37.576634          0.302940   \n4        69.917396      275.923299       38.194818          0.270423   \n5        75.192884      274.941694       38.625446          0.263513   \n6        72.264841      120.626179       37.521916          0.253604   \n7        72.112656      128.132513       38.465744          0.246692   \n8       109.992414      110.070781       53.147784          0.252297   \n9        95.084691      128.573698       33.416595          0.205319   \n10       83.362078      143.281999       39.703495          0.182135   \n11       85.831643      130.985251       48.088266          0.213013   \n12       93.136798      129.493033       51.603082          0.223834   \n13       82.633974      113.905762       54.661631          0.231416   \n14       82.997841      120.031818       64.727059          0.215507   \n15       95.210299      125.038184       66.189574          0.208199   \n16       83.376284      131.756387       58.538873          0.210869   \n17       84.520681      135.463558       60.758385          0.193378   \n18       88.807395      134.220438       68.008559          0.191833   \n19       91.859014      159.161418       68.075788          0.178867   \n20       99.704593      178.647203       63.884725          0.171534   \n\n    profitability_fat  profitability_ct  profitability_gp  profitability_opta  \\\n0            4.409947               NaN               NaN            0.079638   \n1            6.191944          0.942651          0.227131            0.106063   \n2            2.520016          1.072139          0.350411            0.187031   \n3            2.712123          0.824870          0.251449            0.180090   \n4            2.531240          0.748050          0.212661            0.154616   \n5            2.432514          0.721187          0.210541            0.157591   \n6            2.077108          0.692071          0.203056            0.152764   \n7            1.965700          0.657123          0.195947            0.154104   \n8            2.066856          0.708577          0.400104            0.329191   \n9            1.791386          0.597739          0.283302            0.228756   \n10           1.726310          0.501365          0.217439            0.191706   \n11           2.069854          0.593185          0.269261            0.229721   \n12           1.977785          0.632157          0.285210            0.236079   \n13           2.032532          0.622609          0.274587            0.240948   \n14           1.853852          0.576852          0.257156            0.228333   \n15           1.698122          0.581066          0.273835            0.226611   \n16           1.748255          0.595434          0.282352            0.234577   \n17           1.689053          0.546906          0.249910            0.202392   \n18           1.803282          0.523457          0.246448            0.216438   \n19           4.922984          0.503817          0.235876            0.204278   \n20           4.483115          0.498660          0.220289            0.192607   \n\n    profitability_opte  profitability_gpm  profitability_ebitdam  \\\n0             0.769251           0.223446               0.086419   \n1             0.785184           0.240949               0.105074   \n2             0.894393           0.326834               0.160960   \n3             0.723372           0.304834               0.130221   \n4             0.590409           0.284287               0.137219   \n5             0.608267           0.291936               0.144604   \n6             0.673147           0.293403               0.127679   \n7             0.638689           0.298190               0.129023   \n8             1.348042           0.564658               0.258417   \n9             1.141081           0.473955               0.116698   \n10            0.982062           0.433693               0.108542   \n11            1.083861           0.453925               0.161169   \n12            1.077705           0.451170               0.179422   \n13            1.048655           0.441026               0.161865   \n14            0.891101           0.445791               0.157908   \n15            0.942504           0.471263               0.168252   \n16            0.949636           0.474196               0.155172   \n17            0.810011           0.456952               0.153744   \n18            0.773895           0.470808               0.152933   \n19            0.741674           0.468178               0.150267   \n20            0.740358           0.441762               0.147462   \n\n    profitability_ebitm  profitability_ptm  profitability_npm  \\\n0              0.027062           0.032295           0.000000   \n1              0.044632           0.047036           0.000000   \n2              0.087253           0.084289           0.044926   \n3              0.079395           0.077976           0.044156   \n4              0.080144           0.077182           0.043299   \n5              0.084335           0.080162           0.046277   \n6              0.078811           0.070452           0.044297   \n7              0.080349           0.084165           0.053899   \n8              0.109108           0.069138           0.055803   \n9              0.070042           0.006598           0.006091   \n10             0.061700           0.008149           0.004025   \n11             0.121120           0.079964           0.053210   \n12             0.144011           0.107278           0.070923   \n13             0.130491           0.101746           0.066313   \n14             0.122804           0.104039           0.069868   \n15             0.129670           0.108295           0.072114   \n16             0.117277           0.100071           0.069097   \n17             0.115682           0.102641           0.072884   \n18             0.116597           0.107964           0.087344   \n19             0.112320           0.100687           0.073348   \n20             0.105719           0.068304           0.046742   \n\n    profitability_roa  profitability_roe  profitability_roic  investment_agr  \\\n0            0.000000           0.000000            0.000000             NaN   \n1            0.000000           0.000000            0.000000        0.956488   \n2            0.033711           0.161209            0.069697        1.428822   \n3            0.033633           0.135094            0.072385        1.082951   \n4            0.029248           0.111684            0.068017        1.107438   \n5            0.030434           0.117468            0.070810        1.096625   \n6            0.027716           0.122131            0.066687        1.106074   \n7            0.033406           0.138453            0.070810        1.060229   \n8            0.035125           0.143837            0.112319        1.125732   \n9            0.003205           0.015988            0.056959        1.135836   \n10           0.002001           0.010250            0.025615        1.008577   \n11           0.029559           0.139464            0.058414        1.067816   \n12           0.039545           0.180524            0.070758        1.133760   \n13           0.038650           0.168213            0.066610        1.068225   \n14           0.038405           0.149880            0.059826        1.049435   \n15           0.037454           0.155776            0.060399        1.118777   \n16           0.036992           0.149753            0.057462        1.112214   \n17           0.036402           0.145687            0.054563        1.095026   \n18           0.044552           0.159299            0.062855        1.026244   \n19           0.034214           0.124220            0.049847        1.080095   \n20           0.021361           0.082108            0.043192        1.091176   \n\n    investment_cdi  investment_chnoa  investment_chppeia  investment_griltnoa  \\\n0              NaN               NaN                 NaN                  NaN   \n1              NaN               NaN           -0.128616                  NaN   \n2              NaN      1.415195e-05            0.352279             0.467419   \n3              NaN     -4.029008e-06            0.028463            -0.266128   \n4              NaN      1.116683e-07            0.041055             0.029261   \n5         0.678784     -9.246566e-08            0.062074             0.005054   \n6         0.886397     -7.686822e-08            0.090544             0.266629   \n7         0.327386     -2.996066e-07            0.051029            -0.026806   \n8         0.514270      8.304470e-07            0.061437             0.147626   \n9         0.788394      3.468334e-07            0.068126             0.025975   \n10        0.682163     -9.941431e-07           -0.207249            -0.078075   \n11        0.554228      2.786303e-07            0.007778             0.053168   \n12        0.609505      2.830106e-07            0.093040             0.031129   \n13        0.432945     -4.473156e-07            0.024970            -0.036189   \n14        0.136291      3.461659e-08            0.006242             0.014038   \n15        0.251023      2.977698e-07            0.058222             0.054941   \n16        0.367391      1.326072e-07            0.037829             0.015586   \n17        0.365521     -1.167675e-07            0.024934            -0.006986   \n18        0.323244     -2.229194e-07           -0.000361            -0.036908   \n19        0.387193      2.065341e-07           -0.179354             0.030315   \n20        0.391476      2.002485e-07           -0.118327             0.057687   \n\n    investment_inv  investment_ndf  investment_nef  investment_noa  \\\n0              NaN             NaN             NaN             NaN   \n1              NaN        0.000000       -0.006732        0.414696   \n2              NaN        0.000000       -0.006565        0.922397   \n3         0.833320        0.000000       -0.006219        0.715874   \n4         1.943151        0.000000       -0.005710        0.722073   \n5         1.446957        0.000000       -0.006083        0.716389   \n6         1.446488        0.000000       -0.005902        0.711207   \n7         1.174822        0.000000       -0.005455        0.688866   \n8         1.098792        0.018161       -0.005451        0.754519   \n9         1.205256       -0.000095       -0.007302        0.785386   \n10        0.836008       -0.002512       -0.001812        0.684892   \n11        0.790552        0.000304       -0.001698        0.713299   \n12        0.180373        0.002135       -0.007198        0.744110   \n13        0.353339       -0.006722       -0.011728        0.688898   \n14        0.706585        0.008075       -0.012109        0.693462   \n15        1.087429        0.007641       -0.011597        0.734664   \n16        0.827315        0.013151       -0.011585        0.755192   \n17        0.815719        0.013878       -0.011649        0.735088   \n18        1.072455       -0.016392       -0.011968        0.693060   \n19        1.210060       -0.005769       -0.012945        0.733020   \n20        0.929854        0.000000       -0.010389        0.774868   \n\n    investment_noach  investment_txfin  leverage_de  leverage_da  leverage_fl  \\\n0                NaN         -0.005732     3.981973     0.412243     9.659284   \n1           0.021993         -0.006885     2.948411     0.398272     7.403013   \n2           0.253263         -0.005580     2.394346     0.500693     4.782069   \n3          -0.024356         -0.005981     1.900289     0.473095     4.016715   \n4           0.051647         -0.005433     1.705013     0.446507     3.818560   \n5           0.029430         -0.005815     1.745277     0.452169     3.859785   \n6           0.278210         -0.005619     2.048694     0.464930     4.406453   \n7           0.015849         -0.005300     1.866632     0.450384     4.144535   \n8           0.094936         -0.005146     2.020936     0.493511     4.095017   \n9           0.065786         -0.006865     2.979719     0.597353     4.988206   \n10         -0.005934         -0.001805     3.029846     0.591449     5.122751   \n11          0.037606         -0.001644     2.615195     0.554282     4.718168   \n12          0.052873         -0.006773     2.422442     0.530653     4.565020   \n13          0.036655         -0.011354     2.235253     0.513591     4.352203   \n14          0.040754         -0.011824     1.951798     0.500123     3.902637   \n15          0.057531         -0.010982     2.082375     0.500675     4.159135   \n16          0.063494         -0.011000     2.048742     0.506075     4.048295   \n17          0.042745         -0.011144     2.003906     0.500703     4.002186   \n18          0.012735         -0.011815     1.728970     0.483546     3.575602   \n19          0.021519         -0.012465     1.770740     0.487712     3.630709   \n20          0.052071         -0.009955     1.932506     0.502750     3.843874   \n\n    leverage_deda  leverage_ndeda  leverage_eic  leverage_edaic  leverage_cac  \\\n0        5.200807        4.509586      0.627782        2.004720      1.385705   \n1        3.846030        3.071063      0.847931        1.996239      1.547018   \n2        4.145534        3.751898      4.297055        7.927017      3.120359   \n3        4.769706        4.345986      5.440843        8.923825      3.781199   \n4        4.817304        4.526150      4.108642        7.034568      2.048148   \n5        4.754796        4.422867      4.781330        8.198210      2.721228   \n6        5.819708        5.547591      4.187927        6.784738      1.846241   \n7        5.632078        5.420753      4.604678        7.394152      1.562573   \n8        3.034056        2.868748      2.692511        6.377093      1.054185   \n9        9.726804        8.526095      1.318005        2.195967      2.636717   \n10      10.961643        9.549718      0.964231        1.696269      2.395005   \n11       6.190931        5.428440      3.099873        4.124841      3.145154   \n12       5.304341        4.674603      4.611913        5.745928      3.618427   \n13       5.443926        4.771043      4.939901        6.127586      4.123153   \n14       5.761852        5.123728      5.174626        6.653850      4.245983   \n15       5.729472        5.161152      5.672252        7.359956      4.182807   \n16       6.091939        5.663917      5.432161        7.187437      3.076382   \n17       6.520688        5.976376      5.316252        7.065398      3.845778   \n18       6.198768        5.599881      5.397280        7.079268      4.239681   \n19       6.958083        6.208561      4.610105        6.167579      4.622737   \n20       7.460402        6.677165      4.012017        5.596140      4.383103   \n\n    leverage_dcap  leverage_cad  liquid_cur  liquid_qur  liquid_car  \\\n0        1.000000      0.342776    2.175157    1.901067    0.155552   \n1        1.000000      0.334406    2.076907    1.876507    0.205393   \n2        1.000000      0.229573    1.793230    1.547085    0.133271   \n3        1.000000      0.276064    1.948993    1.672865    0.123957   \n4        1.000000      0.286750    1.745252    1.504462    0.070169   \n5        1.000000      0.305449    1.746520    1.493626    0.083216   \n6        1.000000      0.308382    0.967095    0.733395    0.058040   \n7        1.000000      0.280290    1.045531    0.806659    0.046973   \n8        1.000000      0.268528    0.958383    0.740854    0.070832   \n9        1.000000      0.180048    0.984295    0.798737    0.189732   \n10       1.000000      0.170332    1.081936    0.904385    0.210379   \n11       0.723164      0.226223    1.075173    0.881671    0.185180   \n12       0.707314      0.087224    1.037934    0.833796    0.164700   \n13       0.690152      0.074959    1.043010    0.842209    0.172823   \n14       0.660038      0.052225    1.042583    0.851048    0.153148   \n15       0.674299      0.037571    0.962186    0.774485    0.130133   \n16       0.670785      0.011018    0.942675    0.773887    0.093336   \n17       0.665900      0.033612    0.983453    0.809293    0.115901   \n18       0.631696      0.063159    1.036714    0.852680    0.130911   \n19       0.636973      0.049558    1.178102    0.994105    0.154832   \n20       0.656794      0.031942    1.096884    0.904557    0.145670   \n\n    liquid_opr  liquid_capxr  other_ir  other_nopat_g  other_rev_cagr_3  \\\n0     0.401181      0.400943       NaN            NaN               NaN   \n1     0.340872      0.484094       inf       0.029561               NaN   \n2     0.322214      1.365750  6.895270       0.499049               NaN   \n3     0.385208      0.544966  1.005799       0.071807          0.071167   \n4     0.332910      1.257782  1.581679       0.099831          0.055072   \n5     0.364109      1.242616  1.602039       0.104667          0.048499   \n6     0.382792      1.247404  0.330895       0.022631          0.033358   \n7     0.350890      1.509719  1.361629       0.092196          0.056718   \n8     0.349100      1.486179  1.203287       0.137497          0.081086   \n9     0.276733      1.781457  2.209116       0.149655          0.044704   \n10    0.278204      1.353714  1.937107       0.055653          0.011314   \n11    0.340136      1.110615  0.842182       0.070939          0.025859   \n12    0.121005      0.643970  0.816966       0.084673          0.089627   \n13    0.104809      1.031521  0.818886       0.078049          0.148848   \n14    0.072218      1.845324  0.931695       0.078531          0.079406   \n15    0.049291      2.094437  0.716609       0.062665          0.053206   \n16    0.014636      6.134375  1.412628       0.117240          0.062495   \n17    0.046669      1.835172  1.442536       0.110374          0.073771   \n18    0.085579      1.203588  0.675240       0.058540          0.070707   \n19    0.071232      1.539695  1.811915       0.118623          0.018828   \n20    0.044321      1.884762  1.031413       0.059997          0.034371   \n\n    other_ebitda_cagr_3  \n0                   NaN  \n1                   NaN  \n2                   NaN  \n3              0.228044  \n4              0.153244  \n5              0.011708  \n6              0.026590  \n7              0.035247  \n8              0.311921  \n9              0.013852  \n10            -0.045310  \n11            -0.123522  \n12             0.257617  \n13             0.312546  \n14             0.072078  \n15             0.030880  \n16             0.047644  \n17             0.064248  \n18             0.037174  \n19             0.007976  \n20             0.020086  "
     },
     "execution_count": 93,
     "metadata": {},
     "output_type": "execute_result"
    }
   ],
   "source": [
    "fund_build = fund.groupby(\"gvkey\").apply(build_fundamental)\n",
    "fund_build"
   ]
  },
  {
   "cell_type": "code",
   "execution_count": 8,
   "metadata": {},
   "outputs": [
    {
     "name": "stdout",
     "output_type": "stream",
     "text": [
      "Loading library list...\n",
      "Done\n"
     ]
    }
   ],
   "source": [
    "prc = query_price()"
   ]
  },
  {
   "cell_type": "code",
   "execution_count": 12,
   "metadata": {},
   "outputs": [],
   "source": [
    "prc_build = prc.set_index([\"gvkey\", \"date\"])"
   ]
  },
  {
   "cell_type": "code",
   "execution_count": 20,
   "metadata": {},
   "outputs": [],
   "source": [
    "df = fund_build.join(prc_build)"
   ]
  },
  {
   "cell_type": "code",
   "execution_count": 31,
   "metadata": {},
   "outputs": [
    {
     "data": {
      "text/plain": [
       "gvkey   date      \n",
       "100022  1999-12-31         NaN\n",
       "        2000-01-01         NaN\n",
       "        2000-01-02         NaN\n",
       "        2000-01-03    0.000000\n",
       "        2000-01-04    0.000000\n",
       "                        ...   \n",
       "        2020-12-27         NaN\n",
       "        2020-12-28    0.037206\n",
       "        2020-12-29    0.037373\n",
       "        2020-12-30    0.037855\n",
       "        2020-12-31         NaN\n",
       "Length: 7672, dtype: float64"
      ]
     },
     "execution_count": 31,
     "metadata": {},
     "output_type": "execute_result"
    }
   ],
   "source": [
    "#### Dividend yield ratio\n",
    "dyr = ((df.dvc*10**6) / df.cshoc) / df.prccd\n",
    "dyr\n",
    "# Recheck here if dvt should be taken - at least for this example, only cash paid div (dv) has figures"
   ]
  },
  {
   "cell_type": "code",
   "execution_count": 22,
   "metadata": {},
   "outputs": [
    {
     "data": {
      "text/plain": "gvkey   date      \n100022  1999-12-31         NaN\n        2000-01-01         NaN\n        2000-01-02         NaN\n        2000-01-03         inf\n        2000-01-04         inf\n                        ...   \n        2020-12-27         NaN\n        2020-12-28    9.082453\n        2020-12-29    9.041669\n        2020-12-30    8.926732\n        2020-12-31         NaN\nLength: 7672, dtype: float64"
     },
     "execution_count": 22,
     "metadata": {},
     "output_type": "execute_result"
    }
   ],
   "source": [
    "#### Price to earnings\n",
    "pe = (df.cshoc * df.prccd) / (df.nicon*10**6)\n",
    "pe"
   ]
  },
  {
   "cell_type": "code",
   "execution_count": 23,
   "metadata": {},
   "outputs": [
    {
     "data": {
      "text/plain": "gvkey   date      \n100022  1999-12-31          NaN\n        2000-01-01          NaN\n        2000-01-02          NaN\n        2000-01-03     3.416383\n        2000-01-04     3.310722\n                        ...    \n        2020-12-27          NaN\n        2020-12-28    12.081001\n        2020-12-29    12.026753\n        2020-12-30    11.873870\n        2020-12-31          NaN\nLength: 7672, dtype: float64"
     },
     "execution_count": 23,
     "metadata": {},
     "output_type": "execute_result"
    }
   ],
   "source": [
    "#### Price to cash flow\n",
    "pocf = (df.cshoc * df.prccd) / (df.oancf*10**6)\n",
    "pocf"
   ]
  },
  {
   "cell_type": "code",
   "execution_count": 24,
   "metadata": {},
   "outputs": [
    {
     "data": {
      "text/plain": "gvkey   date      \n100022  1999-12-31         NaN\n        2000-01-01         NaN\n        2000-01-02         NaN\n        2000-01-03    0.526331\n        2000-01-04    0.510053\n                        ...   \n        2020-12-27         NaN\n        2020-12-28    0.424533\n        2020-12-29    0.422627\n        2020-12-30    0.417255\n        2020-12-31         NaN\nLength: 7672, dtype: float64"
     },
     "execution_count": 24,
     "metadata": {},
     "output_type": "execute_result"
    }
   ],
   "source": [
    "#### Price to sales\n",
    "psales = (df.cshoc * df.prccd) / (df.revt*10**6)\n",
    "psales"
   ]
  },
  {
   "cell_type": "code",
   "execution_count": 25,
   "metadata": {},
   "outputs": [
    {
     "data": {
      "text/plain": "gvkey   date      \n100022  1999-12-31    NaN\n        2000-01-01    NaN\n        2000-01-02    NaN\n        2000-01-03    NaN\n        2000-01-04    NaN\n                     ... \n        2020-12-27    NaN\n        2020-12-28    NaN\n        2020-12-29    inf\n        2020-12-30    inf\n        2020-12-31    NaN\nLength: 7672, dtype: float64"
     },
     "execution_count": 25,
     "metadata": {},
     "output_type": "execute_result"
    }
   ],
   "source": [
    "#### PEG\n",
    "peg = (df.prccd/((df.nicon*10**6)/df.cshoc)) / ((((df.nicon*10**6)/df.cshoc)/(((df.nicon*10**6)/df.cshoc).shift(1)))-1)\n",
    "peg"
   ]
  },
  {
   "cell_type": "code",
   "execution_count": 26,
   "metadata": {},
   "outputs": [
    {
     "data": {
      "text/plain": "gvkey   date      \n100022  1999-12-31         NaN\n        2000-01-01         NaN\n        2000-01-02         NaN\n        2000-01-03    4.663104\n        2000-01-04    4.518884\n                        ...   \n        2020-12-27         NaN\n        2020-12-28    0.745746\n        2020-12-29    0.742397\n        2020-12-30    0.732960\n        2020-12-31         NaN\nLength: 7672, dtype: float64"
     },
     "execution_count": 26,
     "metadata": {},
     "output_type": "execute_result"
    }
   ],
   "source": [
    "#### M/B ratio\n",
    "mb = (df.cshoc * df.prccd) / (df.ceq*10**6)\n",
    "mb"
   ]
  },
  {
   "cell_type": "code",
   "execution_count": 27,
   "metadata": {},
   "outputs": [
    {
     "data": {
      "text/plain": "gvkey   date      \n100022  1999-12-31         NaN\n        2000-01-01         NaN\n        2000-01-02         NaN\n        2000-01-03    0.917471\n        2000-01-04    0.901193\n                        ...   \n        2020-12-27         NaN\n        2020-12-28    1.409161\n        2020-12-29    1.407254\n        2020-12-30    1.401882\n        2020-12-31         NaN\nLength: 7672, dtype: float64"
     },
     "execution_count": 27,
     "metadata": {},
     "output_type": "execute_result"
    }
   ],
   "source": [
    "#### EV Sales\n",
    "evsales = ((df.cshoc * df.prccd) + (df.dlc + df.dltt + df.pstk + df.mib - df.chee)*10**6) / (df.revt*10**6)\n",
    "evsales"
   ]
  },
  {
   "cell_type": "code",
   "execution_count": 28,
   "metadata": {},
   "outputs": [
    {
     "data": {
      "text/plain": "gvkey   date      \n100022  1999-12-31          NaN\n        2000-01-01          NaN\n        2000-01-02          NaN\n        2000-01-03    10.616493\n        2000-01-04    10.428129\n                        ...    \n        2020-12-27          NaN\n        2020-12-28     9.556102\n        2020-12-29     9.543175\n        2020-12-30     9.506743\n        2020-12-31          NaN\nLength: 7672, dtype: float64"
     },
     "execution_count": 28,
     "metadata": {},
     "output_type": "execute_result"
    }
   ],
   "source": [
    "#### EV EBITDA\n",
    "evebitda = ((df.cshoc * df.prccd) + (df.dlc + df.dltt + df.pstk + df.mib - df.chee)*10**6) / (df.ebitda*10**6)\n",
    "evebitda"
   ]
  },
  {
   "cell_type": "code",
   "execution_count": 30,
   "metadata": {},
   "outputs": [
    {
     "data": {
      "text/plain": "gvkey   date      \n100022  1999-12-31          NaN\n        2000-01-01          NaN\n        2000-01-02          NaN\n        2000-01-03    33.902076\n        2000-01-04    33.300566\n                        ...    \n        2020-12-27          NaN\n        2020-12-28    13.329275\n        2020-12-29    13.311243\n        2020-12-30    13.260426\n        2020-12-31          NaN\nLength: 7672, dtype: float64"
     },
     "execution_count": 30,
     "metadata": {},
     "output_type": "execute_result"
    }
   ],
   "source": [
    "#### EV EBIT\n",
    "evebit = ((df.cshoc * df.prccd) + (df.dlc + df.dltt + df.pstk + df.mib - df.chee)*10**6) / (df.ebit*10**6)\n",
    "evebit"
   ]
  },
  {
   "cell_type": "code",
   "execution_count": 31,
   "metadata": {},
   "outputs": [
    {
     "data": {
      "text/plain": "gvkey   date      \n100022  1999-12-31          NaN\n        2000-01-01          NaN\n        2000-01-02          NaN\n        2000-01-03    37.220321\n        2000-01-04    36.559938\n                        ...    \n        2020-12-27          NaN\n        2020-12-28    17.347741\n        2020-12-29    17.324273\n        2020-12-30    17.258135\n        2020-12-31          NaN\nLength: 7672, dtype: float64"
     },
     "execution_count": 31,
     "metadata": {},
     "output_type": "execute_result"
    }
   ],
   "source": [
    "#### EV EBITDA-Capex\n",
    "evebitdacpx = ((df.cshoc * df.prccd) + (df.dlc + df.dltt + df.pstk + df.mib - df.chee)*10**6) / ((df.ebitda-df.capx)*10**6)\n",
    "evebitdacpx"
   ]
  },
  {
   "cell_type": "code",
   "execution_count": 32,
   "metadata": {},
   "outputs": [
    {
     "data": {
      "text/plain": "gvkey   date      \n100022  1999-12-31          NaN\n        2000-01-01          NaN\n        2000-01-02          NaN\n        2000-01-03     5.955251\n        2000-01-04     5.849590\n                        ...    \n        2020-12-27          NaN\n        2020-12-28    40.100663\n        2020-12-29    40.046414\n        2020-12-30    39.893532\n        2020-12-31          NaN\nLength: 7672, dtype: float64"
     },
     "execution_count": 32,
     "metadata": {},
     "output_type": "execute_result"
    }
   ],
   "source": [
    "#### EV Operating CF\n",
    "evocf = ((df.cshoc * df.prccd) + (df.dlc + df.dltt + df.pstk + df.mib - df.chee)*10**6) / ((df.oancf)*10**6)\n",
    "evocf"
   ]
  },
  {
   "cell_type": "code",
   "execution_count": 33,
   "metadata": {},
   "outputs": [
    {
     "data": {
      "text/plain": "gvkey   date      \n100022  1999-12-31         NaN\n        2000-01-01         NaN\n        2000-01-02         NaN\n        2000-01-03    0.000000\n        2000-01-04    0.000000\n                        ...   \n        2020-12-27         NaN\n        2020-12-28    0.134537\n        2020-12-29    0.135144\n        2020-12-30    0.136884\n        2020-12-31         NaN\nLength: 7672, dtype: float64"
     },
     "execution_count": 33,
     "metadata": {},
     "output_type": "execute_result"
    }
   ],
   "source": [
    "#### R&D to Market Capitalization\n",
    "rdmarket = (df.xrd*10**6) / (df.cshoc * df.prccd)\n",
    "rdmarket"
   ]
  },
  {
   "cell_type": "code",
   "execution_count": 34,
   "metadata": {},
   "outputs": [
    {
     "data": {
      "text/plain": "gvkey   date      \n100022  1999-12-31   NaN\n        2000-01-01   NaN\n        2000-01-02   NaN\n        2000-01-03   NaN\n        2000-01-04   NaN\n                      ..\n        2020-12-27   NaN\n        2020-12-28   NaN\n        2020-12-29   NaN\n        2020-12-30   NaN\n        2020-12-31   NaN\nLength: 7672, dtype: float64"
     },
     "execution_count": 34,
     "metadata": {},
     "output_type": "execute_result"
    }
   ],
   "source": [
    "#### Degree of Operating Leverage\n",
    "dopl = ((df.ebit/df.ebit.shift(1))-1) / ((df.revt/df.revt.shift(1))-1)\n",
    "dopl"
   ]
  },
  {
   "cell_type": "code",
   "execution_count": null,
   "metadata": {},
   "outputs": [],
   "source": []
  }
 ],
 "metadata": {
  "kernelspec": {
   "display_name": "Python 3",
   "language": "python",
   "name": "python3"
  },
  "language_info": {
   "codemirror_mode": {
    "name": "ipython",
    "version": 3
   },
   "file_extension": ".py",
   "mimetype": "text/x-python",
   "name": "python",
   "nbconvert_exporter": "python",
   "pygments_lexer": "ipython3",
   "version": "3.8.7"
  }
 },
 "nbformat": 4,
 "nbformat_minor": 5
}
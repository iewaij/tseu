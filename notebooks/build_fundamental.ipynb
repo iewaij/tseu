{
 "cells": [
  {
   "cell_type": "markdown",
   "id": "cleared-communications",
   "metadata": {},
   "source": [
    "# Build Fundamentals"
   ]
  },
  {
   "cell_type": "code",
   "execution_count": null,
   "id": "offensive-career",
   "metadata": {},
   "outputs": [],
   "source": [
    "import wrds\n",
    "import numpy as np\n",
    "import pandas as pd\n",
    "from pandas.tseries.offsets import DateOffset"
   ]
  },
  {
   "cell_type": "code",
   "execution_count": null,
   "id": "catholic-cancellation",
   "metadata": {},
   "outputs": [],
   "source": [
    "prc_stmt = \"\"\"\n",
    "SELECT\n",
    "    prc.gvkey,\n",
    "    prc.datadate AS date,\n",
    "    cshoc,\n",
    "    prccd\n",
    "FROM ( SELECT DISTINCT\n",
    "        gvkey,\n",
    "        iid\n",
    "    FROM\n",
    "        comp_global_daily.g_funda\n",
    "    WHERE\n",
    "        exchg = ANY (ARRAY [104, 132, 151, 154, 171, 172, 192, 194, 201, 209, 228, 256, 257, 273, 286])\n",
    "        AND curcd = 'EUR') AS fund\n",
    "    JOIN comp_global_daily.g_sec_dprc AS prc ON fund.gvkey = prc.gvkey\n",
    "        AND fund.iid = prc.iid\n",
    "WHERE\n",
    "    curcdd = 'EUR'\n",
    "    AND cshtrd IS NOT NULL\n",
    "    AND datadate >= '1999-01-01';\n",
    "    AND gvkey = '221102'\n",
    "\"\"\""
   ]
  },
  {
   "cell_type": "code",
   "execution_count": null,
   "id": "respective-ambassador",
   "metadata": {},
   "outputs": [],
   "source": [
    "fund_stmt = \"\"\"\n",
    "SELECT\n",
    "    gvkey,\n",
    "    datadate AS date,\n",
    "    loc AS country,\n",
    "    indfmt AS industry,\n",
    "    sicdesc AS classification,\n",
    "    act,\n",
    "    at AS att,\n",
    "    capx,\n",
    "    ceq,\n",
    "    che,\n",
    "    chee, \n",
    "    dlc,\n",
    "    dltis,\n",
    "    dltr,\n",
    "    dltt,\n",
    "    dp,\n",
    "    dv,\n",
    "    dvt,\n",
    "    dlcch,\n",
    "    ebit,\n",
    "    ebitda,\n",
    "    gdwl,\n",
    "    icapt,\n",
    "    intan,\n",
    "    invt,\n",
    "    ivaeq,\n",
    "    ivao,\n",
    "    ivst,\n",
    "    lct,\n",
    "    lt AS ltt,\n",
    "    mib,\n",
    "    nicon,\n",
    "    oancf,\n",
    "    pi,\n",
    "    ppegt,\n",
    "    pstk,\n",
    "    prstkc,\n",
    "    revt,\n",
    "    sstk,\n",
    "    COALESCE(txp, txpfs) AS txp,\n",
    "    xrd\n",
    "FROM\n",
    "    comp.g_funda AS fund\n",
    "    JOIN comp.r_siccd AS sic ON fund.sich::VARCHAR = sic.siccd\n",
    "WHERE\n",
    "    exchg = ANY (ARRAY [104, 107, 132, 151, 154, 171, 192, 194, 201, 209, 256, 257, 273, 276, 286])\n",
    "    AND curcd = 'EUR'\n",
    "    AND gvkey = '221102'\n",
    "ORDER BY\n",
    "    gvkey, datadate;\n",
    "\"\"\""
   ]
  },
  {
   "cell_type": "code",
   "execution_count": null,
   "id": "demonstrated-blind",
   "metadata": {},
   "outputs": [],
   "source": [
    "def query_wrds(sql_stmt):\n",
    "    with wrds.Connection(wrds_username=\"USERNAME\") as db:\n",
    "        data = db.raw_sql(\n",
    "            sql_stmt,\n",
    "            date_cols=[\"date\", \"datadate\"],\n",
    "        )\n",
    "    return data"
   ]
  },
  {
   "cell_type": "code",
   "execution_count": null,
   "id": "nuclear-techno",
   "metadata": {},
   "outputs": [],
   "source": [
    "def query_fundamental():\n",
    "    fund = (\n",
    "        query_wrds(fund_stmt)\n",
    "        .fillna(0)\n",
    "        .astype(\n",
    "            {\n",
    "                \"gvkey\": \"object\",\n",
    "                \"country\": \"category\",\n",
    "                \"industry\": \"category\",\n",
    "                \"classification\": \"category\",\n",
    "            }\n",
    "        )\n",
    "    )\n",
    "    return fund"
   ]
  },
  {
   "cell_type": "code",
   "execution_count": null,
   "id": "addressed-vampire",
   "metadata": {},
   "outputs": [],
   "source": [
    "def query_price():\n",
    "    prc = query_wrds(prc_stmt)\n",
    "    return prc"
   ]
  },
  {
   "cell_type": "code",
   "execution_count": null,
   "id": "solid-hardwood",
   "metadata": {},
   "outputs": [],
   "source": [
    "fund = query_fundamental()"
   ]
  },
  {
   "cell_type": "code",
   "execution_count": null,
   "id": "latest-layout",
   "metadata": {},
   "outputs": [],
   "source": [
    "prc = query_price()"
   ]
  },
  {
   "cell_type": "code",
   "execution_count": null,
   "id": "golden-clinton",
   "metadata": {},
   "outputs": [],
   "source": [
    "def fill_year(df):\n",
    "    first_date = df[\"date\"].iloc[0]\n",
    "    last_date = df[\"date\"].iloc[-1]\n",
    "    date_index = pd.date_range(\n",
    "        pd.to_datetime(first_date), pd.to_datetime(last_date) + DateOffset(years=1), name=\"date\"\n",
    "    )\n",
    "    return (\n",
    "        df.drop(\"gvkey\", axis=1)\n",
    "        .set_index(\"date\")\n",
    "        .sort_index()\n",
    "        .reindex(date_index, method=\"ffill\")\n",
    "    )"
   ]
  },
  {
   "cell_type": "code",
   "execution_count": null,
   "id": "concerned-bermuda",
   "metadata": {},
   "outputs": [],
   "source": [
    "def build_fundamental(df):\n",
    "    oa = df.att - df.che\n",
    "    ol = df.att - df.dlc - df.dltt - df.mib - df.pstk - df.ceq\n",
    "    chact = df.act - df.act.shift(1)\n",
    "    chchee = df.chee - df.chee.shift(1)\n",
    "    chlct = df.lct - df.lct.shift(1)\n",
    "    chdlc = df.dlc - df.dlc.shift(1)\n",
    "    chtxp = df.txp - df.txp.shift(1)\n",
    "    chchee = df.chee - df.chee.shift(1)\n",
    "    avg_at = (df.att + df.att.shift(1)) / 2\n",
    "    nca = df.att - df.act - df.ivaeq\n",
    "    ncl = df.ltt - df.lct - df.dltt\n",
    "    ncoa = nca - ncl\n",
    "    coa = df.act - df.che\n",
    "    col = df.lct - df.dlc\n",
    "    wc = df.act - df.che - df.lct + df.dlc\n",
    "    fna = df.ivst + df.ivao\n",
    "    fnl = df.dltt + df.dlc + df.pstk\n",
    "    nfna = fna - fnl\n",
    "    df = df.loc[:, :\"classification\"].assign(\n",
    "        acc=((chact - chchee) - (chlct - chdlc - chtxp) - df.dp) / avg_at,\n",
    "        chcoa=(coa - coa.shift(1)) / df.att.shift(1),\n",
    "        chcol=(col - col.shift(1)) / df.att.shift(1),\n",
    "        chnncwc=(wc - wc.shift(1)) / df.att.shift(1),\n",
    "        chnncoa=(ncoa - ncoa.shift(1)) / df.att.shift(1),\n",
    "        chncoa=(nca - nca.shift(1)) / df.att.shift(1),\n",
    "        chncol=(ncl - ncl.shift(1)) / df.att.shift(1),\n",
    "        chnfa=nfna - nfna.shift(1) / df.att.shift(1),\n",
    "        chlti=(df.ivao - df.ivao.shift(1)) / df.att.shift(1),\n",
    "        chce=(df.ceq - df.ceq.shift(1)) / df.att.shift(1),\n",
    "        chfl=(df.dltt + df.dlc + df.pstk - (df.dltt + df.dlc + df.pstk).shift(1))\n",
    "        / df.att.shift(1),\n",
    "        grii=(df.invt - df.invt.shift(1)) / ((df.att + df.att.shift(1)) / 2),\n",
    "        ich=(df.invt - df.invt.shift(1)) / df.att.shift(1),\n",
    "        igr=(df.invt - df.invt.shift(1)) / df.invt.shift(1),\n",
    "        nwcch=(wc - wc.shift(1)) / df.att.shift(1),\n",
    "        ta=((ncoa + wc + nfna) - (ncoa + wc + nfna).shift(1)) / df.att.shift(1),\n",
    "        agr=df.att / df.att.shift(1),\n",
    "        chnoa=(((oa - ol) / df.att.shift(1)) - (((oa - ol) / df.att.shift(1)).shift(1)))\n",
    "        / df.att.shift(1),\n",
    "        chppeia=((df.ppegt - df.ppegt.shift(1)) + (df.invt - df.invt.shift(1)))\n",
    "        / df.att.shift(1),\n",
    "        cdi=np.log((df.dltt + df.dlc) / (df.dltt.shift(5) + df.dlc.shift(5))),\n",
    "        griltnoa=(\n",
    "            ((oa - ol) / df.att.shift(1))\n",
    "            - (((oa - ol) / df.att.shift(1)).shift(1))\n",
    "            - ((chact - chchee) - (chlct - chdlc - chtxp) - df.dp) / avg_at\n",
    "        ),\n",
    "        inv=(df.capx / df.revt)\n",
    "        / (\n",
    "            (\n",
    "                (df.capx.shift(1) / df.revt.shift(1))\n",
    "                + (df.capx.shift(2) / df.revt.shift(2))\n",
    "                + (df.capx.shift(3) / df.revt.shift(3))\n",
    "            )\n",
    "            / 3\n",
    "        ),\n",
    "        ndf=(df.dltis - df.dltr + df.dlcch) / ((df.att + df.att.shift(1)) / 2),\n",
    "        nef=(df.sstk - df.prstkc - df.dv) / ((df.att + df.att.shift(1)) / 2),\n",
    "        noa=(oa - ol) / df.att.shift(1),\n",
    "        noach=(ncoa - ncoa.shift(1)) / df.att,\n",
    "        txfin=(df.sstk - df.dv - df.prstkc + df.dltis - df.dltr) / df.att,\n",
    "        ir=(df.icapt - df.icapt.shift(1)) / (df.ebit * (df.nicon / df.pi)),\n",
    "        nopat_g=(df.icapt - df.icapt.shift(1)) / df.icapt,\n",
    "        rev_cagr_3=((df.revt / df.revt.shift(3)) ** (1 / 3)) - 1,\n",
    "        ebitda_cagr_3=((df.ebitda / df.ebitda.shift(3)) ** (1 / 3)) - 1,\n",
    "    )\n",
    "    df.loc[:, \"acc\":] = df.loc[:, \"acc\":].fillna(0).replace(np.inf, 0)\n",
    "    return df"
   ]
  },
  {
   "cell_type": "code",
   "execution_count": null,
   "id": "vietnamese-hacker",
   "metadata": {},
   "outputs": [],
   "source": [
    "fund_build = fund.groupby(\"gvkey\").apply(build_fundamental).groupby(\"gvkey\").apply(fill_year)"
   ]
  },
  {
   "cell_type": "code",
   "execution_count": null,
   "id": "chicken-husband",
   "metadata": {},
   "outputs": [],
   "source": [
    "prc_build = prc.set_index([\"gvkey\", \"date\"])"
   ]
  },
  {
   "cell_type": "code",
   "execution_count": null,
   "id": "ceramic-bishop",
   "metadata": {},
   "outputs": [],
   "source": [
    "df = fund_build.join(prc_build)"
   ]
  }
 ],
 "metadata": {
  "kernelspec": {
   "display_name": "Python 3",
   "language": "python",
   "name": "python3"
  },
  "language_info": {
   "codemirror_mode": {
    "name": "ipython",
    "version": 3
   },
   "file_extension": ".py",
   "mimetype": "text/x-python",
   "name": "python",
   "nbconvert_exporter": "python",
   "pygments_lexer": "ipython3",
   "version": "3.8.7"
  }
 },
 "nbformat": 4,
 "nbformat_minor": 5
}
